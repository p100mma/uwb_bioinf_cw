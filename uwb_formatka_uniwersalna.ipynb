{
 "cells": [
  {
   "cell_type": "markdown",
   "id": "d0c2d1a8",
   "metadata": {},
   "source": [
    "# Sprawozdanie z zajęć nr X[-Y] \n",
    "## Bioinformatyka 2022/2023\n",
    "### Uniwersytet w Białymstoku\n",
    "### Autor_imie Autor_nazwisko\n",
    "### Autor_nr_indeksu"
   ]
  },
  {
   "cell_type": "markdown",
   "id": "77b3848a",
   "metadata": {},
   "source": [
    "## Rozwiązania"
   ]
  },
  {
   "cell_type": "markdown",
   "id": "53b8ee7e",
   "metadata": {},
   "source": [
    "### Zadanie I"
   ]
  },
  {
   "cell_type": "markdown",
   "id": "d6c3af10",
   "metadata": {},
   "source": [
    "W zadaniu należało opisać działanie komendy cat.\n",
    "\n",
    "Use a cat to concatenate a c with at at c and at to get a cat. Cat named $ \\pi^{\\exp \\sum_0^{-\\infty} \\frac{1}{n^2} } $."
   ]
  },
  {
   "cell_type": "markdown",
   "id": "fb042f62",
   "metadata": {},
   "source": [
    "### Zadanie II"
   ]
  },
  {
   "cell_type": "code",
   "execution_count": 1,
   "id": "702f648f",
   "metadata": {},
   "outputs": [],
   "source": [
    "#IMPLEMENTACJA KODU\n",
    "\n",
    "def important_function(A,B):\n",
    "    if A - B == 0:\n",
    "        print(\"foo\")\n",
    "    else:\n",
    "        print(\"bar\")"
   ]
  },
  {
   "cell_type": "markdown",
   "id": "05a35792",
   "metadata": {},
   "source": [
    "*Komentarz autora do kodu, jeśli coś wymaga wyjaśnienia:* W moim rozwiązaniu zakładam, że użytkownik argumenty wejściowe podaje jako argumenty funkcji poprzez zmienne A, B. \n",
    "\n",
    "#### Zasada działania (można napisać, jeśli coś jest zawiłe):\n",
    "\n",
    "Implementacja fazy odejmowania zadanego algorytmu została zrealizowana poprzez użycie instrukcji `if` oraz operatora `-`.\n",
    "\n",
    "#### Przykład działania:"
   ]
  },
  {
   "cell_type": "code",
   "execution_count": 2,
   "id": "11c93dc7",
   "metadata": {},
   "outputs": [
    {
     "name": "stdout",
     "output_type": "stream",
     "text": [
      "foo\n"
     ]
    }
   ],
   "source": [
    "important_function(4,4)"
   ]
  },
  {
   "cell_type": "markdown",
   "id": "ffb90777",
   "metadata": {},
   "source": [
    "### Zadanie III\n",
    "\n",
    "(...)"
   ]
  },
  {
   "cell_type": "markdown",
   "id": "ab6b75e0",
   "metadata": {},
   "source": [
    "### Zadanie N\n",
    "\n",
    "*Rozwiązanie zadania N*"
   ]
  },
  {
   "cell_type": "markdown",
   "id": "4e538d38",
   "metadata": {},
   "source": [
    "## Wnioski końcowe:\n",
    "\n",
    "*(nic na siłę)*\n",
    "\n",
    "Implementacja algorytmu w zadaniu nr II to istotny krok w przód dla dziedziny bioinformatyki. Szeroko idące implikacje tego osiągnięcia ciężko określić na tym etapie. Ze względów bezpieczeństwa narodowego - możliwe obszary zastosowań zostały utajnione."
   ]
  }
 ],
 "metadata": {
  "kernelspec": {
   "display_name": "Python 3 (ipykernel)",
   "language": "python",
   "name": "python3"
  },
  "language_info": {
   "codemirror_mode": {
    "name": "ipython",
    "version": 3
   },
   "file_extension": ".py",
   "mimetype": "text/x-python",
   "name": "python",
   "nbconvert_exporter": "python",
   "pygments_lexer": "ipython3",
   "version": "3.9.12"
  }
 },
 "nbformat": 4,
 "nbformat_minor": 5
}
