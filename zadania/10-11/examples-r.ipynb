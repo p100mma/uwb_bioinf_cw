{
 "cells": [
  {
   "cell_type": "code",
   "execution_count": null,
   "id": "32aa8ffa",
   "metadata": {
    "_cell_guid": "b1076dfc-b9ad-4769-8c92-a6c4dae69d19",
    "_uuid": "8f2839f25d086af736a60e9eeb907d3b93b6e0e5",
    "papermill": {
     "duration": 0.009819,
     "end_time": "2022-12-14T08:55:29.186168",
     "exception": false,
     "start_time": "2022-12-14T08:55:29.176349",
     "status": "completed"
    },
    "tags": []
   },
   "outputs": [],
   "source": []
  },
  {
   "cell_type": "markdown",
   "id": "d96f52dd",
   "metadata": {
    "papermill": {
     "duration": 0.007625,
     "end_time": "2022-12-14T08:55:29.201256",
     "exception": false,
     "start_time": "2022-12-14T08:55:29.193631",
     "status": "completed"
    },
    "tags": []
   },
   "source": [
    "Podstawowy typ danych: wektor atomiczny\n",
    "\n",
    "przypisanie: operator `=` lub `<-`"
   ]
  },
  {
   "cell_type": "code",
   "execution_count": 1,
   "id": "a9360c0d",
   "metadata": {
    "execution": {
     "iopub.execute_input": "2022-12-14T08:55:29.219740Z",
     "iopub.status.busy": "2022-12-14T08:55:29.217849Z",
     "iopub.status.idle": "2022-12-14T08:55:29.370503Z",
     "shell.execute_reply": "2022-12-14T08:55:29.368745Z"
    },
    "papermill": {
     "duration": 0.164369,
     "end_time": "2022-12-14T08:55:29.372914",
     "exception": false,
     "start_time": "2022-12-14T08:55:29.208545",
     "status": "completed"
    },
    "tags": []
   },
   "outputs": [
    {
     "name": "stdout",
     "output_type": "stream",
     "text": [
      "[1] 1 2 3\n",
      "[1] \"numeric\"\n",
      "[1] \"character\"\n"
     ]
    },
    {
     "data": {
      "text/html": [
       "3"
      ],
      "text/latex": [
       "3"
      ],
      "text/markdown": [
       "3"
      ],
      "text/plain": [
       "[1] 3"
      ]
     },
     "metadata": {},
     "output_type": "display_data"
    }
   ],
   "source": [
    "x=c(1,2,3)  # najprostszy sposób deklaracji wektora, za pomocą funkcji c\n",
    "print(x)\n",
    "print(class(x))\n",
    "x2=c(\"a\",\"b\",\"c\",\"d\")\n",
    "print(class(x2))\n",
    "length(x)"
   ]
  },
  {
   "cell_type": "markdown",
   "id": "17202a61",
   "metadata": {
    "papermill": {
     "duration": 0.007609,
     "end_time": "2022-12-14T08:55:29.388280",
     "exception": false,
     "start_time": "2022-12-14T08:55:29.380671",
     "status": "completed"
    },
    "tags": []
   },
   "source": [
    "`length(x)` - długość wektora."
   ]
  },
  {
   "cell_type": "code",
   "execution_count": 2,
   "id": "470ae02f",
   "metadata": {
    "execution": {
     "iopub.execute_input": "2022-12-14T08:55:29.436182Z",
     "iopub.status.busy": "2022-12-14T08:55:29.405030Z",
     "iopub.status.idle": "2022-12-14T08:55:29.488969Z",
     "shell.execute_reply": "2022-12-14T08:55:29.487132Z"
    },
    "papermill": {
     "duration": 0.095579,
     "end_time": "2022-12-14T08:55:29.491334",
     "exception": false,
     "start_time": "2022-12-14T08:55:29.395755",
     "status": "completed"
    },
    "tags": []
   },
   "outputs": [
    {
     "data": {
      "text/html": [
       "3"
      ],
      "text/latex": [
       "3"
      ],
      "text/markdown": [
       "3"
      ],
      "text/plain": [
       "[1] 3"
      ]
     },
     "metadata": {},
     "output_type": "display_data"
    },
    {
     "data": {
      "text/html": [
       "4"
      ],
      "text/latex": [
       "4"
      ],
      "text/markdown": [
       "4"
      ],
      "text/plain": [
       "[1] 4"
      ]
     },
     "metadata": {},
     "output_type": "display_data"
    },
    {
     "data": {
      "text/html": [
       "1"
      ],
      "text/latex": [
       "1"
      ],
      "text/markdown": [
       "1"
      ],
      "text/plain": [
       "[1] 1"
      ]
     },
     "metadata": {},
     "output_type": "display_data"
    },
    {
     "data": {
      "text/html": [
       "TRUE"
      ],
      "text/latex": [
       "TRUE"
      ],
      "text/markdown": [
       "TRUE"
      ],
      "text/plain": [
       "[1] TRUE"
      ]
     },
     "metadata": {},
     "output_type": "display_data"
    },
    {
     "data": {
      "text/html": [
       "<style>\n",
       ".list-inline {list-style: none; margin:0; padding: 0}\n",
       ".list-inline>li {display: inline-block}\n",
       ".list-inline>li:not(:last-child)::after {content: \"\\00b7\"; padding: 0 .5ex}\n",
       "</style>\n",
       "<ol class=list-inline><li>FALSE</li><li>FALSE</li><li>TRUE</li><li>TRUE</li></ol>\n"
      ],
      "text/latex": [
       "\\begin{enumerate*}\n",
       "\\item FALSE\n",
       "\\item FALSE\n",
       "\\item TRUE\n",
       "\\item TRUE\n",
       "\\end{enumerate*}\n"
      ],
      "text/markdown": [
       "1. FALSE\n",
       "2. FALSE\n",
       "3. TRUE\n",
       "4. TRUE\n",
       "\n",
       "\n"
      ],
      "text/plain": [
       "[1] FALSE FALSE  TRUE  TRUE"
      ]
     },
     "metadata": {},
     "output_type": "display_data"
    },
    {
     "data": {
      "text/html": [
       "'c'"
      ],
      "text/latex": [
       "'c'"
      ],
      "text/markdown": [
       "'c'"
      ],
      "text/plain": [
       "[1] \"c\""
      ]
     },
     "metadata": {},
     "output_type": "display_data"
    },
    {
     "data": {
      "text/html": [
       "<ol>\n",
       "\t<li>'c'</li>\n",
       "</ol>\n"
      ],
      "text/latex": [
       "\\begin{enumerate}\n",
       "\\item 'c'\n",
       "\\end{enumerate}\n"
      ],
      "text/markdown": [
       "1. 'c'\n",
       "\n",
       "\n"
      ],
      "text/plain": [
       "[[1]]\n",
       "[1] \"c\"\n"
      ]
     },
     "metadata": {},
     "output_type": "display_data"
    }
   ],
   "source": [
    "length(x)\n",
    "length(x2)\n",
    "length(3.14)   #taka liczba to też wektor ( z długością 1)\n",
    "x3=3.14\n",
    "x3==3.14\n",
    "x2 == c(\"c\",\"c\",\"c\",\"d\")\n",
    "x2= list(\"a\",\"b\",\"c\")\n",
    "x2[[3]]\n",
    "x2[3]"
   ]
  },
  {
   "cell_type": "markdown",
   "id": "cff358ba",
   "metadata": {
    "papermill": {
     "duration": 0.009211,
     "end_time": "2022-12-14T08:55:29.509255",
     "exception": false,
     "start_time": "2022-12-14T08:55:29.500044",
     "status": "completed"
    },
    "tags": []
   },
   "source": [
    "Funkcja `c`  generalnie służy do łączenia (konkatenacji, `c`oncatenation). Pisząc `i:j` możemy tworzyć wektor zawierający liczby od `i` do `j` włącznie."
   ]
  },
  {
   "cell_type": "code",
   "execution_count": 3,
   "id": "5ae70530",
   "metadata": {
    "execution": {
     "iopub.execute_input": "2022-12-14T08:55:29.530890Z",
     "iopub.status.busy": "2022-12-14T08:55:29.528754Z",
     "iopub.status.idle": "2022-12-14T08:55:29.560618Z",
     "shell.execute_reply": "2022-12-14T08:55:29.558781Z"
    },
    "papermill": {
     "duration": 0.045238,
     "end_time": "2022-12-14T08:55:29.563327",
     "exception": false,
     "start_time": "2022-12-14T08:55:29.518089",
     "status": "completed"
    },
    "tags": []
   },
   "outputs": [
    {
     "name": "stdout",
     "output_type": "stream",
     "text": [
      "[1] 1 2 3\n",
      "[1] 4 5 6 7 8\n",
      "[1] 1 2 3 4 5 6 7 8\n"
     ]
    }
   ],
   "source": [
    "x1<- c(1,2,3)\n",
    "x3<- 4:8\n",
    "big_x<- c(x1,x3)\n",
    "print(x1)\n",
    "print(x3)\n",
    "print(big_x)"
   ]
  },
  {
   "cell_type": "markdown",
   "id": "f45ddb08",
   "metadata": {
    "papermill": {
     "duration": 0.008467,
     "end_time": "2022-12-14T08:55:29.580601",
     "exception": false,
     "start_time": "2022-12-14T08:55:29.572134",
     "status": "completed"
    },
    "tags": []
   },
   "source": [
    "Wektory wartości logicznych mogą służyć do indeksowania (poniżej- tylko element z indeksem nr 3)"
   ]
  },
  {
   "cell_type": "code",
   "execution_count": 4,
   "id": "9960ee70",
   "metadata": {
    "execution": {
     "iopub.execute_input": "2022-12-14T08:55:29.600834Z",
     "iopub.status.busy": "2022-12-14T08:55:29.599317Z",
     "iopub.status.idle": "2022-12-14T08:55:29.618047Z",
     "shell.execute_reply": "2022-12-14T08:55:29.616370Z"
    },
    "papermill": {
     "duration": 0.031353,
     "end_time": "2022-12-14T08:55:29.620440",
     "exception": false,
     "start_time": "2022-12-14T08:55:29.589087",
     "status": "completed"
    },
    "tags": []
   },
   "outputs": [
    {
     "data": {
      "text/html": [
       "3"
      ],
      "text/latex": [
       "3"
      ],
      "text/markdown": [
       "3"
      ],
      "text/plain": [
       "[1] 3"
      ]
     },
     "metadata": {},
     "output_type": "display_data"
    }
   ],
   "source": [
    "x_logical= c(FALSE,FALSE,TRUE,FALSE,\n",
    "             FALSE,FALSE,FALSE,FALSE)\n",
    "\n",
    "big_x[x_logical]"
   ]
  },
  {
   "cell_type": "markdown",
   "id": "d36b600b",
   "metadata": {
    "papermill": {
     "duration": 0.008751,
     "end_time": "2022-12-14T08:55:29.638691",
     "exception": false,
     "start_time": "2022-12-14T08:55:29.629940",
     "status": "completed"
    },
    "tags": []
   },
   "source": [
    "test logiczny na wektorze wytworzy wektor wartości logicznych (testowany jest warunek element-po-elemencie)"
   ]
  },
  {
   "cell_type": "code",
   "execution_count": 5,
   "id": "2b9b65ac",
   "metadata": {
    "execution": {
     "iopub.execute_input": "2022-12-14T08:55:29.659424Z",
     "iopub.status.busy": "2022-12-14T08:55:29.657804Z",
     "iopub.status.idle": "2022-12-14T08:55:29.690744Z",
     "shell.execute_reply": "2022-12-14T08:55:29.689085Z"
    },
    "papermill": {
     "duration": 0.045555,
     "end_time": "2022-12-14T08:55:29.692918",
     "exception": false,
     "start_time": "2022-12-14T08:55:29.647363",
     "status": "completed"
    },
    "tags": []
   },
   "outputs": [
    {
     "name": "stdout",
     "output_type": "stream",
     "text": [
      "[1]  TRUE  TRUE  TRUE FALSE FALSE FALSE FALSE FALSE\n"
     ]
    },
    {
     "data": {
      "text/html": [
       "<style>\n",
       ".list-inline {list-style: none; margin:0; padding: 0}\n",
       ".list-inline>li {display: inline-block}\n",
       ".list-inline>li:not(:last-child)::after {content: \"\\00b7\"; padding: 0 .5ex}\n",
       "</style>\n",
       "<ol class=list-inline><li>1</li><li>2</li><li>3</li></ol>\n"
      ],
      "text/latex": [
       "\\begin{enumerate*}\n",
       "\\item 1\n",
       "\\item 2\n",
       "\\item 3\n",
       "\\end{enumerate*}\n"
      ],
      "text/markdown": [
       "1. 1\n",
       "2. 2\n",
       "3. 3\n",
       "\n",
       "\n"
      ],
      "text/plain": [
       "[1] 1 2 3"
      ]
     },
     "metadata": {},
     "output_type": "display_data"
    },
    {
     "name": "stdout",
     "output_type": "stream",
     "text": [
      "[1] 1 2 3 4 5 6 7 8\n",
      "[1] 8 7 6 5 4 3 2 1\n",
      "[1]  TRUE  TRUE  TRUE  TRUE FALSE FALSE FALSE FALSE\n"
     ]
    }
   ],
   "source": [
    "print(big_x < 4)\n",
    "logical_test<- (big_x < 4)\n",
    "big_x[logical_test] #wybierz te elementy które są mniejsze od 4\n",
    "big_x_reversed<- rev(big_x)  # funkcja rev <- odwraca wektor\n",
    "print(big_x)\n",
    "print(big_x_reversed)\n",
    "print(big_x < big_x_reversed)"
   ]
  },
  {
   "cell_type": "markdown",
   "id": "675bb008",
   "metadata": {
    "papermill": {
     "duration": 0.009036,
     "end_time": "2022-12-14T08:55:29.711124",
     "exception": false,
     "start_time": "2022-12-14T08:55:29.702088",
     "status": "completed"
    },
    "tags": []
   },
   "source": [
    "### operator %in%"
   ]
  },
  {
   "cell_type": "code",
   "execution_count": 6,
   "id": "9463a0f8",
   "metadata": {
    "execution": {
     "iopub.execute_input": "2022-12-14T08:55:29.732506Z",
     "iopub.status.busy": "2022-12-14T08:55:29.731016Z",
     "iopub.status.idle": "2022-12-14T08:55:29.752014Z",
     "shell.execute_reply": "2022-12-14T08:55:29.750330Z"
    },
    "papermill": {
     "duration": 0.034257,
     "end_time": "2022-12-14T08:55:29.754328",
     "exception": false,
     "start_time": "2022-12-14T08:55:29.720071",
     "status": "completed"
    },
    "tags": []
   },
   "outputs": [
    {
     "data": {
      "text/html": [
       "FALSE"
      ],
      "text/latex": [
       "FALSE"
      ],
      "text/markdown": [
       "FALSE"
      ],
      "text/plain": [
       "[1] FALSE"
      ]
     },
     "metadata": {},
     "output_type": "display_data"
    },
    {
     "data": {
      "text/html": [
       "TRUE"
      ],
      "text/latex": [
       "TRUE"
      ],
      "text/markdown": [
       "TRUE"
      ],
      "text/plain": [
       "[1] TRUE"
      ]
     },
     "metadata": {},
     "output_type": "display_data"
    }
   ],
   "source": [
    "1 %in% c(2:10)\n",
    "1 %in% c(1:10)"
   ]
  },
  {
   "cell_type": "markdown",
   "id": "1455de60",
   "metadata": {
    "papermill": {
     "duration": 0.009258,
     "end_time": "2022-12-14T08:55:29.773014",
     "exception": false,
     "start_time": "2022-12-14T08:55:29.763756",
     "status": "completed"
    },
    "tags": []
   },
   "source": [
    "## Wartości brakujące"
   ]
  },
  {
   "cell_type": "code",
   "execution_count": 7,
   "id": "aa299e25",
   "metadata": {
    "execution": {
     "iopub.execute_input": "2022-12-14T08:55:29.795044Z",
     "iopub.status.busy": "2022-12-14T08:55:29.793338Z",
     "iopub.status.idle": "2022-12-14T08:55:29.813038Z",
     "shell.execute_reply": "2022-12-14T08:55:29.811217Z"
    },
    "papermill": {
     "duration": 0.03317,
     "end_time": "2022-12-14T08:55:29.815464",
     "exception": false,
     "start_time": "2022-12-14T08:55:29.782294",
     "status": "completed"
    },
    "tags": []
   },
   "outputs": [
    {
     "data": {
      "text/html": [
       "TRUE"
      ],
      "text/latex": [
       "TRUE"
      ],
      "text/markdown": [
       "TRUE"
      ],
      "text/plain": [
       "[1] TRUE"
      ]
     },
     "metadata": {},
     "output_type": "display_data"
    }
   ],
   "source": [
    "#test czy x jest NULL\n",
    "X<-NULL\n",
    "is.null(X)"
   ]
  },
  {
   "cell_type": "code",
   "execution_count": 8,
   "id": "f08dc1f3",
   "metadata": {
    "execution": {
     "iopub.execute_input": "2022-12-14T08:55:29.838111Z",
     "iopub.status.busy": "2022-12-14T08:55:29.836539Z",
     "iopub.status.idle": "2022-12-14T08:55:29.858835Z",
     "shell.execute_reply": "2022-12-14T08:55:29.853479Z"
    },
    "papermill": {
     "duration": 0.036083,
     "end_time": "2022-12-14T08:55:29.861344",
     "exception": false,
     "start_time": "2022-12-14T08:55:29.825261",
     "status": "completed"
    },
    "tags": []
   },
   "outputs": [
    {
     "data": {
      "text/html": [
       "<style>\n",
       ".list-inline {list-style: none; margin:0; padding: 0}\n",
       ".list-inline>li {display: inline-block}\n",
       ".list-inline>li:not(:last-child)::after {content: \"\\00b7\"; padding: 0 .5ex}\n",
       "</style>\n",
       "<ol class=list-inline><li>FALSE</li><li>FALSE</li><li>TRUE</li></ol>\n"
      ],
      "text/latex": [
       "\\begin{enumerate*}\n",
       "\\item FALSE\n",
       "\\item FALSE\n",
       "\\item TRUE\n",
       "\\end{enumerate*}\n"
      ],
      "text/markdown": [
       "1. FALSE\n",
       "2. FALSE\n",
       "3. TRUE\n",
       "\n",
       "\n"
      ],
      "text/plain": [
       "[1] FALSE FALSE  TRUE"
      ]
     },
     "metadata": {},
     "output_type": "display_data"
    }
   ],
   "source": [
    "vec_n<- c(1,2,NA)\n",
    "is.na(vec_n)"
   ]
  },
  {
   "cell_type": "markdown",
   "id": "cd485683",
   "metadata": {
    "papermill": {
     "duration": 0.010039,
     "end_time": "2022-12-14T08:55:29.881138",
     "exception": false,
     "start_time": "2022-12-14T08:55:29.871099",
     "status": "completed"
    },
    "tags": []
   },
   "source": [
    "## Listy\n",
    "Lista różni się od wektora atomicznego- może zawierać różne typy danych, w tym inne listy (dość podobna do listy w Pythonie). Listę można indeksować tak jak wektor."
   ]
  },
  {
   "cell_type": "code",
   "execution_count": 9,
   "id": "44648b44",
   "metadata": {
    "execution": {
     "iopub.execute_input": "2022-12-14T08:55:29.904008Z",
     "iopub.status.busy": "2022-12-14T08:55:29.902506Z",
     "iopub.status.idle": "2022-12-14T08:55:29.917567Z",
     "shell.execute_reply": "2022-12-14T08:55:29.915638Z"
    },
    "papermill": {
     "duration": 0.02981,
     "end_time": "2022-12-14T08:55:29.920581",
     "exception": false,
     "start_time": "2022-12-14T08:55:29.890771",
     "status": "completed"
    },
    "tags": []
   },
   "outputs": [],
   "source": [
    "list_1<- list(1, \"a\", \"b\", 2, list(1,1,2))"
   ]
  },
  {
   "cell_type": "code",
   "execution_count": 10,
   "id": "a77b0797",
   "metadata": {
    "execution": {
     "iopub.execute_input": "2022-12-14T08:55:29.948933Z",
     "iopub.status.busy": "2022-12-14T08:55:29.947262Z",
     "iopub.status.idle": "2022-12-14T08:55:29.973903Z",
     "shell.execute_reply": "2022-12-14T08:55:29.972157Z"
    },
    "papermill": {
     "duration": 0.046052,
     "end_time": "2022-12-14T08:55:29.976247",
     "exception": false,
     "start_time": "2022-12-14T08:55:29.930195",
     "status": "completed"
    },
    "tags": []
   },
   "outputs": [
    {
     "data": {
      "text/html": [
       "5"
      ],
      "text/latex": [
       "5"
      ],
      "text/markdown": [
       "5"
      ],
      "text/plain": [
       "[1] 5"
      ]
     },
     "metadata": {},
     "output_type": "display_data"
    },
    {
     "data": {
      "text/html": [
       "<ol>\n",
       "\t<li>2</li>\n",
       "\t<li><ol>\n",
       "\t<li>1</li>\n",
       "\t<li>1</li>\n",
       "\t<li>2</li>\n",
       "</ol>\n",
       "</li>\n",
       "</ol>\n"
      ],
      "text/latex": [
       "\\begin{enumerate}\n",
       "\\item 2\n",
       "\\item \\begin{enumerate}\n",
       "\\item 1\n",
       "\\item 1\n",
       "\\item 2\n",
       "\\end{enumerate}\n",
       "\n",
       "\\end{enumerate}\n"
      ],
      "text/markdown": [
       "1. 2\n",
       "2. 1. 1\n",
       "2. 1\n",
       "3. 2\n",
       "\n",
       "\n",
       "\n",
       "\n",
       "\n"
      ],
      "text/plain": [
       "[[1]]\n",
       "[1] 2\n",
       "\n",
       "[[2]]\n",
       "[[2]][[1]]\n",
       "[1] 1\n",
       "\n",
       "[[2]][[2]]\n",
       "[1] 1\n",
       "\n",
       "[[2]][[3]]\n",
       "[1] 2\n",
       "\n"
      ]
     },
     "metadata": {},
     "output_type": "display_data"
    }
   ],
   "source": [
    "length(list_1)\n",
    "\n",
    "list_1[4:5]"
   ]
  },
  {
   "cell_type": "markdown",
   "id": "61eeb63e",
   "metadata": {
    "papermill": {
     "duration": 0.010223,
     "end_time": "2022-12-14T08:55:29.996465",
     "exception": false,
     "start_time": "2022-12-14T08:55:29.986242",
     "status": "completed"
    },
    "tags": []
   },
   "source": [
    "### Indeksowanie wektorów i list\n",
    "\n",
    "`x[[i]]` -- weź tylko element na pozycji $i$\n",
    "\n",
    "`x[i]` -- weź element na pozycji $i$ z opakowaniem (dla wektora atomicznego, będzie to nadal wektor atomiczny, dla listy- lista z jednym elementem)\n",
    "\n",
    "`x[i:j]` -- weź elementy od `i` do `j` opakowane np. listę od i do j, jeżeli x jest listą."
   ]
  },
  {
   "cell_type": "code",
   "execution_count": 11,
   "id": "cb79a8b8",
   "metadata": {
    "execution": {
     "iopub.execute_input": "2022-12-14T08:55:30.020620Z",
     "iopub.status.busy": "2022-12-14T08:55:30.019165Z",
     "iopub.status.idle": "2022-12-14T08:55:30.083039Z",
     "shell.execute_reply": "2022-12-14T08:55:30.080760Z"
    },
    "papermill": {
     "duration": 0.078784,
     "end_time": "2022-12-14T08:55:30.086029",
     "exception": false,
     "start_time": "2022-12-14T08:55:30.007245",
     "status": "completed"
    },
    "tags": []
   },
   "outputs": [
    {
     "data": {
      "text/html": [
       "<ol>\n",
       "\t<li>1</li>\n",
       "</ol>\n"
      ],
      "text/latex": [
       "\\begin{enumerate}\n",
       "\\item 1\n",
       "\\end{enumerate}\n"
      ],
      "text/markdown": [
       "1. 1\n",
       "\n",
       "\n"
      ],
      "text/plain": [
       "[[1]]\n",
       "[1] 1\n"
      ]
     },
     "metadata": {},
     "output_type": "display_data"
    },
    {
     "data": {
      "text/html": [
       "1"
      ],
      "text/latex": [
       "1"
      ],
      "text/markdown": [
       "1"
      ],
      "text/plain": [
       "[1] 1"
      ]
     },
     "metadata": {},
     "output_type": "display_data"
    }
   ],
   "source": [
    "list_1[1]\n",
    "list_1[[1]]\n"
   ]
  },
  {
   "cell_type": "code",
   "execution_count": 12,
   "id": "f29aa237",
   "metadata": {
    "execution": {
     "iopub.execute_input": "2022-12-14T08:55:30.110657Z",
     "iopub.status.busy": "2022-12-14T08:55:30.109154Z",
     "iopub.status.idle": "2022-12-14T08:55:30.137509Z",
     "shell.execute_reply": "2022-12-14T08:55:30.135499Z"
    },
    "papermill": {
     "duration": 0.043744,
     "end_time": "2022-12-14T08:55:30.140527",
     "exception": false,
     "start_time": "2022-12-14T08:55:30.096783",
     "status": "completed"
    },
    "tags": []
   },
   "outputs": [
    {
     "name": "stdout",
     "output_type": "stream",
     "text": [
      "[[1]]\n",
      "[1] 1\n",
      "\n",
      "[[2]]\n",
      "[1] \"a\"\n",
      "\n",
      "[[3]]\n",
      "[1] \"b\"\n",
      "\n",
      "[[4]]\n",
      "[1] 2\n",
      "\n",
      "[[5]]\n",
      "[[5]][[1]]\n",
      "[1] 1\n",
      "\n",
      "[[5]][[2]]\n",
      "[1] 1\n",
      "\n",
      "[[5]][[3]]\n",
      "[1] 2\n",
      "\n",
      "\n",
      "[1] \"podlista elementów list_1 od 4 do 5\"\n"
     ]
    },
    {
     "data": {
      "text/html": [
       "<ol>\n",
       "\t<li>2</li>\n",
       "\t<li><ol>\n",
       "\t<li>1</li>\n",
       "\t<li>1</li>\n",
       "\t<li>2</li>\n",
       "</ol>\n",
       "</li>\n",
       "</ol>\n"
      ],
      "text/latex": [
       "\\begin{enumerate}\n",
       "\\item 2\n",
       "\\item \\begin{enumerate}\n",
       "\\item 1\n",
       "\\item 1\n",
       "\\item 2\n",
       "\\end{enumerate}\n",
       "\n",
       "\\end{enumerate}\n"
      ],
      "text/markdown": [
       "1. 2\n",
       "2. 1. 1\n",
       "2. 1\n",
       "3. 2\n",
       "\n",
       "\n",
       "\n",
       "\n",
       "\n"
      ],
      "text/plain": [
       "[[1]]\n",
       "[1] 2\n",
       "\n",
       "[[2]]\n",
       "[[2]][[1]]\n",
       "[1] 1\n",
       "\n",
       "[[2]][[2]]\n",
       "[1] 1\n",
       "\n",
       "[[2]][[3]]\n",
       "[1] 2\n",
       "\n"
      ]
     },
     "metadata": {},
     "output_type": "display_data"
    }
   ],
   "source": [
    "print(list_1)\n",
    "print(\"podlista elementów list_1 od 4 do 5\")\n",
    "list_1[4:5]"
   ]
  },
  {
   "cell_type": "markdown",
   "id": "d2b0e7a9",
   "metadata": {
    "papermill": {
     "duration": 0.010432,
     "end_time": "2022-12-14T08:55:30.161540",
     "exception": false,
     "start_time": "2022-12-14T08:55:30.151108",
     "status": "completed"
    },
    "tags": []
   },
   "source": [
    "### Lista z nazwanymi elementami"
   ]
  },
  {
   "cell_type": "code",
   "execution_count": 13,
   "id": "a811a484",
   "metadata": {
    "execution": {
     "iopub.execute_input": "2022-12-14T08:55:30.186068Z",
     "iopub.status.busy": "2022-12-14T08:55:30.184336Z",
     "iopub.status.idle": "2022-12-14T08:55:30.204336Z",
     "shell.execute_reply": "2022-12-14T08:55:30.201928Z"
    },
    "papermill": {
     "duration": 0.035304,
     "end_time": "2022-12-14T08:55:30.207336",
     "exception": false,
     "start_time": "2022-12-14T08:55:30.172032",
     "status": "completed"
    },
    "tags": []
   },
   "outputs": [
    {
     "name": "stdout",
     "output_type": "stream",
     "text": [
      "$a1\n",
      "[1] 3\n",
      "\n",
      "$b2\n",
      "[1] 222\n",
      "\n",
      "$trzeci\n",
      "[1] 1 2 3\n",
      "\n"
     ]
    }
   ],
   "source": [
    "named_l<- list(a1=3, b2=222, trzeci=c(1,2,3))\n",
    "print(named_l)"
   ]
  },
  {
   "cell_type": "code",
   "execution_count": 14,
   "id": "09ef2e14",
   "metadata": {
    "execution": {
     "iopub.execute_input": "2022-12-14T08:55:30.231976Z",
     "iopub.status.busy": "2022-12-14T08:55:30.230489Z",
     "iopub.status.idle": "2022-12-14T08:55:30.252721Z",
     "shell.execute_reply": "2022-12-14T08:55:30.250401Z"
    },
    "papermill": {
     "duration": 0.037688,
     "end_time": "2022-12-14T08:55:30.255591",
     "exception": false,
     "start_time": "2022-12-14T08:55:30.217903",
     "status": "completed"
    },
    "tags": []
   },
   "outputs": [
    {
     "data": {
      "text/html": [
       "<style>\n",
       ".list-inline {list-style: none; margin:0; padding: 0}\n",
       ".list-inline>li {display: inline-block}\n",
       ".list-inline>li:not(:last-child)::after {content: \"\\00b7\"; padding: 0 .5ex}\n",
       "</style>\n",
       "<ol class=list-inline><li>'a1'</li><li>'b2'</li><li>'trzeci'</li></ol>\n"
      ],
      "text/latex": [
       "\\begin{enumerate*}\n",
       "\\item 'a1'\n",
       "\\item 'b2'\n",
       "\\item 'trzeci'\n",
       "\\end{enumerate*}\n"
      ],
      "text/markdown": [
       "1. 'a1'\n",
       "2. 'b2'\n",
       "3. 'trzeci'\n",
       "\n",
       "\n"
      ],
      "text/plain": [
       "[1] \"a1\"     \"b2\"     \"trzeci\""
      ]
     },
     "metadata": {},
     "output_type": "display_data"
    }
   ],
   "source": [
    "names(named_l)"
   ]
  },
  {
   "cell_type": "code",
   "execution_count": 15,
   "id": "9c839c1d",
   "metadata": {
    "execution": {
     "iopub.execute_input": "2022-12-14T08:55:30.280366Z",
     "iopub.status.busy": "2022-12-14T08:55:30.278816Z",
     "iopub.status.idle": "2022-12-14T08:55:30.303146Z",
     "shell.execute_reply": "2022-12-14T08:55:30.300990Z"
    },
    "papermill": {
     "duration": 0.039896,
     "end_time": "2022-12-14T08:55:30.306108",
     "exception": false,
     "start_time": "2022-12-14T08:55:30.266212",
     "status": "completed"
    },
    "tags": []
   },
   "outputs": [
    {
     "data": {
      "text/html": [
       "<style>\n",
       ".list-inline {list-style: none; margin:0; padding: 0}\n",
       ".list-inline>li {display: inline-block}\n",
       ".list-inline>li:not(:last-child)::after {content: \"\\00b7\"; padding: 0 .5ex}\n",
       "</style>\n",
       "<ol class=list-inline><li>1</li><li>2</li><li>3</li></ol>\n"
      ],
      "text/latex": [
       "\\begin{enumerate*}\n",
       "\\item 1\n",
       "\\item 2\n",
       "\\item 3\n",
       "\\end{enumerate*}\n"
      ],
      "text/markdown": [
       "1. 1\n",
       "2. 2\n",
       "3. 3\n",
       "\n",
       "\n"
      ],
      "text/plain": [
       "[1] 1 2 3"
      ]
     },
     "metadata": {},
     "output_type": "display_data"
    },
    {
     "data": {
      "text/html": [
       "3"
      ],
      "text/latex": [
       "3"
      ],
      "text/markdown": [
       "3"
      ],
      "text/plain": [
       "[1] 3"
      ]
     },
     "metadata": {},
     "output_type": "display_data"
    }
   ],
   "source": [
    "named_l[[\"trzeci\"]]\n",
    "named_l[[\"a1\"]]"
   ]
  },
  {
   "cell_type": "code",
   "execution_count": 16,
   "id": "105ded0e",
   "metadata": {
    "execution": {
     "iopub.execute_input": "2022-12-14T08:55:30.331745Z",
     "iopub.status.busy": "2022-12-14T08:55:30.330302Z",
     "iopub.status.idle": "2022-12-14T08:55:30.347604Z",
     "shell.execute_reply": "2022-12-14T08:55:30.345522Z"
    },
    "papermill": {
     "duration": 0.032644,
     "end_time": "2022-12-14T08:55:30.349899",
     "exception": false,
     "start_time": "2022-12-14T08:55:30.317255",
     "status": "completed"
    },
    "tags": []
   },
   "outputs": [
    {
     "name": "stdout",
     "output_type": "stream",
     "text": [
      "$`nowa nazwa1`\n",
      "[1] 3\n",
      "\n",
      "$`nowa nazwa2`\n",
      "[1] 222\n",
      "\n",
      "$`nowa nazwa 3`\n",
      "[1] 1 2 3\n",
      "\n"
     ]
    }
   ],
   "source": [
    "names(named_l)<- c(\"nowa nazwa1\", \"nowa nazwa2\", \"nowa nazwa 3\")\n",
    "print(named_l)"
   ]
  },
  {
   "cell_type": "markdown",
   "id": "994445f4",
   "metadata": {
    "papermill": {
     "duration": 0.011222,
     "end_time": "2022-12-14T08:55:30.372780",
     "exception": false,
     "start_time": "2022-12-14T08:55:30.361558",
     "status": "completed"
    },
    "tags": []
   },
   "source": [
    "## funkcje w R"
   ]
  },
  {
   "cell_type": "code",
   "execution_count": 17,
   "id": "ee677b35",
   "metadata": {
    "execution": {
     "iopub.execute_input": "2022-12-14T08:55:30.398401Z",
     "iopub.status.busy": "2022-12-14T08:55:30.396852Z",
     "iopub.status.idle": "2022-12-14T08:55:30.414213Z",
     "shell.execute_reply": "2022-12-14T08:55:30.408752Z"
    },
    "papermill": {
     "duration": 0.032867,
     "end_time": "2022-12-14T08:55:30.416734",
     "exception": false,
     "start_time": "2022-12-14T08:55:30.383867",
     "status": "completed"
    },
    "tags": []
   },
   "outputs": [],
   "source": [
    "funkcja1<- function(x1, x2)\n",
    "    {\n",
    "        if (length(x1)!= length(x2)) stop(\"nie można wykonać następnego testu bo długości x1 i x2 się różnią\")\n",
    "        if (sum(x1 == x2)==length(x1) ) # x1 == x2 <- wektor wartości logicznych TRUE FALSE\n",
    "            {                           # sum(x1==x2) <- suma wartości TRUE FALSE (TRUE zamieniamy na 1, FALSE na 0)\n",
    "                                        # sum(x1==x2) == length(x1) <- TRUE, tylko gdy są 3 wartości TRUE,\n",
    "                                        # czyli x1 i x2 są równe na każdej pozycji.\n",
    "            print(\" x1 i x2 są równe\")\n",
    "            print(\"coś\")\n",
    "            return(c(1,2,3))\n",
    "            }\n",
    "        else\n",
    "            {\n",
    "            #print(seq_along(x)\n",
    "            for (j in seq_along(x)) #seq_along(x) <- wektor wszystkich indeksów jakie ma x\n",
    "                {\n",
    "                print(x1[j])}\n",
    "            return(c(4,5,6))\n",
    "            \n",
    "            }\n",
    "                \n",
    "            \n",
    "    }"
   ]
  },
  {
   "cell_type": "markdown",
   "id": "3792c366",
   "metadata": {
    "papermill": {
     "duration": 0.011551,
     "end_time": "2022-12-14T08:55:30.439480",
     "exception": false,
     "start_time": "2022-12-14T08:55:30.427929",
     "status": "completed"
    },
    "tags": []
   },
   "source": [
    "### lapply"
   ]
  },
  {
   "cell_type": "code",
   "execution_count": 18,
   "id": "37fa7b26",
   "metadata": {
    "execution": {
     "iopub.execute_input": "2022-12-14T08:55:30.465620Z",
     "iopub.status.busy": "2022-12-14T08:55:30.464078Z",
     "iopub.status.idle": "2022-12-14T08:55:30.494323Z",
     "shell.execute_reply": "2022-12-14T08:55:30.491999Z"
    },
    "papermill": {
     "duration": 0.046765,
     "end_time": "2022-12-14T08:55:30.497407",
     "exception": false,
     "start_time": "2022-12-14T08:55:30.450642",
     "status": "completed"
    },
    "tags": []
   },
   "outputs": [
    {
     "data": {
      "text/html": [
       "<ol>\n",
       "\t<li>1</li>\n",
       "\t<li>'a'</li>\n",
       "\t<li>'b'</li>\n",
       "\t<li>2</li>\n",
       "\t<li><ol>\n",
       "\t<li>1</li>\n",
       "\t<li>1</li>\n",
       "\t<li>2</li>\n",
       "</ol>\n",
       "</li>\n",
       "</ol>\n"
      ],
      "text/latex": [
       "\\begin{enumerate}\n",
       "\\item 1\n",
       "\\item 'a'\n",
       "\\item 'b'\n",
       "\\item 2\n",
       "\\item \\begin{enumerate}\n",
       "\\item 1\n",
       "\\item 1\n",
       "\\item 2\n",
       "\\end{enumerate}\n",
       "\n",
       "\\end{enumerate}\n"
      ],
      "text/markdown": [
       "1. 1\n",
       "2. 'a'\n",
       "3. 'b'\n",
       "4. 2\n",
       "5. 1. 1\n",
       "2. 1\n",
       "3. 2\n",
       "\n",
       "\n",
       "\n",
       "\n",
       "\n"
      ],
      "text/plain": [
       "[[1]]\n",
       "[1] 1\n",
       "\n",
       "[[2]]\n",
       "[1] \"a\"\n",
       "\n",
       "[[3]]\n",
       "[1] \"b\"\n",
       "\n",
       "[[4]]\n",
       "[1] 2\n",
       "\n",
       "[[5]]\n",
       "[[5]][[1]]\n",
       "[1] 1\n",
       "\n",
       "[[5]][[2]]\n",
       "[1] 1\n",
       "\n",
       "[[5]][[3]]\n",
       "[1] 2\n",
       "\n"
      ]
     },
     "metadata": {},
     "output_type": "display_data"
    },
    {
     "data": {
      "text/html": [
       "<ol>\n",
       "\t<li><style>\n",
       ".list-inline {list-style: none; margin:0; padding: 0}\n",
       ".list-inline>li {display: inline-block}\n",
       ".list-inline>li:not(:last-child)::after {content: \"\\00b7\"; padding: 0 .5ex}\n",
       "</style>\n",
       "<ol class=list-inline><li>1</li><li>1</li><li>1</li></ol>\n",
       "</li>\n",
       "\t<li><style>\n",
       ".list-inline {list-style: none; margin:0; padding: 0}\n",
       ".list-inline>li {display: inline-block}\n",
       ".list-inline>li:not(:last-child)::after {content: \"\\00b7\"; padding: 0 .5ex}\n",
       "</style>\n",
       "<ol class=list-inline><li>'a'</li><li>'a'</li><li>'a'</li></ol>\n",
       "</li>\n",
       "\t<li><style>\n",
       ".list-inline {list-style: none; margin:0; padding: 0}\n",
       ".list-inline>li {display: inline-block}\n",
       ".list-inline>li:not(:last-child)::after {content: \"\\00b7\"; padding: 0 .5ex}\n",
       "</style>\n",
       "<ol class=list-inline><li>'b'</li><li>'b'</li><li>'b'</li></ol>\n",
       "</li>\n",
       "\t<li><style>\n",
       ".list-inline {list-style: none; margin:0; padding: 0}\n",
       ".list-inline>li {display: inline-block}\n",
       ".list-inline>li:not(:last-child)::after {content: \"\\00b7\"; padding: 0 .5ex}\n",
       "</style>\n",
       "<ol class=list-inline><li>2</li><li>2</li><li>2</li></ol>\n",
       "</li>\n",
       "\t<li><ol>\n",
       "\t<li>1</li>\n",
       "\t<li>1</li>\n",
       "\t<li>2</li>\n",
       "\t<li>1</li>\n",
       "\t<li>1</li>\n",
       "\t<li>2</li>\n",
       "\t<li>1</li>\n",
       "\t<li>1</li>\n",
       "\t<li>2</li>\n",
       "</ol>\n",
       "</li>\n",
       "</ol>\n"
      ],
      "text/latex": [
       "\\begin{enumerate}\n",
       "\\item \\begin{enumerate*}\n",
       "\\item 1\n",
       "\\item 1\n",
       "\\item 1\n",
       "\\end{enumerate*}\n",
       "\n",
       "\\item \\begin{enumerate*}\n",
       "\\item 'a'\n",
       "\\item 'a'\n",
       "\\item 'a'\n",
       "\\end{enumerate*}\n",
       "\n",
       "\\item \\begin{enumerate*}\n",
       "\\item 'b'\n",
       "\\item 'b'\n",
       "\\item 'b'\n",
       "\\end{enumerate*}\n",
       "\n",
       "\\item \\begin{enumerate*}\n",
       "\\item 2\n",
       "\\item 2\n",
       "\\item 2\n",
       "\\end{enumerate*}\n",
       "\n",
       "\\item \\begin{enumerate}\n",
       "\\item 1\n",
       "\\item 1\n",
       "\\item 2\n",
       "\\item 1\n",
       "\\item 1\n",
       "\\item 2\n",
       "\\item 1\n",
       "\\item 1\n",
       "\\item 2\n",
       "\\end{enumerate}\n",
       "\n",
       "\\end{enumerate}\n"
      ],
      "text/markdown": [
       "1. 1. 1\n",
       "2. 1\n",
       "3. 1\n",
       "\n",
       "\n",
       "\n",
       "2. 1. 'a'\n",
       "2. 'a'\n",
       "3. 'a'\n",
       "\n",
       "\n",
       "\n",
       "3. 1. 'b'\n",
       "2. 'b'\n",
       "3. 'b'\n",
       "\n",
       "\n",
       "\n",
       "4. 1. 2\n",
       "2. 2\n",
       "3. 2\n",
       "\n",
       "\n",
       "\n",
       "5. 1. 1\n",
       "2. 1\n",
       "3. 2\n",
       "4. 1\n",
       "5. 1\n",
       "6. 2\n",
       "7. 1\n",
       "8. 1\n",
       "9. 2\n",
       "\n",
       "\n",
       "\n",
       "\n",
       "\n"
      ],
      "text/plain": [
       "[[1]]\n",
       "[1] 1 1 1\n",
       "\n",
       "[[2]]\n",
       "[1] \"a\" \"a\" \"a\"\n",
       "\n",
       "[[3]]\n",
       "[1] \"b\" \"b\" \"b\"\n",
       "\n",
       "[[4]]\n",
       "[1] 2 2 2\n",
       "\n",
       "[[5]]\n",
       "[[5]][[1]]\n",
       "[1] 1\n",
       "\n",
       "[[5]][[2]]\n",
       "[1] 1\n",
       "\n",
       "[[5]][[3]]\n",
       "[1] 2\n",
       "\n",
       "[[5]][[4]]\n",
       "[1] 1\n",
       "\n",
       "[[5]][[5]]\n",
       "[1] 1\n",
       "\n",
       "[[5]][[6]]\n",
       "[1] 2\n",
       "\n",
       "[[5]][[7]]\n",
       "[1] 1\n",
       "\n",
       "[[5]][[8]]\n",
       "[1] 1\n",
       "\n",
       "[[5]][[9]]\n",
       "[1] 2\n",
       "\n"
      ]
     },
     "metadata": {},
     "output_type": "display_data"
    }
   ],
   "source": [
    "list_1\n",
    "lapply(list_1, rep, 3) # dla kazdego elementu list_1, wykonaj rep z argumentem 3 i wsadz wyniki do listy"
   ]
  },
  {
   "cell_type": "code",
   "execution_count": 19,
   "id": "97a1b16c",
   "metadata": {
    "execution": {
     "iopub.execute_input": "2022-12-14T08:55:30.524765Z",
     "iopub.status.busy": "2022-12-14T08:55:30.523250Z",
     "iopub.status.idle": "2022-12-14T08:55:30.550362Z",
     "shell.execute_reply": "2022-12-14T08:55:30.548091Z"
    },
    "papermill": {
     "duration": 0.043901,
     "end_time": "2022-12-14T08:55:30.553458",
     "exception": false,
     "start_time": "2022-12-14T08:55:30.509557",
     "status": "completed"
    },
    "tags": []
   },
   "outputs": [
    {
     "name": "stdout",
     "output_type": "stream",
     "text": [
      "integer(0)\n"
     ]
    },
    {
     "data": {
      "text/html": [
       "<style>\n",
       ".list-inline {list-style: none; margin:0; padding: 0}\n",
       ".list-inline>li {display: inline-block}\n",
       ".list-inline>li:not(:last-child)::after {content: \"\\00b7\"; padding: 0 .5ex}\n",
       "</style>\n",
       "<ol class=list-inline><li>1</li><li>2</li><li>3</li></ol>\n"
      ],
      "text/latex": [
       "\\begin{enumerate*}\n",
       "\\item 1\n",
       "\\item 2\n",
       "\\item 3\n",
       "\\end{enumerate*}\n"
      ],
      "text/markdown": [
       "1. 1\n",
       "2. 2\n",
       "3. 3\n",
       "\n",
       "\n"
      ],
      "text/plain": [
       "[1] 1 2 3"
      ]
     },
     "metadata": {},
     "output_type": "display_data"
    }
   ],
   "source": [
    "v1<-c()\n",
    "print(seq_along(v1))\n",
    "v1<-c(7,6,78)\n",
    "seq_along(v1)"
   ]
  },
  {
   "cell_type": "code",
   "execution_count": 20,
   "id": "8a05264c",
   "metadata": {
    "execution": {
     "iopub.execute_input": "2022-12-14T08:55:30.584478Z",
     "iopub.status.busy": "2022-12-14T08:55:30.579166Z",
     "iopub.status.idle": "2022-12-14T08:55:30.602684Z",
     "shell.execute_reply": "2022-12-14T08:55:30.600885Z"
    },
    "papermill": {
     "duration": 0.039774,
     "end_time": "2022-12-14T08:55:30.605088",
     "exception": false,
     "start_time": "2022-12-14T08:55:30.565314",
     "status": "completed"
    },
    "tags": []
   },
   "outputs": [
    {
     "name": "stdout",
     "output_type": "stream",
     "text": [
      "[1] 1\n",
      "[1] 2\n",
      "[1] 3\n"
     ]
    },
    {
     "data": {
      "text/html": [
       "<style>\n",
       ".list-inline {list-style: none; margin:0; padding: 0}\n",
       ".list-inline>li {display: inline-block}\n",
       ".list-inline>li:not(:last-child)::after {content: \"\\00b7\"; padding: 0 .5ex}\n",
       "</style>\n",
       "<ol class=list-inline><li>4</li><li>5</li><li>6</li></ol>\n"
      ],
      "text/latex": [
       "\\begin{enumerate*}\n",
       "\\item 4\n",
       "\\item 5\n",
       "\\item 6\n",
       "\\end{enumerate*}\n"
      ],
      "text/markdown": [
       "1. 4\n",
       "2. 5\n",
       "3. 6\n",
       "\n",
       "\n"
      ],
      "text/plain": [
       "[1] 4 5 6"
      ]
     },
     "metadata": {},
     "output_type": "display_data"
    }
   ],
   "source": [
    "funkcja1(c(1,2,3),c(1,2,4))"
   ]
  },
  {
   "cell_type": "code",
   "execution_count": 21,
   "id": "29b95fe5",
   "metadata": {
    "execution": {
     "iopub.execute_input": "2022-12-14T08:55:30.633069Z",
     "iopub.status.busy": "2022-12-14T08:55:30.631400Z",
     "iopub.status.idle": "2022-12-14T08:55:30.649293Z",
     "shell.execute_reply": "2022-12-14T08:55:30.647431Z"
    },
    "papermill": {
     "duration": 0.033913,
     "end_time": "2022-12-14T08:55:30.651491",
     "exception": false,
     "start_time": "2022-12-14T08:55:30.617578",
     "status": "completed"
    },
    "tags": []
   },
   "outputs": [
    {
     "data": {
      "text/html": [
       "<style>\n",
       ".list-inline {list-style: none; margin:0; padding: 0}\n",
       ".list-inline>li {display: inline-block}\n",
       ".list-inline>li:not(:last-child)::after {content: \"\\00b7\"; padding: 0 .5ex}\n",
       "</style>\n",
       "<ol class=list-inline><li>'a'</li><li>'b'</li><li>'a'</li><li>'b'</li></ol>\n"
      ],
      "text/latex": [
       "\\begin{enumerate*}\n",
       "\\item 'a'\n",
       "\\item 'b'\n",
       "\\item 'a'\n",
       "\\item 'b'\n",
       "\\end{enumerate*}\n"
      ],
      "text/markdown": [
       "1. 'a'\n",
       "2. 'b'\n",
       "3. 'a'\n",
       "4. 'b'\n",
       "\n",
       "\n"
      ],
      "text/plain": [
       "[1] \"a\" \"b\" \"a\" \"b\""
      ]
     },
     "metadata": {},
     "output_type": "display_data"
    }
   ],
   "source": [
    "rep(c(\"a\",\"b\"),2)"
   ]
  },
  {
   "cell_type": "code",
   "execution_count": 22,
   "id": "83825f30",
   "metadata": {
    "execution": {
     "iopub.execute_input": "2022-12-14T08:55:30.679497Z",
     "iopub.status.busy": "2022-12-14T08:55:30.677832Z",
     "iopub.status.idle": "2022-12-14T08:55:30.702775Z",
     "shell.execute_reply": "2022-12-14T08:55:30.700747Z"
    },
    "papermill": {
     "duration": 0.041521,
     "end_time": "2022-12-14T08:55:30.705135",
     "exception": false,
     "start_time": "2022-12-14T08:55:30.663614",
     "status": "completed"
    },
    "tags": []
   },
   "outputs": [
    {
     "name": "stdout",
     "output_type": "stream",
     "text": [
      "[[1]]\n",
      "[1] \"a\" \"a\"\n",
      "\n",
      "[[2]]\n",
      "[1] \"b\" \"b\"\n",
      "\n",
      "[[3]]\n",
      "[1] \"c\" \"c\"\n",
      "\n",
      "[[4]]\n",
      "[1] \"d\" \"d\"\n",
      "\n",
      "[1] \"a\" \"a\" \"b\" \"b\" \"c\" \"c\" \"d\" \"d\"\n"
     ]
    }
   ],
   "source": [
    "V1<- c(\"a\",\"b\",\"c\",\"d\")\n",
    "V1list<-lapply(V1, rep, 2 )\n",
    "print(V1list)\n",
    "V1listunlisted<- unlist(V1list)\n",
    "print(V1listunlisted)"
   ]
  },
  {
   "cell_type": "code",
   "execution_count": null,
   "id": "da7ce1de",
   "metadata": {
    "execution": {
     "iopub.execute_input": "2022-12-14T08:05:33.658533Z",
     "iopub.status.busy": "2022-12-14T08:05:33.657250Z",
     "iopub.status.idle": "2022-12-14T08:05:34.784887Z"
    },
    "papermill": {
     "duration": 0.012393,
     "end_time": "2022-12-14T08:55:30.729792",
     "exception": false,
     "start_time": "2022-12-14T08:55:30.717399",
     "status": "completed"
    },
    "tags": []
   },
   "outputs": [],
   "source": []
  },
  {
   "cell_type": "markdown",
   "id": "dfcd11b3",
   "metadata": {
    "papermill": {
     "duration": 0.012264,
     "end_time": "2022-12-14T08:55:30.754103",
     "exception": false,
     "start_time": "2022-12-14T08:55:30.741839",
     "status": "completed"
    },
    "tags": []
   },
   "source": [
    "## Data frame"
   ]
  },
  {
   "cell_type": "code",
   "execution_count": 23,
   "id": "3a302247",
   "metadata": {
    "execution": {
     "iopub.execute_input": "2022-12-14T08:55:30.785739Z",
     "iopub.status.busy": "2022-12-14T08:55:30.783921Z",
     "iopub.status.idle": "2022-12-14T08:55:34.394824Z",
     "shell.execute_reply": "2022-12-14T08:55:34.392727Z"
    },
    "papermill": {
     "duration": 3.63409,
     "end_time": "2022-12-14T08:55:34.400294",
     "exception": false,
     "start_time": "2022-12-14T08:55:30.766204",
     "status": "completed"
    },
    "tags": []
   },
   "outputs": [],
   "source": [
    "df<-read.csv(\"https://europepmc.org/journalList?format=csv\")"
   ]
  },
  {
   "cell_type": "code",
   "execution_count": null,
   "id": "ed3b4989",
   "metadata": {
    "papermill": {
     "duration": 0.015188,
     "end_time": "2022-12-14T08:55:34.430265",
     "exception": false,
     "start_time": "2022-12-14T08:55:34.415077",
     "status": "completed"
    },
    "tags": []
   },
   "outputs": [],
   "source": []
  }
 ],
 "metadata": {
  "kernelspec": {
   "display_name": "R",
   "language": "R",
   "name": "ir"
  },
  "language_info": {
   "codemirror_mode": "r",
   "file_extension": ".r",
   "mimetype": "text/x-r-source",
   "name": "R",
   "pygments_lexer": "r",
   "version": "4.0.5"
  },
  "papermill": {
   "default_parameters": {},
   "duration": 9.215888,
   "end_time": "2022-12-14T08:55:34.570393",
   "environment_variables": {},
   "exception": null,
   "input_path": "__notebook__.ipynb",
   "output_path": "__notebook__.ipynb",
   "parameters": {},
   "start_time": "2022-12-14T08:55:25.354505",
   "version": "2.4.0"
  }
 },
 "nbformat": 4,
 "nbformat_minor": 5
}
