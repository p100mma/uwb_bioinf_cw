{
 "cells": [
  {
   "cell_type": "markdown",
   "id": "83d7abdd",
   "metadata": {},
   "source": [
    "## Wektory atomiczne"
   ]
  },
  {
   "cell_type": "markdown",
   "id": "c8ca1390",
   "metadata": {
    "papermill": {
     "duration": 0.011783,
     "end_time": "2022-12-14T09:48:46.646718",
     "exception": false,
     "start_time": "2022-12-14T09:48:46.634935",
     "status": "completed"
    },
    "tags": []
   },
   "source": [
    "Podstawowy typ danych: wektor atomiczny\n",
    "\n",
    "przypisanie: operator `=` lub `<-`\n",
    "\n",
    "`length(x)` - długość wektora"
   ]
  },
  {
   "cell_type": "code",
   "execution_count": 3,
   "id": "c4ae9a87",
   "metadata": {
    "execution": {
     "iopub.execute_input": "2022-12-14T09:48:46.677262Z",
     "iopub.status.busy": "2022-12-14T09:48:46.674075Z",
     "iopub.status.idle": "2022-12-14T09:48:46.866308Z",
     "shell.execute_reply": "2022-12-14T09:48:46.864397Z"
    },
    "papermill": {
     "duration": 0.21128,
     "end_time": "2022-12-14T09:48:46.870687",
     "exception": false,
     "start_time": "2022-12-14T09:48:46.659407",
     "status": "completed"
    },
    "scrolled": true,
    "tags": []
   },
   "outputs": [
    {
     "name": "stdout",
     "output_type": "stream",
     "text": [
      "[1] 1 2 3\n",
      "[1] \"numeric\"\n",
      "[1] \"character\"\n"
     ]
    },
    {
     "data": {
      "text/html": [
       "3"
      ],
      "text/latex": [
       "3"
      ],
      "text/markdown": [
       "3"
      ],
      "text/plain": [
       "[1] 3"
      ]
     },
     "metadata": {},
     "output_type": "display_data"
    },
    {
     "data": {
      "text/html": [
       "4"
      ],
      "text/latex": [
       "4"
      ],
      "text/markdown": [
       "4"
      ],
      "text/plain": [
       "[1] 4"
      ]
     },
     "metadata": {},
     "output_type": "display_data"
    },
    {
     "data": {
      "text/html": [
       "1"
      ],
      "text/latex": [
       "1"
      ],
      "text/markdown": [
       "1"
      ],
      "text/plain": [
       "[1] 1"
      ]
     },
     "metadata": {},
     "output_type": "display_data"
    },
    {
     "data": {
      "text/html": [
       "TRUE"
      ],
      "text/latex": [
       "TRUE"
      ],
      "text/markdown": [
       "TRUE"
      ],
      "text/plain": [
       "[1] TRUE"
      ]
     },
     "metadata": {},
     "output_type": "display_data"
    },
    {
     "data": {
      "text/html": [
       "<ol class=list-inline>\n",
       "\t<li>FALSE</li>\n",
       "\t<li>FALSE</li>\n",
       "\t<li>TRUE</li>\n",
       "\t<li>TRUE</li>\n",
       "</ol>\n"
      ],
      "text/latex": [
       "\\begin{enumerate*}\n",
       "\\item FALSE\n",
       "\\item FALSE\n",
       "\\item TRUE\n",
       "\\item TRUE\n",
       "\\end{enumerate*}\n"
      ],
      "text/markdown": [
       "1. FALSE\n",
       "2. FALSE\n",
       "3. TRUE\n",
       "4. TRUE\n",
       "\n",
       "\n"
      ],
      "text/plain": [
       "[1] FALSE FALSE  TRUE  TRUE"
      ]
     },
     "metadata": {},
     "output_type": "display_data"
    }
   ],
   "source": [
    "x=c(1,2,3)  # najprostszy sposób deklaracji wektora, za pomocą funkcji c\n",
    "print(x)\n",
    "print(class(x))\n",
    "x2=c(\"a\",\"b\",\"c\",\"d\")\n",
    "print(class(x2))\n",
    "length(x)\n",
    "length(x2)\n",
    "length(3.14)   #taka liczba to też wektor ( z długością 1)\n",
    "x3=3.14\n",
    "x3==3.14  # wektor wartości logicznych\n",
    "x2 == c(\"c\",\"c\",\"c\",\"d\")\n"
   ]
  },
  {
   "cell_type": "markdown",
   "id": "535dda1d",
   "metadata": {
    "papermill": {
     "duration": 0.013543,
     "end_time": "2022-12-14T09:48:47.059323",
     "exception": false,
     "start_time": "2022-12-14T09:48:47.045780",
     "status": "completed"
    },
    "tags": []
   },
   "source": [
    "Funkcja `c`  generalnie służy do łączenia (konkatenacji, `c`oncatenation). Pisząc `i:j` możemy tworzyć wektor zawierający liczby od `i` do `j` włącznie."
   ]
  },
  {
   "cell_type": "code",
   "execution_count": 3,
   "id": "7adc4601",
   "metadata": {
    "execution": {
     "iopub.execute_input": "2022-12-14T09:48:47.091349Z",
     "iopub.status.busy": "2022-12-14T09:48:47.088670Z",
     "iopub.status.idle": "2022-12-14T09:48:47.127116Z",
     "shell.execute_reply": "2022-12-14T09:48:47.124892Z"
    },
    "papermill": {
     "duration": 0.058435,
     "end_time": "2022-12-14T09:48:47.130987",
     "exception": false,
     "start_time": "2022-12-14T09:48:47.072552",
     "status": "completed"
    },
    "scrolled": true,
    "tags": []
   },
   "outputs": [
    {
     "name": "stdout",
     "output_type": "stream",
     "text": [
      "[1] 1 2 3\n",
      "[1] 4 5 6 7 8\n",
      "[1] 1 2 3 4 5 6 7 8\n"
     ]
    }
   ],
   "source": [
    "x1<- c(1,2,3)\n",
    "x3<- 4:8\n",
    "big_x<- c(x1,x3)\n",
    "print(x1)\n",
    "print(x3)\n",
    "print(big_x)"
   ]
  },
  {
   "cell_type": "markdown",
   "id": "72cd7c50",
   "metadata": {
    "papermill": {
     "duration": 0.014625,
     "end_time": "2022-12-14T09:48:47.613264",
     "exception": false,
     "start_time": "2022-12-14T09:48:47.598639",
     "status": "completed"
    },
    "tags": []
   },
   "source": [
    "## Listy\n",
    "Lista różni się od wektora atomicznego- może zawierać różne typy danych, w tym inne listy (dość podobna do listy w Pythonie). Listę można indeksować tak jak wektor."
   ]
  },
  {
   "cell_type": "code",
   "execution_count": 9,
   "id": "b1eb0202",
   "metadata": {
    "execution": {
     "iopub.execute_input": "2022-12-14T09:48:47.649454Z",
     "iopub.status.busy": "2022-12-14T09:48:47.647141Z",
     "iopub.status.idle": "2022-12-14T09:48:47.664587Z",
     "shell.execute_reply": "2022-12-14T09:48:47.662420Z"
    },
    "papermill": {
     "duration": 0.038286,
     "end_time": "2022-12-14T09:48:47.667571",
     "exception": false,
     "start_time": "2022-12-14T09:48:47.629285",
     "status": "completed"
    },
    "tags": []
   },
   "outputs": [],
   "source": [
    "list_1<- list(1, \"a\", \"b\", 2, list(1,1,2))"
   ]
  },
  {
   "cell_type": "code",
   "execution_count": 10,
   "id": "4c0c234d",
   "metadata": {
    "execution": {
     "iopub.execute_input": "2022-12-14T09:48:47.703993Z",
     "iopub.status.busy": "2022-12-14T09:48:47.700981Z",
     "iopub.status.idle": "2022-12-14T09:48:47.735434Z",
     "shell.execute_reply": "2022-12-14T09:48:47.732928Z"
    },
    "papermill": {
     "duration": 0.056122,
     "end_time": "2022-12-14T09:48:47.738980",
     "exception": false,
     "start_time": "2022-12-14T09:48:47.682858",
     "status": "completed"
    },
    "tags": []
   },
   "outputs": [
    {
     "data": {
      "text/html": [
       "5"
      ],
      "text/latex": [
       "5"
      ],
      "text/markdown": [
       "5"
      ],
      "text/plain": [
       "[1] 5"
      ]
     },
     "metadata": {},
     "output_type": "display_data"
    },
    {
     "data": {
      "text/html": [
       "<ol>\n",
       "\t<li>2</li>\n",
       "\t<li><ol>\n",
       "\t<li>1</li>\n",
       "\t<li>1</li>\n",
       "\t<li>2</li>\n",
       "</ol>\n",
       "</li>\n",
       "</ol>\n"
      ],
      "text/latex": [
       "\\begin{enumerate}\n",
       "\\item 2\n",
       "\\item \\begin{enumerate}\n",
       "\\item 1\n",
       "\\item 1\n",
       "\\item 2\n",
       "\\end{enumerate}\n",
       "\n",
       "\\end{enumerate}\n"
      ],
      "text/markdown": [
       "1. 2\n",
       "2. 1. 1\n",
       "2. 1\n",
       "3. 2\n",
       "\n",
       "\n",
       "\n",
       "\n",
       "\n"
      ],
      "text/plain": [
       "[[1]]\n",
       "[1] 2\n",
       "\n",
       "[[2]]\n",
       "[[2]][[1]]\n",
       "[1] 1\n",
       "\n",
       "[[2]][[2]]\n",
       "[1] 1\n",
       "\n",
       "[[2]][[3]]\n",
       "[1] 2\n",
       "\n"
      ]
     },
     "metadata": {},
     "output_type": "display_data"
    }
   ],
   "source": [
    "length(list_1)\n",
    "\n",
    "list_1[4:5]"
   ]
  },
  {
   "cell_type": "markdown",
   "id": "8231d102",
   "metadata": {
    "papermill": {
     "duration": 0.017049,
     "end_time": "2022-12-14T09:48:47.996300",
     "exception": false,
     "start_time": "2022-12-14T09:48:47.979251",
     "status": "completed"
    },
    "tags": []
   },
   "source": [
    "### Lista z nazwanymi elementami"
   ]
  },
  {
   "cell_type": "code",
   "execution_count": 13,
   "id": "7d8c0f9e",
   "metadata": {
    "execution": {
     "iopub.execute_input": "2022-12-14T09:48:48.031929Z",
     "iopub.status.busy": "2022-12-14T09:48:48.030056Z",
     "iopub.status.idle": "2022-12-14T09:48:48.052906Z",
     "shell.execute_reply": "2022-12-14T09:48:48.049465Z"
    },
    "papermill": {
     "duration": 0.043961,
     "end_time": "2022-12-14T09:48:48.056301",
     "exception": false,
     "start_time": "2022-12-14T09:48:48.012340",
     "status": "completed"
    },
    "tags": []
   },
   "outputs": [
    {
     "name": "stdout",
     "output_type": "stream",
     "text": [
      "$a1\n",
      "[1] 3\n",
      "\n",
      "$b2\n",
      "[1] 222\n",
      "\n",
      "$trzeci\n",
      "[1] 1 2 3\n",
      "\n"
     ]
    }
   ],
   "source": [
    "named_l<- list(a1=3, b2=222, trzeci=c(1,2,3))\n",
    "print(named_l)"
   ]
  },
  {
   "cell_type": "code",
   "execution_count": 14,
   "id": "070a82fb",
   "metadata": {
    "execution": {
     "iopub.execute_input": "2022-12-14T09:48:48.090673Z",
     "iopub.status.busy": "2022-12-14T09:48:48.088780Z",
     "iopub.status.idle": "2022-12-14T09:48:48.119879Z",
     "shell.execute_reply": "2022-12-14T09:48:48.116946Z"
    },
    "papermill": {
     "duration": 0.05265,
     "end_time": "2022-12-14T09:48:48.123302",
     "exception": false,
     "start_time": "2022-12-14T09:48:48.070652",
     "status": "completed"
    },
    "tags": []
   },
   "outputs": [
    {
     "data": {
      "text/html": [
       "<style>\n",
       ".list-inline {list-style: none; margin:0; padding: 0}\n",
       ".list-inline>li {display: inline-block}\n",
       ".list-inline>li:not(:last-child)::after {content: \"\\00b7\"; padding: 0 .5ex}\n",
       "</style>\n",
       "<ol class=list-inline><li>'a1'</li><li>'b2'</li><li>'trzeci'</li></ol>\n"
      ],
      "text/latex": [
       "\\begin{enumerate*}\n",
       "\\item 'a1'\n",
       "\\item 'b2'\n",
       "\\item 'trzeci'\n",
       "\\end{enumerate*}\n"
      ],
      "text/markdown": [
       "1. 'a1'\n",
       "2. 'b2'\n",
       "3. 'trzeci'\n",
       "\n",
       "\n"
      ],
      "text/plain": [
       "[1] \"a1\"     \"b2\"     \"trzeci\""
      ]
     },
     "metadata": {},
     "output_type": "display_data"
    }
   ],
   "source": [
    "names(named_l)"
   ]
  },
  {
   "cell_type": "code",
   "execution_count": 15,
   "id": "95d17ccb",
   "metadata": {
    "execution": {
     "iopub.execute_input": "2022-12-14T09:48:48.160787Z",
     "iopub.status.busy": "2022-12-14T09:48:48.158468Z",
     "iopub.status.idle": "2022-12-14T09:48:48.185839Z",
     "shell.execute_reply": "2022-12-14T09:48:48.183613Z"
    },
    "papermill": {
     "duration": 0.05028,
     "end_time": "2022-12-14T09:48:48.188645",
     "exception": false,
     "start_time": "2022-12-14T09:48:48.138365",
     "status": "completed"
    },
    "tags": []
   },
   "outputs": [
    {
     "data": {
      "text/html": [
       "<style>\n",
       ".list-inline {list-style: none; margin:0; padding: 0}\n",
       ".list-inline>li {display: inline-block}\n",
       ".list-inline>li:not(:last-child)::after {content: \"\\00b7\"; padding: 0 .5ex}\n",
       "</style>\n",
       "<ol class=list-inline><li>1</li><li>2</li><li>3</li></ol>\n"
      ],
      "text/latex": [
       "\\begin{enumerate*}\n",
       "\\item 1\n",
       "\\item 2\n",
       "\\item 3\n",
       "\\end{enumerate*}\n"
      ],
      "text/markdown": [
       "1. 1\n",
       "2. 2\n",
       "3. 3\n",
       "\n",
       "\n"
      ],
      "text/plain": [
       "[1] 1 2 3"
      ]
     },
     "metadata": {},
     "output_type": "display_data"
    },
    {
     "data": {
      "text/html": [
       "3"
      ],
      "text/latex": [
       "3"
      ],
      "text/markdown": [
       "3"
      ],
      "text/plain": [
       "[1] 3"
      ]
     },
     "metadata": {},
     "output_type": "display_data"
    }
   ],
   "source": [
    "named_l[[\"trzeci\"]]\n",
    "named_l[[\"a1\"]]"
   ]
  },
  {
   "cell_type": "code",
   "execution_count": 16,
   "id": "94e1193e",
   "metadata": {
    "execution": {
     "iopub.execute_input": "2022-12-14T09:48:48.229963Z",
     "iopub.status.busy": "2022-12-14T09:48:48.227882Z",
     "iopub.status.idle": "2022-12-14T09:48:48.249666Z",
     "shell.execute_reply": "2022-12-14T09:48:48.246922Z"
    },
    "papermill": {
     "duration": 0.047878,
     "end_time": "2022-12-14T09:48:48.255178",
     "exception": false,
     "start_time": "2022-12-14T09:48:48.207300",
     "status": "completed"
    },
    "tags": []
   },
   "outputs": [
    {
     "name": "stdout",
     "output_type": "stream",
     "text": [
      "$`nowa nazwa1`\n",
      "[1] 3\n",
      "\n",
      "$`nowa nazwa2`\n",
      "[1] 222\n",
      "\n",
      "$`nowa nazwa 3`\n",
      "[1] 1 2 3\n",
      "\n"
     ]
    }
   ],
   "source": [
    "names(named_l)<- c(\"nowa nazwa1\", \"nowa nazwa2\", \"nowa nazwa 3\")\n",
    "print(named_l)"
   ]
  },
  {
   "cell_type": "markdown",
   "id": "f6776ad8",
   "metadata": {},
   "source": [
    "## Indeksowanie, 2 sposoby"
   ]
  },
  {
   "cell_type": "markdown",
   "id": "0066c73c",
   "metadata": {
    "papermill": {
     "duration": 0.012616,
     "end_time": "2022-12-14T09:48:46.896320",
     "exception": false,
     "start_time": "2022-12-14T09:48:46.883704",
     "status": "completed"
    },
    "tags": []
   },
   "source": [
    "`x[[i]]` - zawsze zwróci `i`-ty element `x`\n",
    "\n",
    "`x[i]` - zwróci `i`-ty element `x` w \"opakowaniu\" (dla `x` wektora atomicznegp będzie to wektor atomiczny, ale dla dla listy- zwróci listę z jednym elementem)"
   ]
  },
  {
   "cell_type": "code",
   "execution_count": 2,
   "id": "6138db1c",
   "metadata": {
    "execution": {
     "iopub.execute_input": "2022-12-14T09:48:46.961327Z",
     "iopub.status.busy": "2022-12-14T09:48:46.922674Z",
     "iopub.status.idle": "2022-12-14T09:48:47.029531Z",
     "shell.execute_reply": "2022-12-14T09:48:47.027400Z"
    },
    "papermill": {
     "duration": 0.124334,
     "end_time": "2022-12-14T09:48:47.032595",
     "exception": false,
     "start_time": "2022-12-14T09:48:46.908261",
     "status": "completed"
    },
    "tags": []
   },
   "outputs": [
    {
     "data": {
      "text/html": [
       "<ol class=list-inline>\n",
       "\t<li>FALSE</li>\n",
       "\t<li>FALSE</li>\n",
       "\t<li>TRUE</li>\n",
       "\t<li>TRUE</li>\n",
       "</ol>\n"
      ],
      "text/latex": [
       "\\begin{enumerate*}\n",
       "\\item FALSE\n",
       "\\item FALSE\n",
       "\\item TRUE\n",
       "\\item TRUE\n",
       "\\end{enumerate*}\n"
      ],
      "text/markdown": [
       "1. FALSE\n",
       "2. FALSE\n",
       "3. TRUE\n",
       "4. TRUE\n",
       "\n",
       "\n"
      ],
      "text/plain": [
       "[1] FALSE FALSE  TRUE  TRUE"
      ]
     },
     "metadata": {},
     "output_type": "display_data"
    },
    {
     "data": {
      "text/html": [
       "'c'"
      ],
      "text/latex": [
       "'c'"
      ],
      "text/markdown": [
       "'c'"
      ],
      "text/plain": [
       "[1] \"c\""
      ]
     },
     "metadata": {},
     "output_type": "display_data"
    },
    {
     "data": {
      "text/html": [
       "<ol>\n",
       "\t<li>'c'</li>\n",
       "</ol>\n"
      ],
      "text/latex": [
       "\\begin{enumerate}\n",
       "\\item 'c'\n",
       "\\end{enumerate}\n"
      ],
      "text/markdown": [
       "1. 'c'\n",
       "\n",
       "\n"
      ],
      "text/plain": [
       "[[1]]\n",
       "[1] \"c\"\n"
      ]
     },
     "metadata": {},
     "output_type": "display_data"
    }
   ],
   "source": [
    "\n",
    "x2= list(\"a\",\"b\",\"c\")\n",
    "x2[[3]]\n",
    "x2[3]"
   ]
  },
  {
   "cell_type": "markdown",
   "id": "37af885e",
   "metadata": {
    "papermill": {
     "duration": 0.015431,
     "end_time": "2022-12-14T09:48:47.768411",
     "exception": false,
     "start_time": "2022-12-14T09:48:47.752980",
     "status": "completed"
    },
    "tags": []
   },
   "source": [
    "### Indeksowanie wektorów i list\n",
    "\n",
    "`x[[i]]` -- weź tylko element na pozycji $i$\n",
    "\n",
    "`x[i]` -- weź element na pozycji $i$ z opakowaniem (dla wektora atomicznego, będzie to nadal wektor atomiczny, dla listy- lista z jednym elementem)\n",
    "\n",
    "`x[i:j]` -- weź elementy od `i` do `j` opakowane np. listę od i do j, jeżeli x jest listą."
   ]
  },
  {
   "cell_type": "code",
   "execution_count": 11,
   "id": "20988f44",
   "metadata": {
    "execution": {
     "iopub.execute_input": "2022-12-14T09:48:47.802220Z",
     "iopub.status.busy": "2022-12-14T09:48:47.800503Z",
     "iopub.status.idle": "2022-12-14T09:48:47.882133Z",
     "shell.execute_reply": "2022-12-14T09:48:47.879555Z"
    },
    "papermill": {
     "duration": 0.102913,
     "end_time": "2022-12-14T09:48:47.885888",
     "exception": false,
     "start_time": "2022-12-14T09:48:47.782975",
     "status": "completed"
    },
    "tags": []
   },
   "outputs": [
    {
     "data": {
      "text/html": [
       "<ol>\n",
       "\t<li>1</li>\n",
       "</ol>\n"
      ],
      "text/latex": [
       "\\begin{enumerate}\n",
       "\\item 1\n",
       "\\end{enumerate}\n"
      ],
      "text/markdown": [
       "1. 1\n",
       "\n",
       "\n"
      ],
      "text/plain": [
       "[[1]]\n",
       "[1] 1\n"
      ]
     },
     "metadata": {},
     "output_type": "display_data"
    },
    {
     "data": {
      "text/html": [
       "1"
      ],
      "text/latex": [
       "1"
      ],
      "text/markdown": [
       "1"
      ],
      "text/plain": [
       "[1] 1"
      ]
     },
     "metadata": {},
     "output_type": "display_data"
    }
   ],
   "source": [
    "list_1[1]\n",
    "list_1[[1]]\n"
   ]
  },
  {
   "cell_type": "code",
   "execution_count": 12,
   "id": "73daa61e",
   "metadata": {
    "execution": {
     "iopub.execute_input": "2022-12-14T09:48:47.921398Z",
     "iopub.status.busy": "2022-12-14T09:48:47.919605Z",
     "iopub.status.idle": "2022-12-14T09:48:47.956873Z",
     "shell.execute_reply": "2022-12-14T09:48:47.954175Z"
    },
    "papermill": {
     "duration": 0.058888,
     "end_time": "2022-12-14T09:48:47.960889",
     "exception": false,
     "start_time": "2022-12-14T09:48:47.902001",
     "status": "completed"
    },
    "tags": []
   },
   "outputs": [
    {
     "name": "stdout",
     "output_type": "stream",
     "text": [
      "[[1]]\n",
      "[1] 1\n",
      "\n",
      "[[2]]\n",
      "[1] \"a\"\n",
      "\n",
      "[[3]]\n",
      "[1] \"b\"\n",
      "\n",
      "[[4]]\n",
      "[1] 2\n",
      "\n",
      "[[5]]\n",
      "[[5]][[1]]\n",
      "[1] 1\n",
      "\n",
      "[[5]][[2]]\n",
      "[1] 1\n",
      "\n",
      "[[5]][[3]]\n",
      "[1] 2\n",
      "\n",
      "\n",
      "[1] \"podlista elementów list_1 od 4 do 5\"\n"
     ]
    },
    {
     "data": {
      "text/html": [
       "<ol>\n",
       "\t<li>2</li>\n",
       "\t<li><ol>\n",
       "\t<li>1</li>\n",
       "\t<li>1</li>\n",
       "\t<li>2</li>\n",
       "</ol>\n",
       "</li>\n",
       "</ol>\n"
      ],
      "text/latex": [
       "\\begin{enumerate}\n",
       "\\item 2\n",
       "\\item \\begin{enumerate}\n",
       "\\item 1\n",
       "\\item 1\n",
       "\\item 2\n",
       "\\end{enumerate}\n",
       "\n",
       "\\end{enumerate}\n"
      ],
      "text/markdown": [
       "1. 2\n",
       "2. 1. 1\n",
       "2. 1\n",
       "3. 2\n",
       "\n",
       "\n",
       "\n",
       "\n",
       "\n"
      ],
      "text/plain": [
       "[[1]]\n",
       "[1] 2\n",
       "\n",
       "[[2]]\n",
       "[[2]][[1]]\n",
       "[1] 1\n",
       "\n",
       "[[2]][[2]]\n",
       "[1] 1\n",
       "\n",
       "[[2]][[3]]\n",
       "[1] 2\n",
       "\n"
      ]
     },
     "metadata": {},
     "output_type": "display_data"
    }
   ],
   "source": [
    "print(list_1)\n",
    "print(\"podlista elementów list_1 od 4 do 5\")\n",
    "list_1[4:5]"
   ]
  },
  {
   "cell_type": "markdown",
   "id": "da06efbe",
   "metadata": {
    "papermill": {
     "duration": 0.013847,
     "end_time": "2022-12-14T09:48:47.157653",
     "exception": false,
     "start_time": "2022-12-14T09:48:47.143806",
     "status": "completed"
    },
    "tags": []
   },
   "source": [
    "Wektory wartości logicznych mogą służyć do indeksowania (poniżej- tylko element z indeksem nr 3). Indeksować poprzez wektor wartości logicznych można zarówno listy jak i wektory atomiczne (jak i struktury wielowymiarowe)."
   ]
  },
  {
   "cell_type": "code",
   "execution_count": 4,
   "id": "74416593",
   "metadata": {
    "execution": {
     "iopub.execute_input": "2022-12-14T09:48:47.187484Z",
     "iopub.status.busy": "2022-12-14T09:48:47.185742Z",
     "iopub.status.idle": "2022-12-14T09:48:47.210358Z",
     "shell.execute_reply": "2022-12-14T09:48:47.208288Z"
    },
    "papermill": {
     "duration": 0.04312,
     "end_time": "2022-12-14T09:48:47.214003",
     "exception": false,
     "start_time": "2022-12-14T09:48:47.170883",
     "status": "completed"
    },
    "tags": []
   },
   "outputs": [
    {
     "data": {
      "text/html": [
       "3"
      ],
      "text/latex": [
       "3"
      ],
      "text/markdown": [
       "3"
      ],
      "text/plain": [
       "[1] 3"
      ]
     },
     "metadata": {},
     "output_type": "display_data"
    }
   ],
   "source": [
    "x_logical= c(FALSE,FALSE,TRUE,FALSE,\n",
    "             FALSE,FALSE,FALSE,FALSE)\n",
    "\n",
    "big_x[x_logical]"
   ]
  },
  {
   "cell_type": "markdown",
   "id": "7f4bd383",
   "metadata": {
    "papermill": {
     "duration": 0.014018,
     "end_time": "2022-12-14T09:48:47.241287",
     "exception": false,
     "start_time": "2022-12-14T09:48:47.227269",
     "status": "completed"
    },
    "tags": []
   },
   "source": [
    "test logiczny na wektorze wytworzy wektor wartości logicznych (testowany jest warunek element-po-elemencie)"
   ]
  },
  {
   "cell_type": "code",
   "execution_count": 5,
   "id": "c913b849",
   "metadata": {
    "execution": {
     "iopub.execute_input": "2022-12-14T09:48:47.274072Z",
     "iopub.status.busy": "2022-12-14T09:48:47.271390Z",
     "iopub.status.idle": "2022-12-14T09:48:47.323151Z",
     "shell.execute_reply": "2022-12-14T09:48:47.321052Z"
    },
    "papermill": {
     "duration": 0.071813,
     "end_time": "2022-12-14T09:48:47.326400",
     "exception": false,
     "start_time": "2022-12-14T09:48:47.254587",
     "status": "completed"
    },
    "tags": []
   },
   "outputs": [
    {
     "name": "stdout",
     "output_type": "stream",
     "text": [
      "[1]  TRUE  TRUE  TRUE FALSE FALSE FALSE FALSE FALSE\n"
     ]
    },
    {
     "data": {
      "text/html": [
       "<style>\n",
       ".list-inline {list-style: none; margin:0; padding: 0}\n",
       ".list-inline>li {display: inline-block}\n",
       ".list-inline>li:not(:last-child)::after {content: \"\\00b7\"; padding: 0 .5ex}\n",
       "</style>\n",
       "<ol class=list-inline><li>1</li><li>2</li><li>3</li></ol>\n"
      ],
      "text/latex": [
       "\\begin{enumerate*}\n",
       "\\item 1\n",
       "\\item 2\n",
       "\\item 3\n",
       "\\end{enumerate*}\n"
      ],
      "text/markdown": [
       "1. 1\n",
       "2. 2\n",
       "3. 3\n",
       "\n",
       "\n"
      ],
      "text/plain": [
       "[1] 1 2 3"
      ]
     },
     "metadata": {},
     "output_type": "display_data"
    },
    {
     "name": "stdout",
     "output_type": "stream",
     "text": [
      "[1] 1 2 3 4 5 6 7 8\n",
      "[1] 8 7 6 5 4 3 2 1\n",
      "[1]  TRUE  TRUE  TRUE  TRUE FALSE FALSE FALSE FALSE\n"
     ]
    }
   ],
   "source": [
    "print(big_x < 4)\n",
    "logical_test<- (big_x < 4)\n",
    "big_x[logical_test] #wybierz te elementy które są mniejsze od 4\n",
    "big_x_reversed<- rev(big_x)  # funkcja rev <- odwraca wektor\n",
    "print(big_x)\n",
    "print(big_x_reversed)\n",
    "print(big_x < big_x_reversed)"
   ]
  },
  {
   "cell_type": "markdown",
   "id": "e2f778c6",
   "metadata": {
    "papermill": {
     "duration": 0.01476,
     "end_time": "2022-12-14T09:48:47.356254",
     "exception": false,
     "start_time": "2022-12-14T09:48:47.341494",
     "status": "completed"
    },
    "tags": []
   },
   "source": [
    "## operator %in%"
   ]
  },
  {
   "cell_type": "code",
   "execution_count": 6,
   "id": "6f040694",
   "metadata": {
    "execution": {
     "iopub.execute_input": "2022-12-14T09:48:47.390459Z",
     "iopub.status.busy": "2022-12-14T09:48:47.388289Z",
     "iopub.status.idle": "2022-12-14T09:48:47.415746Z",
     "shell.execute_reply": "2022-12-14T09:48:47.413609Z"
    },
    "papermill": {
     "duration": 0.047299,
     "end_time": "2022-12-14T09:48:47.418990",
     "exception": false,
     "start_time": "2022-12-14T09:48:47.371691",
     "status": "completed"
    },
    "tags": []
   },
   "outputs": [
    {
     "data": {
      "text/html": [
       "FALSE"
      ],
      "text/latex": [
       "FALSE"
      ],
      "text/markdown": [
       "FALSE"
      ],
      "text/plain": [
       "[1] FALSE"
      ]
     },
     "metadata": {},
     "output_type": "display_data"
    },
    {
     "data": {
      "text/html": [
       "TRUE"
      ],
      "text/latex": [
       "TRUE"
      ],
      "text/markdown": [
       "TRUE"
      ],
      "text/plain": [
       "[1] TRUE"
      ]
     },
     "metadata": {},
     "output_type": "display_data"
    }
   ],
   "source": [
    "1 %in% c(2:10)\n",
    "1 %in% c(1:10)"
   ]
  },
  {
   "cell_type": "markdown",
   "id": "2f01ff13",
   "metadata": {
    "papermill": {
     "duration": 0.016513,
     "end_time": "2022-12-14T09:48:47.451187",
     "exception": false,
     "start_time": "2022-12-14T09:48:47.434674",
     "status": "completed"
    },
    "tags": []
   },
   "source": [
    "## Wartości brakujące"
   ]
  },
  {
   "cell_type": "code",
   "execution_count": 9,
   "id": "fa4e5874",
   "metadata": {
    "execution": {
     "iopub.execute_input": "2022-12-14T09:48:47.484640Z",
     "iopub.status.busy": "2022-12-14T09:48:47.482486Z",
     "iopub.status.idle": "2022-12-14T09:48:47.512715Z",
     "shell.execute_reply": "2022-12-14T09:48:47.509562Z"
    },
    "papermill": {
     "duration": 0.049745,
     "end_time": "2022-12-14T09:48:47.516113",
     "exception": false,
     "start_time": "2022-12-14T09:48:47.466368",
     "status": "completed"
    },
    "tags": []
   },
   "outputs": [],
   "source": [
    "#test czy x jest NULL\n",
    "# NULL to odpowiednik None z Pythona\n",
    "X<-NULL\n"
   ]
  },
  {
   "cell_type": "code",
   "execution_count": 10,
   "id": "bb867618",
   "metadata": {},
   "outputs": [
    {
     "data": {
      "text/html": [
       "TRUE"
      ],
      "text/latex": [
       "TRUE"
      ],
      "text/markdown": [
       "TRUE"
      ],
      "text/plain": [
       "[1] TRUE"
      ]
     },
     "metadata": {},
     "output_type": "display_data"
    }
   ],
   "source": [
    "is.null(X) # dobrze"
   ]
  },
  {
   "cell_type": "code",
   "execution_count": 11,
   "id": "0397279f",
   "metadata": {},
   "outputs": [
    {
     "data": {
      "text/html": [],
      "text/latex": [],
      "text/markdown": [],
      "text/plain": [
       "logical(0)"
      ]
     },
     "metadata": {},
     "output_type": "display_data"
    }
   ],
   "source": [
    "X== NULL # ŹLE"
   ]
  },
  {
   "cell_type": "code",
   "execution_count": 12,
   "id": "b99c8f1a",
   "metadata": {
    "execution": {
     "iopub.execute_input": "2022-12-14T09:48:47.550548Z",
     "iopub.status.busy": "2022-12-14T09:48:47.548643Z",
     "iopub.status.idle": "2022-12-14T09:48:47.579912Z",
     "shell.execute_reply": "2022-12-14T09:48:47.577240Z"
    },
    "papermill": {
     "duration": 0.05239,
     "end_time": "2022-12-14T09:48:47.583849",
     "exception": false,
     "start_time": "2022-12-14T09:48:47.531459",
     "status": "completed"
    },
    "tags": []
   },
   "outputs": [
    {
     "data": {
      "text/html": [
       "<ol class=list-inline>\n",
       "\t<li>FALSE</li>\n",
       "\t<li>FALSE</li>\n",
       "\t<li>TRUE</li>\n",
       "</ol>\n"
      ],
      "text/latex": [
       "\\begin{enumerate*}\n",
       "\\item FALSE\n",
       "\\item FALSE\n",
       "\\item TRUE\n",
       "\\end{enumerate*}\n"
      ],
      "text/markdown": [
       "1. FALSE\n",
       "2. FALSE\n",
       "3. TRUE\n",
       "\n",
       "\n"
      ],
      "text/plain": [
       "[1] FALSE FALSE  TRUE"
      ]
     },
     "metadata": {},
     "output_type": "display_data"
    }
   ],
   "source": [
    "#NA <- wartość brakująca, zazwyczaj oznacza BRAK DANYCH w wektorze liczbowym\n",
    "vec_n<- c(1,2,NA)\n",
    "is.na(vec_n)"
   ]
  },
  {
   "cell_type": "code",
   "execution_count": 13,
   "id": "f93b076c",
   "metadata": {},
   "outputs": [
    {
     "data": {
      "text/html": [
       "<ol class=list-inline>\n",
       "\t<li>FALSE</li>\n",
       "\t<li>FALSE</li>\n",
       "\t<li>TRUE</li>\n",
       "</ol>\n"
      ],
      "text/latex": [
       "\\begin{enumerate*}\n",
       "\\item FALSE\n",
       "\\item FALSE\n",
       "\\item TRUE\n",
       "\\end{enumerate*}\n"
      ],
      "text/markdown": [
       "1. FALSE\n",
       "2. FALSE\n",
       "3. TRUE\n",
       "\n",
       "\n"
      ],
      "text/plain": [
       "[1] FALSE FALSE  TRUE"
      ]
     },
     "metadata": {},
     "output_type": "display_data"
    }
   ],
   "source": [
    "is.na(vec_n) # dobrze"
   ]
  },
  {
   "cell_type": "code",
   "execution_count": 14,
   "id": "3b36d258",
   "metadata": {},
   "outputs": [
    {
     "data": {
      "text/html": [
       "<ol class=list-inline>\n",
       "\t<li>&lt;NA&gt;</li>\n",
       "\t<li>&lt;NA&gt;</li>\n",
       "\t<li>&lt;NA&gt;</li>\n",
       "</ol>\n"
      ],
      "text/latex": [
       "\\begin{enumerate*}\n",
       "\\item <NA>\n",
       "\\item <NA>\n",
       "\\item <NA>\n",
       "\\end{enumerate*}\n"
      ],
      "text/markdown": [
       "1. &lt;NA&gt;\n",
       "2. &lt;NA&gt;\n",
       "3. &lt;NA&gt;\n",
       "\n",
       "\n"
      ],
      "text/plain": [
       "[1] NA NA NA"
      ]
     },
     "metadata": {},
     "output_type": "display_data"
    }
   ],
   "source": [
    "vec_n == NA # ŹLE"
   ]
  },
  {
   "cell_type": "markdown",
   "id": "3c96c3f3",
   "metadata": {
    "papermill": {
     "duration": 0.026033,
     "end_time": "2022-12-14T09:48:48.299292",
     "exception": false,
     "start_time": "2022-12-14T09:48:48.273259",
     "status": "completed"
    },
    "tags": []
   },
   "source": [
    "## funkcje, pętle i instrukcje warunkowe w R"
   ]
  },
  {
   "cell_type": "code",
   "execution_count": 17,
   "id": "d104be4f",
   "metadata": {
    "execution": {
     "iopub.execute_input": "2022-12-14T09:48:48.336787Z",
     "iopub.status.busy": "2022-12-14T09:48:48.335014Z",
     "iopub.status.idle": "2022-12-14T09:48:48.357751Z",
     "shell.execute_reply": "2022-12-14T09:48:48.355819Z"
    },
    "papermill": {
     "duration": 0.045868,
     "end_time": "2022-12-14T09:48:48.361776",
     "exception": false,
     "start_time": "2022-12-14T09:48:48.315908",
     "status": "completed"
    },
    "tags": []
   },
   "outputs": [],
   "source": [
    "funkcja1<- function(x1, x2)\n",
    "    {\n",
    "        if (length(x1)!= length(x2)) stop(\"nie można wykonać następnego testu bo długości x1 i x2 się różnią\")\n",
    "        if (sum(x1 == x2)==length(x1) ) # x1 == x2 <- wektor wartości logicznych TRUE FALSE\n",
    "            {                           # sum(x1==x2) <- suma wartości TRUE FALSE (TRUE zamieniamy na 1, FALSE na 0)\n",
    "                                        # sum(x1==x2) == length(x1) <- TRUE, tylko gdy są 3 wartości TRUE,\n",
    "                                        # czyli x1 i x2 są równe na każdej pozycji.\n",
    "            print(\" x1 i x2 są równe\")\n",
    "            print(\"coś\")\n",
    "            return(c(1,2,3))\n",
    "            }\n",
    "        else\n",
    "            {\n",
    "            #print(seq_along(x)\n",
    "            for (j in seq_along(x)) #seq_along(x) <- wektor wszystkich indeksów jakie ma x\n",
    "                {\n",
    "                print(x1[j])}\n",
    "            return(c(4,5,6))\n",
    "            \n",
    "            }\n",
    "                \n",
    "            \n",
    "    }"
   ]
  },
  {
   "cell_type": "code",
   "execution_count": 20,
   "id": "fdeba2bd",
   "metadata": {
    "execution": {
     "iopub.execute_input": "2022-12-14T09:48:48.602474Z",
     "iopub.status.busy": "2022-12-14T09:48:48.599907Z",
     "iopub.status.idle": "2022-12-14T09:48:48.626754Z",
     "shell.execute_reply": "2022-12-14T09:48:48.624613Z"
    },
    "papermill": {
     "duration": 0.051341,
     "end_time": "2022-12-14T09:48:48.630179",
     "exception": false,
     "start_time": "2022-12-14T09:48:48.578838",
     "status": "completed"
    },
    "scrolled": false,
    "tags": []
   },
   "outputs": [
    {
     "name": "stdout",
     "output_type": "stream",
     "text": [
      "[1] 1\n",
      "[1] 2\n",
      "[1] 3\n"
     ]
    },
    {
     "data": {
      "text/html": [
       "<style>\n",
       ".list-inline {list-style: none; margin:0; padding: 0}\n",
       ".list-inline>li {display: inline-block}\n",
       ".list-inline>li:not(:last-child)::after {content: \"\\00b7\"; padding: 0 .5ex}\n",
       "</style>\n",
       "<ol class=list-inline><li>4</li><li>5</li><li>6</li></ol>\n"
      ],
      "text/latex": [
       "\\begin{enumerate*}\n",
       "\\item 4\n",
       "\\item 5\n",
       "\\item 6\n",
       "\\end{enumerate*}\n"
      ],
      "text/markdown": [
       "1. 4\n",
       "2. 5\n",
       "3. 6\n",
       "\n",
       "\n"
      ],
      "text/plain": [
       "[1] 4 5 6"
      ]
     },
     "metadata": {},
     "output_type": "display_data"
    }
   ],
   "source": [
    "funkcja1(c(1,2,3),c(1,2,4))"
   ]
  },
  {
   "cell_type": "markdown",
   "id": "07cd04f0",
   "metadata": {},
   "source": [
    "#### seq_along"
   ]
  },
  {
   "cell_type": "code",
   "execution_count": 19,
   "id": "65f55623",
   "metadata": {
    "execution": {
     "iopub.execute_input": "2022-12-14T09:48:48.522213Z",
     "iopub.status.busy": "2022-12-14T09:48:48.520206Z",
     "iopub.status.idle": "2022-12-14T09:48:48.558643Z",
     "shell.execute_reply": "2022-12-14T09:48:48.551594Z"
    },
    "papermill": {
     "duration": 0.062789,
     "end_time": "2022-12-14T09:48:48.562199",
     "exception": false,
     "start_time": "2022-12-14T09:48:48.499410",
     "status": "completed"
    },
    "tags": []
   },
   "outputs": [
    {
     "name": "stdout",
     "output_type": "stream",
     "text": [
      "integer(0)\n"
     ]
    },
    {
     "data": {
      "text/html": [
       "<style>\n",
       ".list-inline {list-style: none; margin:0; padding: 0}\n",
       ".list-inline>li {display: inline-block}\n",
       ".list-inline>li:not(:last-child)::after {content: \"\\00b7\"; padding: 0 .5ex}\n",
       "</style>\n",
       "<ol class=list-inline><li>1</li><li>2</li><li>3</li></ol>\n"
      ],
      "text/latex": [
       "\\begin{enumerate*}\n",
       "\\item 1\n",
       "\\item 2\n",
       "\\item 3\n",
       "\\end{enumerate*}\n"
      ],
      "text/markdown": [
       "1. 1\n",
       "2. 2\n",
       "3. 3\n",
       "\n",
       "\n"
      ],
      "text/plain": [
       "[1] 1 2 3"
      ]
     },
     "metadata": {},
     "output_type": "display_data"
    }
   ],
   "source": [
    "v1<-c()\n",
    "print(seq_along(v1))\n",
    "v1<-c(7,6,78)\n",
    "seq_along(v1)"
   ]
  },
  {
   "cell_type": "markdown",
   "id": "36402151",
   "metadata": {},
   "source": [
    "#### rep"
   ]
  },
  {
   "cell_type": "code",
   "execution_count": 15,
   "id": "4d772d3c",
   "metadata": {
    "execution": {
     "iopub.execute_input": "2022-12-14T09:48:48.668037Z",
     "iopub.status.busy": "2022-12-14T09:48:48.665708Z",
     "iopub.status.idle": "2022-12-14T09:48:48.686785Z",
     "shell.execute_reply": "2022-12-14T09:48:48.684701Z"
    },
    "papermill": {
     "duration": 0.042535,
     "end_time": "2022-12-14T09:48:48.690354",
     "exception": false,
     "start_time": "2022-12-14T09:48:48.647819",
     "status": "completed"
    },
    "tags": []
   },
   "outputs": [
    {
     "data": {
      "text/html": [
       "<ol class=list-inline>\n",
       "\t<li>'a'</li>\n",
       "\t<li>'b'</li>\n",
       "\t<li>'a'</li>\n",
       "\t<li>'b'</li>\n",
       "</ol>\n"
      ],
      "text/latex": [
       "\\begin{enumerate*}\n",
       "\\item 'a'\n",
       "\\item 'b'\n",
       "\\item 'a'\n",
       "\\item 'b'\n",
       "\\end{enumerate*}\n"
      ],
      "text/markdown": [
       "1. 'a'\n",
       "2. 'b'\n",
       "3. 'a'\n",
       "4. 'b'\n",
       "\n",
       "\n"
      ],
      "text/plain": [
       "[1] \"a\" \"b\" \"a\" \"b\""
      ]
     },
     "metadata": {},
     "output_type": "display_data"
    },
    {
     "data": {
      "text/html": [
       "<ol class=list-inline>\n",
       "\t<li>'a'</li>\n",
       "\t<li>'a'</li>\n",
       "\t<li>'a'</li>\n",
       "\t<li>'a'</li>\n",
       "\t<li>'b'</li>\n",
       "\t<li>'b'</li>\n",
       "\t<li>'b'</li>\n",
       "\t<li>'b'</li>\n",
       "</ol>\n"
      ],
      "text/latex": [
       "\\begin{enumerate*}\n",
       "\\item 'a'\n",
       "\\item 'a'\n",
       "\\item 'a'\n",
       "\\item 'a'\n",
       "\\item 'b'\n",
       "\\item 'b'\n",
       "\\item 'b'\n",
       "\\item 'b'\n",
       "\\end{enumerate*}\n"
      ],
      "text/markdown": [
       "1. 'a'\n",
       "2. 'a'\n",
       "3. 'a'\n",
       "4. 'a'\n",
       "5. 'b'\n",
       "6. 'b'\n",
       "7. 'b'\n",
       "8. 'b'\n",
       "\n",
       "\n"
      ],
      "text/plain": [
       "[1] \"a\" \"a\" \"a\" \"a\" \"b\" \"b\" \"b\" \"b\""
      ]
     },
     "metadata": {},
     "output_type": "display_data"
    }
   ],
   "source": [
    "rep(c(\"a\",\"b\"),2)\n",
    "rep(c(\"a\",\"b\"),each=4)"
   ]
  },
  {
   "cell_type": "markdown",
   "id": "905cc425",
   "metadata": {
    "papermill": {
     "duration": 0.016453,
     "end_time": "2022-12-14T09:48:48.394544",
     "exception": false,
     "start_time": "2022-12-14T09:48:48.378091",
     "status": "completed"
    },
    "tags": []
   },
   "source": [
    "### lapply\n",
    "\n",
    "`lapply(x, fun, opcjonalne.fun.arg1, opcjonalne.fun.arg2... etc)` - zastosuj funkcję `fun` na każdym elemencie `x` (element-po-elemencie), opcjonalnie z argumentami `opcjonalnie.fun.arg1`, itd... Wyniki wsadź do listy o takiej samej długości co `x`.\n",
    "\n",
    "Funkcje `apply` oraz `sapply` działają podobnie, ale istotne dla `lapply` jest to, że ZAWSZE zwraca listę, zatem łatwo ogarnąć jej stosowanie. "
   ]
  },
  {
   "cell_type": "code",
   "execution_count": 18,
   "id": "39491f55",
   "metadata": {
    "execution": {
     "iopub.execute_input": "2022-12-14T09:48:48.433333Z",
     "iopub.status.busy": "2022-12-14T09:48:48.431094Z",
     "iopub.status.idle": "2022-12-14T09:48:48.477735Z",
     "shell.execute_reply": "2022-12-14T09:48:48.475106Z"
    },
    "papermill": {
     "duration": 0.069633,
     "end_time": "2022-12-14T09:48:48.481552",
     "exception": false,
     "start_time": "2022-12-14T09:48:48.411919",
     "status": "completed"
    },
    "tags": []
   },
   "outputs": [
    {
     "data": {
      "text/html": [
       "<ol>\n",
       "\t<li>1</li>\n",
       "\t<li>'a'</li>\n",
       "\t<li>'b'</li>\n",
       "\t<li>2</li>\n",
       "\t<li><ol>\n",
       "\t<li>1</li>\n",
       "\t<li>1</li>\n",
       "\t<li>2</li>\n",
       "</ol>\n",
       "</li>\n",
       "</ol>\n"
      ],
      "text/latex": [
       "\\begin{enumerate}\n",
       "\\item 1\n",
       "\\item 'a'\n",
       "\\item 'b'\n",
       "\\item 2\n",
       "\\item \\begin{enumerate}\n",
       "\\item 1\n",
       "\\item 1\n",
       "\\item 2\n",
       "\\end{enumerate}\n",
       "\n",
       "\\end{enumerate}\n"
      ],
      "text/markdown": [
       "1. 1\n",
       "2. 'a'\n",
       "3. 'b'\n",
       "4. 2\n",
       "5. 1. 1\n",
       "2. 1\n",
       "3. 2\n",
       "\n",
       "\n",
       "\n",
       "\n",
       "\n"
      ],
      "text/plain": [
       "[[1]]\n",
       "[1] 1\n",
       "\n",
       "[[2]]\n",
       "[1] \"a\"\n",
       "\n",
       "[[3]]\n",
       "[1] \"b\"\n",
       "\n",
       "[[4]]\n",
       "[1] 2\n",
       "\n",
       "[[5]]\n",
       "[[5]][[1]]\n",
       "[1] 1\n",
       "\n",
       "[[5]][[2]]\n",
       "[1] 1\n",
       "\n",
       "[[5]][[3]]\n",
       "[1] 2\n",
       "\n"
      ]
     },
     "metadata": {},
     "output_type": "display_data"
    },
    {
     "data": {
      "text/html": [
       "<ol>\n",
       "\t<li><style>\n",
       ".list-inline {list-style: none; margin:0; padding: 0}\n",
       ".list-inline>li {display: inline-block}\n",
       ".list-inline>li:not(:last-child)::after {content: \"\\00b7\"; padding: 0 .5ex}\n",
       "</style>\n",
       "<ol class=list-inline><li>1</li><li>1</li><li>1</li></ol>\n",
       "</li>\n",
       "\t<li><style>\n",
       ".list-inline {list-style: none; margin:0; padding: 0}\n",
       ".list-inline>li {display: inline-block}\n",
       ".list-inline>li:not(:last-child)::after {content: \"\\00b7\"; padding: 0 .5ex}\n",
       "</style>\n",
       "<ol class=list-inline><li>'a'</li><li>'a'</li><li>'a'</li></ol>\n",
       "</li>\n",
       "\t<li><style>\n",
       ".list-inline {list-style: none; margin:0; padding: 0}\n",
       ".list-inline>li {display: inline-block}\n",
       ".list-inline>li:not(:last-child)::after {content: \"\\00b7\"; padding: 0 .5ex}\n",
       "</style>\n",
       "<ol class=list-inline><li>'b'</li><li>'b'</li><li>'b'</li></ol>\n",
       "</li>\n",
       "\t<li><style>\n",
       ".list-inline {list-style: none; margin:0; padding: 0}\n",
       ".list-inline>li {display: inline-block}\n",
       ".list-inline>li:not(:last-child)::after {content: \"\\00b7\"; padding: 0 .5ex}\n",
       "</style>\n",
       "<ol class=list-inline><li>2</li><li>2</li><li>2</li></ol>\n",
       "</li>\n",
       "\t<li><ol>\n",
       "\t<li>1</li>\n",
       "\t<li>1</li>\n",
       "\t<li>2</li>\n",
       "\t<li>1</li>\n",
       "\t<li>1</li>\n",
       "\t<li>2</li>\n",
       "\t<li>1</li>\n",
       "\t<li>1</li>\n",
       "\t<li>2</li>\n",
       "</ol>\n",
       "</li>\n",
       "</ol>\n"
      ],
      "text/latex": [
       "\\begin{enumerate}\n",
       "\\item \\begin{enumerate*}\n",
       "\\item 1\n",
       "\\item 1\n",
       "\\item 1\n",
       "\\end{enumerate*}\n",
       "\n",
       "\\item \\begin{enumerate*}\n",
       "\\item 'a'\n",
       "\\item 'a'\n",
       "\\item 'a'\n",
       "\\end{enumerate*}\n",
       "\n",
       "\\item \\begin{enumerate*}\n",
       "\\item 'b'\n",
       "\\item 'b'\n",
       "\\item 'b'\n",
       "\\end{enumerate*}\n",
       "\n",
       "\\item \\begin{enumerate*}\n",
       "\\item 2\n",
       "\\item 2\n",
       "\\item 2\n",
       "\\end{enumerate*}\n",
       "\n",
       "\\item \\begin{enumerate}\n",
       "\\item 1\n",
       "\\item 1\n",
       "\\item 2\n",
       "\\item 1\n",
       "\\item 1\n",
       "\\item 2\n",
       "\\item 1\n",
       "\\item 1\n",
       "\\item 2\n",
       "\\end{enumerate}\n",
       "\n",
       "\\end{enumerate}\n"
      ],
      "text/markdown": [
       "1. 1. 1\n",
       "2. 1\n",
       "3. 1\n",
       "\n",
       "\n",
       "\n",
       "2. 1. 'a'\n",
       "2. 'a'\n",
       "3. 'a'\n",
       "\n",
       "\n",
       "\n",
       "3. 1. 'b'\n",
       "2. 'b'\n",
       "3. 'b'\n",
       "\n",
       "\n",
       "\n",
       "4. 1. 2\n",
       "2. 2\n",
       "3. 2\n",
       "\n",
       "\n",
       "\n",
       "5. 1. 1\n",
       "2. 1\n",
       "3. 2\n",
       "4. 1\n",
       "5. 1\n",
       "6. 2\n",
       "7. 1\n",
       "8. 1\n",
       "9. 2\n",
       "\n",
       "\n",
       "\n",
       "\n",
       "\n"
      ],
      "text/plain": [
       "[[1]]\n",
       "[1] 1 1 1\n",
       "\n",
       "[[2]]\n",
       "[1] \"a\" \"a\" \"a\"\n",
       "\n",
       "[[3]]\n",
       "[1] \"b\" \"b\" \"b\"\n",
       "\n",
       "[[4]]\n",
       "[1] 2 2 2\n",
       "\n",
       "[[5]]\n",
       "[[5]][[1]]\n",
       "[1] 1\n",
       "\n",
       "[[5]][[2]]\n",
       "[1] 1\n",
       "\n",
       "[[5]][[3]]\n",
       "[1] 2\n",
       "\n",
       "[[5]][[4]]\n",
       "[1] 1\n",
       "\n",
       "[[5]][[5]]\n",
       "[1] 1\n",
       "\n",
       "[[5]][[6]]\n",
       "[1] 2\n",
       "\n",
       "[[5]][[7]]\n",
       "[1] 1\n",
       "\n",
       "[[5]][[8]]\n",
       "[1] 1\n",
       "\n",
       "[[5]][[9]]\n",
       "[1] 2\n",
       "\n"
      ]
     },
     "metadata": {},
     "output_type": "display_data"
    }
   ],
   "source": [
    "list_1\n",
    "lapply(list_1, rep, 3) # dla kazdego elementu list_1, wykonaj rep z argumentem 3 i wsadz wyniki do listy"
   ]
  },
  {
   "cell_type": "code",
   "execution_count": 22,
   "id": "86a17245",
   "metadata": {
    "execution": {
     "iopub.execute_input": "2022-12-14T09:48:48.728928Z",
     "iopub.status.busy": "2022-12-14T09:48:48.726960Z",
     "iopub.status.idle": "2022-12-14T09:48:48.759497Z",
     "shell.execute_reply": "2022-12-14T09:48:48.757240Z"
    },
    "papermill": {
     "duration": 0.054592,
     "end_time": "2022-12-14T09:48:48.763279",
     "exception": false,
     "start_time": "2022-12-14T09:48:48.708687",
     "status": "completed"
    },
    "tags": []
   },
   "outputs": [
    {
     "name": "stdout",
     "output_type": "stream",
     "text": [
      "[[1]]\n",
      "[1] \"a\" \"a\"\n",
      "\n",
      "[[2]]\n",
      "[1] \"b\" \"b\"\n",
      "\n",
      "[[3]]\n",
      "[1] \"c\" \"c\"\n",
      "\n",
      "[[4]]\n",
      "[1] \"d\" \"d\"\n",
      "\n",
      "[1] \"a\" \"a\" \"b\" \"b\" \"c\" \"c\" \"d\" \"d\"\n"
     ]
    }
   ],
   "source": [
    "V1<- c(\"a\",\"b\",\"c\",\"d\")\n",
    "V1list<-lapply(V1, rep, 2 )\n",
    "print(V1list)\n",
    "V1listunlisted<- unlist(V1list)\n",
    "print(V1listunlisted)"
   ]
  },
  {
   "cell_type": "markdown",
   "id": "0c972a29",
   "metadata": {
    "papermill": {
     "duration": 0.025136,
     "end_time": "2022-12-14T09:48:55.390242",
     "exception": false,
     "start_time": "2022-12-14T09:48:55.365106",
     "status": "completed"
    },
    "tags": []
   },
   "source": [
    "### Inne przydatne funkcje"
   ]
  },
  {
   "cell_type": "code",
   "execution_count": 38,
   "id": "33d38ac7",
   "metadata": {
    "execution": {
     "iopub.execute_input": "2022-12-14T09:48:55.443450Z",
     "iopub.status.busy": "2022-12-14T09:48:55.441658Z",
     "iopub.status.idle": "2022-12-14T09:48:55.486461Z",
     "shell.execute_reply": "2022-12-14T09:48:55.483024Z"
    },
    "papermill": {
     "duration": 0.076787,
     "end_time": "2022-12-14T09:48:55.491073",
     "exception": false,
     "start_time": "2022-12-14T09:48:55.414286",
     "status": "completed"
    },
    "tags": []
   },
   "outputs": [
    {
     "data": {
      "text/html": [
       "0.528493366087787"
      ],
      "text/latex": [
       "0.528493366087787"
      ],
      "text/markdown": [
       "0.528493366087787"
      ],
      "text/plain": [
       "[1] 0.5284934"
      ]
     },
     "metadata": {},
     "output_type": "display_data"
    },
    {
     "data": {
      "text/html": [
       "<strong>25%:</strong> 0.241567858553026"
      ],
      "text/latex": [
       "\\textbf{25\\textbackslash{}\\%:} 0.241567858553026"
      ],
      "text/markdown": [
       "**25%:** 0.241567858553026"
      ],
      "text/plain": [
       "      25% \n",
       "0.2415679 "
      ]
     },
     "metadata": {},
     "output_type": "display_data"
    }
   ],
   "source": [
    "X<-runif(1000) #1000 liczb losowych z zakresu [0,1]\n",
    "median(X)            #== quantile(X,0.5)\n",
    "quantile(X,0.25)"
   ]
  },
  {
   "cell_type": "markdown",
   "id": "9415f367",
   "metadata": {
    "papermill": {
     "duration": 0.017693,
     "end_time": "2022-12-14T09:48:48.880635",
     "exception": false,
     "start_time": "2022-12-14T09:48:48.862942",
     "status": "completed"
    },
    "tags": []
   },
   "source": [
    "# Struktury 2D"
   ]
  },
  {
   "cell_type": "markdown",
   "id": "39f9216a",
   "metadata": {},
   "source": [
    "## Data frame (ramka danych)\n",
    "\n",
    "Pod spodem to lista wektorów tej samej długości, a interpretacja i zamysł jest taki- że to po prostu tablica 2D, gdzie różne kolumny mogą przechowywać różne typy danych. Wtedy, jeden wiersz statystycznie rzecz biorąc opisuje zazwyczaj jedną obserwację, kolumny- poszczególne zmienne."
   ]
  },
  {
   "cell_type": "code",
   "execution_count": 16,
   "id": "d55a0d8c",
   "metadata": {
    "execution": {
     "iopub.execute_input": "2022-12-14T09:48:48.919192Z",
     "iopub.status.busy": "2022-12-14T09:48:48.917479Z",
     "iopub.status.idle": "2022-12-14T09:48:54.126156Z",
     "shell.execute_reply": "2022-12-14T09:48:54.124105Z"
    },
    "papermill": {
     "duration": 5.23234,
     "end_time": "2022-12-14T09:48:54.131213",
     "exception": false,
     "start_time": "2022-12-14T09:48:48.898873",
     "status": "completed"
    },
    "tags": []
   },
   "outputs": [
    {
     "data": {
      "text/html": [
       "<ol class=list-inline>\n",
       "\t<li>3911</li>\n",
       "\t<li>13</li>\n",
       "</ol>\n"
      ],
      "text/latex": [
       "\\begin{enumerate*}\n",
       "\\item 3911\n",
       "\\item 13\n",
       "\\end{enumerate*}\n"
      ],
      "text/markdown": [
       "1. 3911\n",
       "2. 13\n",
       "\n",
       "\n"
      ],
      "text/plain": [
       "[1] 3911   13"
      ]
     },
     "metadata": {},
     "output_type": "display_data"
    }
   ],
   "source": [
    "df<-read.csv(\"https://europepmc.org/journalList?format=csv\") # z poprzednich zajęć z artykułami\n",
    "dim(df) # obiekt 2 wymiarowy \n",
    "# n_wierszy n_kolumn"
   ]
  },
  {
   "cell_type": "code",
   "execution_count": 17,
   "id": "3b55daec",
   "metadata": {
    "execution": {
     "iopub.execute_input": "2022-12-14T09:48:54.168106Z",
     "iopub.status.busy": "2022-12-14T09:48:54.166434Z",
     "iopub.status.idle": "2022-12-14T09:48:54.199801Z",
     "shell.execute_reply": "2022-12-14T09:48:54.197303Z"
    },
    "papermill": {
     "duration": 0.056451,
     "end_time": "2022-12-14T09:48:54.203375",
     "exception": false,
     "start_time": "2022-12-14T09:48:54.146924",
     "status": "completed"
    },
    "tags": []
   },
   "outputs": [
    {
     "data": {
      "text/html": [
       "<table>\n",
       "<thead><tr><th scope=col>Journal.title</th><th scope=col>NLM.TA</th><th scope=col>pISSN</th><th scope=col>eISSN</th><th scope=col>Publisher</th></tr></thead>\n",
       "<tbody>\n",
       "\t<tr><td>3 Biotech                                        </td><td>3 Biotech                                        </td><td>2190-572X                                        </td><td>2190-5738                                        </td><td>Springer                                         </td></tr>\n",
       "\t<tr><td>3D Printing in Medicine                          </td><td>3D Print Med                                     </td><td>                                                 </td><td>2365-6271                                        </td><td>BioMed Central                                   </td></tr>\n",
       "\t<tr><td>AACE Clinical Case Reports                       </td><td>AACE Clin Case Rep                               </td><td>                                                 </td><td>2376-0605                                        </td><td>American Association of Clinical Endocrinology   </td></tr>\n",
       "\t<tr><td>The AAPS Journal                                 </td><td>AAPS J                                           </td><td>                                                 </td><td>1550-7416                                        </td><td>American Association of Pharmaceutical Scientists</td></tr>\n",
       "\t<tr><td>AAPS PharmSci                                    </td><td>AAPS PharmSci                                    </td><td>                                                 </td><td>1522-1059                                        </td><td>American Association of Pharmaceutical Scientists</td></tr>\n",
       "</tbody>\n",
       "</table>\n"
      ],
      "text/latex": [
       "\\begin{tabular}{r|lllll}\n",
       " Journal.title & NLM.TA & pISSN & eISSN & Publisher\\\\\n",
       "\\hline\n",
       "\t 3 Biotech                                         & 3 Biotech                                         & 2190-572X                                         & 2190-5738                                         & Springer                                         \\\\\n",
       "\t 3D Printing in Medicine                           & 3D Print Med                                      &                                                   & 2365-6271                                         & BioMed Central                                   \\\\\n",
       "\t AACE Clinical Case Reports                        & AACE Clin Case Rep                                &                                                   & 2376-0605                                         & American Association of Clinical Endocrinology   \\\\\n",
       "\t The AAPS Journal                                  & AAPS J                                            &                                                   & 1550-7416                                         & American Association of Pharmaceutical Scientists\\\\\n",
       "\t AAPS PharmSci                                     & AAPS PharmSci                                     &                                                   & 1522-1059                                         & American Association of Pharmaceutical Scientists\\\\\n",
       "\\end{tabular}\n"
      ],
      "text/markdown": [
       "\n",
       "| Journal.title | NLM.TA | pISSN | eISSN | Publisher |\n",
       "|---|---|---|---|---|\n",
       "| 3 Biotech                                         | 3 Biotech                                         | 2190-572X                                         | 2190-5738                                         | Springer                                          |\n",
       "| 3D Printing in Medicine                           | 3D Print Med                                      |                                                   | 2365-6271                                         | BioMed Central                                    |\n",
       "| AACE Clinical Case Reports                        | AACE Clin Case Rep                                |                                                   | 2376-0605                                         | American Association of Clinical Endocrinology    |\n",
       "| The AAPS Journal                                  | AAPS J                                            |                                                   | 1550-7416                                         | American Association of Pharmaceutical Scientists |\n",
       "| AAPS PharmSci                                     | AAPS PharmSci                                     |                                                   | 1522-1059                                         | American Association of Pharmaceutical Scientists |\n",
       "\n"
      ],
      "text/plain": [
       "  Journal.title              NLM.TA             pISSN     eISSN    \n",
       "1 3 Biotech                  3 Biotech          2190-572X 2190-5738\n",
       "2 3D Printing in Medicine    3D Print Med                 2365-6271\n",
       "3 AACE Clinical Case Reports AACE Clin Case Rep           2376-0605\n",
       "4 The AAPS Journal           AAPS J                       1550-7416\n",
       "5 AAPS PharmSci              AAPS PharmSci                1522-1059\n",
       "  Publisher                                        \n",
       "1 Springer                                         \n",
       "2 BioMed Central                                   \n",
       "3 American Association of Clinical Endocrinology   \n",
       "4 American Association of Pharmaceutical Scientists\n",
       "5 American Association of Pharmaceutical Scientists"
      ]
     },
     "metadata": {},
     "output_type": "display_data"
    }
   ],
   "source": [
    "#indeksujemy każdy wymiar z osobna po przecinku:\n",
    "df[1:5,1:5] #wiersze od 1 do 5 i kolumny od 1 do 5"
   ]
  },
  {
   "cell_type": "code",
   "execution_count": 18,
   "id": "0708ed63",
   "metadata": {
    "execution": {
     "iopub.execute_input": "2022-12-14T09:48:54.247870Z",
     "iopub.status.busy": "2022-12-14T09:48:54.237821Z",
     "iopub.status.idle": "2022-12-14T09:48:54.283980Z",
     "shell.execute_reply": "2022-12-14T09:48:54.281216Z"
    },
    "papermill": {
     "duration": 0.068163,
     "end_time": "2022-12-14T09:48:54.287455",
     "exception": false,
     "start_time": "2022-12-14T09:48:54.219292",
     "status": "completed"
    },
    "tags": []
   },
   "outputs": [
    {
     "data": {
      "text/html": [
       "<table>\n",
       "<thead><tr><th scope=col>Journal.title</th><th scope=col>NLM.TA</th><th scope=col>pISSN</th><th scope=col>eISSN</th><th scope=col>Publisher</th><th scope=col>LOCATORplus.ID</th><th scope=col>Latest.issue</th><th scope=col>Earliest.volume</th><th scope=col>Free.access</th><th scope=col>Open.access</th><th scope=col>Participation.level</th><th scope=col>Deposit.status</th><th scope=col>Journal.URL</th></tr></thead>\n",
       "<tbody>\n",
       "\t<tr><td>3 Biotech                                        </td><td>3 Biotech                                        </td><td>2190-572X                                        </td><td>2190-5738                                        </td><td>Springer                                         </td><td>NA                                               </td><td>v.13(1);Jan 2023                                 </td><td>v.1;2011                                         </td><td>12 months                                        </td><td>Some                                             </td><td> Full                                            </td><td>                                                 </td><td>http://europepmc.org/journals/1936/              </td></tr>\n",
       "\t<tr><td>3D Printing in Medicine                          </td><td>3D Print Med                                     </td><td>                                                 </td><td>2365-6271                                        </td><td>BioMed Central                                   </td><td>NA                                               </td><td>v.8;Dec 2022                                     </td><td>v.2;2016                                         </td><td>Immediate                                        </td><td>All                                              </td><td> Full                                            </td><td>                                                 </td><td>http://europepmc.org/journals/3552/              </td></tr>\n",
       "\t<tr><td>AACE Clinical Case Reports                       </td><td>AACE Clin Case Rep                               </td><td>                                                 </td><td>2376-0605                                        </td><td>American Association of Clinical Endocrinology   </td><td>NA                                               </td><td>v.8(6);Nov-Dec 2022                              </td><td>v.5;2019                                         </td><td>Immediate                                        </td><td>Some                                             </td><td> Full                                            </td><td>                                                 </td><td>http://europepmc.org/journals/3762/              </td></tr>\n",
       "\t<tr><td>The AAPS Journal                                 </td><td>AAPS J                                           </td><td>                                                 </td><td>1550-7416                                        </td><td>American Association of Pharmaceutical Scientists</td><td>NA                                               </td><td>v.18(3);May 2016                                 </td><td>v.6;2004                                         </td><td>                                                 </td><td>Some                                             </td><td> Full                                            </td><td> No New Content                                  </td><td>http://europepmc.org/journals/262/               </td></tr>\n",
       "\t<tr><td>AAPS PharmSci                                    </td><td>AAPS PharmSci                                    </td><td>                                                 </td><td>1522-1059                                        </td><td>American Association of Pharmaceutical Scientists</td><td>NA                                               </td><td>v.6(2);Jun 2004                                  </td><td>v.1;1999                                         </td><td>Immediate                                        </td><td>No                                               </td><td> Full                                            </td><td> Predecessor                                     </td><td>http://europepmc.org/journals/1196/              </td></tr>\n",
       "</tbody>\n",
       "</table>\n"
      ],
      "text/latex": [
       "\\begin{tabular}{r|lllllllllllll}\n",
       " Journal.title & NLM.TA & pISSN & eISSN & Publisher & LOCATORplus.ID & Latest.issue & Earliest.volume & Free.access & Open.access & Participation.level & Deposit.status & Journal.URL\\\\\n",
       "\\hline\n",
       "\t 3 Biotech                                         & 3 Biotech                                         & 2190-572X                                         & 2190-5738                                         & Springer                                          & NA                                                & v.13(1);Jan 2023                                  & v.1;2011                                          & 12 months                                         & Some                                              &  Full                                             &                                                   & http://europepmc.org/journals/1936/              \\\\\n",
       "\t 3D Printing in Medicine                           & 3D Print Med                                      &                                                   & 2365-6271                                         & BioMed Central                                    & NA                                                & v.8;Dec 2022                                      & v.2;2016                                          & Immediate                                         & All                                               &  Full                                             &                                                   & http://europepmc.org/journals/3552/              \\\\\n",
       "\t AACE Clinical Case Reports                        & AACE Clin Case Rep                                &                                                   & 2376-0605                                         & American Association of Clinical Endocrinology    & NA                                                & v.8(6);Nov-Dec 2022                               & v.5;2019                                          & Immediate                                         & Some                                              &  Full                                             &                                                   & http://europepmc.org/journals/3762/              \\\\\n",
       "\t The AAPS Journal                                  & AAPS J                                            &                                                   & 1550-7416                                         & American Association of Pharmaceutical Scientists & NA                                                & v.18(3);May 2016                                  & v.6;2004                                          &                                                   & Some                                              &  Full                                             &  No New Content                                   & http://europepmc.org/journals/262/               \\\\\n",
       "\t AAPS PharmSci                                     & AAPS PharmSci                                     &                                                   & 1522-1059                                         & American Association of Pharmaceutical Scientists & NA                                                & v.6(2);Jun 2004                                   & v.1;1999                                          & Immediate                                         & No                                                &  Full                                             &  Predecessor                                      & http://europepmc.org/journals/1196/              \\\\\n",
       "\\end{tabular}\n"
      ],
      "text/markdown": [
       "\n",
       "| Journal.title | NLM.TA | pISSN | eISSN | Publisher | LOCATORplus.ID | Latest.issue | Earliest.volume | Free.access | Open.access | Participation.level | Deposit.status | Journal.URL |\n",
       "|---|---|---|---|---|---|---|---|---|---|---|---|---|\n",
       "| 3 Biotech                                         | 3 Biotech                                         | 2190-572X                                         | 2190-5738                                         | Springer                                          | NA                                                | v.13(1);Jan 2023                                  | v.1;2011                                          | 12 months                                         | Some                                              |  Full                                             |                                                   | http://europepmc.org/journals/1936/               |\n",
       "| 3D Printing in Medicine                           | 3D Print Med                                      |                                                   | 2365-6271                                         | BioMed Central                                    | NA                                                | v.8;Dec 2022                                      | v.2;2016                                          | Immediate                                         | All                                               |  Full                                             |                                                   | http://europepmc.org/journals/3552/               |\n",
       "| AACE Clinical Case Reports                        | AACE Clin Case Rep                                |                                                   | 2376-0605                                         | American Association of Clinical Endocrinology    | NA                                                | v.8(6);Nov-Dec 2022                               | v.5;2019                                          | Immediate                                         | Some                                              |  Full                                             |                                                   | http://europepmc.org/journals/3762/               |\n",
       "| The AAPS Journal                                  | AAPS J                                            |                                                   | 1550-7416                                         | American Association of Pharmaceutical Scientists | NA                                                | v.18(3);May 2016                                  | v.6;2004                                          |                                                   | Some                                              |  Full                                             |  No New Content                                   | http://europepmc.org/journals/262/                |\n",
       "| AAPS PharmSci                                     | AAPS PharmSci                                     |                                                   | 1522-1059                                         | American Association of Pharmaceutical Scientists | NA                                                | v.6(2);Jun 2004                                   | v.1;1999                                          | Immediate                                         | No                                                |  Full                                             |  Predecessor                                      | http://europepmc.org/journals/1196/               |\n",
       "\n"
      ],
      "text/plain": [
       "  Journal.title              NLM.TA             pISSN     eISSN    \n",
       "1 3 Biotech                  3 Biotech          2190-572X 2190-5738\n",
       "2 3D Printing in Medicine    3D Print Med                 2365-6271\n",
       "3 AACE Clinical Case Reports AACE Clin Case Rep           2376-0605\n",
       "4 The AAPS Journal           AAPS J                       1550-7416\n",
       "5 AAPS PharmSci              AAPS PharmSci                1522-1059\n",
       "  Publisher                                         LOCATORplus.ID\n",
       "1 Springer                                          NA            \n",
       "2 BioMed Central                                    NA            \n",
       "3 American Association of Clinical Endocrinology    NA            \n",
       "4 American Association of Pharmaceutical Scientists NA            \n",
       "5 American Association of Pharmaceutical Scientists NA            \n",
       "  Latest.issue        Earliest.volume Free.access Open.access\n",
       "1 v.13(1);Jan 2023    v.1;2011        12 months   Some       \n",
       "2 v.8;Dec 2022        v.2;2016        Immediate   All        \n",
       "3 v.8(6);Nov-Dec 2022 v.5;2019        Immediate   Some       \n",
       "4 v.18(3);May 2016    v.6;2004                    Some       \n",
       "5 v.6(2);Jun 2004     v.1;1999        Immediate   No         \n",
       "  Participation.level Deposit.status   Journal.URL                        \n",
       "1  Full                                http://europepmc.org/journals/1936/\n",
       "2  Full                                http://europepmc.org/journals/3552/\n",
       "3  Full                                http://europepmc.org/journals/3762/\n",
       "4  Full                No New Content  http://europepmc.org/journals/262/ \n",
       "5  Full                Predecessor     http://europepmc.org/journals/1196/"
      ]
     },
     "metadata": {},
     "output_type": "display_data"
    }
   ],
   "source": [
    "df[1:5,] #wiersze od 1 do 5 i wszystkie kolumny"
   ]
  },
  {
   "cell_type": "code",
   "execution_count": 19,
   "id": "6258ac16",
   "metadata": {
    "execution": {
     "iopub.execute_input": "2022-12-14T09:48:54.329733Z",
     "iopub.status.busy": "2022-12-14T09:48:54.327212Z",
     "iopub.status.idle": "2022-12-14T09:48:54.356143Z",
     "shell.execute_reply": "2022-12-14T09:48:54.354086Z"
    },
    "papermill": {
     "duration": 0.052811,
     "end_time": "2022-12-14T09:48:54.359491",
     "exception": false,
     "start_time": "2022-12-14T09:48:54.306680",
     "status": "completed"
    },
    "tags": []
   },
   "outputs": [
    {
     "data": {
      "text/html": [
       "3911"
      ],
      "text/latex": [
       "3911"
      ],
      "text/markdown": [
       "3911"
      ],
      "text/plain": [
       "[1] 3911"
      ]
     },
     "metadata": {},
     "output_type": "display_data"
    },
    {
     "data": {
      "text/html": [
       "13"
      ],
      "text/latex": [
       "13"
      ],
      "text/markdown": [
       "13"
      ],
      "text/plain": [
       "[1] 13"
      ]
     },
     "metadata": {},
     "output_type": "display_data"
    }
   ],
   "source": [
    "nrow(df)\n",
    "ncol(df)"
   ]
  },
  {
   "cell_type": "code",
   "execution_count": 20,
   "id": "d010523f",
   "metadata": {
    "execution": {
     "iopub.execute_input": "2022-12-14T09:48:54.403342Z",
     "iopub.status.busy": "2022-12-14T09:48:54.401129Z",
     "iopub.status.idle": "2022-12-14T09:48:54.429818Z",
     "shell.execute_reply": "2022-12-14T09:48:54.427925Z"
    },
    "papermill": {
     "duration": 0.054848,
     "end_time": "2022-12-14T09:48:54.432989",
     "exception": false,
     "start_time": "2022-12-14T09:48:54.378141",
     "status": "completed"
    },
    "tags": []
   },
   "outputs": [
    {
     "data": {
      "text/html": [
       "<ol class=list-inline>\n",
       "\t<li>Some</li>\n",
       "\t<li>All</li>\n",
       "\t<li>No</li>\n",
       "</ol>\n",
       "\n",
       "<details>\n",
       "\t<summary style=display:list-item;cursor:pointer>\n",
       "\t\t<strong>Levels</strong>:\n",
       "\t</summary>\n",
       "\t<ol class=list-inline>\n",
       "\t\t<li>'All'</li>\n",
       "\t\t<li>'No'</li>\n",
       "\t\t<li>'Some'</li>\n",
       "\t</ol>\n",
       "</details>"
      ],
      "text/latex": [
       "\\begin{enumerate*}\n",
       "\\item Some\n",
       "\\item All\n",
       "\\item No\n",
       "\\end{enumerate*}\n",
       "\n",
       "\\emph{Levels}: \\begin{enumerate*}\n",
       "\\item 'All'\n",
       "\\item 'No'\n",
       "\\item 'Some'\n",
       "\\end{enumerate*}\n"
      ],
      "text/markdown": [
       "1. Some\n",
       "2. All\n",
       "3. No\n",
       "\n",
       "\n",
       "\n",
       "**Levels**: 1. 'All'\n",
       "2. 'No'\n",
       "3. 'Some'\n",
       "\n",
       "\n"
      ],
      "text/plain": [
       "[1] Some All  No  \n",
       "Levels: All No Some"
      ]
     },
     "metadata": {},
     "output_type": "display_data"
    }
   ],
   "source": [
    "kolumnaAccess<-df$Open.access # dostęp do kolumny poprzez nazwę, sposób I\n",
    "unique(kolumnaAccess) # unikalne wartości w danym wektorze\n"
   ]
  },
  {
   "cell_type": "code",
   "execution_count": 24,
   "id": "351e4ed4",
   "metadata": {
    "execution": {
     "iopub.execute_input": "2022-12-14T09:48:54.472654Z",
     "iopub.status.busy": "2022-12-14T09:48:54.470691Z",
     "iopub.status.idle": "2022-12-14T09:48:54.494393Z",
     "shell.execute_reply": "2022-12-14T09:48:54.492425Z"
    },
    "papermill": {
     "duration": 0.047041,
     "end_time": "2022-12-14T09:48:54.497710",
     "exception": false,
     "start_time": "2022-12-14T09:48:54.450669",
     "status": "completed"
    },
    "tags": []
   },
   "outputs": [
    {
     "data": {
      "text/plain": [
       "kolumnaAccess\n",
       " All   No Some \n",
       "1938  379 1594 "
      ]
     },
     "metadata": {},
     "output_type": "display_data"
    },
    {
     "data": {
      "text/plain": [
       "      \n",
       "             No New Content   Predecessor \n",
       "  All  1445              319           174\n",
       "  No    134              129           116\n",
       "  Some 1424              128            42"
      ]
     },
     "metadata": {},
     "output_type": "display_data"
    }
   ],
   "source": [
    "kolumnaAccess<-df[,\"Open.access\"] #sposób II\n",
    "table(kolumnaAccess) # funkcja table <- podsumowanie\n",
    "table(df$Open.access,    #wiersze- OpenAccess\n",
    "     df$Deposit.status)  #kolumny- Deposit status\n",
    "                         #komórki- zliczenia obserwacji, takich że Open.access== to po lewej, a Deposit.status== to u góry"
   ]
  },
  {
   "cell_type": "code",
   "execution_count": 25,
   "id": "87feab55",
   "metadata": {
    "execution": {
     "iopub.execute_input": "2022-12-14T09:48:54.543787Z",
     "iopub.status.busy": "2022-12-14T09:48:54.542048Z",
     "iopub.status.idle": "2022-12-14T09:48:54.573966Z",
     "shell.execute_reply": "2022-12-14T09:48:54.571768Z"
    },
    "papermill": {
     "duration": 0.061224,
     "end_time": "2022-12-14T09:48:54.577784",
     "exception": false,
     "start_time": "2022-12-14T09:48:54.516560",
     "status": "completed"
    },
    "tags": []
   },
   "outputs": [
    {
     "data": {
      "text/html": [
       "<dl>\n",
       "\t<dt>$Journal.title</dt>\n",
       "\t\t<dd>3911</dd>\n",
       "\t<dt>$NLM.TA</dt>\n",
       "\t\t<dd>3911</dd>\n",
       "\t<dt>$pISSN</dt>\n",
       "\t\t<dd>3911</dd>\n",
       "\t<dt>$eISSN</dt>\n",
       "\t\t<dd>3911</dd>\n",
       "\t<dt>$Publisher</dt>\n",
       "\t\t<dd>3911</dd>\n",
       "\t<dt>$LOCATORplus.ID</dt>\n",
       "\t\t<dd>3911</dd>\n",
       "\t<dt>$Latest.issue</dt>\n",
       "\t\t<dd>3911</dd>\n",
       "\t<dt>$Earliest.volume</dt>\n",
       "\t\t<dd>3911</dd>\n",
       "\t<dt>$Free.access</dt>\n",
       "\t\t<dd>3911</dd>\n",
       "\t<dt>$Open.access</dt>\n",
       "\t\t<dd>3911</dd>\n",
       "\t<dt>$Participation.level</dt>\n",
       "\t\t<dd>3911</dd>\n",
       "\t<dt>$Deposit.status</dt>\n",
       "\t\t<dd>3911</dd>\n",
       "\t<dt>$Journal.URL</dt>\n",
       "\t\t<dd>3911</dd>\n",
       "</dl>\n"
      ],
      "text/latex": [
       "\\begin{description}\n",
       "\\item[\\$Journal.title] 3911\n",
       "\\item[\\$NLM.TA] 3911\n",
       "\\item[\\$pISSN] 3911\n",
       "\\item[\\$eISSN] 3911\n",
       "\\item[\\$Publisher] 3911\n",
       "\\item[\\$LOCATORplus.ID] 3911\n",
       "\\item[\\$Latest.issue] 3911\n",
       "\\item[\\$Earliest.volume] 3911\n",
       "\\item[\\$Free.access] 3911\n",
       "\\item[\\$Open.access] 3911\n",
       "\\item[\\$Participation.level] 3911\n",
       "\\item[\\$Deposit.status] 3911\n",
       "\\item[\\$Journal.URL] 3911\n",
       "\\end{description}\n"
      ],
      "text/markdown": [
       "$Journal.title\n",
       ":   3911\n",
       "$NLM.TA\n",
       ":   3911\n",
       "$pISSN\n",
       ":   3911\n",
       "$eISSN\n",
       ":   3911\n",
       "$Publisher\n",
       ":   3911\n",
       "$LOCATORplus.ID\n",
       ":   3911\n",
       "$Latest.issue\n",
       ":   3911\n",
       "$Earliest.volume\n",
       ":   3911\n",
       "$Free.access\n",
       ":   3911\n",
       "$Open.access\n",
       ":   3911\n",
       "$Participation.level\n",
       ":   3911\n",
       "$Deposit.status\n",
       ":   3911\n",
       "$Journal.URL\n",
       ":   3911\n",
       "\n",
       "\n"
      ],
      "text/plain": [
       "$Journal.title\n",
       "[1] 3911\n",
       "\n",
       "$NLM.TA\n",
       "[1] 3911\n",
       "\n",
       "$pISSN\n",
       "[1] 3911\n",
       "\n",
       "$eISSN\n",
       "[1] 3911\n",
       "\n",
       "$Publisher\n",
       "[1] 3911\n",
       "\n",
       "$LOCATORplus.ID\n",
       "[1] 3911\n",
       "\n",
       "$Latest.issue\n",
       "[1] 3911\n",
       "\n",
       "$Earliest.volume\n",
       "[1] 3911\n",
       "\n",
       "$Free.access\n",
       "[1] 3911\n",
       "\n",
       "$Open.access\n",
       "[1] 3911\n",
       "\n",
       "$Participation.level\n",
       "[1] 3911\n",
       "\n",
       "$Deposit.status\n",
       "[1] 3911\n",
       "\n",
       "$Journal.URL\n",
       "[1] 3911\n"
      ]
     },
     "metadata": {},
     "output_type": "display_data"
    }
   ],
   "source": [
    "#data frame to pod spodem lista wetkorów, zatem można użyć funkcji lapply:\n",
    "#   (kolumny to wektory)\n",
    "\n",
    "lapply(df, length) # długość każdej kolumny == nrow(df)"
   ]
  },
  {
   "cell_type": "markdown",
   "id": "beddeaea",
   "metadata": {
    "papermill": {
     "duration": 0.017242,
     "end_time": "2022-12-14T09:48:54.613418",
     "exception": false,
     "start_time": "2022-12-14T09:48:54.596176",
     "status": "completed"
    },
    "tags": []
   },
   "source": [
    "### Funkcje apply i działające po kolumnach i wierszach (analogicznie do lapply)"
   ]
  },
  {
   "cell_type": "code",
   "execution_count": 26,
   "id": "f2aee832",
   "metadata": {
    "execution": {
     "iopub.execute_input": "2022-12-14T09:48:54.654493Z",
     "iopub.status.busy": "2022-12-14T09:48:54.652720Z",
     "iopub.status.idle": "2022-12-14T09:48:54.698935Z",
     "shell.execute_reply": "2022-12-14T09:48:54.695749Z"
    },
    "papermill": {
     "duration": 0.069617,
     "end_time": "2022-12-14T09:48:54.702097",
     "exception": false,
     "start_time": "2022-12-14T09:48:54.632480",
     "status": "completed"
    },
    "tags": []
   },
   "outputs": [
    {
     "data": {
      "text/html": [
       "'list'"
      ],
      "text/latex": [
       "'list'"
      ],
      "text/markdown": [
       "'list'"
      ],
      "text/plain": [
       "[1] \"list\""
      ]
     },
     "metadata": {},
     "output_type": "display_data"
    },
    {
     "data": {
      "text/html": [
       "<dl>\n",
       "\t<dt>$Journal.title</dt>\n",
       "\t\t<dd><ol class=list-inline>\n",
       "\t<li>'3 Biotech'</li>\n",
       "\t<li>'3D Printing in Medicine'</li>\n",
       "\t<li>'AACE Clinical Case Reports'</li>\n",
       "\t<li>'The AAPS Journal'</li>\n",
       "\t<li>'AAPS PharmSci'</li>\n",
       "</ol>\n",
       "</dd>\n",
       "\t<dt>$NLM.TA</dt>\n",
       "\t\t<dd><ol class=list-inline>\n",
       "\t<li>'3 Biotech'</li>\n",
       "\t<li>'3D Print Med'</li>\n",
       "\t<li>'AACE Clin Case Rep'</li>\n",
       "\t<li>'AAPS J'</li>\n",
       "\t<li>'AAPS PharmSci'</li>\n",
       "</ol>\n",
       "</dd>\n",
       "\t<dt>$pISSN</dt>\n",
       "\t\t<dd><ol class=list-inline>\n",
       "\t<li>'2190-572X'</li>\n",
       "\t<li>''</li>\n",
       "\t<li>'2374-7943'</li>\n",
       "\t<li>'1672-9145'</li>\n",
       "\t<li>'0392-4203'</li>\n",
       "</ol>\n",
       "</dd>\n",
       "\t<dt>$eISSN</dt>\n",
       "\t\t<dd><ol class=list-inline>\n",
       "\t<li>'2190-5738'</li>\n",
       "\t<li>'2365-6271'</li>\n",
       "\t<li>'2376-0605'</li>\n",
       "\t<li>'1550-7416'</li>\n",
       "\t<li>'1522-1059'</li>\n",
       "</ol>\n",
       "</dd>\n",
       "\t<dt>$Publisher</dt>\n",
       "\t\t<dd><ol class=list-inline>\n",
       "\t<li>'Springer'</li>\n",
       "\t<li>'BioMed Central'</li>\n",
       "\t<li>'American Association of Clinical Endocrinology'</li>\n",
       "\t<li>'American Association of Pharmaceutical Scientists'</li>\n",
       "\t<li>'African Academy of Sciences'</li>\n",
       "</ol>\n",
       "</dd>\n",
       "\t<dt>$LOCATORplus.ID</dt>\n",
       "\t\t<dd><ol class=list-inline>\n",
       "\t<li>NA</li>\n",
       "\t<li>NA</li>\n",
       "\t<li>NA</li>\n",
       "\t<li>NA</li>\n",
       "\t<li>NA</li>\n",
       "</ol>\n",
       "</dd>\n",
       "\t<dt>$Latest.issue</dt>\n",
       "\t\t<dd><ol class=list-inline>\n",
       "\t<li>'v.13(1);Jan 2023'</li>\n",
       "\t<li>'v.8;Dec 2022'</li>\n",
       "\t<li>'v.8(6);Nov-Dec 2022'</li>\n",
       "\t<li>'v.18(3);May 2016'</li>\n",
       "\t<li>'v.6(2);Jun 2004'</li>\n",
       "</ol>\n",
       "</dd>\n",
       "\t<dt>$Earliest.volume</dt>\n",
       "\t\t<dd><ol class=list-inline>\n",
       "\t<li>'v.1;2011'</li>\n",
       "\t<li>'v.2;2016'</li>\n",
       "\t<li>'v.5;2019'</li>\n",
       "\t<li>'v.6;2004'</li>\n",
       "\t<li>'v.1;1999'</li>\n",
       "</ol>\n",
       "</dd>\n",
       "\t<dt>$Free.access</dt>\n",
       "\t\t<dd><ol class=list-inline>\n",
       "\t<li>'12 months'</li>\n",
       "\t<li>'Immediate'</li>\n",
       "\t<li>''</li>\n",
       "\t<li>'12 months or less'</li>\n",
       "\t<li>'6 months'</li>\n",
       "</ol>\n",
       "</dd>\n",
       "\t<dt>$Open.access</dt>\n",
       "\t\t<dd><ol class=list-inline>\n",
       "\t<li>'Some'</li>\n",
       "\t<li>'All'</li>\n",
       "\t<li>'No'</li>\n",
       "\t<li>NA</li>\n",
       "\t<li>NA</li>\n",
       "</ol>\n",
       "</dd>\n",
       "\t<dt>$Participation.level</dt>\n",
       "\t\t<dd><ol class=list-inline>\n",
       "\t<li>' Full '</li>\n",
       "\t<li>' NIH Portfolio '</li>\n",
       "\t<li>NA</li>\n",
       "\t<li>NA</li>\n",
       "\t<li>NA</li>\n",
       "</ol>\n",
       "</dd>\n",
       "\t<dt>$Deposit.status</dt>\n",
       "\t\t<dd><ol class=list-inline>\n",
       "\t<li>' '</li>\n",
       "\t<li>' No New Content '</li>\n",
       "\t<li>' Predecessor '</li>\n",
       "\t<li>NA</li>\n",
       "\t<li>NA</li>\n",
       "</ol>\n",
       "</dd>\n",
       "\t<dt>$Journal.URL</dt>\n",
       "\t\t<dd><ol class=list-inline>\n",
       "\t<li>'http://europepmc.org/journals/1936/'</li>\n",
       "\t<li>'http://europepmc.org/journals/3552/'</li>\n",
       "\t<li>'http://europepmc.org/journals/3762/'</li>\n",
       "\t<li>'http://europepmc.org/journals/262/'</li>\n",
       "\t<li>'http://europepmc.org/journals/1196/'</li>\n",
       "</ol>\n",
       "</dd>\n",
       "</dl>\n"
      ],
      "text/latex": [
       "\\begin{description}\n",
       "\\item[\\$Journal.title] \\begin{enumerate*}\n",
       "\\item '3 Biotech'\n",
       "\\item '3D Printing in Medicine'\n",
       "\\item 'AACE Clinical Case Reports'\n",
       "\\item 'The AAPS Journal'\n",
       "\\item 'AAPS PharmSci'\n",
       "\\end{enumerate*}\n",
       "\n",
       "\\item[\\$NLM.TA] \\begin{enumerate*}\n",
       "\\item '3 Biotech'\n",
       "\\item '3D Print Med'\n",
       "\\item 'AACE Clin Case Rep'\n",
       "\\item 'AAPS J'\n",
       "\\item 'AAPS PharmSci'\n",
       "\\end{enumerate*}\n",
       "\n",
       "\\item[\\$pISSN] \\begin{enumerate*}\n",
       "\\item '2190-572X'\n",
       "\\item ''\n",
       "\\item '2374-7943'\n",
       "\\item '1672-9145'\n",
       "\\item '0392-4203'\n",
       "\\end{enumerate*}\n",
       "\n",
       "\\item[\\$eISSN] \\begin{enumerate*}\n",
       "\\item '2190-5738'\n",
       "\\item '2365-6271'\n",
       "\\item '2376-0605'\n",
       "\\item '1550-7416'\n",
       "\\item '1522-1059'\n",
       "\\end{enumerate*}\n",
       "\n",
       "\\item[\\$Publisher] \\begin{enumerate*}\n",
       "\\item 'Springer'\n",
       "\\item 'BioMed Central'\n",
       "\\item 'American Association of Clinical Endocrinology'\n",
       "\\item 'American Association of Pharmaceutical Scientists'\n",
       "\\item 'African Academy of Sciences'\n",
       "\\end{enumerate*}\n",
       "\n",
       "\\item[\\$LOCATORplus.ID] \\begin{enumerate*}\n",
       "\\item NA\n",
       "\\item NA\n",
       "\\item NA\n",
       "\\item NA\n",
       "\\item NA\n",
       "\\end{enumerate*}\n",
       "\n",
       "\\item[\\$Latest.issue] \\begin{enumerate*}\n",
       "\\item 'v.13(1);Jan 2023'\n",
       "\\item 'v.8;Dec 2022'\n",
       "\\item 'v.8(6);Nov-Dec 2022'\n",
       "\\item 'v.18(3);May 2016'\n",
       "\\item 'v.6(2);Jun 2004'\n",
       "\\end{enumerate*}\n",
       "\n",
       "\\item[\\$Earliest.volume] \\begin{enumerate*}\n",
       "\\item 'v.1;2011'\n",
       "\\item 'v.2;2016'\n",
       "\\item 'v.5;2019'\n",
       "\\item 'v.6;2004'\n",
       "\\item 'v.1;1999'\n",
       "\\end{enumerate*}\n",
       "\n",
       "\\item[\\$Free.access] \\begin{enumerate*}\n",
       "\\item '12 months'\n",
       "\\item 'Immediate'\n",
       "\\item ''\n",
       "\\item '12 months or less'\n",
       "\\item '6 months'\n",
       "\\end{enumerate*}\n",
       "\n",
       "\\item[\\$Open.access] \\begin{enumerate*}\n",
       "\\item 'Some'\n",
       "\\item 'All'\n",
       "\\item 'No'\n",
       "\\item NA\n",
       "\\item NA\n",
       "\\end{enumerate*}\n",
       "\n",
       "\\item[\\$Participation.level] \\begin{enumerate*}\n",
       "\\item ' Full '\n",
       "\\item ' NIH Portfolio '\n",
       "\\item NA\n",
       "\\item NA\n",
       "\\item NA\n",
       "\\end{enumerate*}\n",
       "\n",
       "\\item[\\$Deposit.status] \\begin{enumerate*}\n",
       "\\item ' '\n",
       "\\item ' No New Content '\n",
       "\\item ' Predecessor '\n",
       "\\item NA\n",
       "\\item NA\n",
       "\\end{enumerate*}\n",
       "\n",
       "\\item[\\$Journal.URL] \\begin{enumerate*}\n",
       "\\item 'http://europepmc.org/journals/1936/'\n",
       "\\item 'http://europepmc.org/journals/3552/'\n",
       "\\item 'http://europepmc.org/journals/3762/'\n",
       "\\item 'http://europepmc.org/journals/262/'\n",
       "\\item 'http://europepmc.org/journals/1196/'\n",
       "\\end{enumerate*}\n",
       "\n",
       "\\end{description}\n"
      ],
      "text/markdown": [
       "$Journal.title\n",
       ":   1. '3 Biotech'\n",
       "2. '3D Printing in Medicine'\n",
       "3. 'AACE Clinical Case Reports'\n",
       "4. 'The AAPS Journal'\n",
       "5. 'AAPS PharmSci'\n",
       "\n",
       "\n",
       "\n",
       "$NLM.TA\n",
       ":   1. '3 Biotech'\n",
       "2. '3D Print Med'\n",
       "3. 'AACE Clin Case Rep'\n",
       "4. 'AAPS J'\n",
       "5. 'AAPS PharmSci'\n",
       "\n",
       "\n",
       "\n",
       "$pISSN\n",
       ":   1. '2190-572X'\n",
       "2. ''\n",
       "3. '2374-7943'\n",
       "4. '1672-9145'\n",
       "5. '0392-4203'\n",
       "\n",
       "\n",
       "\n",
       "$eISSN\n",
       ":   1. '2190-5738'\n",
       "2. '2365-6271'\n",
       "3. '2376-0605'\n",
       "4. '1550-7416'\n",
       "5. '1522-1059'\n",
       "\n",
       "\n",
       "\n",
       "$Publisher\n",
       ":   1. 'Springer'\n",
       "2. 'BioMed Central'\n",
       "3. 'American Association of Clinical Endocrinology'\n",
       "4. 'American Association of Pharmaceutical Scientists'\n",
       "5. 'African Academy of Sciences'\n",
       "\n",
       "\n",
       "\n",
       "$LOCATORplus.ID\n",
       ":   1. NA\n",
       "2. NA\n",
       "3. NA\n",
       "4. NA\n",
       "5. NA\n",
       "\n",
       "\n",
       "\n",
       "$Latest.issue\n",
       ":   1. 'v.13(1);Jan 2023'\n",
       "2. 'v.8;Dec 2022'\n",
       "3. 'v.8(6);Nov-Dec 2022'\n",
       "4. 'v.18(3);May 2016'\n",
       "5. 'v.6(2);Jun 2004'\n",
       "\n",
       "\n",
       "\n",
       "$Earliest.volume\n",
       ":   1. 'v.1;2011'\n",
       "2. 'v.2;2016'\n",
       "3. 'v.5;2019'\n",
       "4. 'v.6;2004'\n",
       "5. 'v.1;1999'\n",
       "\n",
       "\n",
       "\n",
       "$Free.access\n",
       ":   1. '12 months'\n",
       "2. 'Immediate'\n",
       "3. ''\n",
       "4. '12 months or less'\n",
       "5. '6 months'\n",
       "\n",
       "\n",
       "\n",
       "$Open.access\n",
       ":   1. 'Some'\n",
       "2. 'All'\n",
       "3. 'No'\n",
       "4. NA\n",
       "5. NA\n",
       "\n",
       "\n",
       "\n",
       "$Participation.level\n",
       ":   1. ' Full '\n",
       "2. ' NIH Portfolio '\n",
       "3. NA\n",
       "4. NA\n",
       "5. NA\n",
       "\n",
       "\n",
       "\n",
       "$Deposit.status\n",
       ":   1. ' '\n",
       "2. ' No New Content '\n",
       "3. ' Predecessor '\n",
       "4. NA\n",
       "5. NA\n",
       "\n",
       "\n",
       "\n",
       "$Journal.URL\n",
       ":   1. 'http://europepmc.org/journals/1936/'\n",
       "2. 'http://europepmc.org/journals/3552/'\n",
       "3. 'http://europepmc.org/journals/3762/'\n",
       "4. 'http://europepmc.org/journals/262/'\n",
       "5. 'http://europepmc.org/journals/1196/'\n",
       "\n",
       "\n",
       "\n",
       "\n",
       "\n"
      ],
      "text/plain": [
       "$Journal.title\n",
       "[1] \"3 Biotech\"                  \"3D Printing in Medicine\"   \n",
       "[3] \"AACE Clinical Case Reports\" \"The AAPS Journal\"          \n",
       "[5] \"AAPS PharmSci\"             \n",
       "\n",
       "$NLM.TA\n",
       "[1] \"3 Biotech\"          \"3D Print Med\"       \"AACE Clin Case Rep\"\n",
       "[4] \"AAPS J\"             \"AAPS PharmSci\"     \n",
       "\n",
       "$pISSN\n",
       "[1] \"2190-572X\" \"\"          \"2374-7943\" \"1672-9145\" \"0392-4203\"\n",
       "\n",
       "$eISSN\n",
       "[1] \"2190-5738\" \"2365-6271\" \"2376-0605\" \"1550-7416\" \"1522-1059\"\n",
       "\n",
       "$Publisher\n",
       "[1] \"Springer\"                                         \n",
       "[2] \"BioMed Central\"                                   \n",
       "[3] \"American Association of Clinical Endocrinology\"   \n",
       "[4] \"American Association of Pharmaceutical Scientists\"\n",
       "[5] \"African Academy of Sciences\"                      \n",
       "\n",
       "$LOCATORplus.ID\n",
       "[1] NA NA NA NA NA\n",
       "\n",
       "$Latest.issue\n",
       "[1] \"v.13(1);Jan 2023\"    \"v.8;Dec 2022\"        \"v.8(6);Nov-Dec 2022\"\n",
       "[4] \"v.18(3);May 2016\"    \"v.6(2);Jun 2004\"    \n",
       "\n",
       "$Earliest.volume\n",
       "[1] \"v.1;2011\" \"v.2;2016\" \"v.5;2019\" \"v.6;2004\" \"v.1;1999\"\n",
       "\n",
       "$Free.access\n",
       "[1] \"12 months\"         \"Immediate\"         \"\"                 \n",
       "[4] \"12 months or less\" \"6 months\"         \n",
       "\n",
       "$Open.access\n",
       "[1] \"Some\" \"All\"  \"No\"   NA     NA    \n",
       "\n",
       "$Participation.level\n",
       "[1] \" Full \"          \" NIH Portfolio \" NA                NA               \n",
       "[5] NA               \n",
       "\n",
       "$Deposit.status\n",
       "[1] \" \"                \" No New Content \" \" Predecessor \"    NA                \n",
       "[5] NA                \n",
       "\n",
       "$Journal.URL\n",
       "[1] \"http://europepmc.org/journals/1936/\" \"http://europepmc.org/journals/3552/\"\n",
       "[3] \"http://europepmc.org/journals/3762/\" \"http://europepmc.org/journals/262/\" \n",
       "[5] \"http://europepmc.org/journals/1196/\"\n"
      ]
     },
     "metadata": {},
     "output_type": "display_data"
    }
   ],
   "source": [
    "#apply(Obiekt2D, nr_wymiaru, funkcja, opcjonalnie.pozostałe.argumenty.funkcji)\n",
    "# nr_ymiaru = 1 <- po wierszach\n",
    "# nr_wymiaru= 2 <- po kolumnach\n",
    "result<-apply(df,2,unique)   # sprawdzamy unikalne elementy w każdej kolumnie\n",
    "class(result)                # korzystając z apply- warto sprawdzić typ zwróconego obiektu\n",
    "lapply(result, function(x) x[1:5])   #weź z każdego elementu result 5 pierwszych elementów"
   ]
  },
  {
   "cell_type": "markdown",
   "id": "fd35f965",
   "metadata": {
    "papermill": {
     "duration": 0.020322,
     "end_time": "2022-12-14T09:48:54.741144",
     "exception": false,
     "start_time": "2022-12-14T09:48:54.720822",
     "status": "completed"
    },
    "tags": []
   },
   "source": [
    "## Macierze"
   ]
  },
  {
   "cell_type": "code",
   "execution_count": 31,
   "id": "9715dd00",
   "metadata": {
    "execution": {
     "iopub.execute_input": "2022-12-14T09:48:54.787102Z",
     "iopub.status.busy": "2022-12-14T09:48:54.785149Z",
     "iopub.status.idle": "2022-12-14T09:48:54.822906Z",
     "shell.execute_reply": "2022-12-14T09:48:54.820097Z"
    },
    "papermill": {
     "duration": 0.064919,
     "end_time": "2022-12-14T09:48:54.827050",
     "exception": false,
     "start_time": "2022-12-14T09:48:54.762131",
     "status": "completed"
    },
    "tags": []
   },
   "outputs": [
    {
     "data": {
      "text/html": [
       "<table class=\"dataframe\">\n",
       "<caption>A matrix: 2 × 5 of type dbl</caption>\n",
       "<tbody>\n",
       "\t<tr><td>1</td><td>3</td><td>5</td><td>7</td><td> 9</td></tr>\n",
       "\t<tr><td>2</td><td>4</td><td>6</td><td>8</td><td>10</td></tr>\n",
       "</tbody>\n",
       "</table>\n"
      ],
      "text/latex": [
       "A matrix: 2 × 5 of type dbl\n",
       "\\begin{tabular}{lllll}\n",
       "\t 1 & 3 & 5 & 7 &  9\\\\\n",
       "\t 2 & 4 & 6 & 8 & 10\\\\\n",
       "\\end{tabular}\n"
      ],
      "text/markdown": [
       "\n",
       "A matrix: 2 × 5 of type dbl\n",
       "\n",
       "| 1 | 3 | 5 | 7 |  9 |\n",
       "| 2 | 4 | 6 | 8 | 10 |\n",
       "\n"
      ],
      "text/plain": [
       "     [,1] [,2] [,3] [,4] [,5]\n",
       "[1,] 1    3    5    7     9  \n",
       "[2,] 2    4    6    8    10  "
      ]
     },
     "metadata": {},
     "output_type": "display_data"
    }
   ],
   "source": [
    "A<- matrix(c(1,2,3,4,5,6,7,8,9,10), nrow=2)\n",
    "A"
   ]
  },
  {
   "cell_type": "code",
   "execution_count": 32,
   "id": "814f4283",
   "metadata": {
    "execution": {
     "iopub.execute_input": "2022-12-14T09:48:54.871448Z",
     "iopub.status.busy": "2022-12-14T09:48:54.869614Z",
     "iopub.status.idle": "2022-12-14T09:48:54.898675Z",
     "shell.execute_reply": "2022-12-14T09:48:54.896767Z"
    },
    "papermill": {
     "duration": 0.055176,
     "end_time": "2022-12-14T09:48:54.901745",
     "exception": false,
     "start_time": "2022-12-14T09:48:54.846569",
     "status": "completed"
    },
    "tags": []
   },
   "outputs": [
    {
     "data": {
      "text/html": [
       "<style>\n",
       ".list-inline {list-style: none; margin:0; padding: 0}\n",
       ".list-inline>li {display: inline-block}\n",
       ".list-inline>li:not(:last-child)::after {content: \"\\00b7\"; padding: 0 .5ex}\n",
       "</style>\n",
       "<ol class=list-inline><li>'matrix'</li><li>'array'</li></ol>\n"
      ],
      "text/latex": [
       "\\begin{enumerate*}\n",
       "\\item 'matrix'\n",
       "\\item 'array'\n",
       "\\end{enumerate*}\n"
      ],
      "text/markdown": [
       "1. 'matrix'\n",
       "2. 'array'\n",
       "\n",
       "\n"
      ],
      "text/plain": [
       "[1] \"matrix\" \"array\" "
      ]
     },
     "metadata": {},
     "output_type": "display_data"
    },
    {
     "data": {
      "text/html": [
       "<table class=\"dataframe\">\n",
       "<caption>A matrix: 2 × 3 of type dbl</caption>\n",
       "<tbody>\n",
       "\t<tr><td>1</td><td>2</td><td>3</td></tr>\n",
       "\t<tr><td>2</td><td>3</td><td>4</td></tr>\n",
       "</tbody>\n",
       "</table>\n"
      ],
      "text/latex": [
       "A matrix: 2 × 3 of type dbl\n",
       "\\begin{tabular}{lll}\n",
       "\t 1 & 2 & 3\\\\\n",
       "\t 2 & 3 & 4\\\\\n",
       "\\end{tabular}\n"
      ],
      "text/markdown": [
       "\n",
       "A matrix: 2 × 3 of type dbl\n",
       "\n",
       "| 1 | 2 | 3 |\n",
       "| 2 | 3 | 4 |\n",
       "\n"
      ],
      "text/plain": [
       "     [,1] [,2] [,3]\n",
       "[1,] 1    2    3   \n",
       "[2,] 2    3    4   "
      ]
     },
     "metadata": {},
     "output_type": "display_data"
    }
   ],
   "source": [
    "B<- rbind(c(1,2,3),\n",
    "         c(2,3,4)) #rowbind\n",
    "class(B)\n",
    "B"
   ]
  },
  {
   "cell_type": "code",
   "execution_count": 33,
   "id": "1f8fc3c8",
   "metadata": {
    "execution": {
     "iopub.execute_input": "2022-12-14T09:48:54.948314Z",
     "iopub.status.busy": "2022-12-14T09:48:54.946671Z",
     "iopub.status.idle": "2022-12-14T09:48:54.981813Z",
     "shell.execute_reply": "2022-12-14T09:48:54.979286Z"
    },
    "papermill": {
     "duration": 0.065413,
     "end_time": "2022-12-14T09:48:54.985819",
     "exception": false,
     "start_time": "2022-12-14T09:48:54.920406",
     "status": "completed"
    },
    "tags": []
   },
   "outputs": [
    {
     "data": {
      "text/html": [
       "<style>\n",
       ".list-inline {list-style: none; margin:0; padding: 0}\n",
       ".list-inline>li {display: inline-block}\n",
       ".list-inline>li:not(:last-child)::after {content: \"\\00b7\"; padding: 0 .5ex}\n",
       "</style>\n",
       "<ol class=list-inline><li>2</li><li>5</li></ol>\n"
      ],
      "text/latex": [
       "\\begin{enumerate*}\n",
       "\\item 2\n",
       "\\item 5\n",
       "\\end{enumerate*}\n"
      ],
      "text/markdown": [
       "1. 2\n",
       "2. 5\n",
       "\n",
       "\n"
      ],
      "text/plain": [
       "[1] 2 5"
      ]
     },
     "metadata": {},
     "output_type": "display_data"
    },
    {
     "data": {
      "text/html": [
       "<style>\n",
       ".list-inline {list-style: none; margin:0; padding: 0}\n",
       ".list-inline>li {display: inline-block}\n",
       ".list-inline>li:not(:last-child)::after {content: \"\\00b7\"; padding: 0 .5ex}\n",
       "</style>\n",
       "<ol class=list-inline><li>2</li><li>3</li></ol>\n"
      ],
      "text/latex": [
       "\\begin{enumerate*}\n",
       "\\item 2\n",
       "\\item 3\n",
       "\\end{enumerate*}\n"
      ],
      "text/markdown": [
       "1. 2\n",
       "2. 3\n",
       "\n",
       "\n"
      ],
      "text/plain": [
       "[1] 2 3"
      ]
     },
     "metadata": {},
     "output_type": "display_data"
    }
   ],
   "source": [
    "dim(A)\n",
    "dim(B)"
   ]
  },
  {
   "cell_type": "code",
   "execution_count": 34,
   "id": "0977c56e",
   "metadata": {
    "execution": {
     "iopub.execute_input": "2022-12-14T09:48:55.031363Z",
     "iopub.status.busy": "2022-12-14T09:48:55.029623Z",
     "iopub.status.idle": "2022-12-14T09:48:55.098099Z",
     "shell.execute_reply": "2022-12-14T09:48:55.096155Z"
    },
    "papermill": {
     "duration": 0.094771,
     "end_time": "2022-12-14T09:48:55.101171",
     "exception": false,
     "start_time": "2022-12-14T09:48:55.006400",
     "status": "completed"
    },
    "tags": []
   },
   "outputs": [
    {
     "data": {
      "text/html": [
       "<style>\n",
       ".list-inline {list-style: none; margin:0; padding: 0}\n",
       ".list-inline>li {display: inline-block}\n",
       ".list-inline>li:not(:last-child)::after {content: \"\\00b7\"; padding: 0 .5ex}\n",
       "</style>\n",
       "<ol class=list-inline><li>1.5</li><li>3.5</li><li>5.5</li><li>7.5</li><li>9.5</li></ol>\n"
      ],
      "text/latex": [
       "\\begin{enumerate*}\n",
       "\\item 1.5\n",
       "\\item 3.5\n",
       "\\item 5.5\n",
       "\\item 7.5\n",
       "\\item 9.5\n",
       "\\end{enumerate*}\n"
      ],
      "text/markdown": [
       "1. 1.5\n",
       "2. 3.5\n",
       "3. 5.5\n",
       "4. 7.5\n",
       "5. 9.5\n",
       "\n",
       "\n"
      ],
      "text/plain": [
       "[1] 1.5 3.5 5.5 7.5 9.5"
      ]
     },
     "metadata": {},
     "output_type": "display_data"
    },
    {
     "name": "stdout",
     "output_type": "stream",
     "text": [
      "     [,1] [,2] [,3] [,4] [,5]\n",
      "[1,]    1    3    5    7    9\n",
      "[2,]    2    4    6    8   10\n"
     ]
    },
    {
     "data": {
      "text/html": [
       "<style>\n",
       ".list-inline {list-style: none; margin:0; padding: 0}\n",
       ".list-inline>li {display: inline-block}\n",
       ".list-inline>li:not(:last-child)::after {content: \"\\00b7\"; padding: 0 .5ex}\n",
       "</style>\n",
       "<ol class=list-inline><li>5</li><li>6</li></ol>\n"
      ],
      "text/latex": [
       "\\begin{enumerate*}\n",
       "\\item 5\n",
       "\\item 6\n",
       "\\end{enumerate*}\n"
      ],
      "text/markdown": [
       "1. 5\n",
       "2. 6\n",
       "\n",
       "\n"
      ],
      "text/plain": [
       "[1] 5 6"
      ]
     },
     "metadata": {},
     "output_type": "display_data"
    },
    {
     "data": {
      "text/html": [
       "<style>\n",
       ".list-inline {list-style: none; margin:0; padding: 0}\n",
       ".list-inline>li {display: inline-block}\n",
       ".list-inline>li:not(:last-child)::after {content: \"\\00b7\"; padding: 0 .5ex}\n",
       "</style>\n",
       "<ol class=list-inline><li>1.5</li><li>3.5</li><li>5.5</li><li>7.5</li><li>9.5</li></ol>\n"
      ],
      "text/latex": [
       "\\begin{enumerate*}\n",
       "\\item 1.5\n",
       "\\item 3.5\n",
       "\\item 5.5\n",
       "\\item 7.5\n",
       "\\item 9.5\n",
       "\\end{enumerate*}\n"
      ],
      "text/markdown": [
       "1. 1.5\n",
       "2. 3.5\n",
       "3. 5.5\n",
       "4. 7.5\n",
       "5. 9.5\n",
       "\n",
       "\n"
      ],
      "text/plain": [
       "[1] 1.5 3.5 5.5 7.5 9.5"
      ]
     },
     "metadata": {},
     "output_type": "display_data"
    },
    {
     "name": "stdout",
     "output_type": "stream",
     "text": [
      "     [,1] [,2] [,3]\n",
      "[1,]    1    2    3\n",
      "[2,]    2    3    4\n"
     ]
    },
    {
     "data": {
      "text/html": [
       "<style>\n",
       ".list-inline {list-style: none; margin:0; padding: 0}\n",
       ".list-inline>li {display: inline-block}\n",
       ".list-inline>li:not(:last-child)::after {content: \"\\00b7\"; padding: 0 .5ex}\n",
       "</style>\n",
       "<ol class=list-inline><li>6</li><li>9</li></ol>\n"
      ],
      "text/latex": [
       "\\begin{enumerate*}\n",
       "\\item 6\n",
       "\\item 9\n",
       "\\end{enumerate*}\n"
      ],
      "text/markdown": [
       "1. 6\n",
       "2. 9\n",
       "\n",
       "\n"
      ],
      "text/plain": [
       "[1] 6 9"
      ]
     },
     "metadata": {},
     "output_type": "display_data"
    },
    {
     "data": {
      "text/html": [
       "<style>\n",
       ".list-inline {list-style: none; margin:0; padding: 0}\n",
       ".list-inline>li {display: inline-block}\n",
       ".list-inline>li:not(:last-child)::after {content: \"\\00b7\"; padding: 0 .5ex}\n",
       "</style>\n",
       "<ol class=list-inline><li>3</li><li>5</li><li>7</li></ol>\n"
      ],
      "text/latex": [
       "\\begin{enumerate*}\n",
       "\\item 3\n",
       "\\item 5\n",
       "\\item 7\n",
       "\\end{enumerate*}\n"
      ],
      "text/markdown": [
       "1. 3\n",
       "2. 5\n",
       "3. 7\n",
       "\n",
       "\n"
      ],
      "text/plain": [
       "[1] 3 5 7"
      ]
     },
     "metadata": {},
     "output_type": "display_data"
    }
   ],
   "source": [
    "apply(A,2,mean) # średnie po kolumnach (można też po dataframe jeżeli zawiera liczby)\n",
    "#funkcje działające szybko:\n",
    "print(A)\n",
    "rowMeans(A)\n",
    "colMeans(A)\n",
    "print(B)\n",
    "rowSums(B)\n",
    "colSums(B)"
   ]
  },
  {
   "cell_type": "code",
   "execution_count": 35,
   "id": "5f5d1197",
   "metadata": {
    "execution": {
     "iopub.execute_input": "2022-12-14T09:48:55.151313Z",
     "iopub.status.busy": "2022-12-14T09:48:55.149165Z",
     "iopub.status.idle": "2022-12-14T09:48:55.174244Z",
     "shell.execute_reply": "2022-12-14T09:48:55.171943Z"
    },
    "papermill": {
     "duration": 0.055333,
     "end_time": "2022-12-14T09:48:55.177345",
     "exception": false,
     "start_time": "2022-12-14T09:48:55.122012",
     "status": "completed"
    },
    "tags": []
   },
   "outputs": [
    {
     "name": "stdout",
     "output_type": "stream",
     "text": [
      "     [,1] [,2] [,3]\n",
      "[1,]    1    2    3\n",
      "[2,]    2    3    4\n",
      "     [,1] [,2]\n",
      "[1,]    1    2\n",
      "[2,]    2    3\n",
      "[3,]    3    4\n"
     ]
    }
   ],
   "source": [
    "B_transposed<- t(B) #transpozycja macierzy, funkcja t\n",
    "print(B)\n",
    "print(B_transposed)"
   ]
  },
  {
   "cell_type": "code",
   "execution_count": 36,
   "id": "74b4a516",
   "metadata": {
    "execution": {
     "iopub.execute_input": "2022-12-14T09:48:55.224298Z",
     "iopub.status.busy": "2022-12-14T09:48:55.222456Z",
     "iopub.status.idle": "2022-12-14T09:48:55.251342Z",
     "shell.execute_reply": "2022-12-14T09:48:55.248595Z"
    },
    "papermill": {
     "duration": 0.056732,
     "end_time": "2022-12-14T09:48:55.255195",
     "exception": false,
     "start_time": "2022-12-14T09:48:55.198463",
     "status": "completed"
    },
    "tags": []
   },
   "outputs": [
    {
     "data": {
      "text/html": [
       "<table class=\"dataframe\">\n",
       "<caption>A matrix: 2 × 2 of type dbl</caption>\n",
       "<tbody>\n",
       "\t<tr><td>14</td><td>20</td></tr>\n",
       "\t<tr><td>20</td><td>29</td></tr>\n",
       "</tbody>\n",
       "</table>\n"
      ],
      "text/latex": [
       "A matrix: 2 × 2 of type dbl\n",
       "\\begin{tabular}{ll}\n",
       "\t 14 & 20\\\\\n",
       "\t 20 & 29\\\\\n",
       "\\end{tabular}\n"
      ],
      "text/markdown": [
       "\n",
       "A matrix: 2 × 2 of type dbl\n",
       "\n",
       "| 14 | 20 |\n",
       "| 20 | 29 |\n",
       "\n"
      ],
      "text/plain": [
       "     [,1] [,2]\n",
       "[1,] 14   20  \n",
       "[2,] 20   29  "
      ]
     },
     "metadata": {},
     "output_type": "display_data"
    }
   ],
   "source": [
    "B %*% B_transposed #mnożenie macierzy 2X3 %*% 3X2 = 2X2"
   ]
  },
  {
   "cell_type": "code",
   "execution_count": 37,
   "id": "0350984c",
   "metadata": {
    "execution": {
     "iopub.execute_input": "2022-12-14T09:48:55.309106Z",
     "iopub.status.busy": "2022-12-14T09:48:55.306868Z",
     "iopub.status.idle": "2022-12-14T09:48:55.336270Z",
     "shell.execute_reply": "2022-12-14T09:48:55.333462Z"
    },
    "papermill": {
     "duration": 0.061566,
     "end_time": "2022-12-14T09:48:55.340750",
     "exception": false,
     "start_time": "2022-12-14T09:48:55.279184",
     "status": "completed"
    },
    "tags": []
   },
   "outputs": [
    {
     "data": {
      "text/html": [
       "<style>\n",
       ".list-inline {list-style: none; margin:0; padding: 0}\n",
       ".list-inline>li {display: inline-block}\n",
       ".list-inline>li:not(:last-child)::after {content: \"\\00b7\"; padding: 0 .5ex}\n",
       "</style>\n",
       "<ol class=list-inline><li>14</li><li>29</li></ol>\n"
      ],
      "text/latex": [
       "\\begin{enumerate*}\n",
       "\\item 14\n",
       "\\item 29\n",
       "\\end{enumerate*}\n"
      ],
      "text/markdown": [
       "1. 14\n",
       "2. 29\n",
       "\n",
       "\n"
      ],
      "text/plain": [
       "[1] 14 29"
      ]
     },
     "metadata": {},
     "output_type": "display_data"
    }
   ],
   "source": [
    "BBt<-B %*% B_transposed\n",
    "diag(BBt) # przekątna"
   ]
  },
  {
   "cell_type": "markdown",
   "id": "2f4af85a",
   "metadata": {},
   "source": [
    "## Funkcja t.test i korekta p.wartości"
   ]
  },
  {
   "cell_type": "code",
   "execution_count": null,
   "id": "8955e409",
   "metadata": {},
   "outputs": [],
   "source": []
  },
  {
   "cell_type": "markdown",
   "id": "c9bc687f",
   "metadata": {},
   "source": [
    "## Wykresy i wizualizacje"
   ]
  },
  {
   "cell_type": "code",
   "execution_count": null,
   "id": "6906f8ab",
   "metadata": {},
   "outputs": [],
   "source": []
  }
 ],
 "metadata": {
  "kernelspec": {
   "display_name": "R",
   "language": "R",
   "name": "ir"
  },
  "language_info": {
   "codemirror_mode": "r",
   "file_extension": ".r",
   "mimetype": "text/x-r-source",
   "name": "R",
   "pygments_lexer": "r",
   "version": "3.6.1"
  },
  "papermill": {
   "default_parameters": {},
   "duration": 13.974273,
   "end_time": "2022-12-14T09:48:55.693061",
   "environment_variables": {},
   "exception": null,
   "input_path": "__notebook__.ipynb",
   "output_path": "__notebook__.ipynb",
   "parameters": {},
   "start_time": "2022-12-14T09:48:41.718788",
   "version": "2.4.0"
  }
 },
 "nbformat": 4,
 "nbformat_minor": 5
}
