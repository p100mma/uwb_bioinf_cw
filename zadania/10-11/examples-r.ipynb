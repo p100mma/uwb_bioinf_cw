{
 "cells": [
  {
   "cell_type": "markdown",
   "id": "ce1088b4",
   "metadata": {
    "papermill": {
     "duration": 0.017937,
     "end_time": "2022-12-21T08:30:55.185766",
     "exception": false,
     "start_time": "2022-12-21T08:30:55.167829",
     "status": "completed"
    },
    "tags": []
   },
   "source": [
    "## Wektory atomiczne"
   ]
  },
  {
   "cell_type": "markdown",
   "id": "4c123d00",
   "metadata": {
    "papermill": {
     "duration": 0.01566,
     "end_time": "2022-12-21T08:30:55.217751",
     "exception": false,
     "start_time": "2022-12-21T08:30:55.202091",
     "status": "completed"
    },
    "tags": []
   },
   "source": [
    "Podstawowy typ danych: wektor atomiczny\n",
    "\n",
    "przypisanie: operator `=` lub `<-`\n",
    "\n",
    "`length(x)` - długość wektora"
   ]
  },
  {
   "cell_type": "code",
   "execution_count": 1,
   "id": "82bee05d",
   "metadata": {
    "execution": {
     "iopub.execute_input": "2022-12-21T08:30:55.255980Z",
     "iopub.status.busy": "2022-12-21T08:30:55.253555Z",
     "iopub.status.idle": "2022-12-21T08:30:55.423198Z",
     "shell.execute_reply": "2022-12-21T08:30:55.421628Z"
    },
    "papermill": {
     "duration": 0.186737,
     "end_time": "2022-12-21T08:30:55.425644",
     "exception": false,
     "start_time": "2022-12-21T08:30:55.238907",
     "status": "completed"
    },
    "scrolled": true,
    "tags": []
   },
   "outputs": [
    {
     "name": "stdout",
     "output_type": "stream",
     "text": [
      "[1] 1 2 3\n",
      "[1] \"numeric\"\n",
      "[1] \"character\"\n"
     ]
    },
    {
     "data": {
      "text/html": [
       "3"
      ],
      "text/latex": [
       "3"
      ],
      "text/markdown": [
       "3"
      ],
      "text/plain": [
       "[1] 3"
      ]
     },
     "metadata": {},
     "output_type": "display_data"
    },
    {
     "data": {
      "text/html": [
       "4"
      ],
      "text/latex": [
       "4"
      ],
      "text/markdown": [
       "4"
      ],
      "text/plain": [
       "[1] 4"
      ]
     },
     "metadata": {},
     "output_type": "display_data"
    },
    {
     "data": {
      "text/html": [
       "1"
      ],
      "text/latex": [
       "1"
      ],
      "text/markdown": [
       "1"
      ],
      "text/plain": [
       "[1] 1"
      ]
     },
     "metadata": {},
     "output_type": "display_data"
    },
    {
     "data": {
      "text/html": [
       "TRUE"
      ],
      "text/latex": [
       "TRUE"
      ],
      "text/markdown": [
       "TRUE"
      ],
      "text/plain": [
       "[1] TRUE"
      ]
     },
     "metadata": {},
     "output_type": "display_data"
    },
    {
     "data": {
      "text/html": [
       "<style>\n",
       ".list-inline {list-style: none; margin:0; padding: 0}\n",
       ".list-inline>li {display: inline-block}\n",
       ".list-inline>li:not(:last-child)::after {content: \"\\00b7\"; padding: 0 .5ex}\n",
       "</style>\n",
       "<ol class=list-inline><li>FALSE</li><li>FALSE</li><li>TRUE</li><li>TRUE</li></ol>\n"
      ],
      "text/latex": [
       "\\begin{enumerate*}\n",
       "\\item FALSE\n",
       "\\item FALSE\n",
       "\\item TRUE\n",
       "\\item TRUE\n",
       "\\end{enumerate*}\n"
      ],
      "text/markdown": [
       "1. FALSE\n",
       "2. FALSE\n",
       "3. TRUE\n",
       "4. TRUE\n",
       "\n",
       "\n"
      ],
      "text/plain": [
       "[1] FALSE FALSE  TRUE  TRUE"
      ]
     },
     "metadata": {},
     "output_type": "display_data"
    }
   ],
   "source": [
    "x=c(1,2,3)  # najprostszy sposób deklaracji wektora, za pomocą funkcji c\n",
    "print(x)\n",
    "print(class(x))\n",
    "x2=c(\"a\",\"b\",\"c\",\"d\")\n",
    "print(class(x2))\n",
    "length(x)\n",
    "length(x2)\n",
    "length(3.14)   #taka liczba to też wektor ( z długością 1)\n",
    "x3=3.14\n",
    "x3==3.14  # wektor wartości logicznych\n",
    "x2 == c(\"c\",\"c\",\"c\",\"d\")\n"
   ]
  },
  {
   "cell_type": "markdown",
   "id": "5912565c",
   "metadata": {
    "papermill": {
     "duration": 0.013271,
     "end_time": "2022-12-21T08:30:55.452378",
     "exception": false,
     "start_time": "2022-12-21T08:30:55.439107",
     "status": "completed"
    },
    "tags": []
   },
   "source": [
    "Funkcja `c`  generalnie służy do łączenia (konkatenacji, `c`oncatenation). Pisząc `i:j` możemy tworzyć wektor zawierający liczby od `i` do `j` włącznie."
   ]
  },
  {
   "cell_type": "code",
   "execution_count": 2,
   "id": "5e413aff",
   "metadata": {
    "execution": {
     "iopub.execute_input": "2022-12-21T08:30:55.506350Z",
     "iopub.status.busy": "2022-12-21T08:30:55.479457Z",
     "iopub.status.idle": "2022-12-21T08:30:57.545679Z",
     "shell.execute_reply": "2022-12-21T08:30:57.543848Z"
    },
    "papermill": {
     "duration": 2.082548,
     "end_time": "2022-12-21T08:30:57.547580",
     "exception": false,
     "start_time": "2022-12-21T08:30:55.465032",
     "status": "completed"
    },
    "scrolled": true,
    "tags": []
   },
   "outputs": [
    {
     "name": "stdout",
     "output_type": "stream",
     "text": [
      "[1] 1 2 3\n",
      "[1] 4 5 6 7 8\n",
      "[1] 1 2 3 4 5 6 7 8\n"
     ]
    }
   ],
   "source": [
    "geneList <-readRDS('/kaggle/input/bioinf-assignment/geneExprList.rds')\n",
    "x1<- c(1,2,3)\n",
    "x3<- 4:8\n",
    "big_x<- c(x1,x3)\n",
    "print(x1)\n",
    "print(x3)\n",
    "print(big_x)"
   ]
  },
  {
   "cell_type": "markdown",
   "id": "3f3e4e57",
   "metadata": {
    "papermill": {
     "duration": 0.012959,
     "end_time": "2022-12-21T08:30:57.574622",
     "exception": false,
     "start_time": "2022-12-21T08:30:57.561663",
     "status": "completed"
    },
    "tags": []
   },
   "source": [
    "## Listy\n",
    "Lista różni się od wektora atomicznego- może zawierać różne typy danych, w tym inne listy (dość podobna do listy w Pythonie). Listę można indeksować tak jak wektor."
   ]
  },
  {
   "cell_type": "code",
   "execution_count": 3,
   "id": "975a6bfd",
   "metadata": {
    "execution": {
     "iopub.execute_input": "2022-12-21T08:30:57.603484Z",
     "iopub.status.busy": "2022-12-21T08:30:57.602269Z",
     "iopub.status.idle": "2022-12-21T08:30:57.613051Z",
     "shell.execute_reply": "2022-12-21T08:30:57.611784Z"
    },
    "papermill": {
     "duration": 0.027079,
     "end_time": "2022-12-21T08:30:57.615118",
     "exception": false,
     "start_time": "2022-12-21T08:30:57.588039",
     "status": "completed"
    },
    "tags": []
   },
   "outputs": [],
   "source": [
    "list_1<- list(1, \"a\", \"b\", 2, list(1,1,2))"
   ]
  },
  {
   "cell_type": "code",
   "execution_count": 4,
   "id": "f02bf032",
   "metadata": {
    "execution": {
     "iopub.execute_input": "2022-12-21T08:30:57.646166Z",
     "iopub.status.busy": "2022-12-21T08:30:57.644848Z",
     "iopub.status.idle": "2022-12-21T08:30:57.664613Z",
     "shell.execute_reply": "2022-12-21T08:30:57.663167Z"
    },
    "papermill": {
     "duration": 0.037582,
     "end_time": "2022-12-21T08:30:57.666946",
     "exception": false,
     "start_time": "2022-12-21T08:30:57.629364",
     "status": "completed"
    },
    "tags": []
   },
   "outputs": [
    {
     "data": {
      "text/html": [
       "5"
      ],
      "text/latex": [
       "5"
      ],
      "text/markdown": [
       "5"
      ],
      "text/plain": [
       "[1] 5"
      ]
     },
     "metadata": {},
     "output_type": "display_data"
    },
    {
     "data": {
      "text/html": [
       "<ol>\n",
       "\t<li>2</li>\n",
       "\t<li><ol>\n",
       "\t<li>1</li>\n",
       "\t<li>1</li>\n",
       "\t<li>2</li>\n",
       "</ol>\n",
       "</li>\n",
       "</ol>\n"
      ],
      "text/latex": [
       "\\begin{enumerate}\n",
       "\\item 2\n",
       "\\item \\begin{enumerate}\n",
       "\\item 1\n",
       "\\item 1\n",
       "\\item 2\n",
       "\\end{enumerate}\n",
       "\n",
       "\\end{enumerate}\n"
      ],
      "text/markdown": [
       "1. 2\n",
       "2. 1. 1\n",
       "2. 1\n",
       "3. 2\n",
       "\n",
       "\n",
       "\n",
       "\n",
       "\n"
      ],
      "text/plain": [
       "[[1]]\n",
       "[1] 2\n",
       "\n",
       "[[2]]\n",
       "[[2]][[1]]\n",
       "[1] 1\n",
       "\n",
       "[[2]][[2]]\n",
       "[1] 1\n",
       "\n",
       "[[2]][[3]]\n",
       "[1] 2\n",
       "\n"
      ]
     },
     "metadata": {},
     "output_type": "display_data"
    }
   ],
   "source": [
    "length(list_1)\n",
    "\n",
    "list_1[4:5]"
   ]
  },
  {
   "cell_type": "markdown",
   "id": "b31ece3e",
   "metadata": {
    "papermill": {
     "duration": 0.013508,
     "end_time": "2022-12-21T08:30:57.694139",
     "exception": false,
     "start_time": "2022-12-21T08:30:57.680631",
     "status": "completed"
    },
    "tags": []
   },
   "source": [
    "### Lista z nazwanymi elementami"
   ]
  },
  {
   "cell_type": "code",
   "execution_count": 5,
   "id": "d92ab5a0",
   "metadata": {
    "execution": {
     "iopub.execute_input": "2022-12-21T08:30:57.725063Z",
     "iopub.status.busy": "2022-12-21T08:30:57.723436Z",
     "iopub.status.idle": "2022-12-21T08:30:57.740082Z",
     "shell.execute_reply": "2022-12-21T08:30:57.738240Z"
    },
    "papermill": {
     "duration": 0.034911,
     "end_time": "2022-12-21T08:30:57.742508",
     "exception": false,
     "start_time": "2022-12-21T08:30:57.707597",
     "status": "completed"
    },
    "tags": []
   },
   "outputs": [
    {
     "name": "stdout",
     "output_type": "stream",
     "text": [
      "$a1\n",
      "[1] 3\n",
      "\n",
      "$b2\n",
      "[1] 222\n",
      "\n",
      "$trzeci\n",
      "[1] 1 2 3\n",
      "\n"
     ]
    }
   ],
   "source": [
    "named_l<- list(a1=3, b2=222, trzeci=c(1,2,3))\n",
    "print(named_l)"
   ]
  },
  {
   "cell_type": "code",
   "execution_count": 6,
   "id": "f37786a9",
   "metadata": {
    "execution": {
     "iopub.execute_input": "2022-12-21T08:30:57.771819Z",
     "iopub.status.busy": "2022-12-21T08:30:57.770447Z",
     "iopub.status.idle": "2022-12-21T08:30:57.786403Z",
     "shell.execute_reply": "2022-12-21T08:30:57.784320Z"
    },
    "papermill": {
     "duration": 0.033172,
     "end_time": "2022-12-21T08:30:57.788939",
     "exception": false,
     "start_time": "2022-12-21T08:30:57.755767",
     "status": "completed"
    },
    "tags": []
   },
   "outputs": [
    {
     "data": {
      "text/html": [
       "<style>\n",
       ".list-inline {list-style: none; margin:0; padding: 0}\n",
       ".list-inline>li {display: inline-block}\n",
       ".list-inline>li:not(:last-child)::after {content: \"\\00b7\"; padding: 0 .5ex}\n",
       "</style>\n",
       "<ol class=list-inline><li>'a1'</li><li>'b2'</li><li>'trzeci'</li></ol>\n"
      ],
      "text/latex": [
       "\\begin{enumerate*}\n",
       "\\item 'a1'\n",
       "\\item 'b2'\n",
       "\\item 'trzeci'\n",
       "\\end{enumerate*}\n"
      ],
      "text/markdown": [
       "1. 'a1'\n",
       "2. 'b2'\n",
       "3. 'trzeci'\n",
       "\n",
       "\n"
      ],
      "text/plain": [
       "[1] \"a1\"     \"b2\"     \"trzeci\""
      ]
     },
     "metadata": {},
     "output_type": "display_data"
    }
   ],
   "source": [
    "names(named_l)"
   ]
  },
  {
   "cell_type": "code",
   "execution_count": 7,
   "id": "6e5f0fc5",
   "metadata": {
    "execution": {
     "iopub.execute_input": "2022-12-21T08:30:57.819564Z",
     "iopub.status.busy": "2022-12-21T08:30:57.818144Z",
     "iopub.status.idle": "2022-12-21T08:30:57.839611Z",
     "shell.execute_reply": "2022-12-21T08:30:57.837944Z"
    },
    "papermill": {
     "duration": 0.039216,
     "end_time": "2022-12-21T08:30:57.841849",
     "exception": false,
     "start_time": "2022-12-21T08:30:57.802633",
     "status": "completed"
    },
    "tags": []
   },
   "outputs": [
    {
     "data": {
      "text/html": [
       "<style>\n",
       ".list-inline {list-style: none; margin:0; padding: 0}\n",
       ".list-inline>li {display: inline-block}\n",
       ".list-inline>li:not(:last-child)::after {content: \"\\00b7\"; padding: 0 .5ex}\n",
       "</style>\n",
       "<ol class=list-inline><li>1</li><li>2</li><li>3</li></ol>\n"
      ],
      "text/latex": [
       "\\begin{enumerate*}\n",
       "\\item 1\n",
       "\\item 2\n",
       "\\item 3\n",
       "\\end{enumerate*}\n"
      ],
      "text/markdown": [
       "1. 1\n",
       "2. 2\n",
       "3. 3\n",
       "\n",
       "\n"
      ],
      "text/plain": [
       "[1] 1 2 3"
      ]
     },
     "metadata": {},
     "output_type": "display_data"
    },
    {
     "data": {
      "text/html": [
       "3"
      ],
      "text/latex": [
       "3"
      ],
      "text/markdown": [
       "3"
      ],
      "text/plain": [
       "[1] 3"
      ]
     },
     "metadata": {},
     "output_type": "display_data"
    }
   ],
   "source": [
    "named_l[[\"trzeci\"]]\n",
    "named_l[[\"a1\"]]"
   ]
  },
  {
   "cell_type": "code",
   "execution_count": 8,
   "id": "18670024",
   "metadata": {
    "execution": {
     "iopub.execute_input": "2022-12-21T08:30:57.873461Z",
     "iopub.status.busy": "2022-12-21T08:30:57.871964Z",
     "iopub.status.idle": "2022-12-21T08:30:57.891916Z",
     "shell.execute_reply": "2022-12-21T08:30:57.889394Z"
    },
    "papermill": {
     "duration": 0.038644,
     "end_time": "2022-12-21T08:30:57.894474",
     "exception": false,
     "start_time": "2022-12-21T08:30:57.855830",
     "status": "completed"
    },
    "tags": []
   },
   "outputs": [
    {
     "name": "stdout",
     "output_type": "stream",
     "text": [
      "$`nowa nazwa1`\n",
      "[1] 3\n",
      "\n",
      "$`nowa nazwa2`\n",
      "[1] 222\n",
      "\n",
      "$`nowa nazwa 3`\n",
      "[1] 1 2 3\n",
      "\n"
     ]
    }
   ],
   "source": [
    "names(named_l)<- c(\"nowa nazwa1\", \"nowa nazwa2\", \"nowa nazwa 3\")\n",
    "print(named_l)"
   ]
  },
  {
   "cell_type": "markdown",
   "id": "fdc8cb7d",
   "metadata": {
    "papermill": {
     "duration": 0.013706,
     "end_time": "2022-12-21T08:30:57.922745",
     "exception": false,
     "start_time": "2022-12-21T08:30:57.909039",
     "status": "completed"
    },
    "tags": []
   },
   "source": [
    "## Indeksowanie, 2 sposoby"
   ]
  },
  {
   "cell_type": "markdown",
   "id": "f9583f3a",
   "metadata": {
    "papermill": {
     "duration": 0.013776,
     "end_time": "2022-12-21T08:30:57.950909",
     "exception": false,
     "start_time": "2022-12-21T08:30:57.937133",
     "status": "completed"
    },
    "tags": []
   },
   "source": [
    "`x[[i]]` - zawsze zwróci `i`-ty element `x`\n",
    "\n",
    "`x[i]` - zwróci `i`-ty element `x` w \"opakowaniu\" (dla `x` wektora atomicznegp będzie to wektor atomiczny, ale dla dla listy- zwróci listę z jednym elementem)"
   ]
  },
  {
   "cell_type": "code",
   "execution_count": 9,
   "id": "6dae13cc",
   "metadata": {
    "execution": {
     "iopub.execute_input": "2022-12-21T08:30:57.982666Z",
     "iopub.status.busy": "2022-12-21T08:30:57.981214Z",
     "iopub.status.idle": "2022-12-21T08:30:58.004345Z",
     "shell.execute_reply": "2022-12-21T08:30:58.002788Z"
    },
    "papermill": {
     "duration": 0.041611,
     "end_time": "2022-12-21T08:30:58.006439",
     "exception": false,
     "start_time": "2022-12-21T08:30:57.964828",
     "status": "completed"
    },
    "tags": []
   },
   "outputs": [
    {
     "data": {
      "text/html": [
       "'c'"
      ],
      "text/latex": [
       "'c'"
      ],
      "text/markdown": [
       "'c'"
      ],
      "text/plain": [
       "[1] \"c\""
      ]
     },
     "metadata": {},
     "output_type": "display_data"
    },
    {
     "data": {
      "text/html": [
       "<ol>\n",
       "\t<li>'c'</li>\n",
       "</ol>\n"
      ],
      "text/latex": [
       "\\begin{enumerate}\n",
       "\\item 'c'\n",
       "\\end{enumerate}\n"
      ],
      "text/markdown": [
       "1. 'c'\n",
       "\n",
       "\n"
      ],
      "text/plain": [
       "[[1]]\n",
       "[1] \"c\"\n"
      ]
     },
     "metadata": {},
     "output_type": "display_data"
    }
   ],
   "source": [
    "\n",
    "x2= list(\"a\",\"b\",\"c\")\n",
    "x2[[3]]\n",
    "x2[3]"
   ]
  },
  {
   "cell_type": "markdown",
   "id": "84fd5861",
   "metadata": {
    "papermill": {
     "duration": 0.014056,
     "end_time": "2022-12-21T08:30:58.035188",
     "exception": false,
     "start_time": "2022-12-21T08:30:58.021132",
     "status": "completed"
    },
    "tags": []
   },
   "source": [
    "### Indeksowanie wektorów i list\n",
    "\n",
    "`x[[i]]` -- weź tylko element na pozycji $i$\n",
    "\n",
    "`x[i]` -- weź element na pozycji $i$ z opakowaniem (dla wektora atomicznego, będzie to nadal wektor atomiczny, dla listy- lista z jednym elementem)\n",
    "\n",
    "`x[i:j]` -- weź elementy od `i` do `j` opakowane np. listę od i do j, jeżeli x jest listą."
   ]
  },
  {
   "cell_type": "code",
   "execution_count": 10,
   "id": "50305749",
   "metadata": {
    "execution": {
     "iopub.execute_input": "2022-12-21T08:30:58.066647Z",
     "iopub.status.busy": "2022-12-21T08:30:58.065139Z",
     "iopub.status.idle": "2022-12-21T08:30:58.091032Z",
     "shell.execute_reply": "2022-12-21T08:30:58.089674Z"
    },
    "papermill": {
     "duration": 0.043752,
     "end_time": "2022-12-21T08:30:58.092888",
     "exception": false,
     "start_time": "2022-12-21T08:30:58.049136",
     "status": "completed"
    },
    "tags": []
   },
   "outputs": [
    {
     "data": {
      "text/html": [
       "<ol>\n",
       "\t<li>1</li>\n",
       "</ol>\n"
      ],
      "text/latex": [
       "\\begin{enumerate}\n",
       "\\item 1\n",
       "\\end{enumerate}\n"
      ],
      "text/markdown": [
       "1. 1\n",
       "\n",
       "\n"
      ],
      "text/plain": [
       "[[1]]\n",
       "[1] 1\n"
      ]
     },
     "metadata": {},
     "output_type": "display_data"
    },
    {
     "data": {
      "text/html": [
       "1"
      ],
      "text/latex": [
       "1"
      ],
      "text/markdown": [
       "1"
      ],
      "text/plain": [
       "[1] 1"
      ]
     },
     "metadata": {},
     "output_type": "display_data"
    }
   ],
   "source": [
    "list_1[1]\n",
    "list_1[[1]]\n"
   ]
  },
  {
   "cell_type": "code",
   "execution_count": 11,
   "id": "fe9cdfe4",
   "metadata": {
    "execution": {
     "iopub.execute_input": "2022-12-21T08:30:58.124507Z",
     "iopub.status.busy": "2022-12-21T08:30:58.123079Z",
     "iopub.status.idle": "2022-12-21T08:30:58.144046Z",
     "shell.execute_reply": "2022-12-21T08:30:58.142570Z"
    },
    "papermill": {
     "duration": 0.038915,
     "end_time": "2022-12-21T08:30:58.145928",
     "exception": false,
     "start_time": "2022-12-21T08:30:58.107013",
     "status": "completed"
    },
    "tags": []
   },
   "outputs": [
    {
     "name": "stdout",
     "output_type": "stream",
     "text": [
      "[[1]]\n",
      "[1] 1\n",
      "\n",
      "[[2]]\n",
      "[1] \"a\"\n",
      "\n",
      "[[3]]\n",
      "[1] \"b\"\n",
      "\n",
      "[[4]]\n",
      "[1] 2\n",
      "\n",
      "[[5]]\n",
      "[[5]][[1]]\n",
      "[1] 1\n",
      "\n",
      "[[5]][[2]]\n",
      "[1] 1\n",
      "\n",
      "[[5]][[3]]\n",
      "[1] 2\n",
      "\n",
      "\n",
      "[1] \"podlista elementów list_1 od 4 do 5\"\n"
     ]
    },
    {
     "data": {
      "text/html": [
       "<ol>\n",
       "\t<li>2</li>\n",
       "\t<li><ol>\n",
       "\t<li>1</li>\n",
       "\t<li>1</li>\n",
       "\t<li>2</li>\n",
       "</ol>\n",
       "</li>\n",
       "</ol>\n"
      ],
      "text/latex": [
       "\\begin{enumerate}\n",
       "\\item 2\n",
       "\\item \\begin{enumerate}\n",
       "\\item 1\n",
       "\\item 1\n",
       "\\item 2\n",
       "\\end{enumerate}\n",
       "\n",
       "\\end{enumerate}\n"
      ],
      "text/markdown": [
       "1. 2\n",
       "2. 1. 1\n",
       "2. 1\n",
       "3. 2\n",
       "\n",
       "\n",
       "\n",
       "\n",
       "\n"
      ],
      "text/plain": [
       "[[1]]\n",
       "[1] 2\n",
       "\n",
       "[[2]]\n",
       "[[2]][[1]]\n",
       "[1] 1\n",
       "\n",
       "[[2]][[2]]\n",
       "[1] 1\n",
       "\n",
       "[[2]][[3]]\n",
       "[1] 2\n",
       "\n"
      ]
     },
     "metadata": {},
     "output_type": "display_data"
    }
   ],
   "source": [
    "print(list_1)\n",
    "print(\"podlista elementów list_1 od 4 do 5\")\n",
    "list_1[4:5]"
   ]
  },
  {
   "cell_type": "markdown",
   "id": "bddea7fa",
   "metadata": {
    "papermill": {
     "duration": 0.014327,
     "end_time": "2022-12-21T08:30:58.174995",
     "exception": false,
     "start_time": "2022-12-21T08:30:58.160668",
     "status": "completed"
    },
    "tags": []
   },
   "source": [
    "Wektory wartości logicznych mogą służyć do indeksowania (poniżej- tylko element z indeksem nr 3). Indeksować poprzez wektor wartości logicznych można zarówno listy jak i wektory atomiczne (jak i struktury wielowymiarowe)."
   ]
  },
  {
   "cell_type": "code",
   "execution_count": 12,
   "id": "164516e7",
   "metadata": {
    "execution": {
     "iopub.execute_input": "2022-12-21T08:30:58.212589Z",
     "iopub.status.busy": "2022-12-21T08:30:58.211293Z",
     "iopub.status.idle": "2022-12-21T08:30:58.228088Z",
     "shell.execute_reply": "2022-12-21T08:30:58.226734Z"
    },
    "papermill": {
     "duration": 0.040612,
     "end_time": "2022-12-21T08:30:58.230198",
     "exception": false,
     "start_time": "2022-12-21T08:30:58.189586",
     "status": "completed"
    },
    "tags": []
   },
   "outputs": [
    {
     "data": {
      "text/html": [
       "3"
      ],
      "text/latex": [
       "3"
      ],
      "text/markdown": [
       "3"
      ],
      "text/plain": [
       "[1] 3"
      ]
     },
     "metadata": {},
     "output_type": "display_data"
    }
   ],
   "source": [
    "x_logical= c(FALSE,FALSE,TRUE,FALSE,\n",
    "             FALSE,FALSE,FALSE,FALSE)\n",
    "\n",
    "big_x[x_logical]"
   ]
  },
  {
   "cell_type": "markdown",
   "id": "139c5308",
   "metadata": {
    "papermill": {
     "duration": 0.015893,
     "end_time": "2022-12-21T08:30:58.261899",
     "exception": false,
     "start_time": "2022-12-21T08:30:58.246006",
     "status": "completed"
    },
    "tags": []
   },
   "source": [
    "test logiczny na wektorze wytworzy wektor wartości logicznych (testowany jest warunek element-po-elemencie)"
   ]
  },
  {
   "cell_type": "code",
   "execution_count": 13,
   "id": "21359774",
   "metadata": {
    "execution": {
     "iopub.execute_input": "2022-12-21T08:30:58.295633Z",
     "iopub.status.busy": "2022-12-21T08:30:58.294285Z",
     "iopub.status.idle": "2022-12-21T08:30:58.322582Z",
     "shell.execute_reply": "2022-12-21T08:30:58.321063Z"
    },
    "papermill": {
     "duration": 0.047709,
     "end_time": "2022-12-21T08:30:58.324981",
     "exception": false,
     "start_time": "2022-12-21T08:30:58.277272",
     "status": "completed"
    },
    "tags": []
   },
   "outputs": [
    {
     "name": "stdout",
     "output_type": "stream",
     "text": [
      "[1]  TRUE  TRUE  TRUE FALSE FALSE FALSE FALSE FALSE\n"
     ]
    },
    {
     "data": {
      "text/html": [
       "<style>\n",
       ".list-inline {list-style: none; margin:0; padding: 0}\n",
       ".list-inline>li {display: inline-block}\n",
       ".list-inline>li:not(:last-child)::after {content: \"\\00b7\"; padding: 0 .5ex}\n",
       "</style>\n",
       "<ol class=list-inline><li>1</li><li>2</li><li>3</li></ol>\n"
      ],
      "text/latex": [
       "\\begin{enumerate*}\n",
       "\\item 1\n",
       "\\item 2\n",
       "\\item 3\n",
       "\\end{enumerate*}\n"
      ],
      "text/markdown": [
       "1. 1\n",
       "2. 2\n",
       "3. 3\n",
       "\n",
       "\n"
      ],
      "text/plain": [
       "[1] 1 2 3"
      ]
     },
     "metadata": {},
     "output_type": "display_data"
    },
    {
     "name": "stdout",
     "output_type": "stream",
     "text": [
      "[1] 1 2 3 4 5 6 7 8\n",
      "[1] 8 7 6 5 4 3 2 1\n",
      "[1]  TRUE  TRUE  TRUE  TRUE FALSE FALSE FALSE FALSE\n"
     ]
    }
   ],
   "source": [
    "print(big_x < 4)\n",
    "logical_test<- (big_x < 4)\n",
    "big_x[logical_test] #wybierz te elementy które są mniejsze od 4\n",
    "big_x_reversed<- rev(big_x)  # funkcja rev <- odwraca wektor\n",
    "print(big_x)\n",
    "print(big_x_reversed)\n",
    "print(big_x < big_x_reversed)"
   ]
  },
  {
   "cell_type": "markdown",
   "id": "5e3e3802",
   "metadata": {
    "papermill": {
     "duration": 0.015335,
     "end_time": "2022-12-21T08:30:58.355424",
     "exception": false,
     "start_time": "2022-12-21T08:30:58.340089",
     "status": "completed"
    },
    "tags": []
   },
   "source": [
    "## operator %in%"
   ]
  },
  {
   "cell_type": "code",
   "execution_count": 14,
   "id": "b1589ed9",
   "metadata": {
    "execution": {
     "iopub.execute_input": "2022-12-21T08:30:58.390550Z",
     "iopub.status.busy": "2022-12-21T08:30:58.388729Z",
     "iopub.status.idle": "2022-12-21T08:30:58.408155Z",
     "shell.execute_reply": "2022-12-21T08:30:58.406866Z"
    },
    "papermill": {
     "duration": 0.038668,
     "end_time": "2022-12-21T08:30:58.410289",
     "exception": false,
     "start_time": "2022-12-21T08:30:58.371621",
     "status": "completed"
    },
    "tags": []
   },
   "outputs": [
    {
     "data": {
      "text/html": [
       "FALSE"
      ],
      "text/latex": [
       "FALSE"
      ],
      "text/markdown": [
       "FALSE"
      ],
      "text/plain": [
       "[1] FALSE"
      ]
     },
     "metadata": {},
     "output_type": "display_data"
    },
    {
     "data": {
      "text/html": [
       "TRUE"
      ],
      "text/latex": [
       "TRUE"
      ],
      "text/markdown": [
       "TRUE"
      ],
      "text/plain": [
       "[1] TRUE"
      ]
     },
     "metadata": {},
     "output_type": "display_data"
    }
   ],
   "source": [
    "1 %in% c(2:10)\n",
    "1 %in% c(1:10)"
   ]
  },
  {
   "cell_type": "markdown",
   "id": "e1966584",
   "metadata": {
    "papermill": {
     "duration": 0.015574,
     "end_time": "2022-12-21T08:30:58.441193",
     "exception": false,
     "start_time": "2022-12-21T08:30:58.425619",
     "status": "completed"
    },
    "tags": []
   },
   "source": [
    "## Wartości brakujące"
   ]
  },
  {
   "cell_type": "code",
   "execution_count": 15,
   "id": "598d1100",
   "metadata": {
    "execution": {
     "iopub.execute_input": "2022-12-21T08:30:58.474644Z",
     "iopub.status.busy": "2022-12-21T08:30:58.473490Z",
     "iopub.status.idle": "2022-12-21T08:30:58.485302Z",
     "shell.execute_reply": "2022-12-21T08:30:58.483906Z"
    },
    "papermill": {
     "duration": 0.031136,
     "end_time": "2022-12-21T08:30:58.487715",
     "exception": false,
     "start_time": "2022-12-21T08:30:58.456579",
     "status": "completed"
    },
    "tags": []
   },
   "outputs": [],
   "source": [
    "#test czy x jest NULL\n",
    "# NULL to odpowiednik None z Pythona\n",
    "X<-NULL\n"
   ]
  },
  {
   "cell_type": "code",
   "execution_count": 16,
   "id": "2131e9d8",
   "metadata": {
    "execution": {
     "iopub.execute_input": "2022-12-21T08:30:58.521579Z",
     "iopub.status.busy": "2022-12-21T08:30:58.520360Z",
     "iopub.status.idle": "2022-12-21T08:30:58.534497Z",
     "shell.execute_reply": "2022-12-21T08:30:58.532662Z"
    },
    "papermill": {
     "duration": 0.033089,
     "end_time": "2022-12-21T08:30:58.536649",
     "exception": false,
     "start_time": "2022-12-21T08:30:58.503560",
     "status": "completed"
    },
    "tags": []
   },
   "outputs": [
    {
     "data": {
      "text/html": [
       "TRUE"
      ],
      "text/latex": [
       "TRUE"
      ],
      "text/markdown": [
       "TRUE"
      ],
      "text/plain": [
       "[1] TRUE"
      ]
     },
     "metadata": {},
     "output_type": "display_data"
    }
   ],
   "source": [
    "is.null(X) # dobrze"
   ]
  },
  {
   "cell_type": "code",
   "execution_count": 17,
   "id": "48a04428",
   "metadata": {
    "execution": {
     "iopub.execute_input": "2022-12-21T08:30:58.571146Z",
     "iopub.status.busy": "2022-12-21T08:30:58.569669Z",
     "iopub.status.idle": "2022-12-21T08:30:58.582807Z",
     "shell.execute_reply": "2022-12-21T08:30:58.581465Z"
    },
    "papermill": {
     "duration": 0.032624,
     "end_time": "2022-12-21T08:30:58.584752",
     "exception": false,
     "start_time": "2022-12-21T08:30:58.552128",
     "status": "completed"
    },
    "tags": []
   },
   "outputs": [
    {
     "data": {
      "text/html": [],
      "text/latex": [],
      "text/markdown": [],
      "text/plain": [
       "logical(0)"
      ]
     },
     "metadata": {},
     "output_type": "display_data"
    }
   ],
   "source": [
    "X== NULL # ŹLE"
   ]
  },
  {
   "cell_type": "code",
   "execution_count": 18,
   "id": "b21b7837",
   "metadata": {
    "execution": {
     "iopub.execute_input": "2022-12-21T08:30:58.619396Z",
     "iopub.status.busy": "2022-12-21T08:30:58.618135Z",
     "iopub.status.idle": "2022-12-21T08:30:58.640466Z",
     "shell.execute_reply": "2022-12-21T08:30:58.634056Z"
    },
    "papermill": {
     "duration": 0.042057,
     "end_time": "2022-12-21T08:30:58.643088",
     "exception": false,
     "start_time": "2022-12-21T08:30:58.601031",
     "status": "completed"
    },
    "tags": []
   },
   "outputs": [
    {
     "data": {
      "text/html": [
       "<style>\n",
       ".list-inline {list-style: none; margin:0; padding: 0}\n",
       ".list-inline>li {display: inline-block}\n",
       ".list-inline>li:not(:last-child)::after {content: \"\\00b7\"; padding: 0 .5ex}\n",
       "</style>\n",
       "<ol class=list-inline><li>FALSE</li><li>FALSE</li><li>TRUE</li></ol>\n"
      ],
      "text/latex": [
       "\\begin{enumerate*}\n",
       "\\item FALSE\n",
       "\\item FALSE\n",
       "\\item TRUE\n",
       "\\end{enumerate*}\n"
      ],
      "text/markdown": [
       "1. FALSE\n",
       "2. FALSE\n",
       "3. TRUE\n",
       "\n",
       "\n"
      ],
      "text/plain": [
       "[1] FALSE FALSE  TRUE"
      ]
     },
     "metadata": {},
     "output_type": "display_data"
    }
   ],
   "source": [
    "#NA <- wartość brakująca, zazwyczaj oznacza BRAK DANYCH w wektorze liczbowym\n",
    "vec_n<- c(1,2,NA)\n",
    "is.na(vec_n)"
   ]
  },
  {
   "cell_type": "code",
   "execution_count": 19,
   "id": "f5c54833",
   "metadata": {
    "execution": {
     "iopub.execute_input": "2022-12-21T08:30:58.678266Z",
     "iopub.status.busy": "2022-12-21T08:30:58.677019Z",
     "iopub.status.idle": "2022-12-21T08:30:58.691658Z",
     "shell.execute_reply": "2022-12-21T08:30:58.689868Z"
    },
    "papermill": {
     "duration": 0.034897,
     "end_time": "2022-12-21T08:30:58.694031",
     "exception": false,
     "start_time": "2022-12-21T08:30:58.659134",
     "status": "completed"
    },
    "tags": []
   },
   "outputs": [
    {
     "data": {
      "text/html": [
       "<style>\n",
       ".list-inline {list-style: none; margin:0; padding: 0}\n",
       ".list-inline>li {display: inline-block}\n",
       ".list-inline>li:not(:last-child)::after {content: \"\\00b7\"; padding: 0 .5ex}\n",
       "</style>\n",
       "<ol class=list-inline><li>FALSE</li><li>FALSE</li><li>TRUE</li></ol>\n"
      ],
      "text/latex": [
       "\\begin{enumerate*}\n",
       "\\item FALSE\n",
       "\\item FALSE\n",
       "\\item TRUE\n",
       "\\end{enumerate*}\n"
      ],
      "text/markdown": [
       "1. FALSE\n",
       "2. FALSE\n",
       "3. TRUE\n",
       "\n",
       "\n"
      ],
      "text/plain": [
       "[1] FALSE FALSE  TRUE"
      ]
     },
     "metadata": {},
     "output_type": "display_data"
    }
   ],
   "source": [
    "is.na(vec_n) # dobrze"
   ]
  },
  {
   "cell_type": "code",
   "execution_count": 20,
   "id": "8da30384",
   "metadata": {
    "execution": {
     "iopub.execute_input": "2022-12-21T08:30:58.758646Z",
     "iopub.status.busy": "2022-12-21T08:30:58.757536Z",
     "iopub.status.idle": "2022-12-21T08:30:58.771382Z",
     "shell.execute_reply": "2022-12-21T08:30:58.769621Z"
    },
    "papermill": {
     "duration": 0.063354,
     "end_time": "2022-12-21T08:30:58.773719",
     "exception": false,
     "start_time": "2022-12-21T08:30:58.710365",
     "status": "completed"
    },
    "tags": []
   },
   "outputs": [
    {
     "data": {
      "text/html": [
       "<style>\n",
       ".list-inline {list-style: none; margin:0; padding: 0}\n",
       ".list-inline>li {display: inline-block}\n",
       ".list-inline>li:not(:last-child)::after {content: \"\\00b7\"; padding: 0 .5ex}\n",
       "</style>\n",
       "<ol class=list-inline><li>&lt;NA&gt;</li><li>&lt;NA&gt;</li><li>&lt;NA&gt;</li></ol>\n"
      ],
      "text/latex": [
       "\\begin{enumerate*}\n",
       "\\item <NA>\n",
       "\\item <NA>\n",
       "\\item <NA>\n",
       "\\end{enumerate*}\n"
      ],
      "text/markdown": [
       "1. &lt;NA&gt;\n",
       "2. &lt;NA&gt;\n",
       "3. &lt;NA&gt;\n",
       "\n",
       "\n"
      ],
      "text/plain": [
       "[1] NA NA NA"
      ]
     },
     "metadata": {},
     "output_type": "display_data"
    }
   ],
   "source": [
    "vec_n == NA # ŹLE"
   ]
  },
  {
   "cell_type": "markdown",
   "id": "bb6f52d7",
   "metadata": {
    "papermill": {
     "duration": 0.016147,
     "end_time": "2022-12-21T08:30:58.806389",
     "exception": false,
     "start_time": "2022-12-21T08:30:58.790242",
     "status": "completed"
    },
    "tags": []
   },
   "source": [
    "## funkcje, pętle i instrukcje warunkowe w R"
   ]
  },
  {
   "cell_type": "code",
   "execution_count": 21,
   "id": "d8688792",
   "metadata": {
    "execution": {
     "iopub.execute_input": "2022-12-21T08:30:58.843199Z",
     "iopub.status.busy": "2022-12-21T08:30:58.841827Z",
     "iopub.status.idle": "2022-12-21T08:30:58.852262Z",
     "shell.execute_reply": "2022-12-21T08:30:58.850936Z"
    },
    "papermill": {
     "duration": 0.030633,
     "end_time": "2022-12-21T08:30:58.854044",
     "exception": false,
     "start_time": "2022-12-21T08:30:58.823411",
     "status": "completed"
    },
    "tags": []
   },
   "outputs": [],
   "source": [
    "funkcja1<- function(x1, x2)\n",
    "    {\n",
    "        if (length(x1)!= length(x2)) stop(\"nie można wykonać następnego testu bo długości x1 i x2 się różnią\")\n",
    "        if (sum(x1 == x2)==length(x1) ) # x1 == x2 <- wektor wartości logicznych TRUE FALSE\n",
    "            {                           # sum(x1==x2) <- suma wartości TRUE FALSE (TRUE zamieniamy na 1, FALSE na 0)\n",
    "                                        # sum(x1==x2) == length(x1) <- TRUE, tylko gdy są 3 wartości TRUE,\n",
    "                                        # czyli x1 i x2 są równe na każdej pozycji.\n",
    "            print(\" x1 i x2 są równe\")\n",
    "            print(\"coś\")\n",
    "            return(c(1,2,3))\n",
    "            }\n",
    "        else\n",
    "            {\n",
    "            #print(seq_along(x)\n",
    "            for (j in seq_along(x)) #seq_along(x) <- wektor wszystkich indeksów jakie ma x\n",
    "                {\n",
    "                print(x1[j])}\n",
    "            return(c(4,5,6))\n",
    "            \n",
    "            }\n",
    "                \n",
    "            \n",
    "    }"
   ]
  },
  {
   "cell_type": "code",
   "execution_count": 22,
   "id": "b8f822f9",
   "metadata": {
    "execution": {
     "iopub.execute_input": "2022-12-21T08:30:58.889740Z",
     "iopub.status.busy": "2022-12-21T08:30:58.888523Z",
     "iopub.status.idle": "2022-12-21T08:30:58.904650Z",
     "shell.execute_reply": "2022-12-21T08:30:58.902468Z"
    },
    "papermill": {
     "duration": 0.03642,
     "end_time": "2022-12-21T08:30:58.907105",
     "exception": false,
     "start_time": "2022-12-21T08:30:58.870685",
     "status": "completed"
    },
    "tags": []
   },
   "outputs": [
    {
     "name": "stdout",
     "output_type": "stream",
     "text": [
      "[1] 1\n",
      "[1] 2\n",
      "[1] 3\n"
     ]
    },
    {
     "data": {
      "text/html": [
       "<style>\n",
       ".list-inline {list-style: none; margin:0; padding: 0}\n",
       ".list-inline>li {display: inline-block}\n",
       ".list-inline>li:not(:last-child)::after {content: \"\\00b7\"; padding: 0 .5ex}\n",
       "</style>\n",
       "<ol class=list-inline><li>4</li><li>5</li><li>6</li></ol>\n"
      ],
      "text/latex": [
       "\\begin{enumerate*}\n",
       "\\item 4\n",
       "\\item 5\n",
       "\\item 6\n",
       "\\end{enumerate*}\n"
      ],
      "text/markdown": [
       "1. 4\n",
       "2. 5\n",
       "3. 6\n",
       "\n",
       "\n"
      ],
      "text/plain": [
       "[1] 4 5 6"
      ]
     },
     "metadata": {},
     "output_type": "display_data"
    }
   ],
   "source": [
    "funkcja1(c(1,2,3),c(1,2,4))"
   ]
  },
  {
   "cell_type": "markdown",
   "id": "6ba8db7d",
   "metadata": {
    "papermill": {
     "duration": 0.016818,
     "end_time": "2022-12-21T08:30:58.940813",
     "exception": false,
     "start_time": "2022-12-21T08:30:58.923995",
     "status": "completed"
    },
    "tags": []
   },
   "source": [
    "#### seq_along"
   ]
  },
  {
   "cell_type": "code",
   "execution_count": 23,
   "id": "221b8d6a",
   "metadata": {
    "execution": {
     "iopub.execute_input": "2022-12-21T08:30:58.977459Z",
     "iopub.status.busy": "2022-12-21T08:30:58.976118Z",
     "iopub.status.idle": "2022-12-21T08:30:58.994682Z",
     "shell.execute_reply": "2022-12-21T08:30:58.993150Z"
    },
    "papermill": {
     "duration": 0.038969,
     "end_time": "2022-12-21T08:30:58.996385",
     "exception": false,
     "start_time": "2022-12-21T08:30:58.957416",
     "status": "completed"
    },
    "tags": []
   },
   "outputs": [
    {
     "name": "stdout",
     "output_type": "stream",
     "text": [
      "integer(0)\n"
     ]
    },
    {
     "data": {
      "text/html": [
       "<style>\n",
       ".list-inline {list-style: none; margin:0; padding: 0}\n",
       ".list-inline>li {display: inline-block}\n",
       ".list-inline>li:not(:last-child)::after {content: \"\\00b7\"; padding: 0 .5ex}\n",
       "</style>\n",
       "<ol class=list-inline><li>1</li><li>2</li><li>3</li></ol>\n"
      ],
      "text/latex": [
       "\\begin{enumerate*}\n",
       "\\item 1\n",
       "\\item 2\n",
       "\\item 3\n",
       "\\end{enumerate*}\n"
      ],
      "text/markdown": [
       "1. 1\n",
       "2. 2\n",
       "3. 3\n",
       "\n",
       "\n"
      ],
      "text/plain": [
       "[1] 1 2 3"
      ]
     },
     "metadata": {},
     "output_type": "display_data"
    }
   ],
   "source": [
    "v1<-c()\n",
    "print(seq_along(v1))\n",
    "v1<-c(7,6,78)\n",
    "seq_along(v1)"
   ]
  },
  {
   "cell_type": "markdown",
   "id": "896d3228",
   "metadata": {
    "papermill": {
     "duration": 0.016933,
     "end_time": "2022-12-21T08:30:59.029735",
     "exception": false,
     "start_time": "2022-12-21T08:30:59.012802",
     "status": "completed"
    },
    "tags": []
   },
   "source": [
    "#### rep"
   ]
  },
  {
   "cell_type": "code",
   "execution_count": 24,
   "id": "4d9368ae",
   "metadata": {
    "execution": {
     "iopub.execute_input": "2022-12-21T08:30:59.066218Z",
     "iopub.status.busy": "2022-12-21T08:30:59.064863Z",
     "iopub.status.idle": "2022-12-21T08:30:59.082139Z",
     "shell.execute_reply": "2022-12-21T08:30:59.080842Z"
    },
    "papermill": {
     "duration": 0.038764,
     "end_time": "2022-12-21T08:30:59.085000",
     "exception": false,
     "start_time": "2022-12-21T08:30:59.046236",
     "status": "completed"
    },
    "tags": []
   },
   "outputs": [
    {
     "data": {
      "text/html": [
       "<style>\n",
       ".list-inline {list-style: none; margin:0; padding: 0}\n",
       ".list-inline>li {display: inline-block}\n",
       ".list-inline>li:not(:last-child)::after {content: \"\\00b7\"; padding: 0 .5ex}\n",
       "</style>\n",
       "<ol class=list-inline><li>'a'</li><li>'b'</li><li>'a'</li><li>'b'</li></ol>\n"
      ],
      "text/latex": [
       "\\begin{enumerate*}\n",
       "\\item 'a'\n",
       "\\item 'b'\n",
       "\\item 'a'\n",
       "\\item 'b'\n",
       "\\end{enumerate*}\n"
      ],
      "text/markdown": [
       "1. 'a'\n",
       "2. 'b'\n",
       "3. 'a'\n",
       "4. 'b'\n",
       "\n",
       "\n"
      ],
      "text/plain": [
       "[1] \"a\" \"b\" \"a\" \"b\""
      ]
     },
     "metadata": {},
     "output_type": "display_data"
    },
    {
     "data": {
      "text/html": [
       "<style>\n",
       ".list-inline {list-style: none; margin:0; padding: 0}\n",
       ".list-inline>li {display: inline-block}\n",
       ".list-inline>li:not(:last-child)::after {content: \"\\00b7\"; padding: 0 .5ex}\n",
       "</style>\n",
       "<ol class=list-inline><li>'a'</li><li>'a'</li><li>'a'</li><li>'a'</li><li>'b'</li><li>'b'</li><li>'b'</li><li>'b'</li></ol>\n"
      ],
      "text/latex": [
       "\\begin{enumerate*}\n",
       "\\item 'a'\n",
       "\\item 'a'\n",
       "\\item 'a'\n",
       "\\item 'a'\n",
       "\\item 'b'\n",
       "\\item 'b'\n",
       "\\item 'b'\n",
       "\\item 'b'\n",
       "\\end{enumerate*}\n"
      ],
      "text/markdown": [
       "1. 'a'\n",
       "2. 'a'\n",
       "3. 'a'\n",
       "4. 'a'\n",
       "5. 'b'\n",
       "6. 'b'\n",
       "7. 'b'\n",
       "8. 'b'\n",
       "\n",
       "\n"
      ],
      "text/plain": [
       "[1] \"a\" \"a\" \"a\" \"a\" \"b\" \"b\" \"b\" \"b\""
      ]
     },
     "metadata": {},
     "output_type": "display_data"
    }
   ],
   "source": [
    "rep(c(\"a\",\"b\"),2)\n",
    "rep(c(\"a\",\"b\"),each=4)"
   ]
  },
  {
   "cell_type": "markdown",
   "id": "83a5d6a2",
   "metadata": {
    "papermill": {
     "duration": 0.016268,
     "end_time": "2022-12-21T08:30:59.117985",
     "exception": false,
     "start_time": "2022-12-21T08:30:59.101717",
     "status": "completed"
    },
    "tags": []
   },
   "source": [
    "### lapply\n",
    "\n",
    "`lapply(x, fun, opcjonalne.fun.arg1, opcjonalne.fun.arg2... etc)` - zastosuj funkcję `fun` na każdym elemencie `x` (element-po-elemencie), opcjonalnie z argumentami `opcjonalnie.fun.arg1`, itd... Wyniki wsadź do listy o takiej samej długości co `x`.\n",
    "\n",
    "Funkcje `apply` oraz `sapply` działają podobnie, ale istotne dla `lapply` jest to, że ZAWSZE zwraca listę, zatem łatwo ogarnąć jej stosowanie. "
   ]
  },
  {
   "cell_type": "code",
   "execution_count": 25,
   "id": "d0b72df4",
   "metadata": {
    "execution": {
     "iopub.execute_input": "2022-12-21T08:30:59.154004Z",
     "iopub.status.busy": "2022-12-21T08:30:59.152714Z",
     "iopub.status.idle": "2022-12-21T08:30:59.173450Z",
     "shell.execute_reply": "2022-12-21T08:30:59.172174Z"
    },
    "papermill": {
     "duration": 0.041522,
     "end_time": "2022-12-21T08:30:59.175628",
     "exception": false,
     "start_time": "2022-12-21T08:30:59.134106",
     "status": "completed"
    },
    "tags": []
   },
   "outputs": [
    {
     "data": {
      "text/html": [
       "<ol>\n",
       "\t<li>1</li>\n",
       "\t<li>'a'</li>\n",
       "\t<li>'b'</li>\n",
       "\t<li>2</li>\n",
       "\t<li><ol>\n",
       "\t<li>1</li>\n",
       "\t<li>1</li>\n",
       "\t<li>2</li>\n",
       "</ol>\n",
       "</li>\n",
       "</ol>\n"
      ],
      "text/latex": [
       "\\begin{enumerate}\n",
       "\\item 1\n",
       "\\item 'a'\n",
       "\\item 'b'\n",
       "\\item 2\n",
       "\\item \\begin{enumerate}\n",
       "\\item 1\n",
       "\\item 1\n",
       "\\item 2\n",
       "\\end{enumerate}\n",
       "\n",
       "\\end{enumerate}\n"
      ],
      "text/markdown": [
       "1. 1\n",
       "2. 'a'\n",
       "3. 'b'\n",
       "4. 2\n",
       "5. 1. 1\n",
       "2. 1\n",
       "3. 2\n",
       "\n",
       "\n",
       "\n",
       "\n",
       "\n"
      ],
      "text/plain": [
       "[[1]]\n",
       "[1] 1\n",
       "\n",
       "[[2]]\n",
       "[1] \"a\"\n",
       "\n",
       "[[3]]\n",
       "[1] \"b\"\n",
       "\n",
       "[[4]]\n",
       "[1] 2\n",
       "\n",
       "[[5]]\n",
       "[[5]][[1]]\n",
       "[1] 1\n",
       "\n",
       "[[5]][[2]]\n",
       "[1] 1\n",
       "\n",
       "[[5]][[3]]\n",
       "[1] 2\n",
       "\n"
      ]
     },
     "metadata": {},
     "output_type": "display_data"
    },
    {
     "data": {
      "text/html": [
       "<ol>\n",
       "\t<li><style>\n",
       ".list-inline {list-style: none; margin:0; padding: 0}\n",
       ".list-inline>li {display: inline-block}\n",
       ".list-inline>li:not(:last-child)::after {content: \"\\00b7\"; padding: 0 .5ex}\n",
       "</style>\n",
       "<ol class=list-inline><li>1</li><li>1</li><li>1</li></ol>\n",
       "</li>\n",
       "\t<li><style>\n",
       ".list-inline {list-style: none; margin:0; padding: 0}\n",
       ".list-inline>li {display: inline-block}\n",
       ".list-inline>li:not(:last-child)::after {content: \"\\00b7\"; padding: 0 .5ex}\n",
       "</style>\n",
       "<ol class=list-inline><li>'a'</li><li>'a'</li><li>'a'</li></ol>\n",
       "</li>\n",
       "\t<li><style>\n",
       ".list-inline {list-style: none; margin:0; padding: 0}\n",
       ".list-inline>li {display: inline-block}\n",
       ".list-inline>li:not(:last-child)::after {content: \"\\00b7\"; padding: 0 .5ex}\n",
       "</style>\n",
       "<ol class=list-inline><li>'b'</li><li>'b'</li><li>'b'</li></ol>\n",
       "</li>\n",
       "\t<li><style>\n",
       ".list-inline {list-style: none; margin:0; padding: 0}\n",
       ".list-inline>li {display: inline-block}\n",
       ".list-inline>li:not(:last-child)::after {content: \"\\00b7\"; padding: 0 .5ex}\n",
       "</style>\n",
       "<ol class=list-inline><li>2</li><li>2</li><li>2</li></ol>\n",
       "</li>\n",
       "\t<li><ol>\n",
       "\t<li>1</li>\n",
       "\t<li>1</li>\n",
       "\t<li>2</li>\n",
       "\t<li>1</li>\n",
       "\t<li>1</li>\n",
       "\t<li>2</li>\n",
       "\t<li>1</li>\n",
       "\t<li>1</li>\n",
       "\t<li>2</li>\n",
       "</ol>\n",
       "</li>\n",
       "</ol>\n"
      ],
      "text/latex": [
       "\\begin{enumerate}\n",
       "\\item \\begin{enumerate*}\n",
       "\\item 1\n",
       "\\item 1\n",
       "\\item 1\n",
       "\\end{enumerate*}\n",
       "\n",
       "\\item \\begin{enumerate*}\n",
       "\\item 'a'\n",
       "\\item 'a'\n",
       "\\item 'a'\n",
       "\\end{enumerate*}\n",
       "\n",
       "\\item \\begin{enumerate*}\n",
       "\\item 'b'\n",
       "\\item 'b'\n",
       "\\item 'b'\n",
       "\\end{enumerate*}\n",
       "\n",
       "\\item \\begin{enumerate*}\n",
       "\\item 2\n",
       "\\item 2\n",
       "\\item 2\n",
       "\\end{enumerate*}\n",
       "\n",
       "\\item \\begin{enumerate}\n",
       "\\item 1\n",
       "\\item 1\n",
       "\\item 2\n",
       "\\item 1\n",
       "\\item 1\n",
       "\\item 2\n",
       "\\item 1\n",
       "\\item 1\n",
       "\\item 2\n",
       "\\end{enumerate}\n",
       "\n",
       "\\end{enumerate}\n"
      ],
      "text/markdown": [
       "1. 1. 1\n",
       "2. 1\n",
       "3. 1\n",
       "\n",
       "\n",
       "\n",
       "2. 1. 'a'\n",
       "2. 'a'\n",
       "3. 'a'\n",
       "\n",
       "\n",
       "\n",
       "3. 1. 'b'\n",
       "2. 'b'\n",
       "3. 'b'\n",
       "\n",
       "\n",
       "\n",
       "4. 1. 2\n",
       "2. 2\n",
       "3. 2\n",
       "\n",
       "\n",
       "\n",
       "5. 1. 1\n",
       "2. 1\n",
       "3. 2\n",
       "4. 1\n",
       "5. 1\n",
       "6. 2\n",
       "7. 1\n",
       "8. 1\n",
       "9. 2\n",
       "\n",
       "\n",
       "\n",
       "\n",
       "\n"
      ],
      "text/plain": [
       "[[1]]\n",
       "[1] 1 1 1\n",
       "\n",
       "[[2]]\n",
       "[1] \"a\" \"a\" \"a\"\n",
       "\n",
       "[[3]]\n",
       "[1] \"b\" \"b\" \"b\"\n",
       "\n",
       "[[4]]\n",
       "[1] 2 2 2\n",
       "\n",
       "[[5]]\n",
       "[[5]][[1]]\n",
       "[1] 1\n",
       "\n",
       "[[5]][[2]]\n",
       "[1] 1\n",
       "\n",
       "[[5]][[3]]\n",
       "[1] 2\n",
       "\n",
       "[[5]][[4]]\n",
       "[1] 1\n",
       "\n",
       "[[5]][[5]]\n",
       "[1] 1\n",
       "\n",
       "[[5]][[6]]\n",
       "[1] 2\n",
       "\n",
       "[[5]][[7]]\n",
       "[1] 1\n",
       "\n",
       "[[5]][[8]]\n",
       "[1] 1\n",
       "\n",
       "[[5]][[9]]\n",
       "[1] 2\n",
       "\n"
      ]
     },
     "metadata": {},
     "output_type": "display_data"
    }
   ],
   "source": [
    "list_1\n",
    "lapply(list_1, rep, 3) # dla kazdego elementu list_1, wykonaj rep z argumentem 3 i wsadz wyniki do listy"
   ]
  },
  {
   "cell_type": "code",
   "execution_count": 26,
   "id": "22c8c07d",
   "metadata": {
    "execution": {
     "iopub.execute_input": "2022-12-21T08:30:59.213977Z",
     "iopub.status.busy": "2022-12-21T08:30:59.212645Z",
     "iopub.status.idle": "2022-12-21T08:30:59.232283Z",
     "shell.execute_reply": "2022-12-21T08:30:59.229388Z"
    },
    "papermill": {
     "duration": 0.040681,
     "end_time": "2022-12-21T08:30:59.234473",
     "exception": false,
     "start_time": "2022-12-21T08:30:59.193792",
     "status": "completed"
    },
    "tags": []
   },
   "outputs": [
    {
     "name": "stdout",
     "output_type": "stream",
     "text": [
      "[[1]]\n",
      "[1] \"a\" \"a\"\n",
      "\n",
      "[[2]]\n",
      "[1] \"b\" \"b\"\n",
      "\n",
      "[[3]]\n",
      "[1] \"c\" \"c\"\n",
      "\n",
      "[[4]]\n",
      "[1] \"d\" \"d\"\n",
      "\n",
      "[1] \"a\" \"a\" \"b\" \"b\" \"c\" \"c\" \"d\" \"d\"\n"
     ]
    }
   ],
   "source": [
    "V1<- c(\"a\",\"b\",\"c\",\"d\")\n",
    "V1list<-lapply(V1, rep, 2 )\n",
    "print(V1list)\n",
    "V1listunlisted<- unlist(V1list)\n",
    "print(V1listunlisted)"
   ]
  },
  {
   "cell_type": "markdown",
   "id": "f272dfd7",
   "metadata": {
    "papermill": {
     "duration": 0.017157,
     "end_time": "2022-12-21T08:30:59.268900",
     "exception": false,
     "start_time": "2022-12-21T08:30:59.251743",
     "status": "completed"
    },
    "tags": []
   },
   "source": [
    "### Inne przydatne funkcje"
   ]
  },
  {
   "cell_type": "code",
   "execution_count": 27,
   "id": "dde42d3c",
   "metadata": {
    "execution": {
     "iopub.execute_input": "2022-12-21T08:30:59.413336Z",
     "iopub.status.busy": "2022-12-21T08:30:59.306152Z",
     "iopub.status.idle": "2022-12-21T08:30:59.434673Z",
     "shell.execute_reply": "2022-12-21T08:30:59.433478Z"
    },
    "papermill": {
     "duration": 0.150454,
     "end_time": "2022-12-21T08:30:59.436264",
     "exception": false,
     "start_time": "2022-12-21T08:30:59.285810",
     "status": "completed"
    },
    "tags": []
   },
   "outputs": [
    {
     "data": {
      "text/html": [
       "0.498399678850546"
      ],
      "text/latex": [
       "0.498399678850546"
      ],
      "text/markdown": [
       "0.498399678850546"
      ],
      "text/plain": [
       "[1] 0.4983997"
      ]
     },
     "metadata": {},
     "output_type": "display_data"
    },
    {
     "data": {
      "text/html": [
       "<strong>25%:</strong> 0.258136406948324"
      ],
      "text/latex": [
       "\\textbf{25\\textbackslash{}\\%:} 0.258136406948324"
      ],
      "text/markdown": [
       "**25%:** 0.258136406948324"
      ],
      "text/plain": [
       "      25% \n",
       "0.2581364 "
      ]
     },
     "metadata": {},
     "output_type": "display_data"
    }
   ],
   "source": [
    "X<-runif(1000) #1000 liczb losowych z zakresu [0,1]\n",
    "median(X)            #== quantile(X,0.5)\n",
    "quantile(X,0.25)"
   ]
  },
  {
   "cell_type": "markdown",
   "id": "14bc3cc8",
   "metadata": {
    "papermill": {
     "duration": 0.017244,
     "end_time": "2022-12-21T08:30:59.470898",
     "exception": false,
     "start_time": "2022-12-21T08:30:59.453654",
     "status": "completed"
    },
    "tags": []
   },
   "source": [
    "# Struktury 2D"
   ]
  },
  {
   "cell_type": "markdown",
   "id": "ce548d2b",
   "metadata": {
    "papermill": {
     "duration": 0.017319,
     "end_time": "2022-12-21T08:30:59.505191",
     "exception": false,
     "start_time": "2022-12-21T08:30:59.487872",
     "status": "completed"
    },
    "tags": []
   },
   "source": [
    "## Data frame (ramka danych)\n",
    "\n",
    "Pod spodem to lista wektorów tej samej długości, a interpretacja i zamysł jest taki- że to po prostu tablica 2D, gdzie różne kolumny mogą przechowywać różne typy danych. Wtedy, jeden wiersz statystycznie rzecz biorąc opisuje zazwyczaj jedną obserwację, kolumny- poszczególne zmienne."
   ]
  },
  {
   "cell_type": "code",
   "execution_count": 28,
   "id": "c8af67db",
   "metadata": {
    "execution": {
     "iopub.execute_input": "2022-12-21T08:30:59.542637Z",
     "iopub.status.busy": "2022-12-21T08:30:59.541471Z",
     "iopub.status.idle": "2022-12-21T08:31:02.677500Z",
     "shell.execute_reply": "2022-12-21T08:31:02.676179Z"
    },
    "papermill": {
     "duration": 3.15715,
     "end_time": "2022-12-21T08:31:02.679524",
     "exception": false,
     "start_time": "2022-12-21T08:30:59.522374",
     "status": "completed"
    },
    "tags": []
   },
   "outputs": [
    {
     "data": {
      "text/html": [
       "<style>\n",
       ".list-inline {list-style: none; margin:0; padding: 0}\n",
       ".list-inline>li {display: inline-block}\n",
       ".list-inline>li:not(:last-child)::after {content: \"\\00b7\"; padding: 0 .5ex}\n",
       "</style>\n",
       "<ol class=list-inline><li>3911</li><li>13</li></ol>\n"
      ],
      "text/latex": [
       "\\begin{enumerate*}\n",
       "\\item 3911\n",
       "\\item 13\n",
       "\\end{enumerate*}\n"
      ],
      "text/markdown": [
       "1. 3911\n",
       "2. 13\n",
       "\n",
       "\n"
      ],
      "text/plain": [
       "[1] 3911   13"
      ]
     },
     "metadata": {},
     "output_type": "display_data"
    }
   ],
   "source": [
    "df<-read.csv(\"https://europepmc.org/journalList?format=csv\") # z poprzednich zajęć z artykułami\n",
    "dim(df) # obiekt 2 wymiarowy \n",
    "# n_wierszy n_kolumn"
   ]
  },
  {
   "cell_type": "code",
   "execution_count": 29,
   "id": "b2154d8b",
   "metadata": {
    "execution": {
     "iopub.execute_input": "2022-12-21T08:31:02.719726Z",
     "iopub.status.busy": "2022-12-21T08:31:02.718314Z",
     "iopub.status.idle": "2022-12-21T08:31:02.739228Z",
     "shell.execute_reply": "2022-12-21T08:31:02.737801Z"
    },
    "papermill": {
     "duration": 0.044038,
     "end_time": "2022-12-21T08:31:02.741514",
     "exception": false,
     "start_time": "2022-12-21T08:31:02.697476",
     "status": "completed"
    },
    "tags": []
   },
   "outputs": [
    {
     "data": {
      "text/html": [
       "<table class=\"dataframe\">\n",
       "<caption>A data.frame: 5 × 5</caption>\n",
       "<thead>\n",
       "\t<tr><th></th><th scope=col>Journal.title</th><th scope=col>NLM.TA</th><th scope=col>pISSN</th><th scope=col>eISSN</th><th scope=col>Publisher</th></tr>\n",
       "\t<tr><th></th><th scope=col>&lt;chr&gt;</th><th scope=col>&lt;chr&gt;</th><th scope=col>&lt;chr&gt;</th><th scope=col>&lt;chr&gt;</th><th scope=col>&lt;chr&gt;</th></tr>\n",
       "</thead>\n",
       "<tbody>\n",
       "\t<tr><th scope=row>1</th><td>3 Biotech                 </td><td>3 Biotech         </td><td>2190-572X</td><td>2190-5738</td><td>Springer                                         </td></tr>\n",
       "\t<tr><th scope=row>2</th><td>3D Printing in Medicine   </td><td>3D Print Med      </td><td>         </td><td>2365-6271</td><td>BioMed Central                                   </td></tr>\n",
       "\t<tr><th scope=row>3</th><td>AACE Clinical Case Reports</td><td>AACE Clin Case Rep</td><td>         </td><td>2376-0605</td><td>American Association of Clinical Endocrinology   </td></tr>\n",
       "\t<tr><th scope=row>4</th><td>The AAPS Journal          </td><td>AAPS J            </td><td>         </td><td>1550-7416</td><td>American Association of Pharmaceutical Scientists</td></tr>\n",
       "\t<tr><th scope=row>5</th><td>AAPS PharmSci             </td><td>AAPS PharmSci     </td><td>         </td><td>1522-1059</td><td>American Association of Pharmaceutical Scientists</td></tr>\n",
       "</tbody>\n",
       "</table>\n"
      ],
      "text/latex": [
       "A data.frame: 5 × 5\n",
       "\\begin{tabular}{r|lllll}\n",
       "  & Journal.title & NLM.TA & pISSN & eISSN & Publisher\\\\\n",
       "  & <chr> & <chr> & <chr> & <chr> & <chr>\\\\\n",
       "\\hline\n",
       "\t1 & 3 Biotech                  & 3 Biotech          & 2190-572X & 2190-5738 & Springer                                         \\\\\n",
       "\t2 & 3D Printing in Medicine    & 3D Print Med       &           & 2365-6271 & BioMed Central                                   \\\\\n",
       "\t3 & AACE Clinical Case Reports & AACE Clin Case Rep &           & 2376-0605 & American Association of Clinical Endocrinology   \\\\\n",
       "\t4 & The AAPS Journal           & AAPS J             &           & 1550-7416 & American Association of Pharmaceutical Scientists\\\\\n",
       "\t5 & AAPS PharmSci              & AAPS PharmSci      &           & 1522-1059 & American Association of Pharmaceutical Scientists\\\\\n",
       "\\end{tabular}\n"
      ],
      "text/markdown": [
       "\n",
       "A data.frame: 5 × 5\n",
       "\n",
       "| <!--/--> | Journal.title &lt;chr&gt; | NLM.TA &lt;chr&gt; | pISSN &lt;chr&gt; | eISSN &lt;chr&gt; | Publisher &lt;chr&gt; |\n",
       "|---|---|---|---|---|---|\n",
       "| 1 | 3 Biotech                  | 3 Biotech          | 2190-572X | 2190-5738 | Springer                                          |\n",
       "| 2 | 3D Printing in Medicine    | 3D Print Med       | <!----> | 2365-6271 | BioMed Central                                    |\n",
       "| 3 | AACE Clinical Case Reports | AACE Clin Case Rep | <!----> | 2376-0605 | American Association of Clinical Endocrinology    |\n",
       "| 4 | The AAPS Journal           | AAPS J             | <!----> | 1550-7416 | American Association of Pharmaceutical Scientists |\n",
       "| 5 | AAPS PharmSci              | AAPS PharmSci      | <!----> | 1522-1059 | American Association of Pharmaceutical Scientists |\n",
       "\n"
      ],
      "text/plain": [
       "  Journal.title              NLM.TA             pISSN     eISSN    \n",
       "1 3 Biotech                  3 Biotech          2190-572X 2190-5738\n",
       "2 3D Printing in Medicine    3D Print Med                 2365-6271\n",
       "3 AACE Clinical Case Reports AACE Clin Case Rep           2376-0605\n",
       "4 The AAPS Journal           AAPS J                       1550-7416\n",
       "5 AAPS PharmSci              AAPS PharmSci                1522-1059\n",
       "  Publisher                                        \n",
       "1 Springer                                         \n",
       "2 BioMed Central                                   \n",
       "3 American Association of Clinical Endocrinology   \n",
       "4 American Association of Pharmaceutical Scientists\n",
       "5 American Association of Pharmaceutical Scientists"
      ]
     },
     "metadata": {},
     "output_type": "display_data"
    }
   ],
   "source": [
    "#indeksujemy każdy wymiar z osobna po przecinku:\n",
    "df[1:5,1:5] #wiersze od 1 do 5 i kolumny od 1 do 5"
   ]
  },
  {
   "cell_type": "code",
   "execution_count": 30,
   "id": "2391f37c",
   "metadata": {
    "execution": {
     "iopub.execute_input": "2022-12-21T08:31:02.780289Z",
     "iopub.status.busy": "2022-12-21T08:31:02.778979Z",
     "iopub.status.idle": "2022-12-21T08:31:02.800545Z",
     "shell.execute_reply": "2022-12-21T08:31:02.799180Z"
    },
    "papermill": {
     "duration": 0.042744,
     "end_time": "2022-12-21T08:31:02.802407",
     "exception": false,
     "start_time": "2022-12-21T08:31:02.759663",
     "status": "completed"
    },
    "tags": []
   },
   "outputs": [
    {
     "data": {
      "text/html": [
       "<table class=\"dataframe\">\n",
       "<caption>A data.frame: 5 × 13</caption>\n",
       "<thead>\n",
       "\t<tr><th></th><th scope=col>Journal.title</th><th scope=col>NLM.TA</th><th scope=col>pISSN</th><th scope=col>eISSN</th><th scope=col>Publisher</th><th scope=col>LOCATORplus.ID</th><th scope=col>Latest.issue</th><th scope=col>Earliest.volume</th><th scope=col>Free.access</th><th scope=col>Open.access</th><th scope=col>Participation.level</th><th scope=col>Deposit.status</th><th scope=col>Journal.URL</th></tr>\n",
       "\t<tr><th></th><th scope=col>&lt;chr&gt;</th><th scope=col>&lt;chr&gt;</th><th scope=col>&lt;chr&gt;</th><th scope=col>&lt;chr&gt;</th><th scope=col>&lt;chr&gt;</th><th scope=col>&lt;lgl&gt;</th><th scope=col>&lt;chr&gt;</th><th scope=col>&lt;chr&gt;</th><th scope=col>&lt;chr&gt;</th><th scope=col>&lt;chr&gt;</th><th scope=col>&lt;chr&gt;</th><th scope=col>&lt;chr&gt;</th><th scope=col>&lt;chr&gt;</th></tr>\n",
       "</thead>\n",
       "<tbody>\n",
       "\t<tr><th scope=row>1</th><td>3 Biotech                 </td><td>3 Biotech         </td><td>2190-572X</td><td>2190-5738</td><td>Springer                                         </td><td>NA</td><td>v.13(1);Jan 2023   </td><td>v.1;2011</td><td>12 months</td><td>Some</td><td> Full </td><td>                </td><td>http://europepmc.org/journals/1936/</td></tr>\n",
       "\t<tr><th scope=row>2</th><td>3D Printing in Medicine   </td><td>3D Print Med      </td><td>         </td><td>2365-6271</td><td>BioMed Central                                   </td><td>NA</td><td>v.8;Dec 2022       </td><td>v.2;2016</td><td>Immediate</td><td>All </td><td> Full </td><td>                </td><td>http://europepmc.org/journals/3552/</td></tr>\n",
       "\t<tr><th scope=row>3</th><td>AACE Clinical Case Reports</td><td>AACE Clin Case Rep</td><td>         </td><td>2376-0605</td><td>American Association of Clinical Endocrinology   </td><td>NA</td><td>v.8(6);Nov-Dec 2022</td><td>v.5;2019</td><td>Immediate</td><td>Some</td><td> Full </td><td>                </td><td>http://europepmc.org/journals/3762/</td></tr>\n",
       "\t<tr><th scope=row>4</th><td>The AAPS Journal          </td><td>AAPS J            </td><td>         </td><td>1550-7416</td><td>American Association of Pharmaceutical Scientists</td><td>NA</td><td>v.18(3);May 2016   </td><td>v.6;2004</td><td>         </td><td>Some</td><td> Full </td><td> No New Content </td><td>http://europepmc.org/journals/262/ </td></tr>\n",
       "\t<tr><th scope=row>5</th><td>AAPS PharmSci             </td><td>AAPS PharmSci     </td><td>         </td><td>1522-1059</td><td>American Association of Pharmaceutical Scientists</td><td>NA</td><td>v.6(2);Jun 2004    </td><td>v.1;1999</td><td>Immediate</td><td>No  </td><td> Full </td><td> Predecessor    </td><td>http://europepmc.org/journals/1196/</td></tr>\n",
       "</tbody>\n",
       "</table>\n"
      ],
      "text/latex": [
       "A data.frame: 5 × 13\n",
       "\\begin{tabular}{r|lllllllllllll}\n",
       "  & Journal.title & NLM.TA & pISSN & eISSN & Publisher & LOCATORplus.ID & Latest.issue & Earliest.volume & Free.access & Open.access & Participation.level & Deposit.status & Journal.URL\\\\\n",
       "  & <chr> & <chr> & <chr> & <chr> & <chr> & <lgl> & <chr> & <chr> & <chr> & <chr> & <chr> & <chr> & <chr>\\\\\n",
       "\\hline\n",
       "\t1 & 3 Biotech                  & 3 Biotech          & 2190-572X & 2190-5738 & Springer                                          & NA & v.13(1);Jan 2023    & v.1;2011 & 12 months & Some &  Full  &                  & http://europepmc.org/journals/1936/\\\\\n",
       "\t2 & 3D Printing in Medicine    & 3D Print Med       &           & 2365-6271 & BioMed Central                                    & NA & v.8;Dec 2022        & v.2;2016 & Immediate & All  &  Full  &                  & http://europepmc.org/journals/3552/\\\\\n",
       "\t3 & AACE Clinical Case Reports & AACE Clin Case Rep &           & 2376-0605 & American Association of Clinical Endocrinology    & NA & v.8(6);Nov-Dec 2022 & v.5;2019 & Immediate & Some &  Full  &                  & http://europepmc.org/journals/3762/\\\\\n",
       "\t4 & The AAPS Journal           & AAPS J             &           & 1550-7416 & American Association of Pharmaceutical Scientists & NA & v.18(3);May 2016    & v.6;2004 &           & Some &  Full  &  No New Content  & http://europepmc.org/journals/262/ \\\\\n",
       "\t5 & AAPS PharmSci              & AAPS PharmSci      &           & 1522-1059 & American Association of Pharmaceutical Scientists & NA & v.6(2);Jun 2004     & v.1;1999 & Immediate & No   &  Full  &  Predecessor     & http://europepmc.org/journals/1196/\\\\\n",
       "\\end{tabular}\n"
      ],
      "text/markdown": [
       "\n",
       "A data.frame: 5 × 13\n",
       "\n",
       "| <!--/--> | Journal.title &lt;chr&gt; | NLM.TA &lt;chr&gt; | pISSN &lt;chr&gt; | eISSN &lt;chr&gt; | Publisher &lt;chr&gt; | LOCATORplus.ID &lt;lgl&gt; | Latest.issue &lt;chr&gt; | Earliest.volume &lt;chr&gt; | Free.access &lt;chr&gt; | Open.access &lt;chr&gt; | Participation.level &lt;chr&gt; | Deposit.status &lt;chr&gt; | Journal.URL &lt;chr&gt; |\n",
       "|---|---|---|---|---|---|---|---|---|---|---|---|---|---|\n",
       "| 1 | 3 Biotech                  | 3 Biotech          | 2190-572X | 2190-5738 | Springer                                          | NA | v.13(1);Jan 2023    | v.1;2011 | 12 months | Some |  Full  | <!----> | http://europepmc.org/journals/1936/ |\n",
       "| 2 | 3D Printing in Medicine    | 3D Print Med       | <!----> | 2365-6271 | BioMed Central                                    | NA | v.8;Dec 2022        | v.2;2016 | Immediate | All  |  Full  | <!----> | http://europepmc.org/journals/3552/ |\n",
       "| 3 | AACE Clinical Case Reports | AACE Clin Case Rep | <!----> | 2376-0605 | American Association of Clinical Endocrinology    | NA | v.8(6);Nov-Dec 2022 | v.5;2019 | Immediate | Some |  Full  | <!----> | http://europepmc.org/journals/3762/ |\n",
       "| 4 | The AAPS Journal           | AAPS J             | <!----> | 1550-7416 | American Association of Pharmaceutical Scientists | NA | v.18(3);May 2016    | v.6;2004 | <!----> | Some |  Full  |  No New Content  | http://europepmc.org/journals/262/  |\n",
       "| 5 | AAPS PharmSci              | AAPS PharmSci      | <!----> | 1522-1059 | American Association of Pharmaceutical Scientists | NA | v.6(2);Jun 2004     | v.1;1999 | Immediate | No   |  Full  |  Predecessor     | http://europepmc.org/journals/1196/ |\n",
       "\n"
      ],
      "text/plain": [
       "  Journal.title              NLM.TA             pISSN     eISSN    \n",
       "1 3 Biotech                  3 Biotech          2190-572X 2190-5738\n",
       "2 3D Printing in Medicine    3D Print Med                 2365-6271\n",
       "3 AACE Clinical Case Reports AACE Clin Case Rep           2376-0605\n",
       "4 The AAPS Journal           AAPS J                       1550-7416\n",
       "5 AAPS PharmSci              AAPS PharmSci                1522-1059\n",
       "  Publisher                                         LOCATORplus.ID\n",
       "1 Springer                                          NA            \n",
       "2 BioMed Central                                    NA            \n",
       "3 American Association of Clinical Endocrinology    NA            \n",
       "4 American Association of Pharmaceutical Scientists NA            \n",
       "5 American Association of Pharmaceutical Scientists NA            \n",
       "  Latest.issue        Earliest.volume Free.access Open.access\n",
       "1 v.13(1);Jan 2023    v.1;2011        12 months   Some       \n",
       "2 v.8;Dec 2022        v.2;2016        Immediate   All        \n",
       "3 v.8(6);Nov-Dec 2022 v.5;2019        Immediate   Some       \n",
       "4 v.18(3);May 2016    v.6;2004                    Some       \n",
       "5 v.6(2);Jun 2004     v.1;1999        Immediate   No         \n",
       "  Participation.level Deposit.status   Journal.URL                        \n",
       "1  Full                                http://europepmc.org/journals/1936/\n",
       "2  Full                                http://europepmc.org/journals/3552/\n",
       "3  Full                                http://europepmc.org/journals/3762/\n",
       "4  Full                No New Content  http://europepmc.org/journals/262/ \n",
       "5  Full                Predecessor     http://europepmc.org/journals/1196/"
      ]
     },
     "metadata": {},
     "output_type": "display_data"
    }
   ],
   "source": [
    "df[1:5,] #wiersze od 1 do 5 i wszystkie kolumny"
   ]
  },
  {
   "cell_type": "code",
   "execution_count": 31,
   "id": "ff31f504",
   "metadata": {
    "execution": {
     "iopub.execute_input": "2022-12-21T08:31:02.843533Z",
     "iopub.status.busy": "2022-12-21T08:31:02.842216Z",
     "iopub.status.idle": "2022-12-21T08:31:02.858922Z",
     "shell.execute_reply": "2022-12-21T08:31:02.857550Z"
    },
    "papermill": {
     "duration": 0.039126,
     "end_time": "2022-12-21T08:31:02.860600",
     "exception": false,
     "start_time": "2022-12-21T08:31:02.821474",
     "status": "completed"
    },
    "tags": []
   },
   "outputs": [
    {
     "data": {
      "text/html": [
       "3911"
      ],
      "text/latex": [
       "3911"
      ],
      "text/markdown": [
       "3911"
      ],
      "text/plain": [
       "[1] 3911"
      ]
     },
     "metadata": {},
     "output_type": "display_data"
    },
    {
     "data": {
      "text/html": [
       "13"
      ],
      "text/latex": [
       "13"
      ],
      "text/markdown": [
       "13"
      ],
      "text/plain": [
       "[1] 13"
      ]
     },
     "metadata": {},
     "output_type": "display_data"
    }
   ],
   "source": [
    "nrow(df)\n",
    "ncol(df)"
   ]
  },
  {
   "cell_type": "code",
   "execution_count": 32,
   "id": "08cf7241",
   "metadata": {
    "execution": {
     "iopub.execute_input": "2022-12-21T08:31:02.901345Z",
     "iopub.status.busy": "2022-12-21T08:31:02.899916Z",
     "iopub.status.idle": "2022-12-21T08:31:02.915715Z",
     "shell.execute_reply": "2022-12-21T08:31:02.914316Z"
    },
    "papermill": {
     "duration": 0.037757,
     "end_time": "2022-12-21T08:31:02.917422",
     "exception": false,
     "start_time": "2022-12-21T08:31:02.879665",
     "status": "completed"
    },
    "tags": []
   },
   "outputs": [
    {
     "data": {
      "text/html": [
       "<style>\n",
       ".list-inline {list-style: none; margin:0; padding: 0}\n",
       ".list-inline>li {display: inline-block}\n",
       ".list-inline>li:not(:last-child)::after {content: \"\\00b7\"; padding: 0 .5ex}\n",
       "</style>\n",
       "<ol class=list-inline><li>'Some'</li><li>'All'</li><li>'No'</li></ol>\n"
      ],
      "text/latex": [
       "\\begin{enumerate*}\n",
       "\\item 'Some'\n",
       "\\item 'All'\n",
       "\\item 'No'\n",
       "\\end{enumerate*}\n"
      ],
      "text/markdown": [
       "1. 'Some'\n",
       "2. 'All'\n",
       "3. 'No'\n",
       "\n",
       "\n"
      ],
      "text/plain": [
       "[1] \"Some\" \"All\"  \"No\"  "
      ]
     },
     "metadata": {},
     "output_type": "display_data"
    }
   ],
   "source": [
    "kolumnaAccess<-df$Open.access # dostęp do kolumny poprzez nazwę, sposób I\n",
    "unique(kolumnaAccess) # unikalne wartości w danym wektorze\n"
   ]
  },
  {
   "cell_type": "code",
   "execution_count": 33,
   "id": "6b31bc17",
   "metadata": {
    "execution": {
     "iopub.execute_input": "2022-12-21T08:31:02.957170Z",
     "iopub.status.busy": "2022-12-21T08:31:02.955656Z",
     "iopub.status.idle": "2022-12-21T08:31:02.976968Z",
     "shell.execute_reply": "2022-12-21T08:31:02.975499Z"
    },
    "papermill": {
     "duration": 0.042925,
     "end_time": "2022-12-21T08:31:02.978861",
     "exception": false,
     "start_time": "2022-12-21T08:31:02.935936",
     "status": "completed"
    },
    "tags": []
   },
   "outputs": [
    {
     "data": {
      "text/plain": [
       "kolumnaAccess\n",
       " All   No Some \n",
       "1938  379 1594 "
      ]
     },
     "metadata": {},
     "output_type": "display_data"
    },
    {
     "data": {
      "text/plain": [
       "      \n",
       "             No New Content   Predecessor \n",
       "  All  1445              319           174\n",
       "  No    134              129           116\n",
       "  Some 1424              128            42"
      ]
     },
     "metadata": {},
     "output_type": "display_data"
    }
   ],
   "source": [
    "kolumnaAccess<-df[,\"Open.access\"] #sposób II\n",
    "table(kolumnaAccess) # funkcja table <- podsumowanie\n",
    "table(df$Open.access,    #wiersze- OpenAccess\n",
    "     df$Deposit.status)  #kolumny- Deposit status\n",
    "                         #komórki- zliczenia obserwacji, takich że Open.access== to po lewej, a Deposit.status== to u góry"
   ]
  },
  {
   "cell_type": "code",
   "execution_count": 34,
   "id": "3f37b37d",
   "metadata": {
    "execution": {
     "iopub.execute_input": "2022-12-21T08:31:03.019371Z",
     "iopub.status.busy": "2022-12-21T08:31:03.017923Z",
     "iopub.status.idle": "2022-12-21T08:31:03.044088Z",
     "shell.execute_reply": "2022-12-21T08:31:03.042629Z"
    },
    "papermill": {
     "duration": 0.048298,
     "end_time": "2022-12-21T08:31:03.045948",
     "exception": false,
     "start_time": "2022-12-21T08:31:02.997650",
     "status": "completed"
    },
    "tags": []
   },
   "outputs": [
    {
     "data": {
      "text/html": [
       "<dl>\n",
       "\t<dt>$Journal.title</dt>\n",
       "\t\t<dd>3911</dd>\n",
       "\t<dt>$NLM.TA</dt>\n",
       "\t\t<dd>3911</dd>\n",
       "\t<dt>$pISSN</dt>\n",
       "\t\t<dd>3911</dd>\n",
       "\t<dt>$eISSN</dt>\n",
       "\t\t<dd>3911</dd>\n",
       "\t<dt>$Publisher</dt>\n",
       "\t\t<dd>3911</dd>\n",
       "\t<dt>$LOCATORplus.ID</dt>\n",
       "\t\t<dd>3911</dd>\n",
       "\t<dt>$Latest.issue</dt>\n",
       "\t\t<dd>3911</dd>\n",
       "\t<dt>$Earliest.volume</dt>\n",
       "\t\t<dd>3911</dd>\n",
       "\t<dt>$Free.access</dt>\n",
       "\t\t<dd>3911</dd>\n",
       "\t<dt>$Open.access</dt>\n",
       "\t\t<dd>3911</dd>\n",
       "\t<dt>$Participation.level</dt>\n",
       "\t\t<dd>3911</dd>\n",
       "\t<dt>$Deposit.status</dt>\n",
       "\t\t<dd>3911</dd>\n",
       "\t<dt>$Journal.URL</dt>\n",
       "\t\t<dd>3911</dd>\n",
       "</dl>\n"
      ],
      "text/latex": [
       "\\begin{description}\n",
       "\\item[\\$Journal.title] 3911\n",
       "\\item[\\$NLM.TA] 3911\n",
       "\\item[\\$pISSN] 3911\n",
       "\\item[\\$eISSN] 3911\n",
       "\\item[\\$Publisher] 3911\n",
       "\\item[\\$LOCATORplus.ID] 3911\n",
       "\\item[\\$Latest.issue] 3911\n",
       "\\item[\\$Earliest.volume] 3911\n",
       "\\item[\\$Free.access] 3911\n",
       "\\item[\\$Open.access] 3911\n",
       "\\item[\\$Participation.level] 3911\n",
       "\\item[\\$Deposit.status] 3911\n",
       "\\item[\\$Journal.URL] 3911\n",
       "\\end{description}\n"
      ],
      "text/markdown": [
       "$Journal.title\n",
       ":   3911\n",
       "$NLM.TA\n",
       ":   3911\n",
       "$pISSN\n",
       ":   3911\n",
       "$eISSN\n",
       ":   3911\n",
       "$Publisher\n",
       ":   3911\n",
       "$LOCATORplus.ID\n",
       ":   3911\n",
       "$Latest.issue\n",
       ":   3911\n",
       "$Earliest.volume\n",
       ":   3911\n",
       "$Free.access\n",
       ":   3911\n",
       "$Open.access\n",
       ":   3911\n",
       "$Participation.level\n",
       ":   3911\n",
       "$Deposit.status\n",
       ":   3911\n",
       "$Journal.URL\n",
       ":   3911\n",
       "\n",
       "\n"
      ],
      "text/plain": [
       "$Journal.title\n",
       "[1] 3911\n",
       "\n",
       "$NLM.TA\n",
       "[1] 3911\n",
       "\n",
       "$pISSN\n",
       "[1] 3911\n",
       "\n",
       "$eISSN\n",
       "[1] 3911\n",
       "\n",
       "$Publisher\n",
       "[1] 3911\n",
       "\n",
       "$LOCATORplus.ID\n",
       "[1] 3911\n",
       "\n",
       "$Latest.issue\n",
       "[1] 3911\n",
       "\n",
       "$Earliest.volume\n",
       "[1] 3911\n",
       "\n",
       "$Free.access\n",
       "[1] 3911\n",
       "\n",
       "$Open.access\n",
       "[1] 3911\n",
       "\n",
       "$Participation.level\n",
       "[1] 3911\n",
       "\n",
       "$Deposit.status\n",
       "[1] 3911\n",
       "\n",
       "$Journal.URL\n",
       "[1] 3911\n"
      ]
     },
     "metadata": {},
     "output_type": "display_data"
    }
   ],
   "source": [
    "#data frame to pod spodem lista wetkorów, zatem można użyć funkcji lapply:\n",
    "#   (kolumny to wektory)\n",
    "\n",
    "lapply(df, length) # długość każdej kolumny == nrow(df)"
   ]
  },
  {
   "cell_type": "markdown",
   "id": "44d206aa",
   "metadata": {
    "papermill": {
     "duration": 0.021255,
     "end_time": "2022-12-21T08:31:03.086352",
     "exception": false,
     "start_time": "2022-12-21T08:31:03.065097",
     "status": "completed"
    },
    "tags": []
   },
   "source": [
    "### Funkcje apply i działające po kolumnach i wierszach (analogicznie do lapply)"
   ]
  },
  {
   "cell_type": "code",
   "execution_count": 35,
   "id": "c65fb3d6",
   "metadata": {
    "execution": {
     "iopub.execute_input": "2022-12-21T08:31:03.136620Z",
     "iopub.status.busy": "2022-12-21T08:31:03.135095Z",
     "iopub.status.idle": "2022-12-21T08:31:03.173837Z",
     "shell.execute_reply": "2022-12-21T08:31:03.172020Z"
    },
    "papermill": {
     "duration": 0.06667,
     "end_time": "2022-12-21T08:31:03.176014",
     "exception": false,
     "start_time": "2022-12-21T08:31:03.109344",
     "status": "completed"
    },
    "tags": []
   },
   "outputs": [
    {
     "data": {
      "text/html": [
       "'list'"
      ],
      "text/latex": [
       "'list'"
      ],
      "text/markdown": [
       "'list'"
      ],
      "text/plain": [
       "[1] \"list\""
      ]
     },
     "metadata": {},
     "output_type": "display_data"
    },
    {
     "data": {
      "text/html": [
       "<dl>\n",
       "\t<dt>$Journal.title</dt>\n",
       "\t\t<dd><style>\n",
       ".list-inline {list-style: none; margin:0; padding: 0}\n",
       ".list-inline>li {display: inline-block}\n",
       ".list-inline>li:not(:last-child)::after {content: \"\\00b7\"; padding: 0 .5ex}\n",
       "</style>\n",
       "<ol class=list-inline><li>'3 Biotech'</li><li>'3D Printing in Medicine'</li><li>'AACE Clinical Case Reports'</li><li>'The AAPS Journal'</li><li>'AAPS PharmSci'</li></ol>\n",
       "</dd>\n",
       "\t<dt>$NLM.TA</dt>\n",
       "\t\t<dd><style>\n",
       ".list-inline {list-style: none; margin:0; padding: 0}\n",
       ".list-inline>li {display: inline-block}\n",
       ".list-inline>li:not(:last-child)::after {content: \"\\00b7\"; padding: 0 .5ex}\n",
       "</style>\n",
       "<ol class=list-inline><li>'3 Biotech'</li><li>'3D Print Med'</li><li>'AACE Clin Case Rep'</li><li>'AAPS J'</li><li>'AAPS PharmSci'</li></ol>\n",
       "</dd>\n",
       "\t<dt>$pISSN</dt>\n",
       "\t\t<dd><style>\n",
       ".list-inline {list-style: none; margin:0; padding: 0}\n",
       ".list-inline>li {display: inline-block}\n",
       ".list-inline>li:not(:last-child)::after {content: \"\\00b7\"; padding: 0 .5ex}\n",
       "</style>\n",
       "<ol class=list-inline><li>'2190-572X'</li><li>''</li><li>'2374-7943'</li><li>'1672-9145'</li><li>'0392-4203'</li></ol>\n",
       "</dd>\n",
       "\t<dt>$eISSN</dt>\n",
       "\t\t<dd><style>\n",
       ".list-inline {list-style: none; margin:0; padding: 0}\n",
       ".list-inline>li {display: inline-block}\n",
       ".list-inline>li:not(:last-child)::after {content: \"\\00b7\"; padding: 0 .5ex}\n",
       "</style>\n",
       "<ol class=list-inline><li>'2190-5738'</li><li>'2365-6271'</li><li>'2376-0605'</li><li>'1550-7416'</li><li>'1522-1059'</li></ol>\n",
       "</dd>\n",
       "\t<dt>$Publisher</dt>\n",
       "\t\t<dd><style>\n",
       ".list-inline {list-style: none; margin:0; padding: 0}\n",
       ".list-inline>li {display: inline-block}\n",
       ".list-inline>li:not(:last-child)::after {content: \"\\00b7\"; padding: 0 .5ex}\n",
       "</style>\n",
       "<ol class=list-inline><li>'Springer'</li><li>'BioMed Central'</li><li>'American Association of Clinical Endocrinology'</li><li>'American Association of Pharmaceutical Scientists'</li><li>'African Academy of Sciences'</li></ol>\n",
       "</dd>\n",
       "\t<dt>$LOCATORplus.ID</dt>\n",
       "\t\t<dd><style>\n",
       ".list-inline {list-style: none; margin:0; padding: 0}\n",
       ".list-inline>li {display: inline-block}\n",
       ".list-inline>li:not(:last-child)::after {content: \"\\00b7\"; padding: 0 .5ex}\n",
       "</style>\n",
       "<ol class=list-inline><li>NA</li><li>NA</li><li>NA</li><li>NA</li><li>NA</li></ol>\n",
       "</dd>\n",
       "\t<dt>$Latest.issue</dt>\n",
       "\t\t<dd><style>\n",
       ".list-inline {list-style: none; margin:0; padding: 0}\n",
       ".list-inline>li {display: inline-block}\n",
       ".list-inline>li:not(:last-child)::after {content: \"\\00b7\"; padding: 0 .5ex}\n",
       "</style>\n",
       "<ol class=list-inline><li>'v.13(1);Jan 2023'</li><li>'v.8;Dec 2022'</li><li>'v.8(6);Nov-Dec 2022'</li><li>'v.18(3);May 2016'</li><li>'v.6(2);Jun 2004'</li></ol>\n",
       "</dd>\n",
       "\t<dt>$Earliest.volume</dt>\n",
       "\t\t<dd><style>\n",
       ".list-inline {list-style: none; margin:0; padding: 0}\n",
       ".list-inline>li {display: inline-block}\n",
       ".list-inline>li:not(:last-child)::after {content: \"\\00b7\"; padding: 0 .5ex}\n",
       "</style>\n",
       "<ol class=list-inline><li>'v.1;2011'</li><li>'v.2;2016'</li><li>'v.5;2019'</li><li>'v.6;2004'</li><li>'v.1;1999'</li></ol>\n",
       "</dd>\n",
       "\t<dt>$Free.access</dt>\n",
       "\t\t<dd><style>\n",
       ".list-inline {list-style: none; margin:0; padding: 0}\n",
       ".list-inline>li {display: inline-block}\n",
       ".list-inline>li:not(:last-child)::after {content: \"\\00b7\"; padding: 0 .5ex}\n",
       "</style>\n",
       "<ol class=list-inline><li>'12 months'</li><li>'Immediate'</li><li>''</li><li>'12 months or less'</li><li>'6 months'</li></ol>\n",
       "</dd>\n",
       "\t<dt>$Open.access</dt>\n",
       "\t\t<dd><style>\n",
       ".list-inline {list-style: none; margin:0; padding: 0}\n",
       ".list-inline>li {display: inline-block}\n",
       ".list-inline>li:not(:last-child)::after {content: \"\\00b7\"; padding: 0 .5ex}\n",
       "</style>\n",
       "<ol class=list-inline><li>'Some'</li><li>'All'</li><li>'No'</li><li>NA</li><li>NA</li></ol>\n",
       "</dd>\n",
       "\t<dt>$Participation.level</dt>\n",
       "\t\t<dd><style>\n",
       ".list-inline {list-style: none; margin:0; padding: 0}\n",
       ".list-inline>li {display: inline-block}\n",
       ".list-inline>li:not(:last-child)::after {content: \"\\00b7\"; padding: 0 .5ex}\n",
       "</style>\n",
       "<ol class=list-inline><li>' Full '</li><li>' NIH Portfolio '</li><li>NA</li><li>NA</li><li>NA</li></ol>\n",
       "</dd>\n",
       "\t<dt>$Deposit.status</dt>\n",
       "\t\t<dd><style>\n",
       ".list-inline {list-style: none; margin:0; padding: 0}\n",
       ".list-inline>li {display: inline-block}\n",
       ".list-inline>li:not(:last-child)::after {content: \"\\00b7\"; padding: 0 .5ex}\n",
       "</style>\n",
       "<ol class=list-inline><li>' '</li><li>' No New Content '</li><li>' Predecessor '</li><li>NA</li><li>NA</li></ol>\n",
       "</dd>\n",
       "\t<dt>$Journal.URL</dt>\n",
       "\t\t<dd><style>\n",
       ".list-inline {list-style: none; margin:0; padding: 0}\n",
       ".list-inline>li {display: inline-block}\n",
       ".list-inline>li:not(:last-child)::after {content: \"\\00b7\"; padding: 0 .5ex}\n",
       "</style>\n",
       "<ol class=list-inline><li>'http://europepmc.org/journals/1936/'</li><li>'http://europepmc.org/journals/3552/'</li><li>'http://europepmc.org/journals/3762/'</li><li>'http://europepmc.org/journals/262/'</li><li>'http://europepmc.org/journals/1196/'</li></ol>\n",
       "</dd>\n",
       "</dl>\n"
      ],
      "text/latex": [
       "\\begin{description}\n",
       "\\item[\\$Journal.title] \\begin{enumerate*}\n",
       "\\item '3 Biotech'\n",
       "\\item '3D Printing in Medicine'\n",
       "\\item 'AACE Clinical Case Reports'\n",
       "\\item 'The AAPS Journal'\n",
       "\\item 'AAPS PharmSci'\n",
       "\\end{enumerate*}\n",
       "\n",
       "\\item[\\$NLM.TA] \\begin{enumerate*}\n",
       "\\item '3 Biotech'\n",
       "\\item '3D Print Med'\n",
       "\\item 'AACE Clin Case Rep'\n",
       "\\item 'AAPS J'\n",
       "\\item 'AAPS PharmSci'\n",
       "\\end{enumerate*}\n",
       "\n",
       "\\item[\\$pISSN] \\begin{enumerate*}\n",
       "\\item '2190-572X'\n",
       "\\item ''\n",
       "\\item '2374-7943'\n",
       "\\item '1672-9145'\n",
       "\\item '0392-4203'\n",
       "\\end{enumerate*}\n",
       "\n",
       "\\item[\\$eISSN] \\begin{enumerate*}\n",
       "\\item '2190-5738'\n",
       "\\item '2365-6271'\n",
       "\\item '2376-0605'\n",
       "\\item '1550-7416'\n",
       "\\item '1522-1059'\n",
       "\\end{enumerate*}\n",
       "\n",
       "\\item[\\$Publisher] \\begin{enumerate*}\n",
       "\\item 'Springer'\n",
       "\\item 'BioMed Central'\n",
       "\\item 'American Association of Clinical Endocrinology'\n",
       "\\item 'American Association of Pharmaceutical Scientists'\n",
       "\\item 'African Academy of Sciences'\n",
       "\\end{enumerate*}\n",
       "\n",
       "\\item[\\$LOCATORplus.ID] \\begin{enumerate*}\n",
       "\\item NA\n",
       "\\item NA\n",
       "\\item NA\n",
       "\\item NA\n",
       "\\item NA\n",
       "\\end{enumerate*}\n",
       "\n",
       "\\item[\\$Latest.issue] \\begin{enumerate*}\n",
       "\\item 'v.13(1);Jan 2023'\n",
       "\\item 'v.8;Dec 2022'\n",
       "\\item 'v.8(6);Nov-Dec 2022'\n",
       "\\item 'v.18(3);May 2016'\n",
       "\\item 'v.6(2);Jun 2004'\n",
       "\\end{enumerate*}\n",
       "\n",
       "\\item[\\$Earliest.volume] \\begin{enumerate*}\n",
       "\\item 'v.1;2011'\n",
       "\\item 'v.2;2016'\n",
       "\\item 'v.5;2019'\n",
       "\\item 'v.6;2004'\n",
       "\\item 'v.1;1999'\n",
       "\\end{enumerate*}\n",
       "\n",
       "\\item[\\$Free.access] \\begin{enumerate*}\n",
       "\\item '12 months'\n",
       "\\item 'Immediate'\n",
       "\\item ''\n",
       "\\item '12 months or less'\n",
       "\\item '6 months'\n",
       "\\end{enumerate*}\n",
       "\n",
       "\\item[\\$Open.access] \\begin{enumerate*}\n",
       "\\item 'Some'\n",
       "\\item 'All'\n",
       "\\item 'No'\n",
       "\\item NA\n",
       "\\item NA\n",
       "\\end{enumerate*}\n",
       "\n",
       "\\item[\\$Participation.level] \\begin{enumerate*}\n",
       "\\item ' Full '\n",
       "\\item ' NIH Portfolio '\n",
       "\\item NA\n",
       "\\item NA\n",
       "\\item NA\n",
       "\\end{enumerate*}\n",
       "\n",
       "\\item[\\$Deposit.status] \\begin{enumerate*}\n",
       "\\item ' '\n",
       "\\item ' No New Content '\n",
       "\\item ' Predecessor '\n",
       "\\item NA\n",
       "\\item NA\n",
       "\\end{enumerate*}\n",
       "\n",
       "\\item[\\$Journal.URL] \\begin{enumerate*}\n",
       "\\item 'http://europepmc.org/journals/1936/'\n",
       "\\item 'http://europepmc.org/journals/3552/'\n",
       "\\item 'http://europepmc.org/journals/3762/'\n",
       "\\item 'http://europepmc.org/journals/262/'\n",
       "\\item 'http://europepmc.org/journals/1196/'\n",
       "\\end{enumerate*}\n",
       "\n",
       "\\end{description}\n"
      ],
      "text/markdown": [
       "$Journal.title\n",
       ":   1. '3 Biotech'\n",
       "2. '3D Printing in Medicine'\n",
       "3. 'AACE Clinical Case Reports'\n",
       "4. 'The AAPS Journal'\n",
       "5. 'AAPS PharmSci'\n",
       "\n",
       "\n",
       "\n",
       "$NLM.TA\n",
       ":   1. '3 Biotech'\n",
       "2. '3D Print Med'\n",
       "3. 'AACE Clin Case Rep'\n",
       "4. 'AAPS J'\n",
       "5. 'AAPS PharmSci'\n",
       "\n",
       "\n",
       "\n",
       "$pISSN\n",
       ":   1. '2190-572X'\n",
       "2. ''\n",
       "3. '2374-7943'\n",
       "4. '1672-9145'\n",
       "5. '0392-4203'\n",
       "\n",
       "\n",
       "\n",
       "$eISSN\n",
       ":   1. '2190-5738'\n",
       "2. '2365-6271'\n",
       "3. '2376-0605'\n",
       "4. '1550-7416'\n",
       "5. '1522-1059'\n",
       "\n",
       "\n",
       "\n",
       "$Publisher\n",
       ":   1. 'Springer'\n",
       "2. 'BioMed Central'\n",
       "3. 'American Association of Clinical Endocrinology'\n",
       "4. 'American Association of Pharmaceutical Scientists'\n",
       "5. 'African Academy of Sciences'\n",
       "\n",
       "\n",
       "\n",
       "$LOCATORplus.ID\n",
       ":   1. NA\n",
       "2. NA\n",
       "3. NA\n",
       "4. NA\n",
       "5. NA\n",
       "\n",
       "\n",
       "\n",
       "$Latest.issue\n",
       ":   1. 'v.13(1);Jan 2023'\n",
       "2. 'v.8;Dec 2022'\n",
       "3. 'v.8(6);Nov-Dec 2022'\n",
       "4. 'v.18(3);May 2016'\n",
       "5. 'v.6(2);Jun 2004'\n",
       "\n",
       "\n",
       "\n",
       "$Earliest.volume\n",
       ":   1. 'v.1;2011'\n",
       "2. 'v.2;2016'\n",
       "3. 'v.5;2019'\n",
       "4. 'v.6;2004'\n",
       "5. 'v.1;1999'\n",
       "\n",
       "\n",
       "\n",
       "$Free.access\n",
       ":   1. '12 months'\n",
       "2. 'Immediate'\n",
       "3. ''\n",
       "4. '12 months or less'\n",
       "5. '6 months'\n",
       "\n",
       "\n",
       "\n",
       "$Open.access\n",
       ":   1. 'Some'\n",
       "2. 'All'\n",
       "3. 'No'\n",
       "4. NA\n",
       "5. NA\n",
       "\n",
       "\n",
       "\n",
       "$Participation.level\n",
       ":   1. ' Full '\n",
       "2. ' NIH Portfolio '\n",
       "3. NA\n",
       "4. NA\n",
       "5. NA\n",
       "\n",
       "\n",
       "\n",
       "$Deposit.status\n",
       ":   1. ' '\n",
       "2. ' No New Content '\n",
       "3. ' Predecessor '\n",
       "4. NA\n",
       "5. NA\n",
       "\n",
       "\n",
       "\n",
       "$Journal.URL\n",
       ":   1. 'http://europepmc.org/journals/1936/'\n",
       "2. 'http://europepmc.org/journals/3552/'\n",
       "3. 'http://europepmc.org/journals/3762/'\n",
       "4. 'http://europepmc.org/journals/262/'\n",
       "5. 'http://europepmc.org/journals/1196/'\n",
       "\n",
       "\n",
       "\n",
       "\n",
       "\n"
      ],
      "text/plain": [
       "$Journal.title\n",
       "[1] \"3 Biotech\"                  \"3D Printing in Medicine\"   \n",
       "[3] \"AACE Clinical Case Reports\" \"The AAPS Journal\"          \n",
       "[5] \"AAPS PharmSci\"             \n",
       "\n",
       "$NLM.TA\n",
       "[1] \"3 Biotech\"          \"3D Print Med\"       \"AACE Clin Case Rep\"\n",
       "[4] \"AAPS J\"             \"AAPS PharmSci\"     \n",
       "\n",
       "$pISSN\n",
       "[1] \"2190-572X\" \"\"          \"2374-7943\" \"1672-9145\" \"0392-4203\"\n",
       "\n",
       "$eISSN\n",
       "[1] \"2190-5738\" \"2365-6271\" \"2376-0605\" \"1550-7416\" \"1522-1059\"\n",
       "\n",
       "$Publisher\n",
       "[1] \"Springer\"                                         \n",
       "[2] \"BioMed Central\"                                   \n",
       "[3] \"American Association of Clinical Endocrinology\"   \n",
       "[4] \"American Association of Pharmaceutical Scientists\"\n",
       "[5] \"African Academy of Sciences\"                      \n",
       "\n",
       "$LOCATORplus.ID\n",
       "[1] NA NA NA NA NA\n",
       "\n",
       "$Latest.issue\n",
       "[1] \"v.13(1);Jan 2023\"    \"v.8;Dec 2022\"        \"v.8(6);Nov-Dec 2022\"\n",
       "[4] \"v.18(3);May 2016\"    \"v.6(2);Jun 2004\"    \n",
       "\n",
       "$Earliest.volume\n",
       "[1] \"v.1;2011\" \"v.2;2016\" \"v.5;2019\" \"v.6;2004\" \"v.1;1999\"\n",
       "\n",
       "$Free.access\n",
       "[1] \"12 months\"         \"Immediate\"         \"\"                 \n",
       "[4] \"12 months or less\" \"6 months\"         \n",
       "\n",
       "$Open.access\n",
       "[1] \"Some\" \"All\"  \"No\"   NA     NA    \n",
       "\n",
       "$Participation.level\n",
       "[1] \" Full \"          \" NIH Portfolio \" NA                NA               \n",
       "[5] NA               \n",
       "\n",
       "$Deposit.status\n",
       "[1] \" \"                \" No New Content \" \" Predecessor \"    NA                \n",
       "[5] NA                \n",
       "\n",
       "$Journal.URL\n",
       "[1] \"http://europepmc.org/journals/1936/\" \"http://europepmc.org/journals/3552/\"\n",
       "[3] \"http://europepmc.org/journals/3762/\" \"http://europepmc.org/journals/262/\" \n",
       "[5] \"http://europepmc.org/journals/1196/\"\n"
      ]
     },
     "metadata": {},
     "output_type": "display_data"
    }
   ],
   "source": [
    "#apply(Obiekt2D, nr_wymiaru, funkcja, opcjonalnie.pozostałe.argumenty.funkcji)\n",
    "# nr_ymiaru = 1 <- po wierszach\n",
    "# nr_wymiaru= 2 <- po kolumnach\n",
    "result<-apply(df,2,unique)   # sprawdzamy unikalne elementy w każdej kolumnie\n",
    "class(result)                # korzystając z apply- warto sprawdzić typ zwróconego obiektu\n",
    "lapply(result, function(x) x[1:5])   #weź z każdego elementu result 5 pierwszych elementów"
   ]
  },
  {
   "cell_type": "markdown",
   "id": "c7007f1c",
   "metadata": {
    "papermill": {
     "duration": 0.019384,
     "end_time": "2022-12-21T08:31:03.214362",
     "exception": false,
     "start_time": "2022-12-21T08:31:03.194978",
     "status": "completed"
    },
    "tags": []
   },
   "source": [
    "## Funkcja tapply (grupująca, jak GROUP BY z SQL)"
   ]
  },
  {
   "cell_type": "code",
   "execution_count": 36,
   "id": "66b8928a",
   "metadata": {
    "execution": {
     "iopub.execute_input": "2022-12-21T08:31:03.255131Z",
     "iopub.status.busy": "2022-12-21T08:31:03.253908Z",
     "iopub.status.idle": "2022-12-21T08:31:03.295706Z",
     "shell.execute_reply": "2022-12-21T08:31:03.294042Z"
    },
    "papermill": {
     "duration": 0.064634,
     "end_time": "2022-12-21T08:31:03.297998",
     "exception": false,
     "start_time": "2022-12-21T08:31:03.233364",
     "status": "completed"
    },
    "tags": []
   },
   "outputs": [
    {
     "data": {
      "text/html": [
       "<style>\n",
       ".dl-inline {width: auto; margin:0; padding: 0}\n",
       ".dl-inline>dt, .dl-inline>dd {float: none; width: auto; display: inline-block}\n",
       ".dl-inline>dt::after {content: \":\\0020\"; padding-right: .5ex}\n",
       ".dl-inline>dt:not(:first-of-type) {padding-left: .5ex}\n",
       "</style><dl class=dl-inline><dt>All</dt><dd>1938</dd><dt>No</dt><dd>379</dd><dt>Some</dt><dd>1594</dd></dl>\n"
      ],
      "text/latex": [
       "\\begin{description*}\n",
       "\\item[All] 1938\n",
       "\\item[No] 379\n",
       "\\item[Some] 1594\n",
       "\\end{description*}\n"
      ],
      "text/markdown": [
       "All\n",
       ":   1938No\n",
       ":   379Some\n",
       ":   1594\n",
       "\n"
      ],
      "text/plain": [
       " All   No Some \n",
       "1938  379 1594 "
      ]
     },
     "metadata": {},
     "output_type": "display_data"
    },
    {
     "data": {
      "text/html": [
       "<table class=\"dataframe\">\n",
       "<caption>A matrix: 3 × 16 of type int</caption>\n",
       "<thead>\n",
       "\t<tr><th></th><th scope=col></th><th scope=col>0 months or more</th><th scope=col>1 month</th><th scope=col>12 months</th><th scope=col>12 months or less</th><th scope=col>2 months</th><th scope=col>2 months or less</th><th scope=col>24 months</th><th scope=col>24 months or less</th><th scope=col>3 months</th><th scope=col>3 months or more</th><th scope=col>36 months</th><th scope=col>36 months or less</th><th scope=col>6 months</th><th scope=col>6 months or less</th><th scope=col>Immediate</th></tr>\n",
       "</thead>\n",
       "<tbody>\n",
       "\t<tr><th scope=row>All</th><td>319</td><td>NA</td><td>1</td><td>  4</td><td>NA</td><td> 1</td><td>NA</td><td>NA</td><td>NA</td><td>NA</td><td>NA</td><td>NA</td><td>NA</td><td> 1</td><td>NA</td><td>1612</td></tr>\n",
       "\t<tr><th scope=row>No</th><td>130</td><td>NA</td><td>1</td><td> 37</td><td> 1</td><td>NA</td><td>NA</td><td> 2</td><td> 1</td><td> 2</td><td>NA</td><td> 1</td><td>NA</td><td>11</td><td>NA</td><td> 193</td></tr>\n",
       "\t<tr><th scope=row>Some</th><td>128</td><td> 1</td><td>4</td><td>460</td><td>35</td><td> 1</td><td> 1</td><td> 2</td><td>NA</td><td> 1</td><td> 1</td><td>NA</td><td> 1</td><td>20</td><td>13</td><td> 926</td></tr>\n",
       "</tbody>\n",
       "</table>\n"
      ],
      "text/latex": [
       "A matrix: 3 × 16 of type int\n",
       "\\begin{tabular}{r|llllllllllllllll}\n",
       "  &  & 0 months or more & 1 month & 12 months & 12 months or less & 2 months & 2 months or less & 24 months & 24 months or less & 3 months & 3 months or more & 36 months & 36 months or less & 6 months & 6 months or less & Immediate\\\\\n",
       "\\hline\n",
       "\tAll & 319 & NA & 1 &   4 & NA &  1 & NA & NA & NA & NA & NA & NA & NA &  1 & NA & 1612\\\\\n",
       "\tNo & 130 & NA & 1 &  37 &  1 & NA & NA &  2 &  1 &  2 & NA &  1 & NA & 11 & NA &  193\\\\\n",
       "\tSome & 128 &  1 & 4 & 460 & 35 &  1 &  1 &  2 & NA &  1 &  1 & NA &  1 & 20 & 13 &  926\\\\\n",
       "\\end{tabular}\n"
      ],
      "text/markdown": [
       "\n",
       "A matrix: 3 × 16 of type int\n",
       "\n",
       "| <!--/--> | <!----> | 0 months or more | 1 month | 12 months | 12 months or less | 2 months | 2 months or less | 24 months | 24 months or less | 3 months | 3 months or more | 36 months | 36 months or less | 6 months | 6 months or less | Immediate |\n",
       "|---|---|---|---|---|---|---|---|---|---|---|---|---|---|---|---|---|\n",
       "| All | 319 | NA | 1 |   4 | NA |  1 | NA | NA | NA | NA | NA | NA | NA |  1 | NA | 1612 |\n",
       "| No | 130 | NA | 1 |  37 |  1 | NA | NA |  2 |  1 |  2 | NA |  1 | NA | 11 | NA |  193 |\n",
       "| Some | 128 |  1 | 4 | 460 | 35 |  1 |  1 |  2 | NA |  1 |  1 | NA |  1 | 20 | 13 |  926 |\n",
       "\n"
      ],
      "text/plain": [
       "         0 months or more 1 month 12 months 12 months or less 2 months\n",
       "All  319 NA               1         4       NA                 1      \n",
       "No   130 NA               1        37        1                NA      \n",
       "Some 128  1               4       460       35                 1      \n",
       "     2 months or less 24 months 24 months or less 3 months 3 months or more\n",
       "All  NA               NA        NA                NA       NA              \n",
       "No   NA                2         1                 2       NA              \n",
       "Some  1                2        NA                 1        1              \n",
       "     36 months 36 months or less 6 months 6 months or less Immediate\n",
       "All  NA        NA                 1       NA               1612     \n",
       "No    1        NA                11       NA                193     \n",
       "Some NA         1                20       13                926     "
      ]
     },
     "metadata": {},
     "output_type": "display_data"
    },
    {
     "data": {
      "text/html": [
       "<style>\n",
       ".list-inline {list-style: none; margin:0; padding: 0}\n",
       ".list-inline>li {display: inline-block}\n",
       ".list-inline>li:not(:last-child)::after {content: \"\\00b7\"; padding: 0 .5ex}\n",
       "</style>\n",
       "<ol class=list-inline><li>'3 Biotech'</li><li>'3D Printing in Medicine'</li><li>'AACE Clinical Case Reports'</li><li>'The AAPS Journal'</li><li>'AAPS PharmSci'</li></ol>\n"
      ],
      "text/latex": [
       "\\begin{enumerate*}\n",
       "\\item '3 Biotech'\n",
       "\\item '3D Printing in Medicine'\n",
       "\\item 'AACE Clinical Case Reports'\n",
       "\\item 'The AAPS Journal'\n",
       "\\item 'AAPS PharmSci'\n",
       "\\end{enumerate*}\n"
      ],
      "text/markdown": [
       "1. '3 Biotech'\n",
       "2. '3D Printing in Medicine'\n",
       "3. 'AACE Clinical Case Reports'\n",
       "4. 'The AAPS Journal'\n",
       "5. 'AAPS PharmSci'\n",
       "\n",
       "\n"
      ],
      "text/plain": [
       "[1] \"3 Biotech\"                  \"3D Printing in Medicine\"   \n",
       "[3] \"AACE Clinical Case Reports\" \"The AAPS Journal\"          \n",
       "[5] \"AAPS PharmSci\"             "
      ]
     },
     "metadata": {},
     "output_type": "display_data"
    },
    {
     "data": {
      "text/html": [
       "<style>\n",
       ".list-inline {list-style: none; margin:0; padding: 0}\n",
       ".list-inline>li {display: inline-block}\n",
       ".list-inline>li:not(:last-child)::after {content: \"\\00b7\"; padding: 0 .5ex}\n",
       "</style>\n",
       "<ol class=list-inline><li>9</li><li>23</li><li>26</li><li>16</li><li>13</li></ol>\n"
      ],
      "text/latex": [
       "\\begin{enumerate*}\n",
       "\\item 9\n",
       "\\item 23\n",
       "\\item 26\n",
       "\\item 16\n",
       "\\item 13\n",
       "\\end{enumerate*}\n"
      ],
      "text/markdown": [
       "1. 9\n",
       "2. 23\n",
       "3. 26\n",
       "4. 16\n",
       "5. 13\n",
       "\n",
       "\n"
      ],
      "text/plain": [
       "[1]  9 23 26 16 13"
      ]
     },
     "metadata": {},
     "output_type": "display_data"
    }
   ],
   "source": [
    "#tapply(wektor_wartości, wektor_grupujący_lub_lista_wektorów_grupujących, \n",
    "#funkcja_do_zastosowania_w_grupach)\n",
    "tapply(df$Journal.title, df$Open.access,\n",
    "       length) # ile jest tytułów czasopism z danym poziomiem Open.access\n",
    "tapply(df$Journal.title, list(df$Open.access, df$Free.access),\n",
    "      length)   # ile jest tytułów czasopism z danym poziomem Open.access i \n",
    "                # czasem wolnego dostępu (free.acess)\n",
    "                # NA <- 0\n",
    "\n",
    "\n",
    "#dodanie bezsensownej :) kolumny z danymi numerycznymi do df\n",
    "df$title.length<- unlist(lapply(df$Journal.title,nchar)) #liczba znaków w Journal.title\n",
    "df[1:5,]$Journal.title\n",
    "df[1:5,]$title.length"
   ]
  },
  {
   "cell_type": "code",
   "execution_count": 37,
   "id": "50c961b9",
   "metadata": {
    "execution": {
     "iopub.execute_input": "2022-12-21T08:31:03.342089Z",
     "iopub.status.busy": "2022-12-21T08:31:03.340690Z",
     "iopub.status.idle": "2022-12-21T08:31:03.380665Z",
     "shell.execute_reply": "2022-12-21T08:31:03.379380Z"
    },
    "papermill": {
     "duration": 0.064286,
     "end_time": "2022-12-21T08:31:03.382760",
     "exception": false,
     "start_time": "2022-12-21T08:31:03.318474",
     "status": "completed"
    },
    "tags": []
   },
   "outputs": [
    {
     "data": {
      "text/html": [
       "<style>\n",
       ".dl-inline {width: auto; margin:0; padding: 0}\n",
       ".dl-inline>dt, .dl-inline>dd {float: none; width: auto; display: inline-block}\n",
       ".dl-inline>dt::after {content: \":\\0020\"; padding-right: .5ex}\n",
       ".dl-inline>dt:not(:first-of-type) {padding-left: .5ex}\n",
       "</style><dl class=dl-inline><dt>All</dt><dd>31.0557275541796</dd><dt>No</dt><dd>35.7467018469657</dd><dt>Some</dt><dd>31.2540777917189</dd></dl>\n"
      ],
      "text/latex": [
       "\\begin{description*}\n",
       "\\item[All] 31.0557275541796\n",
       "\\item[No] 35.7467018469657\n",
       "\\item[Some] 31.2540777917189\n",
       "\\end{description*}\n"
      ],
      "text/markdown": [
       "All\n",
       ":   31.0557275541796No\n",
       ":   35.7467018469657Some\n",
       ":   31.2540777917189\n",
       "\n"
      ],
      "text/plain": [
       "     All       No     Some \n",
       "31.05573 35.74670 31.25408 "
      ]
     },
     "metadata": {},
     "output_type": "display_data"
    },
    {
     "name": "stdout",
     "output_type": "stream",
     "text": [
      "[1] \"***********\"\n",
      "[1] \"***********\"\n",
      "[1] \"***********\"\n",
      "[1] \"***********\"\n",
      "[1] \"***********\"\n"
     ]
    },
    {
     "data": {
      "text/html": [
       "<table class=\"dataframe\">\n",
       "<caption>A matrix: 3 × 16 of type int</caption>\n",
       "<thead>\n",
       "\t<tr><th></th><th scope=col></th><th scope=col>0 months or more</th><th scope=col>1 month</th><th scope=col>12 months</th><th scope=col>12 months or less</th><th scope=col>2 months</th><th scope=col>2 months or less</th><th scope=col>24 months</th><th scope=col>24 months or less</th><th scope=col>3 months</th><th scope=col>3 months or more</th><th scope=col>36 months</th><th scope=col>36 months or less</th><th scope=col>6 months</th><th scope=col>6 months or less</th><th scope=col>Immediate</th></tr>\n",
       "</thead>\n",
       "<tbody>\n",
       "\t<tr><th scope=row>All</th><td>9189</td><td>NA</td><td> 27</td><td>  102</td><td>  NA</td><td>28</td><td>NA</td><td>NA</td><td>NA</td><td>NA</td><td>NA</td><td>NA</td><td>NA</td><td> 51</td><td> NA</td><td>50789</td></tr>\n",
       "\t<tr><th scope=row>No</th><td>4152</td><td>NA</td><td> 34</td><td> 1406</td><td>  20</td><td>NA</td><td>NA</td><td>60</td><td>42</td><td>64</td><td>NA</td><td>28</td><td>NA</td><td>343</td><td> NA</td><td> 7399</td></tr>\n",
       "\t<tr><th scope=row>Some</th><td>3658</td><td>43</td><td>145</td><td>15150</td><td>1131</td><td>50</td><td>29</td><td>34</td><td>NA</td><td>34</td><td>37</td><td>NA</td><td>40</td><td>686</td><td>395</td><td>28387</td></tr>\n",
       "</tbody>\n",
       "</table>\n"
      ],
      "text/latex": [
       "A matrix: 3 × 16 of type int\n",
       "\\begin{tabular}{r|llllllllllllllll}\n",
       "  &  & 0 months or more & 1 month & 12 months & 12 months or less & 2 months & 2 months or less & 24 months & 24 months or less & 3 months & 3 months or more & 36 months & 36 months or less & 6 months & 6 months or less & Immediate\\\\\n",
       "\\hline\n",
       "\tAll & 9189 & NA &  27 &   102 &   NA & 28 & NA & NA & NA & NA & NA & NA & NA &  51 &  NA & 50789\\\\\n",
       "\tNo & 4152 & NA &  34 &  1406 &   20 & NA & NA & 60 & 42 & 64 & NA & 28 & NA & 343 &  NA &  7399\\\\\n",
       "\tSome & 3658 & 43 & 145 & 15150 & 1131 & 50 & 29 & 34 & NA & 34 & 37 & NA & 40 & 686 & 395 & 28387\\\\\n",
       "\\end{tabular}\n"
      ],
      "text/markdown": [
       "\n",
       "A matrix: 3 × 16 of type int\n",
       "\n",
       "| <!--/--> | <!----> | 0 months or more | 1 month | 12 months | 12 months or less | 2 months | 2 months or less | 24 months | 24 months or less | 3 months | 3 months or more | 36 months | 36 months or less | 6 months | 6 months or less | Immediate |\n",
       "|---|---|---|---|---|---|---|---|---|---|---|---|---|---|---|---|---|\n",
       "| All | 9189 | NA |  27 |   102 |   NA | 28 | NA | NA | NA | NA | NA | NA | NA |  51 |  NA | 50789 |\n",
       "| No | 4152 | NA |  34 |  1406 |   20 | NA | NA | 60 | 42 | 64 | NA | 28 | NA | 343 |  NA |  7399 |\n",
       "| Some | 3658 | 43 | 145 | 15150 | 1131 | 50 | 29 | 34 | NA | 34 | 37 | NA | 40 | 686 | 395 | 28387 |\n",
       "\n"
      ],
      "text/plain": [
       "          0 months or more 1 month 12 months 12 months or less 2 months\n",
       "All  9189 NA                27       102       NA              28      \n",
       "No   4152 NA                34      1406       20              NA      \n",
       "Some 3658 43               145     15150     1131              50      \n",
       "     2 months or less 24 months 24 months or less 3 months 3 months or more\n",
       "All  NA               NA        NA                NA       NA              \n",
       "No   NA               60        42                64       NA              \n",
       "Some 29               34        NA                34       37              \n",
       "     36 months 36 months or less 6 months 6 months or less Immediate\n",
       "All  NA        NA                 51       NA              50789    \n",
       "No   28        NA                343       NA               7399    \n",
       "Some NA        40                686      395              28387    "
      ]
     },
     "metadata": {},
     "output_type": "display_data"
    }
   ],
   "source": [
    "#tapply z danymi numerycznymi:\n",
    "tapply(df$title.length, df$Open.access, mean) #średnia długość tytułu w podziale na Open.access\n",
    "print(\"***********\")\n",
    "print(\"***********\")\n",
    "print(\"***********\")\n",
    "print(\"***********\")\n",
    "print(\"***********\")\n",
    "tapply(df$title.length, list(df$Open.access,\n",
    "                             df$Free.access), sum) #suma liter tworzących tytuły każdego czasompisma z danym\n",
    "                                              #poziomem Open.access oraz Free.access"
   ]
  },
  {
   "cell_type": "markdown",
   "id": "f7293d17",
   "metadata": {
    "papermill": {
     "duration": 0.021316,
     "end_time": "2022-12-21T08:31:03.425460",
     "exception": false,
     "start_time": "2022-12-21T08:31:03.404144",
     "status": "completed"
    },
    "tags": []
   },
   "source": [
    "## Macierze"
   ]
  },
  {
   "cell_type": "code",
   "execution_count": 38,
   "id": "159846e4",
   "metadata": {
    "execution": {
     "iopub.execute_input": "2022-12-21T08:31:03.470625Z",
     "iopub.status.busy": "2022-12-21T08:31:03.469303Z",
     "iopub.status.idle": "2022-12-21T08:31:03.491876Z",
     "shell.execute_reply": "2022-12-21T08:31:03.490556Z"
    },
    "papermill": {
     "duration": 0.047163,
     "end_time": "2022-12-21T08:31:03.493545",
     "exception": false,
     "start_time": "2022-12-21T08:31:03.446382",
     "status": "completed"
    },
    "tags": []
   },
   "outputs": [
    {
     "data": {
      "text/html": [
       "<table class=\"dataframe\">\n",
       "<caption>A matrix: 2 × 5 of type dbl</caption>\n",
       "<tbody>\n",
       "\t<tr><td>1</td><td>3</td><td>5</td><td>7</td><td> 9</td></tr>\n",
       "\t<tr><td>2</td><td>4</td><td>6</td><td>8</td><td>10</td></tr>\n",
       "</tbody>\n",
       "</table>\n"
      ],
      "text/latex": [
       "A matrix: 2 × 5 of type dbl\n",
       "\\begin{tabular}{lllll}\n",
       "\t 1 & 3 & 5 & 7 &  9\\\\\n",
       "\t 2 & 4 & 6 & 8 & 10\\\\\n",
       "\\end{tabular}\n"
      ],
      "text/markdown": [
       "\n",
       "A matrix: 2 × 5 of type dbl\n",
       "\n",
       "| 1 | 3 | 5 | 7 |  9 |\n",
       "| 2 | 4 | 6 | 8 | 10 |\n",
       "\n"
      ],
      "text/plain": [
       "     [,1] [,2] [,3] [,4] [,5]\n",
       "[1,] 1    3    5    7     9  \n",
       "[2,] 2    4    6    8    10  "
      ]
     },
     "metadata": {},
     "output_type": "display_data"
    }
   ],
   "source": [
    "A<- matrix(c(1,2,3,4,5,6,7,8,9,10), nrow=2)\n",
    "A"
   ]
  },
  {
   "cell_type": "code",
   "execution_count": 39,
   "id": "62242961",
   "metadata": {
    "execution": {
     "iopub.execute_input": "2022-12-21T08:31:03.539234Z",
     "iopub.status.busy": "2022-12-21T08:31:03.537909Z",
     "iopub.status.idle": "2022-12-21T08:31:03.558508Z",
     "shell.execute_reply": "2022-12-21T08:31:03.557057Z"
    },
    "papermill": {
     "duration": 0.047488,
     "end_time": "2022-12-21T08:31:03.561653",
     "exception": false,
     "start_time": "2022-12-21T08:31:03.514165",
     "status": "completed"
    },
    "tags": []
   },
   "outputs": [
    {
     "data": {
      "text/html": [
       "<style>\n",
       ".list-inline {list-style: none; margin:0; padding: 0}\n",
       ".list-inline>li {display: inline-block}\n",
       ".list-inline>li:not(:last-child)::after {content: \"\\00b7\"; padding: 0 .5ex}\n",
       "</style>\n",
       "<ol class=list-inline><li>'matrix'</li><li>'array'</li></ol>\n"
      ],
      "text/latex": [
       "\\begin{enumerate*}\n",
       "\\item 'matrix'\n",
       "\\item 'array'\n",
       "\\end{enumerate*}\n"
      ],
      "text/markdown": [
       "1. 'matrix'\n",
       "2. 'array'\n",
       "\n",
       "\n"
      ],
      "text/plain": [
       "[1] \"matrix\" \"array\" "
      ]
     },
     "metadata": {},
     "output_type": "display_data"
    },
    {
     "data": {
      "text/html": [
       "<table class=\"dataframe\">\n",
       "<caption>A matrix: 2 × 3 of type dbl</caption>\n",
       "<tbody>\n",
       "\t<tr><td>1</td><td>2</td><td>3</td></tr>\n",
       "\t<tr><td>2</td><td>3</td><td>4</td></tr>\n",
       "</tbody>\n",
       "</table>\n"
      ],
      "text/latex": [
       "A matrix: 2 × 3 of type dbl\n",
       "\\begin{tabular}{lll}\n",
       "\t 1 & 2 & 3\\\\\n",
       "\t 2 & 3 & 4\\\\\n",
       "\\end{tabular}\n"
      ],
      "text/markdown": [
       "\n",
       "A matrix: 2 × 3 of type dbl\n",
       "\n",
       "| 1 | 2 | 3 |\n",
       "| 2 | 3 | 4 |\n",
       "\n"
      ],
      "text/plain": [
       "     [,1] [,2] [,3]\n",
       "[1,] 1    2    3   \n",
       "[2,] 2    3    4   "
      ]
     },
     "metadata": {},
     "output_type": "display_data"
    }
   ],
   "source": [
    "B<- rbind(c(1,2,3),\n",
    "         c(2,3,4)) #rowbind\n",
    "class(B)\n",
    "B"
   ]
  },
  {
   "cell_type": "code",
   "execution_count": 40,
   "id": "1f46af8b",
   "metadata": {
    "execution": {
     "iopub.execute_input": "2022-12-21T08:31:03.607183Z",
     "iopub.status.busy": "2022-12-21T08:31:03.605963Z",
     "iopub.status.idle": "2022-12-21T08:31:03.624509Z",
     "shell.execute_reply": "2022-12-21T08:31:03.622929Z"
    },
    "papermill": {
     "duration": 0.044336,
     "end_time": "2022-12-21T08:31:03.626954",
     "exception": false,
     "start_time": "2022-12-21T08:31:03.582618",
     "status": "completed"
    },
    "tags": []
   },
   "outputs": [
    {
     "data": {
      "text/html": [
       "<style>\n",
       ".list-inline {list-style: none; margin:0; padding: 0}\n",
       ".list-inline>li {display: inline-block}\n",
       ".list-inline>li:not(:last-child)::after {content: \"\\00b7\"; padding: 0 .5ex}\n",
       "</style>\n",
       "<ol class=list-inline><li>2</li><li>5</li></ol>\n"
      ],
      "text/latex": [
       "\\begin{enumerate*}\n",
       "\\item 2\n",
       "\\item 5\n",
       "\\end{enumerate*}\n"
      ],
      "text/markdown": [
       "1. 2\n",
       "2. 5\n",
       "\n",
       "\n"
      ],
      "text/plain": [
       "[1] 2 5"
      ]
     },
     "metadata": {},
     "output_type": "display_data"
    },
    {
     "data": {
      "text/html": [
       "<style>\n",
       ".list-inline {list-style: none; margin:0; padding: 0}\n",
       ".list-inline>li {display: inline-block}\n",
       ".list-inline>li:not(:last-child)::after {content: \"\\00b7\"; padding: 0 .5ex}\n",
       "</style>\n",
       "<ol class=list-inline><li>2</li><li>3</li></ol>\n"
      ],
      "text/latex": [
       "\\begin{enumerate*}\n",
       "\\item 2\n",
       "\\item 3\n",
       "\\end{enumerate*}\n"
      ],
      "text/markdown": [
       "1. 2\n",
       "2. 3\n",
       "\n",
       "\n"
      ],
      "text/plain": [
       "[1] 2 3"
      ]
     },
     "metadata": {},
     "output_type": "display_data"
    }
   ],
   "source": [
    "dim(A)\n",
    "dim(B)"
   ]
  },
  {
   "cell_type": "code",
   "execution_count": 41,
   "id": "a225054f",
   "metadata": {
    "execution": {
     "iopub.execute_input": "2022-12-21T08:31:03.673493Z",
     "iopub.status.busy": "2022-12-21T08:31:03.672120Z",
     "iopub.status.idle": "2022-12-21T08:31:03.708239Z",
     "shell.execute_reply": "2022-12-21T08:31:03.706887Z"
    },
    "papermill": {
     "duration": 0.061349,
     "end_time": "2022-12-21T08:31:03.710019",
     "exception": false,
     "start_time": "2022-12-21T08:31:03.648670",
     "status": "completed"
    },
    "tags": []
   },
   "outputs": [
    {
     "data": {
      "text/html": [
       "<style>\n",
       ".list-inline {list-style: none; margin:0; padding: 0}\n",
       ".list-inline>li {display: inline-block}\n",
       ".list-inline>li:not(:last-child)::after {content: \"\\00b7\"; padding: 0 .5ex}\n",
       "</style>\n",
       "<ol class=list-inline><li>1.5</li><li>3.5</li><li>5.5</li><li>7.5</li><li>9.5</li></ol>\n"
      ],
      "text/latex": [
       "\\begin{enumerate*}\n",
       "\\item 1.5\n",
       "\\item 3.5\n",
       "\\item 5.5\n",
       "\\item 7.5\n",
       "\\item 9.5\n",
       "\\end{enumerate*}\n"
      ],
      "text/markdown": [
       "1. 1.5\n",
       "2. 3.5\n",
       "3. 5.5\n",
       "4. 7.5\n",
       "5. 9.5\n",
       "\n",
       "\n"
      ],
      "text/plain": [
       "[1] 1.5 3.5 5.5 7.5 9.5"
      ]
     },
     "metadata": {},
     "output_type": "display_data"
    },
    {
     "name": "stdout",
     "output_type": "stream",
     "text": [
      "     [,1] [,2] [,3] [,4] [,5]\n",
      "[1,]    1    3    5    7    9\n",
      "[2,]    2    4    6    8   10\n"
     ]
    },
    {
     "data": {
      "text/html": [
       "<style>\n",
       ".list-inline {list-style: none; margin:0; padding: 0}\n",
       ".list-inline>li {display: inline-block}\n",
       ".list-inline>li:not(:last-child)::after {content: \"\\00b7\"; padding: 0 .5ex}\n",
       "</style>\n",
       "<ol class=list-inline><li>5</li><li>6</li></ol>\n"
      ],
      "text/latex": [
       "\\begin{enumerate*}\n",
       "\\item 5\n",
       "\\item 6\n",
       "\\end{enumerate*}\n"
      ],
      "text/markdown": [
       "1. 5\n",
       "2. 6\n",
       "\n",
       "\n"
      ],
      "text/plain": [
       "[1] 5 6"
      ]
     },
     "metadata": {},
     "output_type": "display_data"
    },
    {
     "data": {
      "text/html": [
       "<style>\n",
       ".list-inline {list-style: none; margin:0; padding: 0}\n",
       ".list-inline>li {display: inline-block}\n",
       ".list-inline>li:not(:last-child)::after {content: \"\\00b7\"; padding: 0 .5ex}\n",
       "</style>\n",
       "<ol class=list-inline><li>1.5</li><li>3.5</li><li>5.5</li><li>7.5</li><li>9.5</li></ol>\n"
      ],
      "text/latex": [
       "\\begin{enumerate*}\n",
       "\\item 1.5\n",
       "\\item 3.5\n",
       "\\item 5.5\n",
       "\\item 7.5\n",
       "\\item 9.5\n",
       "\\end{enumerate*}\n"
      ],
      "text/markdown": [
       "1. 1.5\n",
       "2. 3.5\n",
       "3. 5.5\n",
       "4. 7.5\n",
       "5. 9.5\n",
       "\n",
       "\n"
      ],
      "text/plain": [
       "[1] 1.5 3.5 5.5 7.5 9.5"
      ]
     },
     "metadata": {},
     "output_type": "display_data"
    },
    {
     "name": "stdout",
     "output_type": "stream",
     "text": [
      "     [,1] [,2] [,3]\n",
      "[1,]    1    2    3\n",
      "[2,]    2    3    4\n"
     ]
    },
    {
     "data": {
      "text/html": [
       "<style>\n",
       ".list-inline {list-style: none; margin:0; padding: 0}\n",
       ".list-inline>li {display: inline-block}\n",
       ".list-inline>li:not(:last-child)::after {content: \"\\00b7\"; padding: 0 .5ex}\n",
       "</style>\n",
       "<ol class=list-inline><li>6</li><li>9</li></ol>\n"
      ],
      "text/latex": [
       "\\begin{enumerate*}\n",
       "\\item 6\n",
       "\\item 9\n",
       "\\end{enumerate*}\n"
      ],
      "text/markdown": [
       "1. 6\n",
       "2. 9\n",
       "\n",
       "\n"
      ],
      "text/plain": [
       "[1] 6 9"
      ]
     },
     "metadata": {},
     "output_type": "display_data"
    },
    {
     "data": {
      "text/html": [
       "<style>\n",
       ".list-inline {list-style: none; margin:0; padding: 0}\n",
       ".list-inline>li {display: inline-block}\n",
       ".list-inline>li:not(:last-child)::after {content: \"\\00b7\"; padding: 0 .5ex}\n",
       "</style>\n",
       "<ol class=list-inline><li>3</li><li>5</li><li>7</li></ol>\n"
      ],
      "text/latex": [
       "\\begin{enumerate*}\n",
       "\\item 3\n",
       "\\item 5\n",
       "\\item 7\n",
       "\\end{enumerate*}\n"
      ],
      "text/markdown": [
       "1. 3\n",
       "2. 5\n",
       "3. 7\n",
       "\n",
       "\n"
      ],
      "text/plain": [
       "[1] 3 5 7"
      ]
     },
     "metadata": {},
     "output_type": "display_data"
    }
   ],
   "source": [
    "apply(A,2,mean) # średnie po kolumnach (można też po dataframe jeżeli zawiera liczby)\n",
    "#funkcje działające szybko:\n",
    "print(A)\n",
    "rowMeans(A)\n",
    "colMeans(A)\n",
    "print(B)\n",
    "rowSums(B)\n",
    "colSums(B)"
   ]
  },
  {
   "cell_type": "code",
   "execution_count": 42,
   "id": "0f130775",
   "metadata": {
    "execution": {
     "iopub.execute_input": "2022-12-21T08:31:03.759854Z",
     "iopub.status.busy": "2022-12-21T08:31:03.758472Z",
     "iopub.status.idle": "2022-12-21T08:31:03.776020Z",
     "shell.execute_reply": "2022-12-21T08:31:03.774475Z"
    },
    "papermill": {
     "duration": 0.045267,
     "end_time": "2022-12-21T08:31:03.779049",
     "exception": false,
     "start_time": "2022-12-21T08:31:03.733782",
     "status": "completed"
    },
    "tags": []
   },
   "outputs": [
    {
     "name": "stdout",
     "output_type": "stream",
     "text": [
      "     [,1] [,2] [,3]\n",
      "[1,]    1    2    3\n",
      "[2,]    2    3    4\n",
      "     [,1] [,2]\n",
      "[1,]    1    2\n",
      "[2,]    2    3\n",
      "[3,]    3    4\n"
     ]
    }
   ],
   "source": [
    "B_transposed<- t(B) #transpozycja macierzy, funkcja t\n",
    "print(B)\n",
    "print(B_transposed)"
   ]
  },
  {
   "cell_type": "code",
   "execution_count": 43,
   "id": "77ecc113",
   "metadata": {
    "execution": {
     "iopub.execute_input": "2022-12-21T08:31:03.829485Z",
     "iopub.status.busy": "2022-12-21T08:31:03.828050Z",
     "iopub.status.idle": "2022-12-21T08:31:03.846258Z",
     "shell.execute_reply": "2022-12-21T08:31:03.844854Z"
    },
    "papermill": {
     "duration": 0.046813,
     "end_time": "2022-12-21T08:31:03.848659",
     "exception": false,
     "start_time": "2022-12-21T08:31:03.801846",
     "status": "completed"
    },
    "tags": []
   },
   "outputs": [
    {
     "data": {
      "text/html": [
       "<table class=\"dataframe\">\n",
       "<caption>A matrix: 2 × 2 of type dbl</caption>\n",
       "<tbody>\n",
       "\t<tr><td>14</td><td>20</td></tr>\n",
       "\t<tr><td>20</td><td>29</td></tr>\n",
       "</tbody>\n",
       "</table>\n"
      ],
      "text/latex": [
       "A matrix: 2 × 2 of type dbl\n",
       "\\begin{tabular}{ll}\n",
       "\t 14 & 20\\\\\n",
       "\t 20 & 29\\\\\n",
       "\\end{tabular}\n"
      ],
      "text/markdown": [
       "\n",
       "A matrix: 2 × 2 of type dbl\n",
       "\n",
       "| 14 | 20 |\n",
       "| 20 | 29 |\n",
       "\n"
      ],
      "text/plain": [
       "     [,1] [,2]\n",
       "[1,] 14   20  \n",
       "[2,] 20   29  "
      ]
     },
     "metadata": {},
     "output_type": "display_data"
    }
   ],
   "source": [
    "B %*% B_transposed #mnożenie macierzy 2X3 %*% 3X2 = 2X2"
   ]
  },
  {
   "cell_type": "code",
   "execution_count": 44,
   "id": "948d0cf8",
   "metadata": {
    "execution": {
     "iopub.execute_input": "2022-12-21T08:31:03.896696Z",
     "iopub.status.busy": "2022-12-21T08:31:03.895380Z",
     "iopub.status.idle": "2022-12-21T08:31:03.913699Z",
     "shell.execute_reply": "2022-12-21T08:31:03.908349Z"
    },
    "papermill": {
     "duration": 0.044223,
     "end_time": "2022-12-21T08:31:03.915646",
     "exception": false,
     "start_time": "2022-12-21T08:31:03.871423",
     "status": "completed"
    },
    "tags": []
   },
   "outputs": [
    {
     "data": {
      "text/html": [
       "<style>\n",
       ".list-inline {list-style: none; margin:0; padding: 0}\n",
       ".list-inline>li {display: inline-block}\n",
       ".list-inline>li:not(:last-child)::after {content: \"\\00b7\"; padding: 0 .5ex}\n",
       "</style>\n",
       "<ol class=list-inline><li>14</li><li>29</li></ol>\n"
      ],
      "text/latex": [
       "\\begin{enumerate*}\n",
       "\\item 14\n",
       "\\item 29\n",
       "\\end{enumerate*}\n"
      ],
      "text/markdown": [
       "1. 14\n",
       "2. 29\n",
       "\n",
       "\n"
      ],
      "text/plain": [
       "[1] 14 29"
      ]
     },
     "metadata": {},
     "output_type": "display_data"
    }
   ],
   "source": [
    "BBt<-B %*% B_transposed\n",
    "diag(BBt) # przekątna"
   ]
  },
  {
   "cell_type": "markdown",
   "id": "725928c5",
   "metadata": {
    "papermill": {
     "duration": 0.022673,
     "end_time": "2022-12-21T08:31:03.960434",
     "exception": false,
     "start_time": "2022-12-21T08:31:03.937761",
     "status": "completed"
    },
    "tags": []
   },
   "source": [
    "## Funkcja t.test i korekta p.wartości"
   ]
  },
  {
   "cell_type": "code",
   "execution_count": 45,
   "id": "b66202cb",
   "metadata": {
    "execution": {
     "iopub.execute_input": "2022-12-21T08:31:04.007719Z",
     "iopub.status.busy": "2022-12-21T08:31:04.006461Z",
     "iopub.status.idle": "2022-12-21T08:31:04.020520Z",
     "shell.execute_reply": "2022-12-21T08:31:04.019267Z"
    },
    "papermill": {
     "duration": 0.03982,
     "end_time": "2022-12-21T08:31:04.022317",
     "exception": false,
     "start_time": "2022-12-21T08:31:03.982497",
     "status": "completed"
    },
    "tags": []
   },
   "outputs": [],
   "source": [
    "#generujemy zabawkowe dane\n",
    "\n",
    "my_x= rnorm(1300)\n",
    "my_x[500:length(my_x)]= my_x[500:length(my_x)] + 3\n",
    "my_y= c ( rep(0, 499),rep(1, length(500:length(my_x)) ))"
   ]
  },
  {
   "cell_type": "code",
   "execution_count": 46,
   "id": "76a3ddc2",
   "metadata": {
    "execution": {
     "iopub.execute_input": "2022-12-21T08:31:04.070068Z",
     "iopub.status.busy": "2022-12-21T08:31:04.068751Z",
     "iopub.status.idle": "2022-12-21T08:31:04.088489Z",
     "shell.execute_reply": "2022-12-21T08:31:04.087213Z"
    },
    "papermill": {
     "duration": 0.045608,
     "end_time": "2022-12-21T08:31:04.090157",
     "exception": false,
     "start_time": "2022-12-21T08:31:04.044549",
     "status": "completed"
    },
    "tags": []
   },
   "outputs": [
    {
     "data": {
      "text/html": [
       "1.81430014607764"
      ],
      "text/latex": [
       "1.81430014607764"
      ],
      "text/markdown": [
       "1.81430014607764"
      ],
      "text/plain": [
       "[1] 1.8143"
      ]
     },
     "metadata": {},
     "output_type": "display_data"
    },
    {
     "data": {
      "text/html": [
       "-0.062222421936712"
      ],
      "text/latex": [
       "-0.062222421936712"
      ],
      "text/markdown": [
       "-0.062222421936712"
      ],
      "text/plain": [
       "[1] -0.06222242"
      ]
     },
     "metadata": {},
     "output_type": "display_data"
    },
    {
     "data": {
      "text/html": [
       "2.98331982328009"
      ],
      "text/latex": [
       "2.98331982328009"
      ],
      "text/markdown": [
       "2.98331982328009"
      ],
      "text/plain": [
       "[1] 2.98332"
      ]
     },
     "metadata": {},
     "output_type": "display_data"
    }
   ],
   "source": [
    "mean(my_x)\n",
    "mean(my_x[my_y==0])\n",
    "mean(my_x[my_y==1])"
   ]
  },
  {
   "cell_type": "code",
   "execution_count": 47,
   "id": "0c7a5335",
   "metadata": {
    "execution": {
     "iopub.execute_input": "2022-12-21T08:31:04.138552Z",
     "iopub.status.busy": "2022-12-21T08:31:04.137209Z",
     "iopub.status.idle": "2022-12-21T08:31:04.154593Z",
     "shell.execute_reply": "2022-12-21T08:31:04.153080Z"
    },
    "papermill": {
     "duration": 0.043607,
     "end_time": "2022-12-21T08:31:04.156410",
     "exception": false,
     "start_time": "2022-12-21T08:31:04.112803",
     "status": "completed"
    },
    "tags": []
   },
   "outputs": [
    {
     "name": "stdout",
     "output_type": "stream",
     "text": [
      "\n",
      "\tWelch Two Sample t-test\n",
      "\n",
      "data:  my_x[my_y == 0] and my_x[my_y == 1]\n",
      "t = -52.251, df = 1035.2, p-value < 2.2e-16\n",
      "alternative hypothesis: true difference in means is not equal to 0\n",
      "95 percent confidence interval:\n",
      " -3.159916 -2.931169\n",
      "sample estimates:\n",
      "  mean of x   mean of y \n",
      "-0.06222242  2.98331982 \n",
      "\n"
     ]
    }
   ],
   "source": [
    "tres<-t.test(my_x[my_y==0], my_x[my_y==1]) # sprawdzamy, czy roznica w srednich w my_x pomiędzy grupami\n",
    "                                     # jest istotna statystycznie.\n",
    "print(tres)"
   ]
  },
  {
   "cell_type": "code",
   "execution_count": 48,
   "id": "db186aec",
   "metadata": {
    "execution": {
     "iopub.execute_input": "2022-12-21T08:31:04.205892Z",
     "iopub.status.busy": "2022-12-21T08:31:04.204403Z",
     "iopub.status.idle": "2022-12-21T08:31:04.217672Z",
     "shell.execute_reply": "2022-12-21T08:31:04.216498Z"
    },
    "papermill": {
     "duration": 0.040426,
     "end_time": "2022-12-21T08:31:04.219701",
     "exception": false,
     "start_time": "2022-12-21T08:31:04.179275",
     "status": "completed"
    },
    "tags": []
   },
   "outputs": [
    {
     "data": {
      "text/html": [
       "<style>\n",
       ".list-inline {list-style: none; margin:0; padding: 0}\n",
       ".list-inline>li {display: inline-block}\n",
       ".list-inline>li:not(:last-child)::after {content: \"\\00b7\"; padding: 0 .5ex}\n",
       "</style>\n",
       "<ol class=list-inline><li>'statistic'</li><li>'parameter'</li><li>'p.value'</li><li>'conf.int'</li><li>'estimate'</li><li>'null.value'</li><li>'stderr'</li><li>'alternative'</li><li>'method'</li><li>'data.name'</li></ol>\n"
      ],
      "text/latex": [
       "\\begin{enumerate*}\n",
       "\\item 'statistic'\n",
       "\\item 'parameter'\n",
       "\\item 'p.value'\n",
       "\\item 'conf.int'\n",
       "\\item 'estimate'\n",
       "\\item 'null.value'\n",
       "\\item 'stderr'\n",
       "\\item 'alternative'\n",
       "\\item 'method'\n",
       "\\item 'data.name'\n",
       "\\end{enumerate*}\n"
      ],
      "text/markdown": [
       "1. 'statistic'\n",
       "2. 'parameter'\n",
       "3. 'p.value'\n",
       "4. 'conf.int'\n",
       "5. 'estimate'\n",
       "6. 'null.value'\n",
       "7. 'stderr'\n",
       "8. 'alternative'\n",
       "9. 'method'\n",
       "10. 'data.name'\n",
       "\n",
       "\n"
      ],
      "text/plain": [
       " [1] \"statistic\"   \"parameter\"   \"p.value\"     \"conf.int\"    \"estimate\"   \n",
       " [6] \"null.value\"  \"stderr\"      \"alternative\" \"method\"      \"data.name\"  "
      ]
     },
     "metadata": {},
     "output_type": "display_data"
    }
   ],
   "source": [
    "names(tres) # najbardziej istotne- p.value :)"
   ]
  },
  {
   "cell_type": "code",
   "execution_count": 49,
   "id": "a1197157",
   "metadata": {
    "execution": {
     "iopub.execute_input": "2022-12-21T08:31:04.267868Z",
     "iopub.status.busy": "2022-12-21T08:31:04.266768Z",
     "iopub.status.idle": "2022-12-21T08:31:04.278660Z",
     "shell.execute_reply": "2022-12-21T08:31:04.277436Z"
    },
    "papermill": {
     "duration": 0.037864,
     "end_time": "2022-12-21T08:31:04.280249",
     "exception": false,
     "start_time": "2022-12-21T08:31:04.242385",
     "status": "completed"
    },
    "tags": []
   },
   "outputs": [
    {
     "data": {
      "text/html": [
       "1.57014562247135e-292"
      ],
      "text/latex": [
       "1.57014562247135e-292"
      ],
      "text/markdown": [
       "1.57014562247135e-292"
      ],
      "text/plain": [
       "[1] 1.570146e-292"
      ]
     },
     "metadata": {},
     "output_type": "display_data"
    }
   ],
   "source": [
    "tres$p.value # w cholerę istotnie statystyczny wynik."
   ]
  },
  {
   "cell_type": "code",
   "execution_count": 50,
   "id": "2fe95adc",
   "metadata": {
    "execution": {
     "iopub.execute_input": "2022-12-21T08:31:04.328538Z",
     "iopub.status.busy": "2022-12-21T08:31:04.327150Z",
     "iopub.status.idle": "2022-12-21T08:31:04.351844Z",
     "shell.execute_reply": "2022-12-21T08:31:04.350499Z"
    },
    "papermill": {
     "duration": 0.050708,
     "end_time": "2022-12-21T08:31:04.353605",
     "exception": false,
     "start_time": "2022-12-21T08:31:04.302897",
     "status": "completed"
    },
    "tags": []
   },
   "outputs": [
    {
     "data": {
      "text/html": [
       "<style>\n",
       ".dl-inline {width: auto; margin:0; padding: 0}\n",
       ".dl-inline>dt, .dl-inline>dd {float: none; width: auto; display: inline-block}\n",
       ".dl-inline>dt::after {content: \":\\0020\"; padding-right: .5ex}\n",
       ".dl-inline>dt:not(:first-of-type) {padding-left: .5ex}\n",
       "</style><dl class=dl-inline><dt>my_x</dt><dd>1.57014562247135e-292</dd><dt>my_x2</dt><dd>2.869936316938e-279</dd><dt>my_x3</dt><dd>0.392848150479455</dd></dl>\n"
      ],
      "text/latex": [
       "\\begin{description*}\n",
       "\\item[my\\textbackslash{}\\_x] 1.57014562247135e-292\n",
       "\\item[my\\textbackslash{}\\_x2] 2.869936316938e-279\n",
       "\\item[my\\textbackslash{}\\_x3] 0.392848150479455\n",
       "\\end{description*}\n"
      ],
      "text/markdown": [
       "my_x\n",
       ":   1.57014562247135e-292my_x2\n",
       ":   2.869936316938e-279my_x3\n",
       ":   0.392848150479455\n",
       "\n"
      ],
      "text/plain": [
       "         my_x         my_x2         my_x3 \n",
       "1.570146e-292 2.869936e-279  3.928482e-01 "
      ]
     },
     "metadata": {},
     "output_type": "display_data"
    }
   ],
   "source": [
    "# tworzymy dodatkową zmienną my_x2, prawie identyczną, tylko ze średnią -3 w grupie my_y==1\n",
    "my_x2= rnorm(1300)\n",
    "my_x2[500:length(my_x2)]= my_x2[500:length(my_x2)] - 3\n",
    "#tworzymy 3 zmienną, bez różnciy w średnich\n",
    "my_x3= rnorm(1300)\n",
    "#spinamy w strukturę 2D wszystkie zmienne\n",
    "my_X<- cbind(my_x, my_x2, my_x3)\n",
    "# robimy t.test dla każdej ze zmiennych i wyciągamy p.value\n",
    "test.pvalues<-apply(my_X,2, function(x) t.test(x[my_y==0],x[my_y==1])$p.value)\n",
    "test.pvalues  # tylko 2 istotnie statystycznie, jak należy. (p.value < 0.05)"
   ]
  },
  {
   "cell_type": "code",
   "execution_count": 51,
   "id": "b8bf8946",
   "metadata": {
    "execution": {
     "iopub.execute_input": "2022-12-21T08:31:04.402757Z",
     "iopub.status.busy": "2022-12-21T08:31:04.401315Z",
     "iopub.status.idle": "2022-12-21T08:31:04.423010Z",
     "shell.execute_reply": "2022-12-21T08:31:04.421646Z"
    },
    "papermill": {
     "duration": 0.048146,
     "end_time": "2022-12-21T08:31:04.424776",
     "exception": false,
     "start_time": "2022-12-21T08:31:04.376630",
     "status": "completed"
    },
    "tags": []
   },
   "outputs": [
    {
     "data": {
      "text/html": [
       "<style>\n",
       ".list-inline {list-style: none; margin:0; padding: 0}\n",
       ".list-inline>li {display: inline-block}\n",
       ".list-inline>li:not(:last-child)::after {content: \"\\00b7\"; padding: 0 .5ex}\n",
       "</style>\n",
       "<ol class=list-inline><li>'p'</li><li>'method'</li><li>'n'</li></ol>\n"
      ],
      "text/latex": [
       "\\begin{enumerate*}\n",
       "\\item 'p'\n",
       "\\item 'method'\n",
       "\\item 'n'\n",
       "\\end{enumerate*}\n"
      ],
      "text/markdown": [
       "1. 'p'\n",
       "2. 'method'\n",
       "3. 'n'\n",
       "\n",
       "\n"
      ],
      "text/plain": [
       "[1] \"p\"      \"method\" \"n\"     "
      ]
     },
     "metadata": {},
     "output_type": "display_data"
    },
    {
     "name": "stdout",
     "output_type": "stream",
     "text": [
      "[1] \"wartości dla method w funkcji p.adjust\"\n"
     ]
    },
    {
     "data": {
      "text/html": [
       "<style>\n",
       ".list-inline {list-style: none; margin:0; padding: 0}\n",
       ".list-inline>li {display: inline-block}\n",
       ".list-inline>li:not(:last-child)::after {content: \"\\00b7\"; padding: 0 .5ex}\n",
       "</style>\n",
       "<ol class=list-inline><li>'holm'</li><li>'hochberg'</li><li>'hommel'</li><li>'bonferroni'</li><li>'BH'</li><li>'BY'</li><li>'fdr'</li><li>'none'</li></ol>\n"
      ],
      "text/latex": [
       "\\begin{enumerate*}\n",
       "\\item 'holm'\n",
       "\\item 'hochberg'\n",
       "\\item 'hommel'\n",
       "\\item 'bonferroni'\n",
       "\\item 'BH'\n",
       "\\item 'BY'\n",
       "\\item 'fdr'\n",
       "\\item 'none'\n",
       "\\end{enumerate*}\n"
      ],
      "text/markdown": [
       "1. 'holm'\n",
       "2. 'hochberg'\n",
       "3. 'hommel'\n",
       "4. 'bonferroni'\n",
       "5. 'BH'\n",
       "6. 'BY'\n",
       "7. 'fdr'\n",
       "8. 'none'\n",
       "\n",
       "\n"
      ],
      "text/plain": [
       "[1] \"holm\"       \"hochberg\"   \"hommel\"     \"bonferroni\" \"BH\"        \n",
       "[6] \"BY\"         \"fdr\"        \"none\"      "
      ]
     },
     "metadata": {},
     "output_type": "display_data"
    }
   ],
   "source": [
    "#FORMALNIE powyższe jest ŹLE\n",
    "#testując kilka hipotez naraz (akurat tutaj 3, po jednej dla każdej ze zmiennych)\n",
    "#trzeba zastosować korektę wynikającą z wielokrotnych porównań\n",
    "# do tego służy p.adjust\n",
    "#argumenty p.adjust:\n",
    "names(formals(p.adjust))\n",
    "#argumenty wymagane:\n",
    "#p - wektor p-wartości do korekty\n",
    "#method - łańcuch znaków określający, jak chcemy wykonać korektę,\n",
    "#Funkcja zwraca - wektor p.wartości po korekcie\n",
    "#możliwe wartości method:\n",
    "print(\"wartości dla method w funkcji p.adjust\")\n",
    "p.adjust.methods"
   ]
  },
  {
   "cell_type": "code",
   "execution_count": 52,
   "id": "75af2e8f",
   "metadata": {
    "execution": {
     "iopub.execute_input": "2022-12-21T08:31:04.475130Z",
     "iopub.status.busy": "2022-12-21T08:31:04.473720Z",
     "iopub.status.idle": "2022-12-21T08:31:04.492774Z",
     "shell.execute_reply": "2022-12-21T08:31:04.491213Z"
    },
    "papermill": {
     "duration": 0.046099,
     "end_time": "2022-12-21T08:31:04.494603",
     "exception": false,
     "start_time": "2022-12-21T08:31:04.448504",
     "status": "completed"
    },
    "tags": []
   },
   "outputs": [
    {
     "name": "stdout",
     "output_type": "stream",
     "text": [
      "         my_x         my_x2         my_x3 \n",
      "4.710437e-292 8.609809e-279  1.000000e+00 \n"
     ]
    }
   ],
   "source": [
    "padjusted<-p.adjust(test.pvalues, method='bonferroni')\n",
    "print(padjusted)"
   ]
  },
  {
   "cell_type": "code",
   "execution_count": 53,
   "id": "524b66dc",
   "metadata": {
    "execution": {
     "iopub.execute_input": "2022-12-21T08:31:04.544268Z",
     "iopub.status.busy": "2022-12-21T08:31:04.543012Z",
     "iopub.status.idle": "2022-12-21T08:31:04.556710Z",
     "shell.execute_reply": "2022-12-21T08:31:04.555439Z"
    },
    "papermill": {
     "duration": 0.040057,
     "end_time": "2022-12-21T08:31:04.558487",
     "exception": false,
     "start_time": "2022-12-21T08:31:04.518430",
     "status": "completed"
    },
    "tags": []
   },
   "outputs": [
    {
     "data": {
      "text/html": [
       "<style>\n",
       ".dl-inline {width: auto; margin:0; padding: 0}\n",
       ".dl-inline>dt, .dl-inline>dd {float: none; width: auto; display: inline-block}\n",
       ".dl-inline>dt::after {content: \":\\0020\"; padding-right: .5ex}\n",
       ".dl-inline>dt:not(:first-of-type) {padding-left: .5ex}\n",
       "</style><dl class=dl-inline><dt>my_x</dt><dd>TRUE</dd><dt>my_x2</dt><dd>TRUE</dd><dt>my_x3</dt><dd>FALSE</dd></dl>\n"
      ],
      "text/latex": [
       "\\begin{description*}\n",
       "\\item[my\\textbackslash{}\\_x] TRUE\n",
       "\\item[my\\textbackslash{}\\_x2] TRUE\n",
       "\\item[my\\textbackslash{}\\_x3] FALSE\n",
       "\\end{description*}\n"
      ],
      "text/markdown": [
       "my_x\n",
       ":   TRUEmy_x2\n",
       ":   TRUEmy_x3\n",
       ":   FALSE\n",
       "\n"
      ],
      "text/plain": [
       " my_x my_x2 my_x3 \n",
       " TRUE  TRUE FALSE "
      ]
     },
     "metadata": {},
     "output_type": "display_data"
    }
   ],
   "source": [
    "#teraz można formalnie orzec, gdzie jest istotnie statystyczna różnica na poziomie 0.05:\n",
    "padjusted < 0.05"
   ]
  },
  {
   "cell_type": "markdown",
   "id": "8cb2e8d9",
   "metadata": {
    "papermill": {
     "duration": 0.023989,
     "end_time": "2022-12-21T08:31:04.605738",
     "exception": false,
     "start_time": "2022-12-21T08:31:04.581749",
     "status": "completed"
    },
    "tags": []
   },
   "source": [
    "## Wykresy i wizualizacje"
   ]
  },
  {
   "cell_type": "code",
   "execution_count": 54,
   "id": "f563fa63",
   "metadata": {
    "execution": {
     "iopub.execute_input": "2022-12-21T08:31:04.657397Z",
     "iopub.status.busy": "2022-12-21T08:31:04.655895Z",
     "iopub.status.idle": "2022-12-21T08:31:05.027488Z",
     "shell.execute_reply": "2022-12-21T08:31:05.025506Z"
    },
    "papermill": {
     "duration": 0.399792,
     "end_time": "2022-12-21T08:31:05.030491",
     "exception": false,
     "start_time": "2022-12-21T08:31:04.630699",
     "status": "completed"
    },
    "tags": []
   },
   "outputs": [
    {
     "data": {
      "image/png": "[encoded data removed]"
     },
     "metadata": {
      "image/png": {
       "height": 420,
       "width": 420
      }
     },
     "output_type": "display_data"
    },
    {
     "data": {
      "image/png": "[encoded data removed]"
     },
     "metadata": {
      "image/png": {
       "height": 420,
       "width": 420
      }
     },
     "output_type": "display_data"
    }
   ],
   "source": [
    "hist(my_x3, main=\"histogram zmiennej z rozkładu N(0,1)\",\n",
    "     xlab=\"wartości zmiennej\",\n",
    "     ylab=\"zliczenia \",\n",
    "     xlim=c(-3.5,3.5))\n",
    "\n",
    "plot(my_x3, my_x2, main=\"wykres punktowy rozkładu 2D zmiennych z rozkładu normalnego\",\n",
    "    pch=16,#kształt punktu\n",
    "    col=ifelse(my_y==1,\"red\",\"black\"))#kolory"
   ]
  },
  {
   "cell_type": "code",
   "execution_count": null,
   "id": "37182df3",
   "metadata": {
    "papermill": {
     "duration": 0.02555,
     "end_time": "2022-12-21T08:31:05.082204",
     "exception": false,
     "start_time": "2022-12-21T08:31:05.056654",
     "status": "completed"
    },
    "tags": []
   },
   "outputs": [],
   "source": []
  }
 ],
 "metadata": {
  "kernelspec": {
   "display_name": "R",
   "language": "R",
   "name": "ir"
  },
  "language_info": {
   "codemirror_mode": "r",
   "file_extension": ".r",
   "mimetype": "text/x-r-source",
   "name": "R",
   "pygments_lexer": "r",
   "version": "4.0.5"
  },
  "papermill": {
   "default_parameters": {},
   "duration": 13.342896,
   "end_time": "2022-12-21T08:31:05.226926",
   "environment_variables": {},
   "exception": null,
   "input_path": "__notebook__.ipynb",
   "output_path": "__notebook__.ipynb",
   "parameters": {},
   "start_time": "2022-12-21T08:30:51.884030",
   "version": "2.4.0"
  }
 },
 "nbformat": 4,
 "nbformat_minor": 5
}
