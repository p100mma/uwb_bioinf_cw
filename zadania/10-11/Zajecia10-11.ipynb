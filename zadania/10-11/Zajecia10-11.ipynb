{
 "cells": [
  {
   "cell_type": "markdown",
   "id": "174df509",
   "metadata": {},
   "source": [
    "# Analiza danych medycznych w R\n",
    "### Piotr Stomma\n",
    "### Uniwersytet w Białymstoku\n",
    "\n",
    "**Czas na wykonanie**: do rozpoczęcia zajęć nr 12. Na następnych zajęciach, dołożone zostaną dodatkowe zadania dotyczące analizy i (prostego :)) ) **modelowania statystycznego** zbioru danych, który jest do oczyszczenia w ostatnich zadaniach dzisiejszych.\n",
    "\n",
    "Pierwsze 5 zadań to powtórka **języka R**. Aby je rozwiązać, dobrze jest zapoznać się z plikiem `R_examples.ipynb` w repozytorium.\n",
    "\n",
    "**Format sprawozdań**: Nadal pliki `.ipynb`, ale z kodem R. Można to zrobić na kilka sposobów (które znam):\n",
    "\n",
    "- nie jest dużym problemem skonfigurowanie anacondy tak, aby pozwalała na korzystanie z `R` w ramach `jupyter notebook`. Mogę na to poświęcić trochę czasu na następnych zajęciach\n",
    "\n",
    "- portal **Kaggle** - możemy się zalogować przez konto Google i od razu utworzyć notatnik, w którym możemy pisać zarówno w Pythonie jak i w R\n",
    "\n",
    "- **Rstudio** - robimy dokument w `R markdown` (najepiej opcja `R Notebook` z menu u góry) i konwertujemy na `ipynb` za pomocą funkcji z odpowiedniej biblioteki:\n",
    "\n",
    "- link odnośnie @up https://rmarkdown.rstudio.com/docs/reference/convert_ipynb.html\n",
    "\n",
    "- *Google colab- niby się da, ale trzeba się napracować i mało rzeczy działa (sprawdzałem pół roku temu).*\n",
    "\n"
   ]
  },
  {
   "cell_type": "markdown",
   "id": "097180db",
   "metadata": {},
   "source": [
    "## Zadanie Ia (powtórka R cz.I)\n",
    "\n",
    "Zdefiniuj funkcję `get.item`, która przyjmuje dwa argumenty wymagane:\n",
    "\n",
    "- $i$ (na pocżątku zakładamy, że to liczba naturalna większa od zera)\n",
    "\n",
    "- wektor atomiczny lub listę,\n",
    "\n",
    "oraz jeden argument opcjonalny:\n",
    "\n",
    "- `return_container`, domyślnie `FALSE`.\n",
    "\n",
    "A zwróci:\n",
    "\n",
    "- $i$-ty element obiektu podanego jako argument wejściowy nr 2,\n",
    "\n",
    "- jeżeli `return_container==TRUE`, zwróci obiekt będący tego samego typu, co argument wejściowy nr 2, ale zawierający tylko element pod $i$-tym indeksem."
   ]
  },
  {
   "cell_type": "markdown",
   "id": "5a7bd086",
   "metadata": {},
   "source": [
    "## Zadanie Ib (powtórka R cz.I)\n",
    "\n",
    "Dołóż do funkcji z **Ia** możliwość indeksowania wektora/listy nazwanej:\n",
    "\n",
    "- dodaj opcjonalny argument `as.name`, domyślnie równy `FALSE`. Jeśli użytkownik ustawi go na `TRUE`, funkcja powinna sprawdzić, czy `names(arg2)` to `NULL`, gdzie `arg2` to lista lub wektor podany jako argument nr 2. Jeśli tak, użyj instrukcji `stop` aby zakończyć działanie funkcji i wyświetl komunikat informujący o błędzie `obiektu nie można indeksować przez nazwy`.\n",
    "\n",
    "Jezeli `names(arg2)` to nie `NULL` oraz `as.name==TRUE`, sprawdź, czy `i` znajduje się w (wektorze) `names(arg2)`. Jeżeli nie, użyj `stop` i wyświetl komunikat `zła nazwa` (lub podobny).\n",
    "\n",
    "We wszystkich innych przypadkach, funkcja ma działać jak wcześniej."
   ]
  },
  {
   "cell_type": "markdown",
   "id": "5e1f8962",
   "metadata": {},
   "source": [
    "## Zadanie II (powtórka R cz.II)\n",
    "\n",
    "1. Poniższa funkcja korzysta ze specjalnej definicji argumentów wejściowych funkcji `...` (coś jak `**kwargs` w pythonie). Użytkownik może podać dowolne (możliwie nazwane) argumenty przedzielone przecinkami.\n",
    "\n",
    "1. Programista ma dostęp do nich jako do listy w ciele funkcji za pomocą wywołania `list(...)` (zwraca to listę argumentów, jakie podał użytkownik do funkcji, możliwie z nazwami).\n",
    "\n",
    "1. Funkcja działa podobnie do wbudowanej fukcji `prod`, służy do przeprowadzenia bezpiecznego mnożenia prawdopodobieństw (Wartości w `[0,1]`), dokonując sumy logarytmów argumentów, które użytkownik poda.\n",
    "\n",
    "1. Zmodyfikuj kod tak, aby lista `logfactors` była tworzona na podstawie listy `factors` nie przez pętlę `for`, a poprzez funkcję `lapply`."
   ]
  },
  {
   "cell_type": "code",
   "execution_count": 22,
   "id": "85000f59",
   "metadata": {},
   "outputs": [],
   "source": [
    "prob.prod<- function(...){\n",
    "    \n",
    "    factors<-list(...)\n",
    "    logfactors<-vector(mode=\"list\")\n",
    "    for (j in 1:length(factors))\n",
    "        {\n",
    "            logfactors[[j]]<- log(factors[[j]])\n",
    "        }\n",
    "    exp(sum(unlist(logfactors)))\n",
    "}"
   ]
  },
  {
   "cell_type": "code",
   "execution_count": 21,
   "id": "1c5300d8",
   "metadata": {},
   "outputs": [
    {
     "data": {
      "text/html": [
       "1e-121"
      ],
      "text/latex": [
       "1e-121"
      ],
      "text/markdown": [
       "1e-121"
      ],
      "text/plain": [
       "[1] 1e-121"
      ]
     },
     "metadata": {},
     "output_type": "display_data"
    },
    {
     "data": {
      "text/html": [
       "1.00000000000002e-121"
      ],
      "text/latex": [
       "1.00000000000002e-121"
      ],
      "text/markdown": [
       "1.00000000000002e-121"
      ],
      "text/plain": [
       "[1] 1e-121"
      ]
     },
     "metadata": {},
     "output_type": "display_data"
    }
   ],
   "source": [
    "prod(1e-99,1e-11,1e-11)\n",
    "prob.prod(1e-99,1e-11,1e-11)"
   ]
  },
  {
   "cell_type": "markdown",
   "id": "7dcc28d3",
   "metadata": {},
   "source": [
    "## Zadanie III (powtórka R cz.III)\n",
    "\n",
    "Popraw poniższy kod tak, aby działał tak jak należy nawet w przypadku, gdzie `container` ma długość zero. Spodziewamy się, że w przypadku gdy `container` jest pusty, to pętla po prostu nie wykona ani jednej iteracji (i nie stanie się tak w wyniku błędu). Spróbuj to zrobić zmieniając tylko fragment kodu definiujący pętlę `for` (nie zmieniając kodu w ciele pętli, ani poza pętlą).\n",
    "\n",
    "**Wskazówka** : `seq_along`"
   ]
  },
  {
   "cell_type": "code",
   "execution_count": 15,
   "id": "f6fb6dee",
   "metadata": {},
   "outputs": [
    {
     "name": "stdout",
     "output_type": "stream",
     "text": [
      "[1] \"Container with length 4\"\n",
      "[1] \"element index 1:\"\n",
      "[1] \"a\"\n",
      "[1] \"element index 2:\"\n",
      "[1] \"a2\"\n",
      "[1] \"element index 3:\"\n",
      "[1] \"a3\"\n",
      "[1] \"element index 4:\"\n",
      "[1] \"a4\"\n",
      "[1] \"________________\"\n",
      "[1] \"________________\"\n",
      "[1] \"________________\"\n",
      "[1] \"Container with length 0\"\n",
      "[1] \"element index 1:\"\n",
      "NULL\n",
      "[1] \"element index 0:\"\n",
      "NULL\n"
     ]
    }
   ],
   "source": [
    "container<-c('a','a2','a3','a4')\n",
    "print(sprintf(\"Container with length %d\",length(container)))\n",
    "for (i in 1:length(container))\n",
    "    {\n",
    "    print(sprintf(\"element index %d:\",i))\n",
    "    print(container[i])\n",
    "    }\n",
    "container<-c()\n",
    "print(\"________________\")\n",
    "print(\"________________\")\n",
    "print(\"________________\")\n",
    "print(sprintf(\"Container with length %d\",length(container)))\n",
    "for (i in 1:length(container))\n",
    "    {\n",
    "    print(sprintf(\"element index %d:\",i))   \n",
    "    print(container[i])\n",
    "    }"
   ]
  },
  {
   "cell_type": "markdown",
   "id": "e068021d",
   "metadata": {},
   "source": [
    "## Zadanie IV (powtórka R cz.IV)\n",
    "\n",
    "Wczytaj plik `csv` z `URL` poprzednich zajęć jako `data.frame`.\n",
    "\n",
    "`https://europepmc.org/journalList?format=csv`\n",
    "\n",
    "1. Znajdź liczbę unikalnych wartości (przyda się `unique` oraz `length`) w każdej z kolumn, używając:\n",
    "\n",
    "    - funkcji `apply`,\n",
    "\n",
    "    - funkcji `lapply`,\n",
    "\n",
    "    - pętli `for`.\n",
    "\n",
    "1. Stwórz wektor wartości logicznych `TRUE` `FALSE` o długości równej liczbie wierszy `data.frame`, który może służyć do zaindeksowania wierszy `data.frame`, w których wartość w kolumnie `Open.access` to `All`.\n",
    "\n",
    "1. J.w. , ale ma służyć do zaindeksowania wierszy dla których wartość w kolumnie `Free.access` to `Immediate`.\n",
    "\n",
    "5. Dwa wektory z punktów powyżej zepnij w macierz z 2 kolumnami na dwa sposoby:\n",
    "\n",
    "    - za pomocą funkcji `cbind`,\n",
    "  \n",
    "    - za pomocą konkatenacji wektorów (`c(vec1,vec2)`) oraz funkcji `matrix` z argumentem `ncol=2`.\n",
    "    \n",
    "** **\n",
    "    \n",
    "5. Jedną z macierzy z punktu 5 transponuj i przemnóż przez macierz pierwszą tak, aby dostać w wyniku macierz wymiaru `nrow(df) X nrow(df)`, gdzie `df` to `data.frame` z którym pracujemy. \n",
    "\n",
    "    - Wyciągnij z wynikowej, dużej macierzy przekątną i zapisz w wektorze `my.diag`. \n",
    "    \n",
    "    - Użyj `my.diag` do zaindeksowania `df`. \n",
    "    \n",
    "    - Wskaż, ile wierszy ma przefiltrowany w taki sposób `df`.\n",
    "    \n",
    "** **\n",
    "    \n",
    "6. Zbadaj typy kolumn wczytanej ramki danych za pomocą funkcji `class` i np. `lapply`. W ramce danych znajdują się prawie tylko dane tekstowe. Wczytaj ramkę jeszcze raz, tak, aby wymusić, aby `R` **nie dokonywał** automatycznej konwersji danych tekstowych na specyficzny dla tego środowiska typ reprezentujący zmienne **nominalne**.  \n",
    "\n",
    "    **Wskazówki:** \n",
    "    \n",
    "    (ad 1) funkcje `unique`, `length` oraz `read.csv` okażą się przydatne oraz wiedza że `DataFrame` to pod spodem lista wektorów. \n",
    "    \n",
    "    (ad 2 - 3) Trzeba sobie przypomnieć indeksowanie obiektów z wymiarem większym niż 2 (`dim>2`). Wyrażenie typu `vector == 'some_value` zwróci wektor wartości `TRUE` lub `FALSE` o takiej samej długości, co `vector`, gdzie `TRUE` będzie na tym indeksie `vector`a, na którym znajdziemy `some_value`. \n",
    "    \n",
    "    (ad 4) `cbind` to skrót od `column bind`. Do funkcji `matrix` można podać \"płaski\" wektor wartości (dokładniej, dla którego `dim` to `NULL`) i ustalić liczbę kolumn wynikowej macierzy- macierz zapełni się w określonej kolejności wartościami z wektora.\n",
    "    \n",
    "    (ad 5) Operator mnożenia macierzowego macierzy `A,B` to `A %*% B`. \n",
    "    \n",
    "    (ad 6) chodzi o typy `string` oraz `factor` oraz znalezienie odpowiedniej opcji dla `read.csv`"
   ]
  },
  {
   "cell_type": "markdown",
   "id": "258bcb8d",
   "metadata": {},
   "source": [
    "## Zadanie V (powtórka R cz.I)\n",
    "\n",
    "1. Użyj konstrukcji `do.call`, aby wywołać swoją funkcję z zadania nr I.\n",
    "\n",
    "1. Użyj funkcji `readRDS` aby wczytać pliki `.rds`:\n",
    "\n",
    "    - `dataList.rds`, zawierający listę wektorów,\n",
    "    \n",
    "    - `dataNames.rds`, zawierający wektor nazw listy `dataList.rds`.\n",
    "    \n",
    "1. Funkcji `data.frame` można używać w poniższy sposób, aby tworzyć ramki danych:"
   ]
  },
  {
   "cell_type": "code",
   "execution_count": 122,
   "id": "595e768e",
   "metadata": {
    "scrolled": true
   },
   "outputs": [
    {
     "data": {
      "text/html": [
       "<table>\n",
       "<thead><tr><th scope=col>kolumna1</th><th scope=col>kolumna2</th><th scope=col>zygmunt</th></tr></thead>\n",
       "<tbody>\n",
       "\t<tr><td>1  </td><td>foo</td><td>3  </td></tr>\n",
       "\t<tr><td>2  </td><td>foo</td><td>4  </td></tr>\n",
       "\t<tr><td>3  </td><td>foo</td><td>5  </td></tr>\n",
       "\t<tr><td>4  </td><td>foo</td><td>2  </td></tr>\n",
       "\t<tr><td>5  </td><td>foo</td><td>1  </td></tr>\n",
       "</tbody>\n",
       "</table>\n"
      ],
      "text/latex": [
       "\\begin{tabular}{r|lll}\n",
       " kolumna1 & kolumna2 & zygmunt\\\\\n",
       "\\hline\n",
       "\t 1   & foo & 3  \\\\\n",
       "\t 2   & foo & 4  \\\\\n",
       "\t 3   & foo & 5  \\\\\n",
       "\t 4   & foo & 2  \\\\\n",
       "\t 5   & foo & 1  \\\\\n",
       "\\end{tabular}\n"
      ],
      "text/markdown": [
       "\n",
       "| kolumna1 | kolumna2 | zygmunt |\n",
       "|---|---|---|\n",
       "| 1   | foo | 3   |\n",
       "| 2   | foo | 4   |\n",
       "| 3   | foo | 5   |\n",
       "| 4   | foo | 2   |\n",
       "| 5   | foo | 1   |\n",
       "\n"
      ],
      "text/plain": [
       "  kolumna1 kolumna2 zygmunt\n",
       "1 1        foo      3      \n",
       "2 2        foo      4      \n",
       "3 3        foo      5      \n",
       "4 4        foo      2      \n",
       "5 5        foo      1      "
      ]
     },
     "metadata": {},
     "output_type": "display_data"
    }
   ],
   "source": [
    "data.frame(kolumna1=1:5, kolumna2=rep(\"foo\",5), zygmunt=c(3,4,5,2,1))"
   ]
  },
  {
   "cell_type": "markdown",
   "id": "2502e746",
   "metadata": {},
   "source": [
    "4. W zadaniu trzeba utworzyć ramkę danych (data frame), gdzie kolejnymi kolumnami są wektory w liście `geneExprList.rds`, a nazwami kolumn - kolejne nazwy w wektorze `geneNames.rds`, za pomocą funkcji `data.frame`. Problem polega na tym, że elementów `dataList.rds` jest bardzo dużo i trudno byłoby to wpisać \"z palca\". Wykorzystaj `do.call`, aby rozwiązać ten problem:\n",
    "    - wczytanej lisćie `dataList.rds` nadaj nazwy z `dataNames.rds`,\n",
    "    - użyj elementów nazwanej listy jak argumentów do `data.frame`.\n",
    "    \n",
    "<span style=\"color:red\">**LINK DO DANYCH (proszę sobie ściągnąć)**</span>\n",
    "\n",

"https://www.kaggle.com/datasets/piotrtrve/bioinf-assignment",
    "\n",
    "\n",
    "**Wskazówka:** `do.call` przyjmuje jako pierwszy argument nazwę funkcji do wywołania, drugi - listę nazwanych argumentów, które będą przekazywane funkcji podanej jako argument pierwszy. Funkcja `data.frame` jak wiele innych funkcji w `R` wykorzystuje nazwane argumenty podane przez użytkownika do stworzenia obiektu wynikowego (ramki danych). `do.call` w związku z tym jest bardzo pożytecznym i potężnym narzędziem, które podczas pisania pakietów pozwala na czytelną kontrolę definiowania i wywoływania złożonych funkcji."
   ]
  },
  {
   "cell_type": "markdown",
   "id": "4f44f303",
   "metadata": {},
   "source": [
    "## Zadanie VI - czyszczenie danych\n",
    "\n",
    "### Wczytywanie danych \n",
    "1. Wczytaj dane kliniczne zawarte w pliku `clinical.rds`. Dane te opisują te same obserwacje, co dane wczytane wcześniej (sprawdź `dim` danych klinicznych oraz poprzedniej ramki danych), z tym że pod kątem innych zmiennych. Duża ramka danych wczytana wcześniej opisuje poziomy ekspresji genów.\n",
    "\n",
    "### Usuwanie wartości brakujących na podstawie poziomów ekspresji\n",
    "\n",
    "2. Znajdź w ramce danych zawierającej wyniki eksperymentu mierzącego poziomy ekspresji obserwacje, dla których więcej niż 70 procent zmiennych to wartości brakujące (`NA`) i odrzuć je (ZARÓWNO DLA DANYCH DOT. POZIOMÓW EKSPRESJI JAK I DANYCH KLINICZNYCH!). \n",
    "\n",
    "### Usuwanie wartości brakujących na podstawie danych klinicznych\n",
    "\n",
    "3. Znajdź zmienną w ramach danych klinicznych, która posiada więciej niż 100 wartości brakujących oznaczonych `unknown` i odrzuć ją.\n",
    "\n",
    "1. Odrzuć pozostałe obserwacje na podstawie wartości `unknown` w innych zmiennych opisujących dane kliniczne- odrzuć te obserwacje (wiersze), które posiadają jeszcze jakiekolwiek wartości `unknown` (tak jak w punkcie 2, usuń obserwacje zarówno dla danych klinicznych jak i danych dot. poziomów ekspresji).\n",
    "\n",
    "1. Wyizoluj zmienną `tumor.grading` i zapisz jako `Y`, będziemy ją dalej nazywać **zmienną decyzyjną**.\n",
    "\n",
    "### Uzupełnianie pozostałych braków \n",
    "\n",
    "6. Uzupełnij pozostałe wartości brakujące w zmiennych opisujących poziomy ekspresji, za pomocą mediany, dla kazdej ze zmiennych.\n",
    "\n",
    "### Filtrowanie zmiennych\n",
    "\n",
    "7. Wstępnie przefiltruj zbiór danych - wybierz zmienne, które niosą jakąkolwiek istotną informację, usuwając zmienne o niskim poziomie ekspresji, a potem - zmienne niemal stałe:\n",
    "    - usuwanie genów o niskim poziome ekspresji:\n",
    "        - oblicz średnie dla każdej ze zmiennych i zapisz np. w wektorze `geneMeans`,\n",
    "        - oblicz kwantyl rzędu `0.74` wektora `geneMeans` (funkcja `quantile`)\n",
    "        - usuń zmienne, których średnia jest mniejsza niż kwantyl wspomniany powyżej,\n",
    "    - usuwanie zmiennych, których zmienność jest na poziomie szumu losowego:\n",
    "        - na pozostałych zmiennych oblicz odchylenia standardowe, zapisz np. w wektorze `sds`,\n",
    "        - tak samo policz dla nich kwantyle rzędu 0.1 i zapisz np. wektorze `q10s`,\n",
    "            - usuń z ww. zmiennych te, których odchylenie standardowe w `sds` nie przekracza odpowiadających im kwantyli w `q10s`\n",
    "            "
   ]
  }
 ],
 "metadata": {
  "kernelspec": {
   "display_name": "R",
   "language": "R",
   "name": "ir"
  },
  "language_info": {
   "codemirror_mode": "r",
   "file_extension": ".r",
   "mimetype": "text/x-r-source",
   "name": "R",
   "pygments_lexer": "r",
   "version": "3.6.1"
  }
 },
 "nbformat": 4,
 "nbformat_minor": 5
}
