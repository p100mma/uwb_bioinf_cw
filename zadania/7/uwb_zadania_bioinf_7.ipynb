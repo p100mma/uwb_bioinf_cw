{
 "cells": [
  {
   "cell_type": "markdown",
   "id": "d0c2d1a8",
   "metadata": {},
   "source": [
    "# Eksploracja biologicznych baz danych\n",
    "## Bioinformatyka 2022/2023\n",
    "#### Na podstawie materiałów dr Anety Polewko - Klim\n",
    "#### Piotr Stomma\n",
    "#### UwB"
   ]
  },
  {
   "cell_type": "markdown",
   "id": "d13a8968",
   "metadata": {},
   "source": [
    "**Czas na wykonanie**: do rozpoczęcia następnych zajęć\n",
    "\n",
    "Dzisiaj zadania nie polegają w ogóle na kodowaniu. Głównie będziecie Państwo przeglądać strony internetowe popularnych biologicznych baz danych i opisywać swoje przygody.\n",
    "\n",
    "Ale mimo wszystko proszę o zrobienie w formatce ipynb, z użyciem komórek w Markdown - przyda się wam ta umiejętność - tak samo formatuje się dokumenty README.md na githubie. Patrząc na Państwa sprawozdania - jest spory potencjał poprawy akurat tego aspektu Waszych prac :D\n",
    "\n",
    "**Wklejanie obrazów**: <span style=\"color:red\"> **UWAGA** </span> mimo, że można wkleić obraz do dokumentu i osadzić np. w wynikowym html, **proszę zamieszczać tylko linki do obrazków** :) \n",
    "\n",
    "- Proszę wstawić daną ilustrację na swój uczelniany OneDrive i ustalić udostępnianie \"dla każdej osoby, co posiada link*,\n",
    "\n",
    "- i po prostu wkleić ten link w treść sprawozdania. \n",
    "\n",
    "Ewentualnie można osadzić obraz poprzez wstawienie url, ale wtedy musicie Państwo skorzystać z jakiegoś serwisu hostingowego. \n",
    "\n",
    "**Dlaczego o to proszę** : dopóki mamy sam tekst, pliki są dość lekkie i prosto je archiwizować i śledzić zmiany. Jak dodamy dane obrazów do archiwizacji, proces jest utrudniony (np. gorzej to trzymać na zwykłym repozytorium gita ;) )"
   ]
  },
  {
   "cell_type": "markdown",
   "id": "8eb2a202",
   "metadata": {},
   "source": [
    "\n",
    "### Zadanie I\n",
    "\n",
    "Link do wykorzystania:\n",
    "\n",
    "https://www.ncbi.nlm.nih.gov\n",
    "\n",
    "Opisz  krótko tematykę bazy GenBank  (min.3-4 zdania)."
   ]
  },
  {
   "cell_type": "markdown",
   "id": "0eafad0b",
   "metadata": {},
   "source": [
    "\n",
    "### Zadanie II\n",
    "\n",
    "Link do wykorzystania:\n",
    "\n",
    "https://www.ncbi.nlm.nih.gov\n",
    "\n",
    "Opisz  krótko tematykę bazy PubMed  (j.w.)."
   ]
  },
  {
   "cell_type": "markdown",
   "id": "75899904",
   "metadata": {},
   "source": [
    "\n",
    "### Zadanie III\n",
    "\n",
    "Link do wykorzystania:\n",
    "\n",
    "https://www.ncbi.nlm.nih.gov\n",
    "\n",
    "Opisz  krótko tematykę bazy  Structure (Molecular Modeling Database)  (j.w.)."
   ]
  },
  {
   "cell_type": "markdown",
   "id": "96f05b0e",
   "metadata": {},
   "source": [
    "\n",
    "### Zadanie IV - BLAST\n",
    "\n",
    "Link do wykorzystania:\n",
    "\n",
    "https://blast.ncbi.nlm.nih.gov/Blast.cgi\n",
    "\n",
    "\n",
    "Użyj odpowiedniego rodzaju narzędzia BLAST (**B**asic **L**ocal **A**ssignment **S**earch **T**ool) z pośród tych dostępnych na powyższym linku, aby:\n",
    "\n",
    "1. wyszukać najbardziej podobne sekwencje nukleotydowe do sekwencji poniżej,\n",
    "\n",
    "1. wyszukać najbardziej podobne sekwencje białek (PROTEIN) do sekwencji poniżej poddanej translacji\n",
    "\n",
    "#### Sekwencja\n",
    "\n",
    "`TTCACTCTCATTGCATGTAGTGAGGACCAAGGTGAAGGACCCTTCTCAAACCATGGTGA \n",
    "TTAGGATCAATAAGGTAATCAACCAATCTATCAATCAGTCATCCAGTCAGTCAATCATTA\n",
    "GTGTACTGATTTATGCAGTCTTTAGCTTGTTGATGAATTAAACAAACAAAAAAACAGCAT\n",
    "CTATAGCCTACATTAATCGTATATTAATCACATTTATCTCTTCCTCCAGCTGGATATATC\n",
    "TCCTAACCTAATCGAGGGCATGGACCCATTTCTCCCTGCGGCTGCAGTAGATCAGCATAT\n",
    "AGAAAGTCTGCCTTCCATAATGGAGACCATGGGGTTCTACCAGGACCTAATGCTCTTCCT\n",
    "AGACTGGGCAGACCTCAAACAGGTGGTGGAAGACACCTCCACTATGAGGGGTCTGCTGGA \n",
    "GAACTGGATGATA`\n",
    "\n",
    "#### Parametry wejściowe algorytmu do użycia w zależności od wariantu (1 lub 2):\n",
    "\n",
    "(do ustalenia na dole strony)\n",
    "\n",
    "1. Afiniczna kara za przerwę (odrębna kara za *gap - extension* , mniejsza niż *gap - existence* ), koszt *mismatch* powinien być mniejszy lub równy kosztowi *gap_extension* (**uwaga**: mismatch figuruje tam jako *score*, natomiast gap jako *cost*, zatem chodzi o to, aby $gap\\_extension \\geq (-1) \\cdot  mismatch\\_score$). **BAZA DANYCH DO PRZESZUKANIA:** *Nucleotide collection (nr/nt)*  \n",
    "\n",
    "1. Punktacja dopasowań wg macierzy BLOSUM62 i towarzyszącej jej domyślnej wartości kosztów przerwy, tabela kodu genetycznego Standard, **BAZA DANYCH DO PRZESZUKANIA** *Non-redundant protein sequences*:\n",
    "\n",
    "#### Parametry wejściowe wspólne dla obu rodzai wyszukań\n",
    "\n",
    "- odfiltrować regiony niskiej złożoności\n",
    "\n",
    "- baza danych do przeszukania: **RefSeq Select**\n",
    "\n",
    "- **Mask for lookuptable only** - zaznaczyć\n",
    "\n",
    "- w reszcie można zostawić wartości domyślne\n",
    "\n",
    "#### IV.a\n",
    "\n",
    "Dla obu wyszukiwań:\n",
    "\n",
    "- podaj odrębne nazwy gatunków (Spiecies) widoczne w TOP 15 najbardziej podobnych sekwencjach **pod względem parametru Ident** (albo tyle, ile zwróci algorytm wyników, jak nie uda się dostać min. 15 wyników)\n",
    "\n",
    "- napisz, jakiego rodzaju narzędzia BLAST użyłeś i opisz dokładne wartości parametrów (wysokość kar i score'ów/ kosztów).\n",
    "\n",
    "Porównaj wyniki:\n",
    "- czy któryś z dwóch rodzai daje pod względem parametru **Ident** bardziej dokładne wyniki\n",
    "- Czy widać jakieś różnice w rankingu odrębnych gatunków (*Scientific name*) w wyszukaniu nr 1 i 2\n",
    "- Czy wyniki obu wyszukań mają jakąś wspólną cechę?\n",
    "\n",
    "#### IV.b\n",
    "\n",
    "Przedstaw graficznie jeden z wyników wyszukań (napisz który), na oba podane sposoby poniżej::\n",
    "\n",
    "- ilustracja dopasowania sekwencji,\n",
    "\n",
    "- ilustracja drzewa filogenetycznego *Distance_tree_of_results*\n",
    "\n",
    "#### IV.c \n",
    "\n",
    "Wklej tekstowe przedstawienie najlepszego dopasowania **dla obu rodzai wyszukań** pod względem **E-wartości**.*\n",
    "\n",
    "$*$ *E - wartość: statystyka, na podstawie której liczy się ostateczny score (prawdopodobieństwo uzyskania danego dopasowania przy założeniu, że powstało na zasadzie kompletnego przypadku w procesie losowym, przetłumaczone na bity - tak aby móc porównywać wyniki dopasowań dla sekwencji różnych długości). Jeśli jakimś cudem ktoś interesuje się statystyką- opis w podanym linku, jak wynik jest liczony, będzie dla niego dość prosty i może okazać się ciekawy. Jest napisany dość przystępnie bez wchodzenia w szczegóły techniczne: https://www.ncbi.nlm.nih.gov/BLAST/tutorial/Altschul-1.html*"
   ]
  },
  {
   "cell_type": "markdown",
   "id": "c67303f6",
   "metadata": {},
   "source": [
    "\n",
    "### Zadanie V - przeszukiwanie rekordów bazy  sekwencji SarsCov2\n",
    "\n",
    "Link do wykorzystania:\n",
    "\n",
    "https://www.ncbi.nlm.nih.gov/labs/virus/vssi/#/virus?SeqType_s=Nucleotide&VirusLineage_ss=Severe%20acute%20respiratory%20syndrome-related%20coronavirus,%20taxid:694009\n",
    "\n",
    "#### Zadanie Va\n",
    "\n",
    "Używając filtrów po lewej oraz wybierając odpowiednie kolumny (**Select Columns** w prawym górnym rogu), proszę znaleźć następujące informacje dla wybranych 3 krajów:\n",
    "\n",
    "- dla próbki z nosicieli nie będących *homo sapiens*, najświeższej pod względem **daty pobrania**, wypisać:\n",
    "    - gatunek nosiciela (**Host**), \n",
    "    - kraj pobrania (**Country**),\n",
    "    - datę pobrania (**Collection Date**),\n",
    "    - nr ID Accesion (**Accesion**)\n",
    "    \n",
    "Jeśli **Host** będzie polem pustym, proszę wybrać najświeższy rekord wg powyższych kryteriów, ale z niepustym polem **Host**.\n",
    "\n",
    "Więcej punktów będzie doliczone, jeśli dotrą Państwo do nazwy angielskiej / polskiej (a nie łacińskiej) gatunku nosiciela.\n",
    "\n",
    "**Wskazówka**: nie we wszystkich krajach w ogóle umieszczono w bazie danych próbki z nosiciela nie będącego człowiekiem, dlatego dobrze jest najpierw odfiltrować ze względu na wartość **Host** w menu po lewej stronie.\n",
    "\n",
    "#### Zadanie Vb\n",
    "\n",
    "Proszę spróbować dotrzeć do surowych danych wyżej opisanej odnalezionej sekwencji białek i wkleić tą sekwencję jako rozwiązanie tego podpunktu."
   ]
  },
  {
   "cell_type": "markdown",
   "id": "2c24a066",
   "metadata": {},
   "source": [
    "### Zadanie VI - Bazy danych zawierające przestrzenną strukturę molekularną polimerów\n",
    "\n"
   ]
  },
  {
   "cell_type": "markdown",
   "id": "18fa2492",
   "metadata": {},
   "source": [
    "Link do wykorzystania:\n",
    "\n",
    "https://www.ncbi.nlm.nih.gov\n",
    "\n",
    "Odnajdź bazę danych *Structure (Molecular Modeling Database)*.\n",
    "\n",
    "Za pomocą narzędzi tam dostępnych, odnajdź i opisz strukturę **jednego, wybranego** z następujących **4 białek**:\n",
    "\n",
    "`6MRR, 6MRS, 6MSP, 6NUK`\n",
    "\n",
    "Strukturę opisz na 2 poziomach:\n",
    "- **pierwszorzędną strukturę (sekwencję aminokwasów)** - *spróbuj odnaleźć informacje o sekwencji aminokwasów tego białka i wklej ją jako rozwiązanie*\n",
    "- **3-rzędną lub 4-rzędną strukturę**- *załącz ilustracje modelu 3D, wyszukaną za pomocą bazy Structure*.\n",
    "\n",
    "**Zaznacz w odpowiedzi, której z białek ona dotyczy**.\n",
    "\n",
    "### * *Zadanie VII* (dodatkowe punkty)\n",
    "\n",
    "Modele wszystkich struktur wymienionych białek w zadaniu VI były wynikiem analizy białkowej przeprowadzonej w ramach jednego z projektów, działającego na zasadzie crowdsourcingu. Napisz nazwę tego projektu i krótko opisz, na jakiej zasadzie on funkcjonuje."
   ]
  }
 ],
 "metadata": {
  "kernelspec": {
   "display_name": "Python 3 (ipykernel)",
   "language": "python",
   "name": "python3"
  },
  "language_info": {
   "codemirror_mode": {
    "name": "ipython",
    "version": 3
   },
   "file_extension": ".py",
   "mimetype": "text/x-python",
   "name": "python",
   "nbconvert_exporter": "python",
   "pygments_lexer": "ipython3",
   "version": "3.9.12"
  }
 },
 "nbformat": 4,
 "nbformat_minor": 5
}
