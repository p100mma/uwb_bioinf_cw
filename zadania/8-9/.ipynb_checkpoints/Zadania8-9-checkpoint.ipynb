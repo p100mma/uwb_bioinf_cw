{
 "cells": [
  {
   "cell_type": "markdown",
   "id": "3e6d073a",
   "metadata": {},
   "source": [
    "# Webcrapping danych biologicznych i API biologicznych baz danych Bioinformatyka 2022/2023\n",
    "### Piotr Stomma\n",
    "### Uniwersytet w Białymstoku\n",
    "\n",
    "**Czas na wykonanie**: do rozpoczęcia zajęć nr 10.\n",
    "\n",
    "Dzisiaj będziemy zeskrobywać dane ze stron internetowych z użyciem kodu, z maksymalną automatyzacją procesu. Ostatnio Państwo ćwiczyliście obsługę biologicznych baz danych, dzisiaj temat będzie pociągnięty trochę dalej.\n",
    "\n",
    "Zamiast wyszukiwać ręcznie określone dane poprzez wyszukiwarki, można korzystać z API (pośrednika pomiędzy bazą danych a programem użytkownika) i zautomatyzować proces. To będzie na pierwsze zajęcia, wykorzystamy do tego na przykładzie bazę danych **ArrayExpress**, która została przeniesiona do domeny **BioStudies**. Z kolei **BioStudies** udostępnia swoje zasoby poprzez REST-API.\n",
    "\n",
    "**Na następnych zajęciach, dołożę dodatkowe zadanie**(jak zwykle proste ;) ). Będzie można dołożyć skrobanie dowolnych stron internetowych na zasadzie parsowania plików HTML, albo dalej rozwinąć temat parsowania złożonych plików JSON."
   ]
  },
  {
   "cell_type": "code",
   "execution_count": 1,
   "id": "0ca4b9b1",
   "metadata": {},
   "outputs": [],
   "source": [
    "#potrzebne biblioteki na dzisiaj\n",
    "import requests         #do komunikacji z API\n",
    "import json             #do konwertowania wyników wyszukiwania do słowników\n",
    "import ftplib           #do komunikacji protokołem ftp (niestety nie da się przez requests)"
   ]
  },
  {
   "cell_type": "markdown",
   "id": "91a614df",
   "metadata": {},
   "source": [
    "## Ogólny plan\n",
    "\n",
    "- nauczyć się wykorzystywać API\n",
    "    - do przeszukiwania bazy danych, \n",
    "     - filtrowania wyników (za pomocą API lub kodu, już po pobraniu wyników wyszukiwania)\n",
    "\n",
    "- wybór określonych informacji z określonych wyników wyszukiwań\n",
    "\n",
    "- dotarcie do serwera FTP z surowymi danymi z eksperymentów sekwencjonowania RNA i eksperymentów mikromacierzowych, \n",
    "\n",
    "- pobranie określonego typu danych za pomocą protokołu FTP oraz szczegółowych informacji o plikach, dostępnych poprzez API\n",
    "\n",
    "- (na następne zajęcia) metody parsowania złożonych, zagnieżdżonych plików w formacie JSON za pomocą Pythona LUB biblioteka BeautfilulSoup do parsowania dokumentów HTML"
   ]
  },
  {
   "cell_type": "markdown",
   "id": "4b3f5c23",
   "metadata": {},
   "source": [
    "## Wstęp: ArrayExpress i REST-API\n",
    "\n",
    "Strony, które nas interesują:\n",
    "- https://www.ebi.ac.uk/biostudies/arrayexpress/\n",
    "\n",
    "- https://www.ebi.ac.uk/biostudies/arrayexpress/studies (w szczególności)\n",
    "\n",
    "Zawierają wyszukiwarki. Do wyszukiwarek można uzyskać też dostęp za pomocą metody GET - a zatem pisząc kod w Pythonie wykorzystujący moduł `requests`. \n",
    "\n",
    "Główna dokumentacja API (dość szczątkowa, część dot. REST API znajduje się na dole):\n",
    "\n",
    "https://www.ebi.ac.uk/biostudies/help\n",
    "\n",
    "Główny adres do API:\n",
    "\n",
    "`https://www.ebi.ac.uk/biostudies/api/v1`\n",
    "\n",
    "Dalsze specyfikacje adresu pozwalają wykorzystać następujące punkty dostępowe (te które będą nam potrzebne)\n",
    "\n",
    "- końcówka `/api/v1/search` - do ogólnego formułowania zapytań do bazy danych,\n",
    "\n",
    "- końcówka `/api/v1/studies/MY_ACCESION_ID` - szczegółowe dane dotyczące danego badania (którego ID jest tzw. `accession`, `MY_ACCESION_ID` należy zastąpić nrem badania, które nas interesuje)\n",
    "\n",
    "-  końcówka `/api/v1/studies/MY_ACCESION_ID/info` - podobnie jak wyżej, ale informacje bardziej ogólne i mniej przytłaczające swoim rozmiarem.\n",
    "\n",
    "## Na czym polega korzystanie z API:\n",
    "\n",
    "Pobieramy treść z linka, za pomocą którego formułujemy zapytanie zrozumiałe dla danego API.\n",
    "\n",
    "Przykład:\n",
    "\n",
    "https://www.ebi.ac.uk/biostudies/api/v1/studies/E-MTAB-3073\n",
    "\n",
    "Na stronę pod powyższym linkiem możemy po prostu wejść przez przeglądarkę - zawiera dane w formacie JSON.\n",
    "\n",
    "Wszystkie ww. punkty dostępowe zwracają informacje w formacie JSON - w związku z tym, wygodnie z nimi pracować w Pythonie (naturalny typ danych dla JSON'ów to słownik).\n"
   ]
  },
  {
   "cell_type": "markdown",
   "id": "081e89c4",
   "metadata": {},
   "source": [
    "### Powtórka modułu requests"
   ]
  },
  {
   "cell_type": "code",
   "execution_count": 19,
   "id": "895c6408",
   "metadata": {},
   "outputs": [
    {
     "name": "stdout",
     "output_type": "stream",
     "text": [
      "Response status:\n",
      "True\n",
      "200\n",
      "<!DOCTYPE html>\n",
      "<html lang=\"pl\">\n",
      "    <head>\n",
      "        <meta charset=\"utf-8\">\n",
      "        <meta http-equiv=\"X-UA-Compatible\" content=\"IE=edge\">\n",
      "        <meta name=\"viewport\" content=\"width=device-width, initial-scale=1\">\n",
      "        <meta name=\"description\" content=\"Uniwersytet w Białymstoku\">\n",
      "        <meta name=\"keywords\" content=\"          \">\n",
      "                <link rel=\"icon\" type=\"image/png\" href=\"https://www.uwb.edu.pl/img/favicon.ico\"/>\n",
      "        <link rel=\"shortcut icon\" href=\"https://www.uwb.edu.pl/img/favicon.ico\" />\n",
      "        <title>Uniwersytet w Białymstoku</title>\n",
      "        <!-- Latest compiled and minified CSS -->\n",
      "        <link rel=\"stylesheet\" href=\"https://www.uwb.edu.pl/css/bootstrap.min.css?v=1\">\n",
      "        <link rel=\"stylesheet\" type=\"text/css\" href=\"https://www.uwb.edu.pl/css/ns-default.css?v\n",
      "etc...\n"
     ]
    }
   ],
   "source": [
    "my_link='https://www.uwb.edu.pl'\n",
    "r=requests.get(my_link)\n",
    "print(\"Response status:\")\n",
    "print(r.ok)\n",
    "print(r.status_code)\n",
    "print(r.text[0:800])\n",
    "print(\"etc...\")\n",
    "r.close()"
   ]
  },
  {
   "cell_type": "markdown",
   "id": "4812f570",
   "metadata": {},
   "source": [
    "#### Obsługa błędów HTTP"
   ]
  },
  {
   "cell_type": "code",
   "execution_count": 29,
   "id": "1c6b5839",
   "metadata": {},
   "outputs": [],
   "source": [
    "from requests.exceptions import HTTPError\n",
    "try:\n",
    "    r=requests.get('https://www.uwb.edu.pl')\n",
    "    r.raise_for_status()\n",
    "except HTTPError as e:\n",
    "    print(r.status_code)\n",
    "    print(r.ok)\n",
    "    print(e)\n"
   ]
  },
  {
   "cell_type": "code",
   "execution_count": 30,
   "id": "e45b6c5f",
   "metadata": {},
   "outputs": [
    {
     "name": "stdout",
     "output_type": "stream",
     "text": [
      "404\n",
      "False\n",
      "404 Client Error: Not Found for url: https://www.uwb.edu.pl/WydzialKtoryNieIstnieje\n"
     ]
    }
   ],
   "source": [
    "from requests.exceptions import HTTPError\n",
    "try:\n",
    "    r2=requests.get('https://www.uwb.edu.pl/WydzialKtoryNieIstnieje')\n",
    "    r2.raise_for_status()\n",
    "except HTTPError as e:\n",
    "    print(r2.status_code)\n",
    "    print(r2.ok)\n",
    "    print(e)\n"
   ]
  },
  {
   "cell_type": "markdown",
   "id": "fa76b87a",
   "metadata": {},
   "source": [
    "## Zadanie I\n",
    "\n",
    "Wykorzystaj moduł requests aby skontakować się z API BioStudies poprzez punkt dostępowy `/api/v1/studies/MY_ACCESION_ID/info`, jako `MY_ACCESION_ID` wpisz `E-MTAB-3073`. Zapisz wynik jako string."
   ]
  },
  {
   "cell_type": "markdown",
   "id": "af1fbee9",
   "metadata": {},
   "source": [
    "### Moduł json (potrzebne do następnych zadań)"
   ]
  },
  {
   "cell_type": "code",
   "execution_count": 33,
   "id": "1a1c3574",
   "metadata": {},
   "outputs": [],
   "source": [
    "json_data_string= \"\"\" {\"columns\":\n",
    "                                [\n",
    "                                    {\"name\":\"Name\",\n",
    "                                    \"title\":\"Name\",\n",
    "                                    \"visible\":true,\n",
    "                                    \"searchable\":true,\n",
    "                                    \"data\":\"Name\",\n",
    "                                    \"defaultContent\":\"\"},\n",
    "                                    {\"name\":\"Size\",\n",
    "                                    \"title\":\"Size\",\n",
    "                                    \"visible\":true,\n",
    "                                    \"searchable\":false,\n",
    "                                    \"data\":\"Size\",\n",
    "                                    \"defaultContent\":\"\"},\n",
    "                                    {\"name\":\"Section\",\n",
    "                                    \"title\":\"Section\",\n",
    "                                    \"visible\":true,\n",
    "                                    \"searchable\":true,\n",
    "                                    \"data\":\"Section\",\n",
    "                                    \"defaultContent\":\"\"},\n",
    "                                    {\"name\":\"Samples\",\n",
    "                                    \"title\":\"Samples\",\n",
    "                                    \"visible\":true,\n",
    "                                    \"searchable\":true,\n",
    "                                    \"data\":\"Samples\",\n",
    "                                    \"defaultContent\":\"\"},\n",
    "                                    {\"name\":\"Description\",\n",
    "                                    \"title\":\"Description\",\n",
    "                                    \"visible\":true,\n",
    "                                    \"searchable\":true,\n",
    "                                    \"data\":\"Description\",\n",
    "                                    \"defaultContent\":\"\"},\n",
    "                                    {\"name\":\"Type\",\n",
    "                                    \"title\":\"Type\",\n",
    "                                    \"visible\":true,\n",
    "                                    \"searchable\":true,\n",
    "                                    \"data\":\"Type\",\n",
    "                                    \"defaultContent\":\"\"},\n",
    "                                    {\"name\":\"Format\",\n",
    "                                    \"title\":\"Format\",\n",
    "                                    \"visible\":true,\n",
    "                                    \"searchable\":true,\n",
    "                                    \"data\":\"Format\",\n",
    "                                    \"defaultContent\":\"\"}\n",
    "                                ],\n",
    "                        \"files\":1102,\n",
    "                        \"ftpLink\":\"ftp://ftp.ebi.ac.uk/biostudies/nfs/E-MTAB-/073/E-MTAB-3073\",\n",
    "                        \"isPublic\":true,\n",
    "                        \"relPath\":\"E-MTAB-/073/E-MTAB-3073\",\n",
    "                        \"hasZippedFolders\":false,\n",
    "                        \"released\":1234224000000,\n",
    "                        \"modified\":1643401195877,\n",
    "                        \"sections\":[\"raw-data\",\"processed-data\",\"mt-E-MTAB-3073\"]\n",
    "                        }\"\"\""
   ]
  },
  {
   "cell_type": "code",
   "execution_count": 36,
   "id": "2bd62f2c",
   "metadata": {},
   "outputs": [],
   "source": [
    "json_dict=json.loads(json_data_string)"
   ]
  },
  {
   "cell_type": "code",
   "execution_count": 37,
   "id": "767c3392",
   "metadata": {
    "scrolled": true
   },
   "outputs": [
    {
     "data": {
      "text/plain": [
       "{'columns': [{'name': 'Name',\n",
       "   'title': 'Name',\n",
       "   'visible': True,\n",
       "   'searchable': True,\n",
       "   'data': 'Name',\n",
       "   'defaultContent': ''},\n",
       "  {'name': 'Size',\n",
       "   'title': 'Size',\n",
       "   'visible': True,\n",
       "   'searchable': False,\n",
       "   'data': 'Size',\n",
       "   'defaultContent': ''},\n",
       "  {'name': 'Section',\n",
       "   'title': 'Section',\n",
       "   'visible': True,\n",
       "   'searchable': True,\n",
       "   'data': 'Section',\n",
       "   'defaultContent': ''},\n",
       "  {'name': 'Samples',\n",
       "   'title': 'Samples',\n",
       "   'visible': True,\n",
       "   'searchable': True,\n",
       "   'data': 'Samples',\n",
       "   'defaultContent': ''},\n",
       "  {'name': 'Description',\n",
       "   'title': 'Description',\n",
       "   'visible': True,\n",
       "   'searchable': True,\n",
       "   'data': 'Description',\n",
       "   'defaultContent': ''},\n",
       "  {'name': 'Type',\n",
       "   'title': 'Type',\n",
       "   'visible': True,\n",
       "   'searchable': True,\n",
       "   'data': 'Type',\n",
       "   'defaultContent': ''},\n",
       "  {'name': 'Format',\n",
       "   'title': 'Format',\n",
       "   'visible': True,\n",
       "   'searchable': True,\n",
       "   'data': 'Format',\n",
       "   'defaultContent': ''}],\n",
       " 'files': 1102,\n",
       " 'ftpLink': 'ftp://ftp.ebi.ac.uk/biostudies/nfs/E-MTAB-/073/E-MTAB-3073',\n",
       " 'isPublic': True,\n",
       " 'relPath': 'E-MTAB-/073/E-MTAB-3073',\n",
       " 'hasZippedFolders': False,\n",
       " 'released': 1234224000000,\n",
       " 'modified': 1643401195877,\n",
       " 'sections': ['raw-data', 'processed-data', 'mt-E-MTAB-3073']}"
      ]
     },
     "execution_count": 37,
     "metadata": {},
     "output_type": "execute_result"
    }
   ],
   "source": [
    "json_dict"
   ]
  },
  {
   "cell_type": "markdown",
   "id": "a40c4e09",
   "metadata": {},
   "source": [
    "## Zadanie II\n",
    "\n",
    "Napisz funkcję `StudyInfo`, przyjmującą jako jeden z argumentów wejściowych `accession` danego badania w bazie danych ArrayExpress. Niech funkcja pobierze dane z punktu dostępowego zakończonego `info` z zadania wyżej i zwróci je w formie słownika. W przypadku wykrycia błędu HTTP, program powinien rzucić wyjątek i wyświetlić komunikat o błędzie, łącznie z kodem błędu ( `status_code` ). \n",
    "\n",
    "ID do przetestowania (powinny działać):\n",
    "\n",
    "`E-MTAB-3073`\n",
    "\n",
    "`E-GEOD-61441`\n",
    "\n",
    "`E-GEOD-61442`"
   ]
  },
  {
   "cell_type": "markdown",
   "id": "de0413db",
   "metadata": {},
   "source": [
    "### Formułowanie zapytań przez wyszukiwarkę za pomocą REST API (potrzebne do następnych zadań)\n",
    "\n",
    "Punkt dostępowy `/api/v1/search` pozwala na formułowanie zapytań do wyszukiwarki, niekoniecznie poprzez dokładne podanie ID.\n",
    "\n",
    "Format zapytania: dla przykładu definiujemy jakieś 3 wartości parametrów wyszukiwarki na wartości odpowiednio `value1, value2, value3`, według dokumentacji API (**na dole** https://www.ebi.ac.uk/biostudies/help):\n",
    "\n",
    "`/api/v1/search?parametr1=value1&parametr2=value2&parametr3=value3`\n",
    "\n",
    "Podstawowy parametr : `query` - czyli dowolne hasło, jakie chcemy wyszukać. \n",
    "\n",
    "PRZYKŁAD:\n",
    "dane json\n",
    "\n",
    "`https://www.ebi.ac.uk/biostudies/api/v1/search?query=glioblastoma`\n",
    "\n",
    "Hasło `glioblastoma` można wyszukać przez wyszukiwarkę na stronie ArrayExpress i porównać wyniki.\n",
    "\n"
   ]
  },
  {
   "cell_type": "markdown",
   "id": "2f24c0a4",
   "metadata": {},
   "source": [
    "## Zadanie III\n",
    "\n",
    "Napisz program, który (im niżej, tym więcej punktów):\n",
    "\n",
    "- przyjmie od użytkownika hasło do wyszukania i zwróci **tytuły** domyślnych 20 wyników, **posortowane malejąco według liczby załączonych plików do danego wyniku wyszukiwania** (**Wskazówka:** interesujące będą wartości pod kluczem **hits** najbardziej zewnętrznego słownika). Można zwrócić listę par tytuł, liczba_załączników.\n",
    "\n",
    "- wyświetli **całkowitą liczbę wyników wyszukiwania** (uwaga, domyślnie zwracana jest liczba wyników wyświetlana naraz na 1 stronie! Trzeba znaleźć odpowiednią wartość w zewn. słowniku.)\n",
    "\n",
    "- przyjmie dodatkową opcję `exact_match` równą `True` lub `False`. Jeżeli będzie ona równa `True`, program ma **nie zapisywać całej listy wyników,** tylko jeden określony wynik z `accession` równym wartości zapytania i zwracać wszystkie dane o tym wyniku w formie słownika\n",
    "    \n",
    "- zapisze **wszystkie** wyniki wyszukiwania powiązane z danym hasłem (a nie 20 domyślnych) w liście i posortuje, jak wcześniej \n",
    "\n",
    "(**Wskazówka dot. ostatniego:** trzeba ustawić w API parametry `page` oraz `pageSize` ( [dokumentacja, na dole](https://www.ebi.ac.uk/biostudies/help) i prawdopodobnie stworzyć pętlę wysyłającą zapytania do momentu pobrania wszystkich wyników, liczbę dostępnych wyników określaliśmy w 2-giej kropce).\n",
    "    \n",
    "Hasła do przetestowania:\n",
    "- `glioblastoma`\n",
    "- `astrocytoma`\n",
    "- `meningioma`\n",
    "\n",
    "Które hasło zwróciło najwięcej wyników? Ile maksymalnie załączników zawiera wynik z wyszukiwania danego hasła (**to proszę napisać :D**)"
   ]
  },
  {
   "cell_type": "markdown",
   "id": "0f678564",
   "metadata": {},
   "source": [
    "### moduł ftplib (potrzebne do następnych zadań)\n",
    "\n",
    "Surowe dane z danego badania (identyfikowanego przez `accession`) dostepne są na serwerze `ftp` pod określoną ścieżką. Struktura danych, sposób ich opisu i przechowywania jest dość jednorodna i zoorganizowana wg jednolitego standardu.\n",
    "\n",
    "Nazwa serwera FTP:\n",
    "\n",
    "`ftp.ebi.ac.uk`\n",
    "\n",
    "Niestety, **requests nie starczy, aby obsłużyć protokół `ftp`.** Potrzebna będzie inna biblioteka `ftplib`. \n",
    "\n",
    "Praca z `ftplib` ma określony schemat:\n",
    "\n",
    "- logujemy się na serwer,\n",
    "\n",
    "- wysyłamy polecenia poprzez API biblioteki `ftp`, m.in. polegające na:\n",
    "    \n",
    "    - pobieraniu określonych plików,\n",
    "    - oglądaniu ich zawartości,\n",
    "    - przeglądaniu systemu plików serwera i poruszania się po nim.\n",
    "    \n",
    "**W ArrayExpress, informacja gdzie w stukrutrze plików serwera FTP dane określonego badania się znajdują- zapisana jest w wynikowych danych JSON pobieranych poprzez REST API**.\n",
    "\n"
   ]
  },
  {
   "cell_type": "code",
   "execution_count": 45,
   "id": "b6b19a1e",
   "metadata": {},
   "outputs": [
    {
     "name": "stdout",
     "output_type": "stream",
     "text": [
      "drwxr-xr-x    2 ftp      ftp          4096 Nov 25 12:08 1000g\n",
      "drwxr-xr-x    4 ftp      ftp            29 Nov 25 12:04 biostudies\n",
      "drwxr-xr-x    3 ftp      ftp            32 Nov 25 12:04 empiar\n",
      "drwxrwsr-x    4 ftp      ftp          4096 Jun 09 11:06 ensemblgenomes\n",
      "drwxr-xr-x    3 ftp      ftp          4096 May 30  2019 ensemblorg\n",
      "drwxr-xr-x    2 ftp      ftp          4096 Nov 25 12:08 faang\n",
      "drwxr-xr-x    3 ftp      ftp            36 Nov 25 12:04 fire-test\n",
      "drwxr-xr-x    2 ftp      ftp          4096 Nov 25 12:08 hipsci\n",
      "drwxr-xr-x    3 ftp      ftp            18 Nov 25 12:05 pride\n",
      "drwxr-xr-x    2 ftp      ftp          4096 Nov 25 12:08 pride-archive\n",
      "drwxr-xr-x   12 ftp      ftp           500 Jul 04 12:25 pub\n",
      "-rw-r--r--    1 ftp      ftp            26 Nov 25 12:05 robots.txt\n",
      "drwxr-xr-x    2 ftp      ftp          4096 Nov 27 10:37 vol1\n",
      "++++++++++++++++++++++++++\n",
      "++++++++++++++++++++++++++\n",
      "++++++++++++++++++++++++++\n",
      "drwxr-xr-x    2 ftp      ftp          4096 Nov 26 02:22 fire\n",
      "drwxrwxr-x  158 ftp      ftp         16384 Nov 18 00:07 nfs\n"
     ]
    }
   ],
   "source": [
    "from ftplib import FTP\n",
    "ftp=FTP('ftp.ebi.ac.uk')\n",
    "ftp.login()\n",
    "ftp.retrlines('LIST')       #.retrlines zapisuje odpowiedź serwera jako linijki danych .txt\n",
    "                            #polecenie LIST wyświetla zawartość bieżącego folderu - czyli tutaj domyślnego, na który serwer\n",
    "                            #nas wpuszcza\n",
    "lines=[]\n",
    "ftp.retrlines('RETR robots.txt', lines.append) #sposób zapisu przykładowego pliku do listy (linijka-po-linijce)\n",
    "print(\"++++++++++++++++++++++++++\")\n",
    "print(\"++++++++++++++++++++++++++\")\n",
    "print(\"++++++++++++++++++++++++++\")\n",
    "ftp.cwd('biostudies')      #cwd - ChangeWorkingDirectory\n",
    "ftp.retrlines('LIST')\n",
    "ftp.close()"
   ]
  },
  {
   "cell_type": "code",
   "execution_count": 42,
   "id": "f8c3e29f",
   "metadata": {},
   "outputs": [
    {
     "name": "stdout",
     "output_type": "stream",
     "text": [
      "User-agent: *\n",
      "Disallow: /\n"
     ]
    }
   ],
   "source": [
    "for robot in lines:\n",
    "    print(robot)"
   ]
  },
  {
   "cell_type": "code",
   "execution_count": 47,
   "id": "085d9f17",
   "metadata": {},
   "outputs": [],
   "source": [
    "#Zapis całego pliku z serwera jako surowe bajty w folderze na lokalnej maszynie do pliku 'newfile'\n",
    "with open('newfile', 'wb') as fp:\n",
    "    ftp=FTP('ftp.ebi.ac.uk')\n",
    "    ftp.login()\n",
    "    ftp.retrbinary('RETR {}'.format('robots.txt'), fp.write)\n",
    "    ftp.close()"
   ]
  },
  {
   "cell_type": "code",
   "execution_count": 50,
   "id": "6716efcd",
   "metadata": {
    "scrolled": true
   },
   "outputs": [
    {
     "name": "stdout",
     "output_type": "stream",
     "text": [
      "User-agent: *\r\n",
      "Disallow: /\r\n"
     ]
    }
   ],
   "source": [
    "#wyświetlam zawartość pobranego pliku\n",
    "%cat newfile"
   ]
  },
  {
   "cell_type": "markdown",
   "id": "605b6d0c",
   "metadata": {},
   "source": [
    "## Zadanie IV\n",
    "\n",
    "Napisz program, który dla danego podanego `MY_ACCESSION_ID`, znajdzie informacje o położeniu plików z danymi na serwerze FTP (za pomocą REST-API z wykorzystaniem endpointa `https://www.ebi.ac.uk/biostudies/api/v1/MY_ACCESION_ID/info` i następnie przejdzie do folderu zawierającego dane (na serwerze FTP). Niech program potem wykona następujące zadania:\n",
    "- wyświetli zawartość nadrzędnego folderu z danymi dla danego badania (ten folder zawiera m. in. podfolder `Files` z surowymi danymi i plik z końcówką `pagetab.tsv`, z \"danymi o danych\"),\n",
    "- w pliku wartości oddzielonych tabulatorami `MY_ACCESSION_ID.pagetab.tsv` znajdzie nazwy próbek poddanych wstępnemu przetwarzaniu (oznaczone jako `Processed Data`) (tab ma symbol `\\t`)\n",
    "- wyświetli liczbę tych plików obecnych w folderze `Files`,\n",
    "- pobierze 10 z tych plików na lokalną maszynę (tylko 10, ponieważ mogą być spore).\n",
    "\n",
    "Program powinien działać dla `accession` równych:\n",
    "\n",
    "`E-MTAB-3073`\n",
    "\n",
    "`E-GEOD-61441`\n",
    "\n",
    "`E-GEOD-61442` (od tego najlepiej zacząć, zawiera najmniej plików (mniej niż 10 :) )\n",
    "\n",
    "**Wskazówki:** \n",
    "\n",
    "    - warto zwrócić uwagę na to, co jest pod kluczem `ftpLink` oraz `relPath` słownika uzyskanego za pomocą REST API.\n",
    "    \n",
    "    - ten sam skrypt powinien działać dla 3 wymienionych plików :) (nie ma gwarancji, że zawsze będzie działać- dla innych badań, czasami brakuje danych na serwerze FTP pod linkiem w JSON-ie\n",
    "    \n",
    "    - plik pagetab.tsv najprościej podzielić na linijki i zapisać do listy, jak w powyższych przykładach- i wybrać linijki, które są potrzebne\n"
   ]
  },
  {
   "cell_type": "markdown",
   "id": "43320f71",
   "metadata": {},
   "source": [
    "## Zadanie V\n",
    "\n",
    "Rozwijamy program z zadania IV, dokładamy obsługę błędów. Proszę wykorzystać bloki `try, except` jak przy przykładach dla modułu `requests` oraz wyjątek `ftplib.all_errors` i opatrzyć tym cały kod wykonujący połączenia za pomocą protokołu FTP. Jak wydrukujecie Pańśtwo porządnie error message z tego wyjątku, będzie więcej punktów. Accession do przetestowania:\n",
    "\n",
    "`E-GEOD-40435` \n",
    "\n",
    "**Punkty za aktywność:** napisz, dlaczego skrypt nie zadziała dla tego `accession`, pomimo obecności tego badania w bazie danych. "
   ]
  }
 ],
 "metadata": {
  "jupytext": {
   "formats": "ipynb,auto:percent"
  },
  "kernelspec": {
   "display_name": "Python 3 (ipykernel)",
   "language": "python",
   "name": "python3"
  },
  "language_info": {
   "codemirror_mode": {
    "name": "ipython",
    "version": 3
   },
   "file_extension": ".py",
   "mimetype": "text/x-python",
   "name": "python",
   "nbconvert_exporter": "python",
   "pygments_lexer": "ipython3",
   "version": "3.9.7"
  }
 },
 "nbformat": 4,
 "nbformat_minor": 5
}
