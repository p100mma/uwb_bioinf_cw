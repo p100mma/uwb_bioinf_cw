{
 "cells": [
  {
   "cell_type": "markdown",
   "id": "3e6d073a",
   "metadata": {},
   "source": [
    "# Minimum z pandas do obróbki tabel .csv\n",
    "## Przykłady"
   ]
  },
  {
   "cell_type": "code",
   "execution_count": 1,
   "id": "0ca4b9b1",
   "metadata": {},
   "outputs": [],
   "source": [
    "import pandas as pd"
   ]
  },
  {
   "cell_type": "markdown",
   "id": "16d0a981",
   "metadata": {},
   "source": [
    "### Wczytywanie pliku .csv z adresu URL do obiektu DataFrame"
   ]
  },
  {
   "cell_type": "code",
   "execution_count": 2,
   "id": "b22709fc",
   "metadata": {},
   "outputs": [],
   "source": [
    "URL=\"https://europepmc.org/journalList?format=csv\"\n",
    "my_df=pd.read_csv(URL) #my_df to obiekt dataframe, jak 2d numpy array, ale z nazwanymi wierszami i kolumnami \n",
    "#i większymi możliwościami przechowywania różnych typów danych "
   ]
  },
  {
   "cell_type": "markdown",
   "id": "5474124c",
   "metadata": {},
   "source": [
    "### Podstawy struktury DataFrame"
   ]
  },
  {
   "cell_type": "code",
   "execution_count": 3,
   "id": "b1f87e06",
   "metadata": {},
   "outputs": [
    {
     "data": {
      "text/plain": [
       "(3902, 13)"
      ]
     },
     "execution_count": 3,
     "metadata": {},
     "output_type": "execute_result"
    }
   ],
   "source": [
    "my_df.shape # (liczba_wierszy, liczba_kolumn)"
   ]
  },
  {
   "cell_type": "code",
   "execution_count": 4,
   "id": "3245e339",
   "metadata": {},
   "outputs": [
    {
     "data": {
      "text/plain": [
       "Index(['Journal title', 'NLM TA', 'pISSN', 'eISSN', 'Publisher',\n",
       "       'LOCATORplus ID', 'Latest issue', 'Earliest volume', 'Free access',\n",
       "       'Open access', 'Participation level', ' Deposit status',\n",
       "       ' Journal URL'],\n",
       "      dtype='object')"
      ]
     },
     "execution_count": 4,
     "metadata": {},
     "output_type": "execute_result"
    }
   ],
   "source": [
    "my_df.columns #nazwy kolumn"
   ]
  },
  {
   "cell_type": "code",
   "execution_count": 5,
   "id": "50668f53",
   "metadata": {},
   "outputs": [
    {
     "data": {
      "text/plain": [
       "0                           3 Biotech\n",
       "1             3D Printing in Medicine\n",
       "2          AACE Clinical Case Reports\n",
       "3                    The AAPS Journal\n",
       "4                       AAPS PharmSci\n",
       "                    ...              \n",
       "3897    Chinese Journal of Hematology\n",
       "3898                          ZooKeys\n",
       "3899              Zoological Research\n",
       "3900               Zoological Studies\n",
       "3901               Zoological Letters\n",
       "Name: Journal title, Length: 3902, dtype: object"
      ]
     },
     "execution_count": 5,
     "metadata": {},
     "output_type": "execute_result"
    }
   ],
   "source": [
    "my_df['Journal title']   #dostęp do jednej z kolumn"
   ]
  },
  {
   "cell_type": "code",
   "execution_count": 6,
   "id": "bc614d15",
   "metadata": {
    "scrolled": true
   },
   "outputs": [
    {
     "data": {
      "text/plain": [
       "2    AACE Clinical Case Reports\n",
       "3              The AAPS Journal\n",
       "Name: Journal title, dtype: object"
      ]
     },
     "execution_count": 6,
     "metadata": {},
     "output_type": "execute_result"
    }
   ],
   "source": [
    "my_df['Journal title'][2:4] #można indeksować"
   ]
  },
  {
   "cell_type": "markdown",
   "id": "ae2ba2fe",
   "metadata": {},
   "source": [
    "### Odfiltrowywanie wierszy z DataFrame (jak w SQL lub Excelu) na podstawie wartości w kolumnach"
   ]
  },
  {
   "cell_type": "markdown",
   "id": "5b90436c",
   "metadata": {},
   "source": [
    "#### Dokładne dopasowania wartości tekstowych w danej kolumnie"
   ]
  },
  {
   "cell_type": "code",
   "execution_count": 25,
   "id": "e4aa920e",
   "metadata": {},
   "outputs": [
    {
     "name": "stdout",
     "output_type": "stream",
     "text": [
      "l.wierszy przed filtrem 3902\n",
      "l.wierszy po filtrze 1592\n"
     ]
    },
    {
     "data": {
      "text/html": [
       "<div>\n",
       "<style scoped>\n",
       "    .dataframe tbody tr th:only-of-type {\n",
       "        vertical-align: middle;\n",
       "    }\n",
       "\n",
       "    .dataframe tbody tr th {\n",
       "        vertical-align: top;\n",
       "    }\n",
       "\n",
       "    .dataframe thead th {\n",
       "        text-align: right;\n",
       "    }\n",
       "</style>\n",
       "<table border=\"1\" class=\"dataframe\">\n",
       "  <thead>\n",
       "    <tr style=\"text-align: right;\">\n",
       "      <th></th>\n",
       "      <th>Journal title</th>\n",
       "      <th>NLM TA</th>\n",
       "      <th>pISSN</th>\n",
       "      <th>eISSN</th>\n",
       "      <th>Publisher</th>\n",
       "      <th>LOCATORplus ID</th>\n",
       "      <th>Latest issue</th>\n",
       "      <th>Earliest volume</th>\n",
       "      <th>Free access</th>\n",
       "      <th>Open access</th>\n",
       "      <th>Participation level</th>\n",
       "      <th>Deposit status</th>\n",
       "      <th>Journal URL</th>\n",
       "    </tr>\n",
       "  </thead>\n",
       "  <tbody>\n",
       "    <tr>\n",
       "      <th>0</th>\n",
       "      <td>3 Biotech</td>\n",
       "      <td>3 Biotech</td>\n",
       "      <td>2190-572X</td>\n",
       "      <td>2190-5738</td>\n",
       "      <td>Springer</td>\n",
       "      <td>NaN</td>\n",
       "      <td>v.12(12);Dec 2022</td>\n",
       "      <td>v.1;2011</td>\n",
       "      <td>12 months</td>\n",
       "      <td>Some</td>\n",
       "      <td>Full</td>\n",
       "      <td></td>\n",
       "      <td>http://europepmc.org/journals/1936/</td>\n",
       "    </tr>\n",
       "    <tr>\n",
       "      <th>2</th>\n",
       "      <td>AACE Clinical Case Reports</td>\n",
       "      <td>AACE Clin Case Rep</td>\n",
       "      <td>NaN</td>\n",
       "      <td>2376-0605</td>\n",
       "      <td>American Association of Clinical Endocrinology</td>\n",
       "      <td>NaN</td>\n",
       "      <td>v.8(6);Nov-Dec 2022</td>\n",
       "      <td>v.5;2019</td>\n",
       "      <td>Immediate</td>\n",
       "      <td>Some</td>\n",
       "      <td>Full</td>\n",
       "      <td></td>\n",
       "      <td>http://europepmc.org/journals/3762/</td>\n",
       "    </tr>\n",
       "    <tr>\n",
       "      <th>3</th>\n",
       "      <td>The AAPS Journal</td>\n",
       "      <td>AAPS J</td>\n",
       "      <td>NaN</td>\n",
       "      <td>1550-7416</td>\n",
       "      <td>American Association of Pharmaceutical Scientists</td>\n",
       "      <td>NaN</td>\n",
       "      <td>v.18(3);May 2016</td>\n",
       "      <td>v.6;2004</td>\n",
       "      <td>NaN</td>\n",
       "      <td>Some</td>\n",
       "      <td>Full</td>\n",
       "      <td>No New Content</td>\n",
       "      <td>http://europepmc.org/journals/262/</td>\n",
       "    </tr>\n",
       "    <tr>\n",
       "      <th>5</th>\n",
       "      <td>AAPS PharmSciTech</td>\n",
       "      <td>AAPS PharmSciTech</td>\n",
       "      <td>NaN</td>\n",
       "      <td>1530-9932</td>\n",
       "      <td>American Association of Pharmaceutical Scientists</td>\n",
       "      <td>NaN</td>\n",
       "      <td>v.17(2);Apr 2016</td>\n",
       "      <td>v.1;2000</td>\n",
       "      <td>NaN</td>\n",
       "      <td>Some</td>\n",
       "      <td>Full</td>\n",
       "      <td>No New Content</td>\n",
       "      <td>http://europepmc.org/journals/1403/</td>\n",
       "    </tr>\n",
       "    <tr>\n",
       "      <th>7</th>\n",
       "      <td>aBIOTECH</td>\n",
       "      <td>Abiotech</td>\n",
       "      <td>NaN</td>\n",
       "      <td>2662-1738</td>\n",
       "      <td>Springer</td>\n",
       "      <td>NaN</td>\n",
       "      <td>v.3(3);Sep 2022</td>\n",
       "      <td>v.1;2020</td>\n",
       "      <td>12 months</td>\n",
       "      <td>Some</td>\n",
       "      <td>Full</td>\n",
       "      <td></td>\n",
       "      <td>http://europepmc.org/journals/4322/</td>\n",
       "    </tr>\n",
       "  </tbody>\n",
       "</table>\n",
       "</div>"
      ],
      "text/plain": [
       "                Journal title              NLM TA      pISSN      eISSN  \\\n",
       "0                   3 Biotech           3 Biotech  2190-572X  2190-5738   \n",
       "2  AACE Clinical Case Reports  AACE Clin Case Rep        NaN  2376-0605   \n",
       "3            The AAPS Journal              AAPS J        NaN  1550-7416   \n",
       "5           AAPS PharmSciTech   AAPS PharmSciTech        NaN  1530-9932   \n",
       "7                    aBIOTECH            Abiotech        NaN  2662-1738   \n",
       "\n",
       "                                           Publisher  LOCATORplus ID  \\\n",
       "0                                           Springer             NaN   \n",
       "2     American Association of Clinical Endocrinology             NaN   \n",
       "3  American Association of Pharmaceutical Scientists             NaN   \n",
       "5  American Association of Pharmaceutical Scientists             NaN   \n",
       "7                                           Springer             NaN   \n",
       "\n",
       "          Latest issue Earliest volume Free access Open access  \\\n",
       "0    v.12(12);Dec 2022        v.1;2011   12 months        Some   \n",
       "2  v.8(6);Nov-Dec 2022        v.5;2019   Immediate        Some   \n",
       "3     v.18(3);May 2016        v.6;2004         NaN        Some   \n",
       "5     v.17(2);Apr 2016        v.1;2000         NaN        Some   \n",
       "7      v.3(3);Sep 2022        v.1;2020   12 months        Some   \n",
       "\n",
       "  Participation level    Deposit status                          Journal URL  \n",
       "0               Full                     http://europepmc.org/journals/1936/  \n",
       "2               Full                     http://europepmc.org/journals/3762/  \n",
       "3               Full    No New Content    http://europepmc.org/journals/262/  \n",
       "5               Full    No New Content   http://europepmc.org/journals/1403/  \n",
       "7               Full                     http://europepmc.org/journals/4322/  "
      ]
     },
     "execution_count": 25,
     "metadata": {},
     "output_type": "execute_result"
    }
   ],
   "source": [
    "#my_df.query(\" `COLUMN NAME`=='VALUE' \") <- zwraca my_df z wierszami, gdzie wartość w kolumnie COLUMN_NAME równa się VALUE\n",
    "print(\"l.wierszy przed filtrem {}\".format(my_df.shape[0]))\n",
    "filtered_df=my_df.query(\" `Open access`=='Some' \") \n",
    "print(\"l.wierszy po filtrze {}\".format(filtered_df.shape[0]))\n",
    "filtered_df.head() #podejrzeć pierwsze wiersze"
   ]
  },
  {
   "cell_type": "code",
   "execution_count": 26,
   "id": "6664dc16",
   "metadata": {},
   "outputs": [
    {
     "name": "stdout",
     "output_type": "stream",
     "text": [
      "Int64Index([   0,    2,    3,    5,    7,   11,   12,   13,   14,   15,\n",
      "            ...\n",
      "            3880, 3881, 3883, 3884, 3885, 3886, 3892, 3897, 3898, 3899],\n",
      "           dtype='int64', length=1592)\n",
      "++++++++++++++++++\n",
      "++++++++++++++++++\n",
      "RangeIndex(start=0, stop=1592, step=1)\n"
     ]
    }
   ],
   "source": [
    "print(filtered_df.index) #szczegół techniczny, indeks wierszy trzeba zresestować samemu:\n",
    "filtered_df.reset_index(inplace=True, drop=True)\n",
    "print(\"++++++++++++++++++\")\n",
    "print(\"++++++++++++++++++\")\n",
    "print(filtered_df.index)  #inaczej indeksowanie po wierszach by nie działało tak jak w przypadku normalnej listy"
   ]
  },
  {
   "cell_type": "markdown",
   "id": "34c24045",
   "metadata": {},
   "source": [
    "#### Wiersze, które zawierają dany ciąg znaków (lub regexa)"
   ]
  },
  {
   "cell_type": "code",
   "execution_count": 27,
   "id": "71a98148",
   "metadata": {
    "scrolled": true
   },
   "outputs": [
    {
     "name": "stdout",
     "output_type": "stream",
     "text": [
      "(40, 13)\n"
     ]
    },
    {
     "data": {
      "text/html": [
       "<div>\n",
       "<style scoped>\n",
       "    .dataframe tbody tr th:only-of-type {\n",
       "        vertical-align: middle;\n",
       "    }\n",
       "\n",
       "    .dataframe tbody tr th {\n",
       "        vertical-align: top;\n",
       "    }\n",
       "\n",
       "    .dataframe thead th {\n",
       "        text-align: right;\n",
       "    }\n",
       "</style>\n",
       "<table border=\"1\" class=\"dataframe\">\n",
       "  <thead>\n",
       "    <tr style=\"text-align: right;\">\n",
       "      <th></th>\n",
       "      <th>Journal title</th>\n",
       "      <th>NLM TA</th>\n",
       "      <th>pISSN</th>\n",
       "      <th>eISSN</th>\n",
       "      <th>Publisher</th>\n",
       "      <th>LOCATORplus ID</th>\n",
       "      <th>Latest issue</th>\n",
       "      <th>Earliest volume</th>\n",
       "      <th>Free access</th>\n",
       "      <th>Open access</th>\n",
       "      <th>Participation level</th>\n",
       "      <th>Deposit status</th>\n",
       "      <th>Journal URL</th>\n",
       "    </tr>\n",
       "  </thead>\n",
       "  <tbody>\n",
       "    <tr>\n",
       "      <th>0</th>\n",
       "      <td>AACE Clinical Case Reports</td>\n",
       "      <td>AACE Clin Case Rep</td>\n",
       "      <td>NaN</td>\n",
       "      <td>2376-0605</td>\n",
       "      <td>American Association of Clinical Endocrinology</td>\n",
       "      <td>NaN</td>\n",
       "      <td>v.8(6);Nov-Dec 2022</td>\n",
       "      <td>v.5;2019</td>\n",
       "      <td>Immediate</td>\n",
       "      <td>Some</td>\n",
       "      <td>Full</td>\n",
       "      <td></td>\n",
       "      <td>http://europepmc.org/journals/3762/</td>\n",
       "    </tr>\n",
       "    <tr>\n",
       "      <th>1</th>\n",
       "      <td>ACG Case Reports Journal</td>\n",
       "      <td>ACG Case Rep J</td>\n",
       "      <td>NaN</td>\n",
       "      <td>2326-3253</td>\n",
       "      <td>American College of Gastroenterology</td>\n",
       "      <td>NaN</td>\n",
       "      <td>v.9(11);Nov 2022</td>\n",
       "      <td>v.1;2013</td>\n",
       "      <td>Immediate</td>\n",
       "      <td>Some</td>\n",
       "      <td>Full</td>\n",
       "      <td></td>\n",
       "      <td>http://europepmc.org/journals/2742/</td>\n",
       "    </tr>\n",
       "    <tr>\n",
       "      <th>2</th>\n",
       "      <td>The American Journal of Case Reports</td>\n",
       "      <td>Am J Case Rep</td>\n",
       "      <td>NaN</td>\n",
       "      <td>1941-5923</td>\n",
       "      <td>International Scientific Information, Inc.</td>\n",
       "      <td>NaN</td>\n",
       "      <td>v.23;2022</td>\n",
       "      <td>v.13;2012</td>\n",
       "      <td>Immediate</td>\n",
       "      <td>Some</td>\n",
       "      <td>Full</td>\n",
       "      <td></td>\n",
       "      <td>http://europepmc.org/journals/2067/</td>\n",
       "    </tr>\n",
       "    <tr>\n",
       "      <th>3</th>\n",
       "      <td>American Journal of Ophthalmology Case Reports</td>\n",
       "      <td>Am J Ophthalmol Case Rep</td>\n",
       "      <td>NaN</td>\n",
       "      <td>2451-9936</td>\n",
       "      <td>Elsevier</td>\n",
       "      <td>NaN</td>\n",
       "      <td>v.28;Dec 2022</td>\n",
       "      <td>v.1;2016</td>\n",
       "      <td>Immediate</td>\n",
       "      <td>Some</td>\n",
       "      <td>Full</td>\n",
       "      <td></td>\n",
       "      <td>http://europepmc.org/journals/3302/</td>\n",
       "    </tr>\n",
       "    <tr>\n",
       "      <th>4</th>\n",
       "      <td>AME Case Reports</td>\n",
       "      <td>AME Case Rep</td>\n",
       "      <td>NaN</td>\n",
       "      <td>2523-1995</td>\n",
       "      <td>AME Publications</td>\n",
       "      <td>NaN</td>\n",
       "      <td>v.6;2022</td>\n",
       "      <td>v.1;2017</td>\n",
       "      <td>Immediate</td>\n",
       "      <td>Some</td>\n",
       "      <td>Full</td>\n",
       "      <td></td>\n",
       "      <td>http://europepmc.org/journals/3502/</td>\n",
       "    </tr>\n",
       "  </tbody>\n",
       "</table>\n",
       "</div>"
      ],
      "text/plain": [
       "                                    Journal title                    NLM TA  \\\n",
       "0                      AACE Clinical Case Reports        AACE Clin Case Rep   \n",
       "1                        ACG Case Reports Journal            ACG Case Rep J   \n",
       "2            The American Journal of Case Reports             Am J Case Rep   \n",
       "3  American Journal of Ophthalmology Case Reports  Am J Ophthalmol Case Rep   \n",
       "4                                AME Case Reports              AME Case Rep   \n",
       "\n",
       "  pISSN      eISSN                                       Publisher  \\\n",
       "0   NaN  2376-0605  American Association of Clinical Endocrinology   \n",
       "1   NaN  2326-3253            American College of Gastroenterology   \n",
       "2   NaN  1941-5923      International Scientific Information, Inc.   \n",
       "3   NaN  2451-9936                                        Elsevier   \n",
       "4   NaN  2523-1995                                AME Publications   \n",
       "\n",
       "   LOCATORplus ID         Latest issue Earliest volume Free access  \\\n",
       "0             NaN  v.8(6);Nov-Dec 2022        v.5;2019   Immediate   \n",
       "1             NaN     v.9(11);Nov 2022        v.1;2013   Immediate   \n",
       "2             NaN            v.23;2022       v.13;2012   Immediate   \n",
       "3             NaN        v.28;Dec 2022        v.1;2016   Immediate   \n",
       "4             NaN             v.6;2022        v.1;2017   Immediate   \n",
       "\n",
       "  Open access Participation level  Deposit status  \\\n",
       "0        Some               Full                    \n",
       "1        Some               Full                    \n",
       "2        Some               Full                    \n",
       "3        Some               Full                    \n",
       "4        Some               Full                    \n",
       "\n",
       "                           Journal URL  \n",
       "0  http://europepmc.org/journals/3762/  \n",
       "1  http://europepmc.org/journals/2742/  \n",
       "2  http://europepmc.org/journals/2067/  \n",
       "3  http://europepmc.org/journals/3302/  \n",
       "4  http://europepmc.org/journals/3502/  "
      ]
     },
     "execution_count": 27,
     "metadata": {},
     "output_type": "execute_result"
    }
   ],
   "source": [
    "filter_index= filtered_df['Journal title'].str.contains('[Cc]ase')      # indeksy wiersz zawoerających słowo\n",
    "                                                                        #Case lub case w kolumnie 'Journal title'\n",
    "filtered2= filtered_df[filter_index]\n",
    "filtered2.reset_index(inplace=True, drop=True)\n",
    "print(filtered2.shape)\n",
    "filtered2.head()"
   ]
  },
  {
   "cell_type": "markdown",
   "id": "25e9fcc6",
   "metadata": {},
   "source": [
    "#### Praca z kolumnami jak z listami"
   ]
  },
  {
   "cell_type": "code",
   "execution_count": 28,
   "id": "0f687733",
   "metadata": {},
   "outputs": [
    {
     "name": "stdout",
     "output_type": "stream",
     "text": [
      "American Association of Clinical Endocrinology\n",
      "American College of Gastroenterology\n",
      "International Scientific Information, Inc.\n",
      "Elsevier\n",
      "AME Publications\n",
      "British Institute of Radiology\n",
      "BMJ Publishing Group\n",
      "Karger Publishers\n",
      "Karger Publishers\n",
      "Karger Publishers\n",
      "Karger Publishers\n",
      "Karger Publishers\n",
      "Karger Publishers\n",
      "Elsevier\n",
      "Springer\n",
      "Wiley-Blackwell\n",
      "Cold Spring Harbor Laboratory Press\n",
      "Oxford University Press\n",
      "European Federation of Internal Medicine\n",
      "Elsevier\n",
      "Elsevier\n",
      "Elsevier\n",
      "John Wiley & Sons Australia, Ltd on behalf of the Japanese Urological Association\n",
      "Elsevier\n",
      "Japanese College of Cardiology\n",
      "Mary Ann Liebert, Inc.\n",
      "SAGE Publications\n",
      "Oxford University Press\n",
      "Elsevier\n",
      "Elsevier\n",
      "Microbiology Society\n",
      "Elsevier\n",
      "Oxford University Press\n",
      "Elsevier\n",
      "Elsevier\n",
      "Wiley-Blackwell\n",
      "SAGE Publications\n",
      "Nature Publishing Group\n",
      "Elsevier\n",
      "Baishideng Publishing Group Inc\n"
     ]
    }
   ],
   "source": [
    "for x in filtered2['Publisher']:\n",
    "    print(x)"
   ]
  },
  {
   "cell_type": "code",
   "execution_count": 29,
   "id": "03dabf4d",
   "metadata": {},
   "outputs": [],
   "source": [
    "#konwersja na listę\n",
    "publist= filtered2['Publisher'].tolist()"
   ]
  },
  {
   "cell_type": "code",
   "execution_count": 30,
   "id": "ec6f3e18",
   "metadata": {},
   "outputs": [
    {
     "name": "stdout",
     "output_type": "stream",
     "text": [
      "American Association of Clinical Endocrinology American Association of Clinical Endocrinology\n",
      "American College of Gastroenterology American College of Gastroenterology\n",
      "International Scientific Information, Inc. International Scientific Information, Inc.\n",
      "Elsevier Elsevier\n",
      "AME Publications AME Publications\n",
      "British Institute of Radiology British Institute of Radiology\n",
      "BMJ Publishing Group BMJ Publishing Group\n",
      "Karger Publishers Karger Publishers\n",
      "Karger Publishers Karger Publishers\n",
      "Karger Publishers Karger Publishers\n",
      "Karger Publishers Karger Publishers\n",
      "Karger Publishers Karger Publishers\n",
      "Karger Publishers Karger Publishers\n",
      "Elsevier Elsevier\n",
      "Springer Springer\n",
      "Wiley-Blackwell Wiley-Blackwell\n",
      "Cold Spring Harbor Laboratory Press Cold Spring Harbor Laboratory Press\n",
      "Oxford University Press Oxford University Press\n",
      "European Federation of Internal Medicine European Federation of Internal Medicine\n",
      "Elsevier Elsevier\n",
      "Elsevier Elsevier\n",
      "Elsevier Elsevier\n",
      "John Wiley & Sons Australia, Ltd on behalf of the Japanese Urological Association John Wiley & Sons Australia, Ltd on behalf of the Japanese Urological Association\n",
      "Elsevier Elsevier\n",
      "Japanese College of Cardiology Japanese College of Cardiology\n",
      "Mary Ann Liebert, Inc. Mary Ann Liebert, Inc.\n",
      "SAGE Publications SAGE Publications\n",
      "Oxford University Press Oxford University Press\n",
      "Elsevier Elsevier\n",
      "Elsevier Elsevier\n",
      "Microbiology Society Microbiology Society\n",
      "Elsevier Elsevier\n",
      "Oxford University Press Oxford University Press\n",
      "Elsevier Elsevier\n",
      "Elsevier Elsevier\n",
      "Wiley-Blackwell Wiley-Blackwell\n",
      "SAGE Publications SAGE Publications\n",
      "Nature Publishing Group Nature Publishing Group\n",
      "Elsevier Elsevier\n",
      "Baishideng Publishing Group Inc Baishideng Publishing Group Inc\n"
     ]
    }
   ],
   "source": [
    "for i in range(len(publist)):                 #to samo, tylko jedno to pd.Series (coś jak 1D array) a drugie lista\n",
    "    print(filtered2['Publisher'][i],publist[i])"
   ]
  }
 ],
 "metadata": {
  "jupytext": {
   "formats": "ipynb,py:percent"
  },
  "kernelspec": {
   "display_name": "Python 3 (ipykernel)",
   "language": "python",
   "name": "python3"
  },
  "language_info": {
   "codemirror_mode": {
    "name": "ipython",
    "version": 3
   },
   "file_extension": ".py",
   "mimetype": "text/x-python",
   "name": "python",
   "nbconvert_exporter": "python",
   "pygments_lexer": "ipython3",
   "version": "3.9.7"
  }
 },
 "nbformat": 4,
 "nbformat_minor": 5
}
